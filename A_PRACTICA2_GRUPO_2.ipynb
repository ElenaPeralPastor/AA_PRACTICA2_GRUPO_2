{
  "nbformat": 4,
  "nbformat_minor": 0,
  "metadata": {
    "colab": {
      "provenance": [],
      "collapsed_sections": [
        "zXY6f3Stvuin",
        "Xo8E6lFYEGf7",
        "Iu-Hs4guEOoV",
        "Egg02Vtuaces",
        "lLerLNFgcggC",
        "i98dDcKukr8Z",
        "VkQld-8tlG1l",
        "ElW4xpEHlY4N",
        "gUwpnuQylZA2",
        "45-BMfTpktzs"
      ],
      "toc_visible": true
    },
    "kernelspec": {
      "name": "python3",
      "display_name": "Python 3"
    },
    "language_info": {
      "name": "python"
    },
    "accelerator": "GPU",
    "gpuClass": "standard"
  },
  "cells": [
    {
      "cell_type": "markdown",
      "source": [
        "**GRUPO 2**\n",
        "\n",
        "María García Rodríguez\n",
        "\n",
        "Paloma Moya Tudela\n",
        "\n",
        "Sofía Peña González\n",
        "\n",
        "Elena Peral Pastor\n",
        "\n"
      ],
      "metadata": {
        "id": "w8YbxA3YDZZu"
      }
    },
    {
      "cell_type": "markdown",
      "source": [
        "# RESUMEN"
      ],
      "metadata": {
        "id": "zXY6f3Stvuin"
      }
    },
    {
      "cell_type": "markdown",
      "source": [
        "En la anterior práctica trabajamos las Redes de Neuronas Artificiales (RNA)con un ejemplo. Utilizando la misma baso de datos, se estudiarán un tipo específico de estructuras de red que la asignatura de “Aprendizaje Automático” nos da a conocer: las Redes de Neuronas Convolucionales (CNN).\n",
        "\n",
        "Por tanto, este segundo trabajo irá dirigido a profundizar en el funcionamiento de estas redes. Será interesante comparar los resultados obtenidos en ambas prácticas, con el fin de averiguar - de manera práctica - las diferencias entre ambos. De esta forma, al final del estudio seremos capaces de identificar los casos de uso óptimo para cada una de las redes.\n"
      ],
      "metadata": {
        "id": "dSAN9x20dhFd"
      }
    },
    {
      "cell_type": "markdown",
      "source": [
        "# ÍNDICE"
      ],
      "metadata": {
        "id": "Xo8E6lFYEGf7"
      }
    },
    {
      "cell_type": "markdown",
      "source": [
        "\n",
        "\n",
        "*   Introducción\n",
        "*   Resolución\n",
        "*   Conclusiones\n",
        "*   Reflexiones\n",
        "*   Referencias Bibliográficas\n",
        "\n",
        "\n",
        "\n",
        "\n",
        "\n"
      ],
      "metadata": {
        "id": "3fiCm_ARE1Rb"
      }
    },
    {
      "cell_type": "markdown",
      "source": [
        "# INTRODUCCIÓN"
      ],
      "metadata": {
        "id": "Iu-Hs4guEOoV"
      }
    },
    {
      "cell_type": "markdown",
      "source": [
        "En la 'Práctica 1' se mencionaron tanto los aspectos más relevantes de las Redes de Neuronas Artificiales, como su semejanza con la neurología biológica; y se dio a entender el gran impacto que la Inteligencia Artificial (IA) está cobrando en nuestras vidas. Por consiguiente, y con el fin de no ser repetitivos, únicamente presentaremos en otro estilo de red neuronal: la Red de Neuronas Convolucionales.\n",
        "\n",
        "Este proyecto volverá a examinar los productos de la tienda de moda online alemana especializada en ventas de ropa y zapatos 'Zalando' (www.zalando.com).\n",
        "\n",
        "Este estudio se centrará en entender el comportamiento de una Red de Neuronas Convolucionales. Asimismo, servirá de gran ayuda en la comprensión de sus similitudes y diferencias con una Red de Neuronas Artificiales como aquella de la práctica previa."
      ],
      "metadata": {
        "id": "bScY0amsHsdV"
      }
    },
    {
      "cell_type": "markdown",
      "source": [
        "# RESOLUCIÓN"
      ],
      "metadata": {
        "id": "X36Twi4IEVBu"
      }
    },
    {
      "cell_type": "markdown",
      "source": [
        "El primer paso será comprender el enunciado y extraer los datos que se nos aportan.\n",
        "\n",
        "**PROBLEMA:**\n",
        "\n",
        "* Reconocer y clasificar imágenes de ropa - en escala de grises - en sus diferentes tipologías (10). Este modelo será definido, configurado, entrenado, evaluado y mejorado para posteriormente usarlo para hacer predicciones.\n",
        "* Crear un modelo de Red de Neuronas COnvolucionales en Keras aplicando de una tirada todos los pasos al conjunto de datos Fashion-MNIST - precargado en Keras - y que ya se ha utilizado para la 'Prática 1'.\n",
        "* Se dispone de 70k imágenes del conjunto de datos de Fashion-MNIST en baja resolución (28 x 28 píxeles): artículos de Zalando, una tienda de moda online alemana especializada en ventas de ropa y zapatos. Se usarán 60K imágenes para el entrenamiento de la red, y 10K imágenes para evaluar la precisión con la que la red aprende a clasificarlas.\n",
        "\n",
        "\n",
        "Una vez se tienen claro los materiales con los que se trabajará, se podrá empezar a incorporar código. Sin embargo, antes de comenzar importemnos qyuras y el resto de librerías necesarias para la red neuronal, asegurando que es la versión 2.0.0 (o superior) de TensorFlow."
      ],
      "metadata": {
        "id": "ZyIlHHA-HuUU"
      }
    },
    {
      "cell_type": "markdown",
      "source": [
        "\n",
        "**DISEÑO, ENTRENAMIENTO Y TEST DE UN SISTEMA DE REDES DE NEURONAS ARTIFICIALES**\n"
      ],
      "metadata": {
        "id": "Fe61Lwmrbpo_"
      }
    },
    {
      "cell_type": "code",
      "source": [
        "# 1._ IMPORTAMOS KERAS\n",
        "%tensorflow_version 2.x\n",
        "import tensorflow as tf\n",
        "from tensorflow import keras\n",
        "print(tf.keras.__version__)\n",
        "print(\"GPU Available:\", tf.config.list_physical_devices('GPU'))\n",
        "print(tf.__version__)\n",
        "\n",
        "import numpy as np\n",
        "import pandas as pd\n",
        "import matplotlib.image as mpim\n",
        "import matplotlib.pyplot as plt\n",
        "%matplotlib inline\n",
        "\n",
        "from keras import backend as K\n",
        "from keras.utils import np_utils\n",
        "from sklearn.model_selection import train_test_split\n",
        "from keras.models import Sequential\n",
        "from keras.layers import Dense, Dropout, Flatten, Reshape, InputLayer"
      ],
      "metadata": {
        "colab": {
          "base_uri": "https://localhost:8080/"
        },
        "id": "psaION17mmw3",
        "outputId": "13d2d081-5d9d-489c-cc1a-619eedfc67f5"
      },
      "execution_count": 1,
      "outputs": [
        {
          "output_type": "stream",
          "name": "stdout",
          "text": [
            "Colab only includes TensorFlow 2.x; %tensorflow_version has no effect.\n",
            "2.9.0\n",
            "GPU Available: [PhysicalDevice(name='/physical_device:GPU:0', device_type='GPU')]\n",
            "2.9.2\n"
          ]
        }
      ]
    },
    {
      "cell_type": "markdown",
      "source": [
        "A continuación, cargamos el conjunto de datos  MNIST en Keras con el que vamos a trabajar en esta prática.\n"
      ],
      "metadata": {
        "id": "m_FEKAOAaEC-"
      }
    },
    {
      "cell_type": "code",
      "source": [
        "# 2.- CARGAMOS EL CONJUNTO DE DATOS MINIST EN KERAS\n",
        "# mnist = tf.keras.datasets.mnist\n",
        "from keras.datasets import mnist\n",
        "\n",
        "fashion_mnist = keras.datasets.fashion_mnist\n",
        "(train_images, train_labels), (test_images, test_labels) = fashion_mnist.load_data()\n"
      ],
      "metadata": {
        "id": "9boZLFDdaHN0",
        "colab": {
          "base_uri": "https://localhost:8080/"
        },
        "outputId": "bcdd802e-329a-4473-8690-697b99007afa"
      },
      "execution_count": 2,
      "outputs": [
        {
          "output_type": "stream",
          "name": "stdout",
          "text": [
            "Downloading data from https://storage.googleapis.com/tensorflow/tf-keras-datasets/train-labels-idx1-ubyte.gz\n",
            "29515/29515 [==============================] - 0s 0us/step\n",
            "Downloading data from https://storage.googleapis.com/tensorflow/tf-keras-datasets/train-images-idx3-ubyte.gz\n",
            "26421880/26421880 [==============================] - 1s 0us/step\n",
            "Downloading data from https://storage.googleapis.com/tensorflow/tf-keras-datasets/t10k-labels-idx1-ubyte.gz\n",
            "5148/5148 [==============================] - 0s 0us/step\n",
            "Downloading data from https://storage.googleapis.com/tensorflow/tf-keras-datasets/t10k-images-idx3-ubyte.gz\n",
            "4422102/4422102 [==============================] - 0s 0us/step\n"
          ]
        }
      ]
    },
    {
      "cell_type": "markdown",
      "source": [
        "Al cargar el set de datos retorna cuatro arreglos en NumPy:\n",
        "- `train_images` y `train_labels` son el **conjunto de entrenamiento** (los datos de los que aprenderá el modelo).\n",
        "- `test_images` y `test_labels` son el conjunto de pruebas (los datos con los que testearemos el modelo ya entrenado).\n",
        "- Las imágenes están **codificadas** como matrices `Numpy`, y las etiquetas son un vector de números con valores entre el 0 y el 9 (imágenes y etiquetas tienen una correspondencia 1 a 1) \n",
        "\n",
        "| *CLASE* | *PRENDA* |\n",
        "|-----------|------------|\n",
        "| 0         | T-shirt    |\n",
        "| 1         | Trouser    |\n",
        "| 2         | Pullover   |\n",
        "| 3         | Dress      |\n",
        "| 4         | Coat       |\n",
        "| 5         | Sandal     |\n",
        "| 6         | Shirt      |\n",
        "| 7         | Sneaker    |\n",
        "| 8         | Bag        |\n",
        "| 9         | Ankle boot |\n",
        "\n",
        "Como los `Class names` no están incluidos los podremos a mano en el siguiente código: "
      ],
      "metadata": {
        "id": "iZDirwqQaLez"
      }
    },
    {
      "cell_type": "code",
      "source": [
        "nombres = ['T-shirt/top', 'Trouser', 'Pullover', 'Dress', 'Coat',\n",
        "               'Sandal', 'Shirt', 'Sneaker', 'Bag', 'Ankle boot']"
      ],
      "metadata": {
        "id": "C8jr9gdDaMTs"
      },
      "execution_count": 3,
      "outputs": []
    },
    {
      "cell_type": "markdown",
      "source": [
        "Una vez tenemos los datos preparados, se puede proceder a revisar los **datos de entrenamiento**."
      ],
      "metadata": {
        "id": "X1L1KM84D8eN"
      }
    },
    {
      "cell_type": "markdown",
      "source": [
        "## Pre-procesamiento del set de datos"
      ],
      "metadata": {
        "id": "3gSuwlq9EGLh"
      }
    },
    {
      "cell_type": "code",
      "source": [
        "print(train_images.shape)"
      ],
      "metadata": {
        "colab": {
          "base_uri": "https://localhost:8080/"
        },
        "id": "4N0tG5E5aerY",
        "outputId": "0a6ce7fe-ce50-4a08-984d-790dd61a4250"
      },
      "execution_count": 4,
      "outputs": [
        {
          "output_type": "stream",
          "name": "stdout",
          "text": [
            "(60000, 28, 28)\n"
          ]
        }
      ]
    },
    {
      "cell_type": "markdown",
      "source": [
        "Esto nos indica que el 'Dataset' de los **datos de entrenamiento** contiene 60K imágenes de 28x28, tal y como indica el enunciado. Hagamos lo mismo con los datos correspondientes a las imágenes de 'test':\n"
      ],
      "metadata": {
        "id": "DZ-yU9ytdfpj"
      }
    },
    {
      "cell_type": "code",
      "source": [
        "print(test_images.shape)"
      ],
      "metadata": {
        "colab": {
          "base_uri": "https://localhost:8080/"
        },
        "id": "3j03mt0ae0ox",
        "outputId": "3a228261-f91c-47cf-cdf2-0151618ed114"
      },
      "execution_count": 5,
      "outputs": [
        {
          "output_type": "stream",
          "name": "stdout",
          "text": [
            "(10000, 28, 28)\n"
          ]
        }
      ]
    },
    {
      "cell_type": "markdown",
      "source": [
        "De esta manera, apreciamos que se trata de un array de 10K imágenes de 28x28.\n",
        "\n",
        "\n",
        "A continución, veamos las imágenes de otra forma. Por ejemplo, representemos la matriz de la imagen correspondiente a la posición 0 del array de las imágenes de entrenamiento:"
      ],
      "metadata": {
        "id": "tUzu49Bke2e5"
      }
    },
    {
      "cell_type": "code",
      "source": [
        "plt.figure()\n",
        "plt.imshow(train_images[0])\n",
        "plt.colorbar()\n",
        "plt.grid(False)\n",
        "plt.show()"
      ],
      "metadata": {
        "colab": {
          "base_uri": "https://localhost:8080/",
          "height": 265
        },
        "id": "WcYXrMWSdev5",
        "outputId": "af0d96b6-ab83-407c-f393-3c6c036daa38"
      },
      "execution_count": 6,
      "outputs": [
        {
          "output_type": "display_data",
          "data": {
            "text/plain": [
              "<Figure size 432x288 with 2 Axes>"
            ],
            "image/png": "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\n"
          },
          "metadata": {
            "needs_background": "light"
          }
        }
      ]
    },
    {
      "cell_type": "markdown",
      "source": [
        "Una vez se han comprobado las dimensiones de los arrays que se necesitarán, y se tiene clara la estructura de los datos de entrada, nos encontramos con un problema: se observa que los valores oscilan en un rango entre 0 y 250. Sin embargo, si se desea aplicarlos a la red neuronal convolucional, deben ser transformados a valores entre 0 y 1. De esta forma, nos aseguramos de que los datos de entrenamiento y de test se hayan normalizado, y puedan ser porcesados de la misma manera. Arreglémoslo de la siguiente forma:"
      ],
      "metadata": {
        "id": "Uig52cL6gdB5"
      }
    },
    {
      "cell_type": "code",
      "source": [
        "# 3.- NORMALIZACIÓN DE LOS DATOS (IMÁGENES DE ENTRENAMIENTO Y DE TEST)\n",
        "train_images = train_images.astype('float32') / 255\n",
        "test_images = test_images.astype('float32') / 255"
      ],
      "metadata": {
        "id": "bdHPSrEIjhTQ"
      },
      "execution_count": 7,
      "outputs": []
    },
    {
      "cell_type": "code",
      "source": [
        "print (train_images.shape)\n",
        "print (train_labels.shape)"
      ],
      "metadata": {
        "id": "jHxaQNAdBDTQ",
        "colab": {
          "base_uri": "https://localhost:8080/"
        },
        "outputId": "0497b790-a4d6-4f82-ba58-84a1f2a9469d"
      },
      "execution_count": 8,
      "outputs": [
        {
          "output_type": "stream",
          "name": "stdout",
          "text": [
            "(60000, 28, 28)\n",
            "(60000,)\n"
          ]
        }
      ]
    },
    {
      "cell_type": "markdown",
      "source": [
        "Volvamos a mostrar la imagen anterior. Esta vez, los valores se presentarán en el rango [0,1], debido a la normalización de los datos previamente realizada:"
      ],
      "metadata": {
        "id": "43y9njeVjilX"
      }
    },
    {
      "cell_type": "code",
      "source": [
        "plt.figure()\n",
        "plt.imshow(train_images[0])\n",
        "plt.colorbar()\n",
        "plt.grid(False)\n",
        "plt.show()"
      ],
      "metadata": {
        "colab": {
          "base_uri": "https://localhost:8080/",
          "height": 269
        },
        "id": "dM4kCSlpjp1o",
        "outputId": "6f0d4c22-4dba-4416-c9cd-b1e18e657f8b"
      },
      "execution_count": 9,
      "outputs": [
        {
          "output_type": "display_data",
          "data": {
            "text/plain": [
              "<Figure size 432x288 with 2 Axes>"
            ],
            "image/png": "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\n"
          },
          "metadata": {
            "needs_background": "light"
          }
        }
      ]
    },
    {
      "cell_type": "markdown",
      "source": [
        "A su vez, existe la posibilidad de visalizar las imágenes en su forma matricial. Utilicemos como ejemplo la imagen correspondiente a la posición 2000 del array de los datos de entrenamiento.\n",
        "\n"
      ],
      "metadata": {
        "id": "oEi4IS_vjp9v"
      }
    },
    {
      "cell_type": "code",
      "source": [
        "np.set_printoptions(precision=2, suppress=True, linewidth=145)\n",
        "print(np.matrix(train_images[20000]))"
      ],
      "metadata": {
        "colab": {
          "base_uri": "https://localhost:8080/"
        },
        "id": "Mae-YS0ylT53",
        "outputId": "dca8e12e-0131-4ccf-ef8a-029d2dfbc4b4"
      },
      "execution_count": 10,
      "outputs": [
        {
          "output_type": "stream",
          "name": "stdout",
          "text": [
            "[[0.   0.   0.   0.   0.   0.   0.   0.   0.   0.   0.   0.   0.   0.   0.   0.   0.   0.   0.   0.   0.   0.   0.   0.   0.   0.   0.   0.  ]\n",
            " [0.   0.   0.   0.   0.   0.   0.   0.   0.   0.   0.   0.   0.   0.   0.   0.   0.   0.   0.   0.   0.   0.   0.   0.   0.   0.   0.   0.  ]\n",
            " [0.   0.   0.   0.   0.   0.   0.   0.   0.   0.   0.   0.   0.   0.   0.   0.   0.   0.   0.   0.   0.   0.   0.   0.   0.   0.   0.   0.  ]\n",
            " [0.   0.   0.   0.   0.   0.   0.   0.   0.   0.   0.   0.   0.   0.   0.   0.   0.   0.   0.   0.   0.   0.   0.   0.   0.   0.   0.   0.  ]\n",
            " [0.   0.   0.   0.   0.   0.   0.   0.   0.   0.   0.   0.   0.   0.   0.   0.   0.   0.   0.   0.   0.   0.   0.   0.   0.   0.   0.   0.  ]\n",
            " [0.   0.   0.   0.   0.   0.   0.   0.   0.   0.   0.   0.   0.   0.   0.   0.   0.   0.   0.   0.   0.   0.   0.   0.   0.   0.   0.   0.  ]\n",
            " [0.   0.   0.   0.   0.   0.   0.   0.   0.   0.   0.   0.   0.   0.   0.   0.   0.   0.   0.   0.   0.   0.   0.   0.   0.   0.   0.   0.  ]\n",
            " [0.   0.   0.   0.   0.   0.   0.   0.   0.   0.   0.   0.   0.   0.   0.   0.   0.   0.   0.   0.   0.   0.   0.   0.   0.   0.   0.   0.  ]\n",
            " [0.   0.   0.   0.   0.   0.   0.   0.   0.   0.   0.   0.   0.   0.   0.   0.   0.   0.   0.   0.   0.   0.   0.   0.   0.   0.   0.   0.  ]\n",
            " [0.   0.   0.   0.   0.   0.   0.   0.   0.   0.   0.   0.01 0.   0.   0.14 0.26 0.22 0.   0.   0.01 0.   0.   0.   0.   0.   0.   0.16 0.11]\n",
            " [0.   0.   0.   0.   0.   0.   0.   0.   0.01 0.   0.   0.   0.   0.63 1.   0.85 1.   0.37 0.   0.   0.   0.   0.02 0.   0.   0.   0.25 0.15]\n",
            " [0.   0.   0.   0.   0.   0.   0.   0.   0.   0.   0.   0.59 0.93 0.84 0.78 0.76 0.77 0.98 0.78 0.16 0.   0.   0.   0.   0.   0.25 0.93 0.1 ]\n",
            " [0.   0.01 0.   0.   0.   0.   0.   0.   0.26 0.65 0.95 0.85 0.8  0.75 0.75 0.79 0.78 0.77 0.84 1.   0.77 0.48 0.38 0.48 0.73 0.81 0.89 0.25]\n",
            " [0.   0.   0.   0.   0.   0.   0.16 0.7  0.88 0.84 0.78 0.75 0.76 0.75 0.75 0.78 0.81 0.8  0.8  0.81 0.84 0.88 0.89 0.88 0.86 0.8  0.85 0.49]\n",
            " [0.   0.29 0.53 0.57 0.65 0.75 0.8  0.78 0.76 0.75 0.76 0.77 0.76 0.79 0.8  0.81 0.8  0.78 0.8  0.8  0.79 0.79 0.78 0.78 0.78 0.77 0.87 0.52]\n",
            " [0.05 0.64 0.84 0.85 0.86 0.85 0.84 0.82 0.83 0.82 0.81 0.8  0.81 0.82 0.81 0.81 0.81 0.81 0.82 0.81 0.82 0.81 0.81 0.81 0.81 0.8  0.89 0.59]\n",
            " [0.11 0.01 0.   0.06 0.17 0.32 0.47 0.53 0.66 0.73 0.81 0.86 0.87 0.89 0.91 0.93 0.95 0.95 0.93 0.92 0.93 0.93 0.93 0.91 0.89 0.85 0.96 0.41]\n",
            " [0.13 0.22 0.17 0.07 0.   0.   0.   0.   0.   0.   0.   0.   0.   0.   0.03 0.06 0.05 0.07 0.08 0.05 0.04 0.06 0.08 0.08 0.09 0.08 0.24 0.15]\n",
            " [0.   0.   0.05 0.16 0.29 0.32 0.27 0.26 0.22 0.18 0.15 0.15 0.13 0.14 0.15 0.14 0.15 0.16 0.15 0.14 0.15 0.16 0.18 0.21 0.24 0.31 0.45 0.25]\n",
            " [0.   0.   0.   0.   0.   0.06 0.12 0.22 0.26 0.27 0.32 0.35 0.32 0.28 0.24 0.18 0.13 0.13 0.15 0.18 0.18 0.17 0.12 0.07 0.05 0.07 0.09 0.  ]\n",
            " [0.   0.   0.   0.   0.   0.   0.   0.   0.   0.   0.   0.   0.   0.   0.   0.   0.   0.   0.   0.   0.   0.   0.   0.   0.   0.   0.   0.  ]\n",
            " [0.   0.   0.   0.   0.   0.   0.   0.   0.   0.   0.   0.   0.   0.   0.   0.   0.   0.   0.   0.   0.   0.   0.   0.   0.   0.   0.   0.  ]\n",
            " [0.   0.   0.   0.   0.   0.   0.   0.   0.   0.   0.   0.   0.   0.   0.   0.   0.   0.   0.   0.   0.   0.   0.   0.   0.   0.   0.   0.  ]\n",
            " [0.   0.   0.   0.   0.   0.   0.   0.   0.   0.   0.   0.   0.   0.   0.   0.   0.   0.   0.   0.   0.   0.   0.   0.   0.   0.   0.   0.  ]\n",
            " [0.   0.   0.   0.   0.   0.   0.   0.   0.   0.   0.   0.   0.   0.   0.   0.   0.   0.   0.   0.   0.   0.   0.   0.   0.   0.   0.   0.  ]\n",
            " [0.   0.   0.   0.   0.   0.   0.   0.   0.   0.   0.   0.   0.   0.   0.   0.   0.   0.   0.   0.   0.   0.   0.   0.   0.   0.   0.   0.  ]\n",
            " [0.   0.   0.   0.   0.   0.   0.   0.   0.   0.   0.   0.   0.   0.   0.   0.   0.   0.   0.   0.   0.   0.   0.   0.   0.   0.   0.   0.  ]\n",
            " [0.   0.   0.   0.   0.   0.   0.   0.   0.   0.   0.   0.   0.   0.   0.   0.   0.   0.   0.   0.   0.   0.   0.   0.   0.   0.   0.   0.  ]]\n"
          ]
        }
      ]
    },
    {
      "cell_type": "markdown",
      "source": [
        "Simula la silueta de un 'sneaker'; así que, comprobémoslo con su correspondiente imagen asociada. Cabe destacar que observamos que los valores seguirán estando entre 0 y 1:"
      ],
      "metadata": {
        "id": "--RGKDtiHotC"
      }
    },
    {
      "cell_type": "code",
      "source": [
        "plt.figure()\n",
        "plt.imshow(train_images[2000])\n",
        "plt.colorbar()\n",
        "plt.grid(False)\n",
        "plt.show()"
      ],
      "metadata": {
        "colab": {
          "base_uri": "https://localhost:8080/",
          "height": 269
        },
        "outputId": "f8fe422a-a73c-41a6-fe62-045acf9f70ce",
        "id": "XgwjGgdWHvId"
      },
      "execution_count": 11,
      "outputs": [
        {
          "output_type": "display_data",
          "data": {
            "text/plain": [
              "<Figure size 432x288 with 2 Axes>"
            ],
            "image/png": "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\n"
          },
          "metadata": {
            "needs_background": "light"
          }
        }
      ]
    },
    {
      "cell_type": "markdown",
      "source": [
        "Por último, antes de comenzar con la red neuronal convolucional, incluimos una representación de los 10 primeros elementos con sus correspondientes etiquetas. De esta forma, nos aseguramos de que el 'Dataset' sea correcto."
      ],
      "metadata": {
        "id": "o4GlEgAKokYc"
      }
    },
    {
      "cell_type": "code",
      "source": [
        "plt.figure(figsize=(10,10))\n",
        "for i in range(10):\n",
        "    plt.subplot(5,5,i+1)\n",
        "    plt.xticks([])\n",
        "    plt.yticks([])\n",
        "    plt.grid(False)\n",
        "    plt.imshow(train_images[i], cmap=plt.cm.binary)\n",
        "    plt.xlabel(nombres[train_labels[i]])\n",
        "plt.show()"
      ],
      "metadata": {
        "colab": {
          "base_uri": "https://localhost:8080/",
          "height": 251
        },
        "id": "wtm8MmmigeGw",
        "outputId": "078bb17d-6cf7-4015-830c-85b68b588bc7"
      },
      "execution_count": 12,
      "outputs": [
        {
          "output_type": "display_data",
          "data": {
            "text/plain": [
              "<Figure size 720x720 with 10 Axes>"
            ],
            "image/png": "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\n"
          },
          "metadata": {}
        }
      ]
    },
    {
      "cell_type": "markdown",
      "source": [
        "## Configuración de los casos"
      ],
      "metadata": {
        "id": "fImU1jnsHEpw"
      }
    },
    {
      "cell_type": "markdown",
      "source": [
        "***1. Configurar y entrenar los siguientes modelos de red de neuronas convolucionales, analizando y reflexionando sobre los resultados.***"
      ],
      "metadata": {
        "id": "ArQFsQrscBU1"
      }
    },
    {
      "cell_type": "markdown",
      "source": [
        "**Caso 1**"
      ],
      "metadata": {
        "id": "uc62hBll9eS_"
      }
    },
    {
      "cell_type": "code",
      "metadata": {
        "id": "-uOOAaPim-lb"
      },
      "source": [
        "# CREAR EL MODELO DE RED NEURONAL CNN:\n",
        "from tensorflow.keras import Sequential\n",
        "from tensorflow.keras.layers import Conv2D\n",
        "from tensorflow.keras.layers import MaxPooling2D\n",
        "\n",
        "model1 = Sequential()\n",
        "model1.add(Conv2D(32, (5, 5), activation='relu', input_shape=(28, 28, 1))) # 1ª capa convolucional\n",
        "model1.add(MaxPooling2D((2, 2))) # 1ª capa pooling\n",
        "\n",
        "model1.add(Conv2D(64, (5, 5), activation='relu')) # 2ª capa convolucional\n",
        "model1.add(MaxPooling2D((2, 2))) # 2ª capa pooling\n",
        "\n",
        "model1.add(Flatten()) # Flatten, no es una capa, solo aplana\n",
        "\n",
        "model1.add(Dense(10, activation='softmax')) # Última capa densa"
      ],
      "execution_count": 13,
      "outputs": []
    },
    {
      "cell_type": "code",
      "source": [
        "# COMPILAR EL MODELO CON MÉTRICA PRECISIÓN:\n",
        "model1.compile(loss='sparse_categorical_crossentropy',\n",
        "               optimizer='sgd',\n",
        "               metrics=['accuracy'])\n",
        "\n",
        "history = model1.fit\n",
        "\n",
        "model1.fit(train_images, train_labels,\n",
        "           epochs=5)\n",
        "\n",
        "test_loss1, test_acc1 = model1.evaluate(test_images, test_labels)"
      ],
      "metadata": {
        "colab": {
          "base_uri": "https://localhost:8080/"
        },
        "id": "MwgwQY4uKxvq",
        "outputId": "b3516478-1da3-43cc-9413-3de35001af9e"
      },
      "execution_count": 14,
      "outputs": [
        {
          "output_type": "stream",
          "name": "stdout",
          "text": [
            "Epoch 1/5\n",
            "1875/1875 [==============================] - 5s 3ms/step - loss: 0.5233 - accuracy: 0.8122\n",
            "Epoch 3/5\n",
            "1875/1875 [==============================] - 5s 3ms/step - loss: 0.4550 - accuracy: 0.8387\n",
            "Epoch 4/5\n",
            "1875/1875 [==============================] - 5s 3ms/step - loss: 0.4185 - accuracy: 0.8521\n",
            "Epoch 5/5\n",
            "1875/1875 [==============================] - 8s 5ms/step - loss: 0.3930 - accuracy: 0.8611\n",
            "313/313 [==============================] - 2s 4ms/step - loss: 0.4234 - accuracy: 0.8505\n"
          ]
        }
      ]
    },
    {
      "cell_type": "markdown",
      "source": [
        "**Caso 2**"
      ],
      "metadata": {
        "id": "qZfcAMyJ9hAC"
      }
    },
    {
      "cell_type": "code",
      "source": [
        "# CREAR EL MODELO DE RED NEURONAL CNN:\n",
        "model2 = Sequential()\n",
        "model2.add(Conv2D(64, (7, 7), activation='relu', input_shape=(28, 28, 1), padding='same')) # 1ª capa convolucional\n",
        "model2.add(MaxPooling2D((2, 2))) # 1ª capa pooling\n",
        "\n",
        "model2.add(Conv2D(128, (3, 3), activation='relu', padding='same')) # 2ª capa convolucional\n",
        "model2.add(MaxPooling2D((2, 2))) # 2ª capa pooling\n",
        "\n",
        "model2.add(Flatten()) # Flatten, no es una capa, solo aplana\n",
        "\n",
        "model2.add(Dense(65,activation='relu')) # Penúltima capa densa\n",
        "model2.add(Dense(10, activation='softmax')) # Última capa densa"
      ],
      "metadata": {
        "id": "SPUktnXxMEQ4"
      },
      "execution_count": 15,
      "outputs": []
    },
    {
      "cell_type": "code",
      "source": [
        "# COMPILAR EL MODELO CON MÉTRICA PRECISIÓN:\n",
        "model2.compile(loss='sparse_categorical_crossentropy',\n",
        "               optimizer='sgd',\n",
        "               metrics=['accuracy'])\n",
        "\n",
        "history = model2.fit\n",
        "\n",
        "model2.fit(train_images, train_labels,\n",
        "           epochs=5)\n",
        "\n",
        "test_loss2, test_acc2 = model2.evaluate(test_images, test_labels)"
      ],
      "metadata": {
        "colab": {
          "base_uri": "https://localhost:8080/"
        },
        "id": "bFngMI8MM2ts",
        "outputId": "75ea962d-adce-43f1-f302-b79a19b2a2f6"
      },
      "execution_count": 16,
      "outputs": [
        {
          "output_type": "stream",
          "name": "stdout",
          "text": [
            "Epoch 1/5\n",
            "1875/1875 [==============================] - 7s 3ms/step - loss: 0.7690 - accuracy: 0.7230\n",
            "Epoch 2/5\n",
            "1875/1875 [==============================] - 6s 3ms/step - loss: 0.4895 - accuracy: 0.8231\n",
            "Epoch 3/5\n",
            "1875/1875 [==============================] - 6s 3ms/step - loss: 0.4196 - accuracy: 0.8493\n",
            "Epoch 4/5\n",
            "1875/1875 [==============================] - 7s 4ms/step - loss: 0.3842 - accuracy: 0.8618\n",
            "Epoch 5/5\n",
            "1875/1875 [==============================] - 6s 3ms/step - loss: 0.3561 - accuracy: 0.8712\n",
            "313/313 [==============================] - 1s 3ms/step - loss: 0.3767 - accuracy: 0.8672\n"
          ]
        }
      ]
    },
    {
      "cell_type": "markdown",
      "source": [
        "**Caso 3**"
      ],
      "metadata": {
        "id": "PRe0u_7J9hTN"
      }
    },
    {
      "cell_type": "code",
      "source": [
        "# CREAR EL MODELO DE RED NEURONAL CNN:\n",
        "model3 = Sequential()\n",
        "model3.add(Conv2D(64, (7, 7), activation='relu', input_shape=(28, 28, 1), padding='same')) # 1ª capa convolucional\n",
        "model3.add(MaxPooling2D((2, 2))) # 1ª capa pooling\n",
        "\n",
        "model3.add(Conv2D(128, (3, 3), activation='relu', padding='same')) # 2ª capa convolucional\n",
        "model3.add(MaxPooling2D((2, 2))) # 2ª capa pooling\n",
        "\n",
        "model3.add(Flatten()) # Flatten, no es una capa, solo aplana\n",
        "\n",
        "model3.add(Dense(65,activation='relu')) # Penúltima capa densa\n",
        "model3.add(Dense(10, activation='softmax')) # Última capa densa"
      ],
      "metadata": {
        "id": "5dULRGQxNL3p"
      },
      "execution_count": 17,
      "outputs": []
    },
    {
      "cell_type": "code",
      "source": [
        "# COMPILAR EL MODELO CON MÉTRICA PRECISIÓN:\n",
        "model3.compile(loss='sparse_categorical_crossentropy',\n",
        "               optimizer='adam',\n",
        "               metrics=['accuracy'])\n",
        "\n",
        "history = model3.fit\n",
        "\n",
        "model3.fit(train_images, train_labels,\n",
        "           epochs=5)\n",
        "\n",
        "test_loss3, test_acc3 = model3.evaluate(test_images, test_labels)"
      ],
      "metadata": {
        "colab": {
          "base_uri": "https://localhost:8080/"
        },
        "id": "coiuR9oINNGU",
        "outputId": "9c45da93-6e02-4c68-d0c2-8580621b7338"
      },
      "execution_count": 18,
      "outputs": [
        {
          "output_type": "stream",
          "name": "stdout",
          "text": [
            "Epoch 1/5\n",
            "1875/1875 [==============================] - 7s 3ms/step - loss: 0.4174 - accuracy: 0.8482\n",
            "Epoch 2/5\n",
            "1875/1875 [==============================] - 7s 4ms/step - loss: 0.2760 - accuracy: 0.8996\n",
            "Epoch 3/5\n",
            "1875/1875 [==============================] - 7s 4ms/step - loss: 0.2331 - accuracy: 0.9137\n",
            "Epoch 4/5\n",
            "1875/1875 [==============================] - 6s 3ms/step - loss: 0.2034 - accuracy: 0.9241\n",
            "Epoch 5/5\n",
            "1875/1875 [==============================] - 7s 4ms/step - loss: 0.1788 - accuracy: 0.9333\n",
            "313/313 [==============================] - 1s 3ms/step - loss: 0.2455 - accuracy: 0.9150\n"
          ]
        }
      ]
    },
    {
      "cell_type": "markdown",
      "source": [
        "Una vez compilados los tres modelos podemos observar que la precisión máxima de cada modelo con respecto a los datos de entrenamiento es:\n",
        "- Caso 1: 0.8680\n",
        "- Caso 2: 0.8859\n",
        "- Caso 3: 0.9358\n",
        "\n",
        "Coincide que todos los valores se hayan en la última época, lo que nos indica que no hay sobre entrenamiento. Concluimos que el mejor modelo es el 3, con un 93,58% de precisión."
      ],
      "metadata": {
        "id": "diwyYSgxSSP0"
      }
    },
    {
      "cell_type": "markdown",
      "source": [
        "## Salidas"
      ],
      "metadata": {
        "id": "DveszbD_zNFQ"
      }
    },
    {
      "cell_type": "markdown",
      "source": [
        "***2. Explicar la salida de la llamada model.summary() de cada uno de los 3 casos.***"
      ],
      "metadata": {
        "id": "740ymnmuOU-q"
      }
    },
    {
      "cell_type": "markdown",
      "source": [
        "Los resúmenes de cada modelo nos muestran los distintos tensores - especificados - con los que se va a trabajar, a la vez que el total de parámetros entrenables. "
      ],
      "metadata": {
        "id": "QDe9K-HU6q4Y"
      }
    },
    {
      "cell_type": "code",
      "source": [
        "model1.summary()"
      ],
      "metadata": {
        "colab": {
          "base_uri": "https://localhost:8080/"
        },
        "id": "baTTfvWNNpnA",
        "outputId": "72cc74e8-95ed-45d7-bb87-67f3be817dac"
      },
      "execution_count": 19,
      "outputs": [
        {
          "output_type": "stream",
          "name": "stdout",
          "text": [
            "Model: \"sequential\"\n",
            "_________________________________________________________________\n",
            " Layer (type)                Output Shape              Param #   \n",
            "=================================================================\n",
            " conv2d (Conv2D)             (None, 24, 24, 32)        832       \n",
            "                                                                 \n",
            " max_pooling2d (MaxPooling2D  (None, 12, 12, 32)       0         \n",
            " )                                                               \n",
            "                                                                 \n",
            " conv2d_1 (Conv2D)           (None, 8, 8, 64)          51264     \n",
            "                                                                 \n",
            " max_pooling2d_1 (MaxPooling  (None, 4, 4, 64)         0         \n",
            " 2D)                                                             \n",
            "                                                                 \n",
            " flatten (Flatten)           (None, 1024)              0         \n",
            "                                                                 \n",
            " dense (Dense)               (None, 10)                10250     \n",
            "                                                                 \n",
            "=================================================================\n",
            "Total params: 62,346\n",
            "Trainable params: 62,346\n",
            "Non-trainable params: 0\n",
            "_________________________________________________________________\n"
          ]
        }
      ]
    },
    {
      "cell_type": "markdown",
      "source": [
        "A continuación, explicaremos la razón de los tensores de salida y los parámetros de cada una de las capas:\n",
        "- 1ª Capa Convolucional: \n",
        "(5x5 + 1 (sesgo)) x 32 (nº filtros) = 832 parámetros.\n",
        "- 1ª Capa Pooling:0 puesto que no se especifican parámetros.\n",
        "- 2ª Capa Convolucional: \n",
        "(5x5 x 32 nº filtros anteriores + 1 (sesgo)) x 64 nº filtros de este = 51 264 parámetros.\n",
        "- 2ª Capa Pooling:0 puesto que no se especifican parámetros.\n",
        "- Capa Flatten:0  puesto que no se especifican parámetros.\n",
        "- Capa Dense: 10 x 1024 + 10 = 10250.\n",
        "\n",
        "En total, existen 62.346 parámetros entrenables. "
      ],
      "metadata": {
        "id": "M8KvW_8_6SD1"
      }
    },
    {
      "cell_type": "code",
      "source": [
        "model2.summary()"
      ],
      "metadata": {
        "colab": {
          "base_uri": "https://localhost:8080/"
        },
        "id": "ealMizVINqYH",
        "outputId": "3e00bc69-d61b-4518-935c-2283b080a18b"
      },
      "execution_count": 20,
      "outputs": [
        {
          "output_type": "stream",
          "name": "stdout",
          "text": [
            "Model: \"sequential_1\"\n",
            "_________________________________________________________________\n",
            " Layer (type)                Output Shape              Param #   \n",
            "=================================================================\n",
            " conv2d_2 (Conv2D)           (None, 28, 28, 64)        3200      \n",
            "                                                                 \n",
            " max_pooling2d_2 (MaxPooling  (None, 14, 14, 64)       0         \n",
            " 2D)                                                             \n",
            "                                                                 \n",
            " conv2d_3 (Conv2D)           (None, 14, 14, 128)       73856     \n",
            "                                                                 \n",
            " max_pooling2d_3 (MaxPooling  (None, 7, 7, 128)        0         \n",
            " 2D)                                                             \n",
            "                                                                 \n",
            " flatten_1 (Flatten)         (None, 6272)              0         \n",
            "                                                                 \n",
            " dense_1 (Dense)             (None, 65)                407745    \n",
            "                                                                 \n",
            " dense_2 (Dense)             (None, 10)                660       \n",
            "                                                                 \n",
            "=================================================================\n",
            "Total params: 485,461\n",
            "Trainable params: 485,461\n",
            "Non-trainable params: 0\n",
            "_________________________________________________________________\n"
          ]
        }
      ]
    },
    {
      "cell_type": "markdown",
      "source": [
        "Seguiremos la misma estructura explicativa que se aplicó en el primer modelo:\n",
        "- 1ª Capa Convolucional: \n",
        "(7x7 + 1 (sesgo)) x 64 nº filtros = 3200 parámetros.\n",
        "- 1ª Capa Pooling:0 puesto que no se especifican parámetros.\n",
        "- 2ª Capa Convolucional: \n",
        "(3x3 x 64 nº filtros anteriores + 1 (sesgo)) x 128 nº filtros = 73 856 parámetros.\n",
        "- 2ª Capa Pooling:0 puesto que no se especifican parámetros.\n",
        "- Capa Flatten:0 puesto que no se especifican parámetros.\n",
        "- Capa Dense 1:\n",
        "64 x 32 x 65 (nº filtros) + 65 (sesgo) = 133.185 parámetros.\n",
        "- Capa Dense 2:\n",
        "10 x 65 + 10 = 660 parámetros.\n",
        "\n",
        "En total, existen 485,461 parámetros entrenables."
      ],
      "metadata": {
        "id": "NHIvIXzz7zAp"
      }
    },
    {
      "cell_type": "code",
      "source": [
        "model3.summary()"
      ],
      "metadata": {
        "colab": {
          "base_uri": "https://localhost:8080/"
        },
        "id": "GAB4SqpANqvK",
        "outputId": "64d26ced-e0f7-45b4-f8e6-d0219e902575"
      },
      "execution_count": 21,
      "outputs": [
        {
          "output_type": "stream",
          "name": "stdout",
          "text": [
            "Model: \"sequential_2\"\n",
            "_________________________________________________________________\n",
            " Layer (type)                Output Shape              Param #   \n",
            "=================================================================\n",
            " conv2d_4 (Conv2D)           (None, 28, 28, 64)        3200      \n",
            "                                                                 \n",
            " max_pooling2d_4 (MaxPooling  (None, 14, 14, 64)       0         \n",
            " 2D)                                                             \n",
            "                                                                 \n",
            " conv2d_5 (Conv2D)           (None, 14, 14, 128)       73856     \n",
            "                                                                 \n",
            " max_pooling2d_5 (MaxPooling  (None, 7, 7, 128)        0         \n",
            " 2D)                                                             \n",
            "                                                                 \n",
            " flatten_2 (Flatten)         (None, 6272)              0         \n",
            "                                                                 \n",
            " dense_3 (Dense)             (None, 65)                407745    \n",
            "                                                                 \n",
            " dense_4 (Dense)             (None, 10)                660       \n",
            "                                                                 \n",
            "=================================================================\n",
            "Total params: 485,461\n",
            "Trainable params: 485,461\n",
            "Non-trainable params: 0\n",
            "_________________________________________________________________\n"
          ]
        }
      ]
    },
    {
      "cell_type": "markdown",
      "source": [
        "Al igual que los modelos anteriores, se dará a conocer de dónde salen los valores expuestos en este resumen:\n",
        "- 1ª Capa Convolucional: (7x7 + 1 (sesgo)) x 64 nº filtros = 3200 parámetros\n",
        "- 1ª Capa Pooling: 0 puesto que no se especifican parámetros.\n",
        "- 2ª Capa Convolucional: (3x3 x 64  nº filtros anteriores + 1 (sesgo)) x 128 nº filtros = 73.856 parámetros.\n",
        "- 2ª Capa Pooling:0 puesto que no se especifican parámetros.\n",
        "- Capa Flatten: 0 puesto que no se especifican parámetros.\n",
        "- Capa Dense 1:64 x 32 x 65 nº filtro + 65 (sesgo) = 133.185 parámetros.\n",
        "- Capa Dense 2: 10 x 65 + 10 = 660 parámetros.\n",
        "\n",
        "En total, existen 485,461 parámetros entrenables, al igual que el 'Modelo 2'."
      ],
      "metadata": {
        "id": "PUv5iy5w8Dmb"
      }
    },
    {
      "cell_type": "markdown",
      "source": [
        "##Análisis"
      ],
      "metadata": {
        "id": "HJkZNDF00gnU"
      }
    },
    {
      "cell_type": "markdown",
      "source": [
        "###Análisis (5 épocas vs 25 épocas)"
      ],
      "metadata": {
        "id": "LuZhWyBEAeqG"
      }
    },
    {
      "cell_type": "markdown",
      "source": [
        "***3. Analizar e interpretar los resultados del Caso 1 frente a su original si se multiplica por 5 las épocas de entrenamiento (25).***"
      ],
      "metadata": {
        "id": "WPKU27telzeM"
      }
    },
    {
      "cell_type": "code",
      "metadata": {
        "id": "rBdf3SaJOrH3"
      },
      "source": [
        "# CREAR EL MODELO DE RED NEURONAL CNN:\n",
        "model1b = Sequential()\n",
        "model1b.add(Conv2D(32, (5, 5), activation='relu', input_shape=(28, 28, 1))) # 1ª capa convolucional\n",
        "model1b.add(MaxPooling2D((2, 2))) # 1ª capa pooling\n",
        "\n",
        "model1b.add(Conv2D(64, (5, 5), activation='relu')) # 2ª capa convolucional\n",
        "model1b.add(MaxPooling2D((2, 2))) # 2ª capa pooling\n",
        "\n",
        "model1b.add(Flatten()) # Flatten, no es una capa, solo aplana\n",
        "\n",
        "model1b.add(Dense(10, activation='softmax')) # Última capa densa"
      ],
      "execution_count": 22,
      "outputs": []
    },
    {
      "cell_type": "code",
      "source": [
        "# COMPILAR EL MODELO CON MÉTRICA PRECISIÓN:\n",
        "model1b.compile(loss='sparse_categorical_crossentropy',\n",
        "                optimizer='sgd',\n",
        "                metrics=['accuracy'])\n",
        "\n",
        "history = model1b.fit\n",
        "\n",
        "model1b.fit(train_images, train_labels,\n",
        "            epochs=25)\n",
        "\n",
        "test_loss1b, test_acc1b = model1b.evaluate(test_images, test_labels)\n",
        "\n"
      ],
      "metadata": {
        "colab": {
          "base_uri": "https://localhost:8080/"
        },
        "id": "lO0k1VTJOxh0",
        "outputId": "b49a3c74-9ccf-4f9e-ecb7-5e9483fb606c"
      },
      "execution_count": 23,
      "outputs": [
        {
          "output_type": "stream",
          "name": "stdout",
          "text": [
            "Epoch 1/25\n",
            "1875/1875 [==============================] - 6s 3ms/step - loss: 0.8159 - accuracy: 0.7145\n",
            "Epoch 2/25\n",
            "1875/1875 [==============================] - 5s 3ms/step - loss: 0.5111 - accuracy: 0.8169\n",
            "Epoch 3/25\n",
            "1875/1875 [==============================] - 5s 3ms/step - loss: 0.4465 - accuracy: 0.8403\n",
            "Epoch 4/25\n",
            "1875/1875 [==============================] - 5s 3ms/step - loss: 0.4118 - accuracy: 0.8538\n",
            "Epoch 5/25\n",
            "1875/1875 [==============================] - 5s 3ms/step - loss: 0.3877 - accuracy: 0.8610\n",
            "Epoch 6/25\n",
            "1875/1875 [==============================] - 9s 5ms/step - loss: 0.3708 - accuracy: 0.8668\n",
            "Epoch 7/25\n",
            "1875/1875 [==============================] - 8s 4ms/step - loss: 0.3557 - accuracy: 0.8722\n",
            "Epoch 8/25\n",
            "1875/1875 [==============================] - 6s 3ms/step - loss: 0.3428 - accuracy: 0.8776\n",
            "Epoch 9/25\n",
            "1875/1875 [==============================] - 7s 4ms/step - loss: 0.3318 - accuracy: 0.8812\n",
            "Epoch 10/25\n",
            "1875/1875 [==============================] - 5s 3ms/step - loss: 0.3223 - accuracy: 0.8855\n",
            "Epoch 11/25\n",
            "1875/1875 [==============================] - 5s 3ms/step - loss: 0.3134 - accuracy: 0.8888\n",
            "Epoch 12/25\n",
            "1875/1875 [==============================] - 5s 3ms/step - loss: 0.3052 - accuracy: 0.8920\n",
            "Epoch 13/25\n",
            "1875/1875 [==============================] - 6s 3ms/step - loss: 0.2971 - accuracy: 0.8946\n",
            "Epoch 14/25\n",
            "1875/1875 [==============================] - 7s 4ms/step - loss: 0.2914 - accuracy: 0.8959\n",
            "Epoch 15/25\n",
            "1875/1875 [==============================] - 8s 4ms/step - loss: 0.2844 - accuracy: 0.8986\n",
            "Epoch 16/25\n",
            "1875/1875 [==============================] - 7s 4ms/step - loss: 0.2777 - accuracy: 0.9019\n",
            "Epoch 17/25\n",
            "1875/1875 [==============================] - 5s 3ms/step - loss: 0.2725 - accuracy: 0.9039\n",
            "Epoch 18/25\n",
            "1875/1875 [==============================] - 5s 3ms/step - loss: 0.2681 - accuracy: 0.9047\n",
            "Epoch 19/25\n",
            "1875/1875 [==============================] - 7s 4ms/step - loss: 0.2621 - accuracy: 0.9069\n",
            "Epoch 20/25\n",
            "1875/1875 [==============================] - 6s 3ms/step - loss: 0.2577 - accuracy: 0.9079\n",
            "Epoch 21/25\n",
            "1875/1875 [==============================] - 5s 3ms/step - loss: 0.2533 - accuracy: 0.9100\n",
            "Epoch 22/25\n",
            "1875/1875 [==============================] - 5s 3ms/step - loss: 0.2490 - accuracy: 0.9115\n",
            "Epoch 23/25\n",
            "1875/1875 [==============================] - 5s 3ms/step - loss: 0.2445 - accuracy: 0.9132\n",
            "Epoch 24/25\n",
            "1875/1875 [==============================] - 5s 3ms/step - loss: 0.2417 - accuracy: 0.9145\n",
            "Epoch 25/25\n",
            "1875/1875 [==============================] - 5s 3ms/step - loss: 0.2372 - accuracy: 0.9160\n",
            "313/313 [==============================] - 1s 3ms/step - loss: 0.3159 - accuracy: 0.8918\n"
          ]
        }
      ]
    },
    {
      "cell_type": "markdown",
      "source": [
        "El efecto de multiplicar el número de épocas por 5, provoca un aumento de la precisión del modelo (0.8680 < 0.9145). Esto tiene sentido, ya que al realizar más épocas se completa un mayor número de rondas de iteraciones. En este caso es faborable puesto que la precisión aumenta sin haber sobre entrenamiento."
      ],
      "metadata": {
        "id": "J4XMIMbY8nYY"
      }
    },
    {
      "cell_type": "markdown",
      "source": [
        "###Análisis (ReLU vs tanh)"
      ],
      "metadata": {
        "id": "_D2dSySz-Pqu"
      }
    },
    {
      "cell_type": "markdown",
      "source": [
        "***4. Analiza el resultado del Caso 1 si en lugar de 'ReLU' usas 'tanh' en la función de activación de las dos capas convolucionales.***"
      ],
      "metadata": {
        "id": "zmKixDFS-SeR"
      }
    },
    {
      "cell_type": "code",
      "metadata": {
        "id": "9tL6hLCvO3wr"
      },
      "source": [
        "# CREAR EL MODELO DE RED NEURONAL CNN:\n",
        "model1c = Sequential()\n",
        "model1c.add(Conv2D(32, (5, 5), activation='tanh', input_shape=(28, 28, 1))) # 1ª capa convolucional\n",
        "model1c.add(MaxPooling2D((2, 2))) # 1ª capa pooling\n",
        "\n",
        "model1c.add(Conv2D(64, (5, 5), activation='tanh')) # 2ª capa convolucional\n",
        "model1c.add(MaxPooling2D((2, 2))) # 2ª capa pooling\n",
        "\n",
        "model1c.add(Flatten()) # Flatten, no es una capa, solo aplana\n",
        "\n",
        "model1c.add(Dense(10, activation='softmax')) # Última capa densa"
      ],
      "execution_count": 24,
      "outputs": []
    },
    {
      "cell_type": "code",
      "source": [
        "# COMPILAR EL MODELO CON MÉTRICA PRECISIÓN:\n",
        "model1c.compile(loss='sparse_categorical_crossentropy',\n",
        "                optimizer='sgd',\n",
        "                metrics=['accuracy'])\n",
        "\n",
        "history = model1b.fit\n",
        "\n",
        "model1c.fit(train_images, train_labels,\n",
        "            epochs=5)\n",
        "\n",
        "test_loss1c, test_acc1c = model1c.evaluate(test_images, test_labels)"
      ],
      "metadata": {
        "colab": {
          "base_uri": "https://localhost:8080/"
        },
        "id": "cGR1HnL0PBVw",
        "outputId": "9544dc7f-2eba-4bef-f348-7e26cc11b563"
      },
      "execution_count": 25,
      "outputs": [
        {
          "output_type": "stream",
          "name": "stdout",
          "text": [
            "Epoch 1/5\n",
            "1875/1875 [==============================] - 7s 3ms/step - loss: 0.7876 - accuracy: 0.7253\n",
            "Epoch 2/5\n",
            "1875/1875 [==============================] - 6s 3ms/step - loss: 0.5009 - accuracy: 0.8191\n",
            "Epoch 3/5\n",
            "1875/1875 [==============================] - 6s 3ms/step - loss: 0.4382 - accuracy: 0.8451\n",
            "Epoch 4/5\n",
            "1875/1875 [==============================] - 6s 3ms/step - loss: 0.4039 - accuracy: 0.8564\n",
            "Epoch 5/5\n",
            "1875/1875 [==============================] - 6s 3ms/step - loss: 0.3805 - accuracy: 0.8641\n",
            "313/313 [==============================] - 1s 4ms/step - loss: 0.4035 - accuracy: 0.8535\n"
          ]
        }
      ]
    },
    {
      "cell_type": "markdown",
      "source": [
        "A diferencia que el ejercicio anterior, esta modificación del modelo no provoca casi mejoras en los resultados de la precisión del modelo. Por ende, no aplicaremos esta modificación de función de activación, debido a que la diferencia es tan insignificante que la aleatorización de los pesos iniciales podría provocar una alteración en el pocentaje de precisión."
      ],
      "metadata": {
        "id": "Fs7KQ9Dy9BMI"
      }
    },
    {
      "cell_type": "markdown",
      "source": [
        "## Comparación de rendimiento"
      ],
      "metadata": {
        "id": "JZ4zHoKQ3PRi"
      }
    },
    {
      "cell_type": "markdown",
      "source": [
        "***5. Evaluar cada uno de los 3 modelos comparando el rendimiento del modelo en el conjunto de datos de prueba***"
      ],
      "metadata": {
        "id": "cU33EEXLlzlS"
      }
    },
    {
      "cell_type": "code",
      "metadata": {
        "id": "0uwQjCR6rbk5",
        "colab": {
          "base_uri": "https://localhost:8080/"
        },
        "outputId": "ab2e4503-539c-4806-ffdc-1ca1d299256b"
      },
      "source": [
        "# VERIFICAMOS NUESTRO MODELO YA ENTRENADO, CONTRA EL CONJUNTO DE PRUEBAS\n",
        "#test_labels = to_categorical(test_labels)\n",
        "test_loss1, test_acc1 = model1.evaluate(test_images, test_labels)\n",
        "test_loss2, test_acc2 = model2.evaluate(test_images, test_labels)\n",
        "test_loss3, test_acc3 = model3.evaluate(test_images, test_labels)\n",
        "#(train_images, train_labels), (test_images, test_labels) = fashion_mnist.load_data()\n",
        "#print('test_loss8:', test_loss ,'test_acc8:', test_acc)  Con esto se muestran más decimales"
      ],
      "execution_count": 26,
      "outputs": [
        {
          "output_type": "stream",
          "name": "stdout",
          "text": [
            "313/313 [==============================] - 1s 4ms/step - loss: 0.4234 - accuracy: 0.8505\n",
            "313/313 [==============================] - 1s 3ms/step - loss: 0.3767 - accuracy: 0.8672\n",
            "313/313 [==============================] - 1s 4ms/step - loss: 0.2455 - accuracy: 0.9150\n"
          ]
        }
      ]
    },
    {
      "cell_type": "markdown",
      "source": [
        "Tal y como se muestran en el esquema superior, observamos que se presentan según la función de pérdida decreciente y precisión creciente. Esto es una buena señal global, debido a que tiene sentido que las pérdidas del modelo se vean disminuidas a medida que se consigue aumentar su precisión.\n",
        "\n",
        "Por otro lado, destacamos que parece que el funcionamiento de los modelos se ve representado por el siguiente orden, considerándolo del mejor rendimiento al de peor calidad: 3º Modelo > 2º Modelo > 1º Modelo.\n",
        "\n"
      ],
      "metadata": {
        "id": "sndygsZK9P4O"
      }
    },
    {
      "cell_type": "markdown",
      "source": [
        "## Predicciones"
      ],
      "metadata": {
        "id": "3Y5_rnXT5_bT"
      }
    },
    {
      "cell_type": "markdown",
      "source": [
        "***6. Usar cada uno de los 3 modelos para hacer predicciones sobre la 6ª imagen de test (test_images[5]).***"
      ],
      "metadata": {
        "id": "6hLOzUeMlzsY"
      }
    },
    {
      "cell_type": "markdown",
      "source": [
        "Para comenzar, visualicemos de qué trata la 'Imagen 6':"
      ],
      "metadata": {
        "id": "b2oLEPSEc0Zy"
      }
    },
    {
      "cell_type": "code",
      "source": [
        "plt.figure()\n",
        "plt.imshow(test_images[5])\n",
        "plt.colorbar()\n",
        "plt.grid(False)\n",
        "plt.show()"
      ],
      "metadata": {
        "id": "2l6FpH4w6_qg",
        "colab": {
          "base_uri": "https://localhost:8080/",
          "height": 269
        },
        "outputId": "ea84b2e6-6ba0-4321-f552-086f5a4f5f6b"
      },
      "execution_count": 27,
      "outputs": [
        {
          "output_type": "display_data",
          "data": {
            "text/plain": [
              "<Figure size 432x288 with 2 Axes>"
            ],
            "image/png": "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\n"
          },
          "metadata": {
            "needs_background": "light"
          }
        }
      ]
    },
    {
      "cell_type": "markdown",
      "source": [
        "Observamos que parece ser un pantalón, que corresponde a la 'Categoría 1' de nuestra clasificación: 'Trouser'."
      ],
      "metadata": {
        "id": "nlmNkIKMQmDN"
      }
    },
    {
      "cell_type": "markdown",
      "source": [
        "**Caso 1**"
      ],
      "metadata": {
        "id": "xuEP09Edxmkx"
      }
    },
    {
      "cell_type": "code",
      "source": [
        "prediction1 = model1.predict(test_images)"
      ],
      "metadata": {
        "id": "mLpGgwxr6RvT",
        "colab": {
          "base_uri": "https://localhost:8080/"
        },
        "outputId": "535d5a41-555d-456b-c72d-ade10911e7b1"
      },
      "execution_count": 28,
      "outputs": [
        {
          "output_type": "stream",
          "name": "stdout",
          "text": [
            "313/313 [==============================] - 1s 2ms/step\n"
          ]
        }
      ]
    },
    {
      "cell_type": "code",
      "source": [
        "prediction1[5]"
      ],
      "metadata": {
        "id": "hyG98mnW6YPq",
        "colab": {
          "base_uri": "https://localhost:8080/"
        },
        "outputId": "398753dc-587e-4a10-9cd6-fcc9efa13295"
      },
      "execution_count": 29,
      "outputs": [
        {
          "output_type": "execute_result",
          "data": {
            "text/plain": [
              "array([0., 1., 0., 0., 0., 0., 0., 0., 0., 0.], dtype=float32)"
            ]
          },
          "metadata": {},
          "execution_count": 29
        }
      ]
    },
    {
      "cell_type": "markdown",
      "source": [
        "El array muestra las probabilidades que ha adivinado para cada una de las 10 categorías, siendo 1 la probilidad más alta y 0 la más baja."
      ],
      "metadata": {
        "id": "BR3EJxHK-fAU"
      }
    },
    {
      "cell_type": "code",
      "source": [
        "np.argmax(prediction1[5])"
      ],
      "metadata": {
        "id": "1NXwVsmW7y7x",
        "colab": {
          "base_uri": "https://localhost:8080/"
        },
        "outputId": "391f70d2-de6a-4394-8d1e-598b491d9db4"
      },
      "execution_count": 30,
      "outputs": [
        {
          "output_type": "execute_result",
          "data": {
            "text/plain": [
              "1"
            ]
          },
          "metadata": {},
          "execution_count": 30
        }
      ]
    },
    {
      "cell_type": "markdown",
      "source": [
        "Aquí ha acertado, la categoría 1 que corresponde con la test_imagen5."
      ],
      "metadata": {
        "id": "fbOg-MrtW_to"
      }
    },
    {
      "cell_type": "markdown",
      "source": [
        "**Caso 2**"
      ],
      "metadata": {
        "id": "FUybqBTrQ-rs"
      }
    },
    {
      "cell_type": "code",
      "source": [
        "prediction2 = model2.predict(test_images)"
      ],
      "metadata": {
        "colab": {
          "base_uri": "https://localhost:8080/"
        },
        "outputId": "c8f33225-9de5-49c8-c13c-8f0f1dc00666",
        "id": "VNjAUehJRFZV"
      },
      "execution_count": 31,
      "outputs": [
        {
          "output_type": "stream",
          "name": "stdout",
          "text": [
            "313/313 [==============================] - 1s 3ms/step\n"
          ]
        }
      ]
    },
    {
      "cell_type": "code",
      "source": [
        "prediction2[5]"
      ],
      "metadata": {
        "colab": {
          "base_uri": "https://localhost:8080/"
        },
        "outputId": "3563f8a3-172f-44d8-c282-1ca70176668d",
        "id": "rwOI1dNjRLHY"
      },
      "execution_count": 32,
      "outputs": [
        {
          "output_type": "execute_result",
          "data": {
            "text/plain": [
              "array([0., 1., 0., 0., 0., 0., 0., 0., 0., 0.], dtype=float32)"
            ]
          },
          "metadata": {},
          "execution_count": 32
        }
      ]
    },
    {
      "cell_type": "markdown",
      "source": [
        "Este array, al igual que el anterior, muestra las probabilidades que ha adivinado para cada una de las 10 categorías, siendo 1 la probilidad más alta y 0 la más baja."
      ],
      "metadata": {
        "id": "t2_zDzyeXOFT"
      }
    },
    {
      "cell_type": "code",
      "source": [
        "np.argmax(prediction2[5])"
      ],
      "metadata": {
        "colab": {
          "base_uri": "https://localhost:8080/"
        },
        "outputId": "d02663a6-9a96-4d59-9b50-a0b33461363f",
        "id": "2BeSIfadRPnn"
      },
      "execution_count": 33,
      "outputs": [
        {
          "output_type": "execute_result",
          "data": {
            "text/plain": [
              "1"
            ]
          },
          "metadata": {},
          "execution_count": 33
        }
      ]
    },
    {
      "cell_type": "markdown",
      "source": [
        "Aquí ha acertado, la categoría 1 que corresponde con la test_imagen5."
      ],
      "metadata": {
        "id": "nUL00dwaXXoI"
      }
    },
    {
      "cell_type": "markdown",
      "source": [
        "**Caso 3**"
      ],
      "metadata": {
        "id": "TITtwHXmQ-4H"
      }
    },
    {
      "cell_type": "code",
      "source": [
        "prediction3 = model3.predict(test_images)"
      ],
      "metadata": {
        "colab": {
          "base_uri": "https://localhost:8080/"
        },
        "outputId": "90a23282-2640-48f9-92ff-4287063ced5e",
        "id": "YXHZHgJqRFu3"
      },
      "execution_count": 34,
      "outputs": [
        {
          "output_type": "stream",
          "name": "stdout",
          "text": [
            "313/313 [==============================] - 1s 3ms/step\n"
          ]
        }
      ]
    },
    {
      "cell_type": "code",
      "source": [
        "prediction3[5]"
      ],
      "metadata": {
        "colab": {
          "base_uri": "https://localhost:8080/"
        },
        "outputId": "3a6f6f62-2035-470c-8e24-65bdca3211d9",
        "id": "-iA1Igr5RMFl"
      },
      "execution_count": 35,
      "outputs": [
        {
          "output_type": "execute_result",
          "data": {
            "text/plain": [
              "array([0., 1., 0., 0., 0., 0., 0., 0., 0., 0.], dtype=float32)"
            ]
          },
          "metadata": {},
          "execution_count": 35
        }
      ]
    },
    {
      "cell_type": "markdown",
      "source": [
        "Este array, al igual que el anterior, muestra las probabilidades que ha adivinado para cada una de las 10 categorías, siendo 1 la probilidad más alta y 0 la más baja."
      ],
      "metadata": {
        "id": "8NmUdQ8NXVXe"
      }
    },
    {
      "cell_type": "code",
      "source": [
        "np.argmax(prediction3[5])"
      ],
      "metadata": {
        "colab": {
          "base_uri": "https://localhost:8080/"
        },
        "outputId": "f0e92c0f-adfb-42b0-87d5-c0bda36436dd",
        "id": "jjzlyRpURQ3s"
      },
      "execution_count": 36,
      "outputs": [
        {
          "output_type": "execute_result",
          "data": {
            "text/plain": [
              "1"
            ]
          },
          "metadata": {},
          "execution_count": 36
        }
      ]
    },
    {
      "cell_type": "markdown",
      "source": [
        "Aquí ha acertado, la categoría 1 que corresponde con la test_imagen5."
      ],
      "metadata": {
        "id": "mEeT8YDGXbjm"
      }
    },
    {
      "cell_type": "markdown",
      "source": [
        "Aunque poseen precisiones diferentes en los modelos, parece que los 3 modelos predicen correctamente la clasificación de la imagen en cuestión. "
      ],
      "metadata": {
        "id": "RCexNV7r-TI4"
      }
    },
    {
      "cell_type": "markdown",
      "source": [
        "## Gráficas\n"
      ],
      "metadata": {
        "id": "i5Gv-pbYEFzc"
      }
    },
    {
      "cell_type": "markdown",
      "source": [
        "***7. Utilice el siguiente código para graficar cómo de bien o de mal se comporta el modelo para cada uno de los 3 casos con las 14 primeras imágenes del conjunto de test. Reflexione y comente las diferencias que observa.***"
      ],
      "metadata": {
        "id": "1L5cdhcqlzzi"
      }
    },
    {
      "cell_type": "markdown",
      "source": [
        "Incluimos las funciones necesarias en las siguientes líneas de código:"
      ],
      "metadata": {
        "id": "XEwZ4FUrc80N"
      }
    },
    {
      "cell_type": "code",
      "source": [
        "# PRIMERA FUNCIÓN:\n",
        "def plot_image(i, predictions_array, true_label, img):\n",
        "  predictions_array, true_label, img = predictions_array, true_label[i], img[i]\n",
        "  plt.grid(False)\n",
        "  plt.xticks([])\n",
        "  plt.yticks([])\n",
        "\n",
        "  plt.imshow(img, cmap=plt.cm.binary)    \n",
        "\n",
        "  predicted_label = np.argmax(predictions_array)\n",
        "  if predicted_label == true_label:\n",
        "    color = 'blue'\n",
        "  else:\n",
        "    color = 'red'\n",
        "\n",
        "  plt.xlabel(\"{} {:2.0f}% ({})\".format(nombres[predicted_label],\n",
        "                                100*np.max(predictions_array),\n",
        "                                nombres[true_label]),\n",
        "                                color=color)\n",
        "\n",
        "# SEGUNDA FUNCIÓN:\n",
        "def plot_value_array(i, predictions_array, true_label):\n",
        "  predictions_array, true_label = predictions_array, true_label[i]\n",
        "  plt.grid(False)\n",
        "  plt.xticks(range(10))\n",
        "  plt.yticks([])\n",
        "  thisplot = plt.bar(range(10), predictions_array, color=\"#00FF00\")\n",
        "  plt.ylim([0, 1])\n",
        "  predicted_label = np.argmax(predictions_array)\n",
        "\n",
        "  thisplot[predicted_label].set_color('red')\n",
        "  thisplot[true_label].set_color('black')"
      ],
      "metadata": {
        "id": "8gmO2DFpFAFN"
      },
      "execution_count": 37,
      "outputs": []
    },
    {
      "cell_type": "markdown",
      "source": [
        "De esta manera, a continuación se expondrán los pares de imágenes-gráficas de las primeras 14 imágenes del conjunto de test.\n",
        "\n",
        "Los modelos calculan la probabilidad con la que una imagen se corresponde a una determinada clasificación, como ya hemos visto en las predicciones de la quinta imagen. Por consiguiente, puede que prediga perfectamente bien (100% probabilidad) una etiqueta; o, por el contrario, pueden aparecer otras probabilidades de posibles etiquetas (80%; 20%; 10%; 10%; por ejemplo).\n",
        "\n",
        "Esta idea se representará con ayuda de distintos colores que se verán en las gráficas:\n",
        "- verde = valores menores del las otras prediciones.\n",
        "- rojo = el valor interpretado por el modelo.\n",
        "- negro = el valor de la categoría real."
      ],
      "metadata": {
        "id": "fjGtGrahCQal"
      }
    },
    {
      "cell_type": "markdown",
      "source": [
        "**Caso 1**"
      ],
      "metadata": {
        "id": "AhuWMSYKFC6S"
      }
    },
    {
      "cell_type": "code",
      "source": [
        "for i in range(13):\n",
        "  plt.figure(figsize=(6,3))\n",
        "  plt.subplot(1,2,1)\n",
        "  plot_image(i, prediction1[i], test_labels, test_images)\n",
        "  plt.subplot(1,2,2)\n",
        "  plot_value_array(i, prediction1[i],  test_labels)\n",
        "  plt.show()\n",
        "  plt.clf()"
      ],
      "metadata": {
        "colab": {
          "base_uri": "https://localhost:8080/",
          "height": 1000
        },
        "id": "i2iTpjCVSdGf",
        "outputId": "b7a1268c-98e0-4b0c-a0e9-14a74f783aa7"
      },
      "execution_count": 38,
      "outputs": [
        {
          "output_type": "display_data",
          "data": {
            "text/plain": [
              "<Figure size 432x216 with 2 Axes>"
            ],
            "image/png": "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\n"
          },
          "metadata": {
            "needs_background": "light"
          }
        },
        {
          "output_type": "display_data",
          "data": {
            "text/plain": [
              "<Figure size 432x288 with 0 Axes>"
            ]
          },
          "metadata": {}
        },
        {
          "output_type": "display_data",
          "data": {
            "text/plain": [
              "<Figure size 432x216 with 2 Axes>"
            ],
            "image/png": "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\n"
          },
          "metadata": {
            "needs_background": "light"
          }
        },
        {
          "output_type": "display_data",
          "data": {
            "text/plain": [
              "<Figure size 432x288 with 0 Axes>"
            ]
          },
          "metadata": {}
        },
        {
          "output_type": "display_data",
          "data": {
            "text/plain": [
              "<Figure size 432x216 with 2 Axes>"
            ],
            "image/png": "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\n"
          },
          "metadata": {
            "needs_background": "light"
          }
        },
        {
          "output_type": "display_data",
          "data": {
            "text/plain": [
              "<Figure size 432x288 with 0 Axes>"
            ]
          },
          "metadata": {}
        },
        {
          "output_type": "display_data",
          "data": {
            "text/plain": [
              "<Figure size 432x216 with 2 Axes>"
            ],
            "image/png": "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\n"
          },
          "metadata": {
            "needs_background": "light"
          }
        },
        {
          "output_type": "display_data",
          "data": {
            "text/plain": [
              "<Figure size 432x288 with 0 Axes>"
            ]
          },
          "metadata": {}
        },
        {
          "output_type": "display_data",
          "data": {
            "text/plain": [
              "<Figure size 432x216 with 2 Axes>"
            ],
            "image/png": "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\n"
          },
          "metadata": {
            "needs_background": "light"
          }
        },
        {
          "output_type": "display_data",
          "data": {
            "text/plain": [
              "<Figure size 432x288 with 0 Axes>"
            ]
          },
          "metadata": {}
        },
        {
          "output_type": "display_data",
          "data": {
            "text/plain": [
              "<Figure size 432x216 with 2 Axes>"
            ],
            "image/png": "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\n"
          },
          "metadata": {
            "needs_background": "light"
          }
        },
        {
          "output_type": "display_data",
          "data": {
            "text/plain": [
              "<Figure size 432x288 with 0 Axes>"
            ]
          },
          "metadata": {}
        },
        {
          "output_type": "display_data",
          "data": {
            "text/plain": [
              "<Figure size 432x216 with 2 Axes>"
            ],
            "image/png": "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\n"
          },
          "metadata": {
            "needs_background": "light"
          }
        },
        {
          "output_type": "display_data",
          "data": {
            "text/plain": [
              "<Figure size 432x288 with 0 Axes>"
            ]
          },
          "metadata": {}
        },
        {
          "output_type": "display_data",
          "data": {
            "text/plain": [
              "<Figure size 432x216 with 2 Axes>"
            ],
            "image/png": "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\n"
          },
          "metadata": {
            "needs_background": "light"
          }
        },
        {
          "output_type": "display_data",
          "data": {
            "text/plain": [
              "<Figure size 432x288 with 0 Axes>"
            ]
          },
          "metadata": {}
        },
        {
          "output_type": "display_data",
          "data": {
            "text/plain": [
              "<Figure size 432x216 with 2 Axes>"
            ],
            "image/png": "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\n"
          },
          "metadata": {
            "needs_background": "light"
          }
        },
        {
          "output_type": "display_data",
          "data": {
            "text/plain": [
              "<Figure size 432x288 with 0 Axes>"
            ]
          },
          "metadata": {}
        },
        {
          "output_type": "display_data",
          "data": {
            "text/plain": [
              "<Figure size 432x216 with 2 Axes>"
            ],
            "image/png": "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\n"
          },
          "metadata": {
            "needs_background": "light"
          }
        },
        {
          "output_type": "display_data",
          "data": {
            "text/plain": [
              "<Figure size 432x288 with 0 Axes>"
            ]
          },
          "metadata": {}
        },
        {
          "output_type": "display_data",
          "data": {
            "text/plain": [
              "<Figure size 432x216 with 2 Axes>"
            ],
            "image/png": "iVBORw0KGgoAAAANSUhEUgAAAWAAAADCCAYAAAB3whgdAAAABHNCSVQICAgIfAhkiAAAAAlwSFlzAAALEgAACxIB0t1+/AAAADh0RVh0U29mdHdhcmUAbWF0cGxvdGxpYiB2ZXJzaW9uMy4yLjIsIGh0dHA6Ly9tYXRwbG90bGliLm9yZy+WH4yJAAAUWElEQVR4nO3de5BfdXnH8fdD7ruJubCbS8Gy4daAmSAmjTFBBC+pVgarM452KIyoFbyUi51hrNo6tVMaxuroHwVUYqsjCBSwQ5VBioh0Otyy4ZLLxhhCILclWUJCbmRzefrHOeia83yz55dk+f42+bxmdth99vn+zjm/sM9+93wvx9wdERF5452Q+wRERI5XKsAiIpmoAIuIZKICLCKSiQqwiEgmKsAiIpkMzX0CIrm1tbV5R0dH7tOQY1RnZ2ePu7dH31MBluNeR0cHixYtyn0acowysxdS39MtCBGRTFSARUQyUQEWEcmkoXvAx9tgxdq1a8P47t27K7EJEyZUYgcOHAjbm1kl9sorr4S5kyZNqsTGjh0b5g52a9asoaenp/rmiByjGirAx9tgxdVXXx3GlyxZUoldeumlldiOHTvC9kOHVt/2e+65p/Y5XHTRRWFuI6JfDieckPcPolmzZmU9vsgbTbcgREQyUQEWEcnkuJsH/PDDD4fxG2+8sRIbMWJEmLtly5ZK7KqrrqrEhgwZErZvaWmpxObMmRPm3nnnnZXYvffeG+YuWLCgEovuTUP+2w0ioh6wiEg2KsAiIpmoAIuIZKICLCKSiQqwiEgmx8QsiN/85jdh/IYbbqjEVq5cGebOmDGjEuvq6gpzR40aVYm1tbVVYj09PWH76dOnV2KplXDRoo3U7IxrrrmmEjv99NPD3CuvvLISmzhxYpgrx7bJkyfz0ksv1cqdNGkS3d3dA3xGxw/1gEWOc3WLb6O50j8VYBGRTFSARUQyUQEWEcmkKQbh9u/fX4mllvHedNNNldhjjz0W5ra2tlZis2fPDnNHjx5dib322mth7ooVKyqxaGAuNagVXe+TTz4Z5n7qU5+qxMaPHx/mvvrqq5XYxo0bw9wrrriiErv55pvD3GhLzNRWm1riLFKfflpERDJRARYRyUQFWEQkExVgEZFMVIBFRDJpilkQqRkPkeh5bJMnT679utHSXoiXAl988cVh7vLlyyuxaLbBN7/5zbD917/+9Ups/vz5YW50DanZGdFG729605vC3GgWw2233RbmXnvttZWYZjuIHDn9FImIZKICLCKSiQqwiEgmKsAiIpk0xSBcJLU/bjQA1d7eXvs19u3bF+aOGTOmEtu8eXOYe8EFF1Ri0TZ90RONAaZOnVqJTZs2LczduXNnJdbb2xvm7t27txKLlkhDPHC5bt26MLeRpeIiUp96wCIimagAi4hkogIsIpKJCrCISCYqwCIimTTtLIjnn3++dm5qae6ePXsqsdTofbQh+4svvhjmRhufT5kypRKLZjsA4VNl16xZE+ZGszOiDdIBzKwSi2YwAGzfvr0SS72P27Ztq8QmTJgQ5opIfeoBi4hkogIsIpKJCrCISCYqwCIimTTtINz69evDeDRQFA1qQbzcNhpAA+jq6qrEtm7dGuZGe/9GS35T7Z966qlKrK2tLcyNliivXbs2zI0G3Hbs2BHmpvZQjkRPgZ47d27t9iISUw9YRCQTFWARkUxUgEVEMlEBFhHJRAVYRCSTQTcLYsSIEZVYtGk5xJuvn3jiiWHuCy+8UImlNoUfOXJkrfOaOHFi2P6ss86qxIYNG1b7WKklw2eeeWYl9uCDD4a50dLr1EyMZcuWVWKaBSFy5NQDFhHJRAVYRCQTFWARkUxUgEVEMmnaQbjUQFO0tHbVqlVh7u7duyuxjo6OMDcanEsNjL388suVWDRgt2vXrrB9tBfvqaeeGuZG55Da0zjat/fRRx8Nc6dPn16JzZ8/P8xNvb8icmTUAxYRyUQFWEQkExVgEZFMVIBFRDJRARYRyaRpZ0GkNk6Plh2nNh2Pnkqcyj3ttNMqsWh5McATTzxRiW3evLkSO/vss8P20Tns3bs3zI1mcrS0tIS50fUuXLgwzP3KV75SiaVmbaSWeovIkVEPWEQkExVgEZFMVIBFRDJRARYRyaRpB+HWrFkTxqOBsdTS3EsuuaQSW7BgQZgbLfk94YT491M0QBgtT960aVPY/plnnqnEZsyYEeYOHz68Eov2OYZ4iXNq6XU0kJcaoHT3MC4iR0Y9YBGRTFSARUQyUQEWEclEBVhEJBMVYBGRTJp2FsTGjRvDePTk3q1bt4a50TLeM844I8yNZhasWLEizO3t7a3Exo4dW4mlZnJs2LChEps3b16YG71u9ARngDFjxlRiq1evDnOjGRPRE5ghnh2RWracWiYtIlXqAYuIZKICLCKSiQqwiEgmKsAiIpk0xSBcNKgVxSBeHpwa+GlkuW00kHfKKafUzo2WHaeOde6551ZijTwFOnVe0RLp0aNHh7kTJkyoxHp6esLcyZMnV2Ld3d1hburpziJSpR6wiEgmKsAiIpmoAIuIZKICLCKSSVMMwq1ataoSSz0QM3p45bZt28LcKVOmVGJDh8aXHK2EGzVqVJgbHS/aD/jCCy8M269cubISSw2ARVKDjtG+yKm9g6NVc1EM4muLVtKJSGPUAxYRyUQFWEQkExVgEZFMVIBFRDJRARYRyaQpZkFES3sbmQWReqJwtIR23bp1YW60ZLeRZctmVuv4AL/97W8rsei6IH4icbTkGOIZD+3t7WFutKQ72j8Z4vcmNfNEROpTD1hEJBMVYBGRTFSARUQyUQEWEcmkKQbhor10U0too+XBqcGuaGArte/upEmTKrE9e/aEudFy5qj9Qw89FLZfvnx5JZbaR3f8+PGVWOoaovcmWp4MMHz48EosGkiE+H1MDdiJSH3qAYuIZKICLCKSiQqwiEgmKsAiIpmoAIuIZNIUsyCizchTm4NHI/JTp04Nc7u6uiqx1PLiaMZDanbF2rVrK7FoVkD05GGIZyu0trbWzk3NEEkt345E72OqfbQcOjUTQ0TqUw9YRCQTFWARkUxUgEVEMlEBFhHJpCkG4aIBrJEjR9bObWtrC3OjJc5jx44Nc6M9b6N9fyFeirxz585KLDWIt2XLlkosNajV3d1diY0bNy7MbeRJxdFAXmpwL7re3t7e2scSkZh6wCIimagAi4hkogIsIpKJCrCISCYqwCIimTTFLIhI6inBjYzeL1u2rBKLngaciqdmQUQbl0cbp6euYdiwYZVYtOQY4uXBqU3Wo5kJ0SwKSG8AH4lmQezatat2exGJqQcsIpKJCrCISCYqwCIimagAi4hk0hSDcNGgVjRQBfGS4WjfX4C5c+dWYtOmTQtzo8Gq1GDX5s2bK7FooGr//v1h+yieGrDbtm1bJRbtzwvxk44PHDgQ5kbHS11vtCw8NfApIvWpBywikokKsIhIJirAIiKZqACLiGSiAiwikklTzIKIRvWjWQUQz5hIPX34s5/9bCW2evXqMHfx4sWVWHt7e5i7ZMmSSmz58uW1zyuaBZHavD2aDbJhw4Yw97LLLqvE5syZE+ZGsyui60pJLekWkfr0UyQikokKsIhIJirAIiKZqACLiGTSFINw0cBaSjSAdd5559Vun9oHt5H9cd/1rnfVykstA96zZ08lltoPeKBEA4yN/Dukrk1E6lMPWEQkExVgEZFMVIBFRDJRARYRyUQFWEQkk6aYBRE9+beREfnU5u2R1Cbp0WbkqY3P655barnuQM14iM43da5jxoypxFIbskczHqInMItIY9QDFhHJRAVYRCQTFWARkUxUgEVEMmmKQbienp5KLPWU4GigKLV38JFKDWA1Mtj1RooGy1IDa9EgXLREOpXbyMCniMTUAxYRyUQFWEQkExVgEZFMVIBFRDJRARYRyaQpZkFEy4NTo+z79u2rxKZMmXLUz+lQjnTGQyOzKBrJbWQWRLQcOjXzJHrPo5kRItIY9YBFRDJRARYRyUQFWEQkExVgEZFMmmIQLto3d/v27WHu1q1bK7HUHr+R1NN8U4NVA6GRQbyBWuIcLd9OvY/RgGhra+tRPyeR4416wCIimagAi4hkogIsIpKJCrCISCYqwCIimTTFLIjLL7+8Euvs7Axzo1kQM2fOrH2sgdq8vRmknsIciZZvp5Z0R+/ZuHHj6p+Y1GY0NuvFiZ/cLYODesAiIpmoAIuIZKICLCKSiQqwiEgmFu03m0w22wy8MHCnI8e5U9y9/Y0+6KxZs3zRokVv9GFDOQbhGl3u3kjNEDCzTnefFX2voSkBOX44RESOVcfunCwRaUqN9PKP9Wl2ugcsIpKJCrCISCaDugCbMdmM2814zoxOM+4z48zDeJ1xZnzuEN+/2oylZiwz45o+8Y+WsQNmzOoTn2fGs2YsMuOMPsd4wCz9nptxlxmnlp+PNuO7fa7tYTPe3ui1la/15T6fDzfjETPdfhLJbdD+EFpxI+mnwA/d+XgZOweYBKxs8OXGAZ8DbgyOMx34a2A20Avcb8bP3FkFLAU+Anz3oGZ/C/w50AFcWX79VeB6d8Id4c14CzDEndVl6BbgeeAMdw6YMRU4u8Hret2XgesB3Ok145fAx4BbD/P1jimdnZ09Ztbo7J42oOcwDndU29W4n3rUz7OfWROHe7ywbc37xU3xb3EIpyS/4+6D8gP83eCPJL5n4N8AXwq+BPxjZXw0+C/BF5fxD5Xx28F3gz8N/o2DXuuj4Av7fP334NcdlPMw+Kw+X98Bfib4fPAF4KeB39HP9VwP/ony89PAnwcfksj9YnltS8Gv6RP/L/BO8GXgnyljC8D3l9d2axk7B/y+3P+Gg/kDWKR2R6/dYDrXI7nGgz8GbQ8YmA7EO/YUvdK3AudQ/LZ60oxHgM3Ah9151Yw24DEz7gW+BEx3563Bay0F/tmME4HdFD3b/iaN/gvwozL/UuBfKXrAhzIP+En5+VuAp92pPCPIjJnA5cDbAQMeN+PX7jwFfNKdLWaMKq/5bne+ZMYXDrq2pcCf9nM+IjLABvU94EM4D/iJO/vdeQn4NUXBMeB6M54FHgROorhlkeROF3AD8ABwP/A0VAvjQW2edmeOOxcCpwIbKf5yu8OMH5uFx5xC8QuizrX91J2d7uwA7gHeWX7vKjOeAR4D3gzF/efg/PYDvWaMqXE8ERkgg7kALwPq70NZuARoB2aWPcKXgJH9NXJnoTsz3TkfeIWa95jL+9RfBf4J+BpwHfB94KogfXefc1kGnGNG7SeFmnEB8F7gHe6cAzzFoa9tBPBa3deXiu+p3VFtl+OYOa7xDwzmAvwQMMKMz7weMGOGGe8E/hf4mBlDzGgHzgeeAMYCm9zZa8aF/P7m+HZI9wbNmFj+948pbm/cVvMcLwPuc2cL0AIcKD9agtwu4HQAd56juM3xj2URx4wOMz5YXttfmNFiRivw4TI2FnjFnV1mTAPm9HntvWb87tHG5e2UHnf21rwOOYi7H9YPodo1zzFzXOPBBm0Bdscpis97y6layyjuvXZTzI54FniGolBf5043xaj/LDOWUBTHFeVrvQz8XznV7BvB4e42Yznw38Dn3dkKYMaHzVgHvAP4uRm/eL2BGS3AJ4B/K0PfAu4Dvg3cHBzj58AFfb7+NMXtkVVmLAX+g+KXx+Ly8yeAx4Fbyvu/9wNDzegCFlDchnjd94BnzX436+HC8ngiklFDm/HIwCkHzn4FzIsG347yse4BvuTe8HS9456ZvR/4DjAEuMXdF9Rs9wPgImCTu09v4HhvphjQnQQ48D13/06NdiOBRyhuNQ0F7nL3rzVw3CEUf4Wtd/eLarZZQ/HX5H5gnyc2oAnajaOYdjmd4ho/6e6P9tPmT4A7+oROBf7B3b9d43jXUnRwHFgCXO7u/d6OM7OrKaakGvD9Osfq19GaTqGPI/8A/zPwPx7gYwwHvyz3tQ7GD4qi+xzFD/twir+wzq7Z9nzgbcDSBo85BXhb+fkYivGHfo9ZFonR5efDKP5amtPAcb9IcavtZw20WQO0Hcb7+kPg0+Xnw4Fxh/Hv0k2xm15/uSdRzK8fVX59J/CJGu2mU8weaqH4hfYgcPqR/j81aG9BHIvc+YU7Lw7wMXrd+dFAHuMYNhtY5e6r3b0XuB34UJ2G7v4IsKXRA7r7RndfXH6+nWKs4KQa7dzdd5RfDis/av25a2YnAx+k6JUOKDMbS/HLaSGAu/e6e/XBj4f2HuA5d6+7mGYoMMrMhlIU1A012pwFPO7uu9x9H8XMqo80eJ4VKsAi9Z0ErO3z9TpqFMOjxcw6gHMperN18oeY2dPAJuB/3L1WO4pxiusgXrV5CA48YGadZvaZfrMLUymmX/67mT1lZreYWWuDx/04v59Df+gTdF9PMS//RYrpodvc/YEaTZcC7zSzE82shWI9wJsbPM8KFWCRQcDMRgN3A9e4+6t12rj7fnd/K3AyMNvM+r33bGav36dOLXI6lPPc/W3AB4DPm9n5NdoMpbg1c5O7nwvspFgYVYuZDQcuBv6zZv54ir9apgJ/BLSa2V/1187dG14PUIcKsEh96/nDXs/JZWxAmdkwiuJ7q7vf02j78k/6XwHvr5E+D7i4HFC7HXi3mf245nHWl//dRDETaXaNZuuAdX1653dRFOS6PgAsdveXaua/F3je3Te7+16KhUxz6zR094XuPtPdG1oPcCgqwCL1PQmcYWZTy57Xx4F7B/KAVux8sxDocvdvNdCuvZxdgJmNAt5HOe3yUNz979z9ZHfvoLi+h9y93x6imbWa2ZjXPwfmU/zZ3t/xuoG15awGKO7nLu+vXR9/Sc3bD6UXgTlm1lK+t++huK/eLzMr1wNYo+sBkgbzXhAibyh332dmXwB+QTHy/gN3X1anrZn9hGKed5uZrQO+5u4LazSdR7GfyJLyfi7Al939vn7aTQF+WE4nOwG4091/VudcD9Mk4KflTmlDgdvc/f6abf8GuLX8pbaaYq+TfpWF/n3AFXVP0t0fN7O7gMXAPooVo3UXVtxtZicCe4HPH8ZgYYXmAYuIZKJbECIimagAi4hkogIsIpKJCrCISCYqwCIimagAi4hkogIsIpKJCrCISCb/D7NEL6okt8MAAAAAAElFTkSuQmCC\n"
          },
          "metadata": {
            "needs_background": "light"
          }
        },
        {
          "output_type": "display_data",
          "data": {
            "text/plain": [
              "<Figure size 432x288 with 0 Axes>"
            ]
          },
          "metadata": {}
        },
        {
          "output_type": "display_data",
          "data": {
            "text/plain": [
              "<Figure size 432x216 with 2 Axes>"
            ],
            "image/png": "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\n"
          },
          "metadata": {
            "needs_background": "light"
          }
        },
        {
          "output_type": "display_data",
          "data": {
            "text/plain": [
              "<Figure size 432x288 with 0 Axes>"
            ]
          },
          "metadata": {}
        },
        {
          "output_type": "display_data",
          "data": {
            "text/plain": [
              "<Figure size 432x216 with 2 Axes>"
            ],
            "image/png": "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\n"
          },
          "metadata": {
            "needs_background": "light"
          }
        },
        {
          "output_type": "display_data",
          "data": {
            "text/plain": [
              "<Figure size 432x288 with 0 Axes>"
            ]
          },
          "metadata": {}
        }
      ]
    },
    {
      "cell_type": "markdown",
      "source": [
        "En el caso 1 hay un caso erróneo, el Sneaker y encontramos una mayor cantidad de franjas verdes por lo que el modelo duda de su respuesta y da la opción de que la respuesta sea otra."
      ],
      "metadata": {
        "id": "hR-k3sBUYBq-"
      }
    },
    {
      "cell_type": "markdown",
      "source": [
        "**Caso 2**"
      ],
      "metadata": {
        "id": "bNZlSty6STn6"
      }
    },
    {
      "cell_type": "code",
      "source": [
        "for i in range(13):\n",
        "  plt.figure(figsize=(6,3))\n",
        "  plt.subplot(1,2,1)\n",
        "  plot_image(i, prediction2[i], test_labels, test_images)\n",
        "  plt.subplot(1,2,2)\n",
        "  plot_value_array(i, prediction2[i],  test_labels)\n",
        "  plt.show()\n",
        "  plt.clf()"
      ],
      "metadata": {
        "id": "f66IZ1aBStrL",
        "colab": {
          "base_uri": "https://localhost:8080/",
          "height": 1000
        },
        "outputId": "c9d7eefb-ead8-4f66-a731-ff1aef523c7a"
      },
      "execution_count": 39,
      "outputs": [
        {
          "output_type": "display_data",
          "data": {
            "text/plain": [
              "<Figure size 432x216 with 2 Axes>"
            ],
            "image/png": "iVBORw0KGgoAAAANSUhEUgAAAWAAAADCCAYAAAB3whgdAAAABHNCSVQICAgIfAhkiAAAAAlwSFlzAAALEgAACxIB0t1+/AAAADh0RVh0U29mdHdhcmUAbWF0cGxvdGxpYiB2ZXJzaW9uMy4yLjIsIGh0dHA6Ly9tYXRwbG90bGliLm9yZy+WH4yJAAAS0UlEQVR4nO3debRdVX3A8e+PBMgIZGAGCdVQHMAwmGVFWFTQCrpQrC2idRWttmthnboUbP9Aa1dt1dahSy1FwZFBG8MSbWVSZCZCEEiYqyRIgEBAEmZI+PWPc4Iv7+7zcm/eCxuS72ett3Lv7+59zz4nye/tu4dzIzORJD33tqjdAEnaXJmAJakSE7AkVWIClqRKTMCSVIkJWJIqGV+7AVJtM2fOzFmzZtVuhjZRCxcuXJGZ25deMwFrszdr1iyuueaa2s3QJioilna95hCEJFViApakSkzAklTJQGPATlZoY1qyZAkrVqyI2u2QnisDJWAnK7QxHXjggbWbID2nHIKQpEpMwJJUiQlYkioxAUtSJSZgSarEBCxJlZiAJakSE7AkVWIClqRKTMCSVIkJWJIqMQFLUiUmYEmqxAQsSZWYgCWpEhOwJFViApakSkzAklSJCViSKjEBS1IlJmBJqsQELEmVmIAlqRITsCRVYgKWpEpMwJJUiQlYkioxAUtSwU477URE9P2z0047DXwME7AkFSxfvnyjlgcTsCRVYwKWpEpMwJJUiQlYkioxAUtSJSZgSapkfO0GaOysWbOmJ7bFFuXfsRHR9/s++eSTPbGtt966WPb222/vic2ePbvvY0mbE3vAklSJCViSKjEBS1IlJmBJqsQELEmVuApijGRmXzEor0xYtmxZseyVV17ZEzviiCOKZSdPnjxSEzdY14qHkvnz5/fETjzxxLFsjrTJsAcsSZWYgCWpEhOwJFViApakSpyE24i6tgGXXHrppcX4ggULemJ33313seyHPvShvo83iPvuu68ndt555xXLTp06daO0QdoU2QOWpEpMwJJUiQlYkioxAUtSJSZgSarEVRBjpHQz9PHjy5f36quv7ondfPPNxbI77rhjT6x003OAo48+uic2bdq0YtknnniiJ7bHHnsUyz7wwAM9sVWrVhXL7rrrrsW4pF72gCWpEhOwJFViApakSkzAklSJk3Ab4JlnnumJlSbcHn300WL9efPm9cS67rlbmix7+OGHi2UHuSdxKX7jjTcWy+622249sa7JvdJkpKQye8CSVIkJWJIqMQFLUiUmYEmqxAQsSZW84FZBlGbvI6JYtrRaoatsKd41oz9u3LiRmvisk08+uRgvbS+eMGFCsezSpUt7YqWVEV3vu3r16mLZ0vl2fatyaYXGypUri2WffPLJnljXapCN9S3O0guFPWBJqsQELEmVmIAlqRITsCRV8ryYhBtkYq0rXjLItxKXJtz6nWwDOPPMM3ti9957b7Hsfvvt1xPrmix76KGHemLTp08vlp0xY0ZPbMWKFcWyjzzySN9tKOna4vzYY4/1xLruXzxnzpy+jydtiuwBS1IlJmBJqsQELEmVmIAlqZLnxSTcIBNrpd1tpRiUJ9G6jjXIhNtpp53WE7vtttt6YrvvvnuxfulLLrsmtR5//PGeWNcXX5buE9x1vpMmTeqJde2wG2SStOS8884rxp2E0+bOHrAkVWIClqRKTMCSVIkJWJIqMQFLUiUbbRVE18qEktKMeteqgNL24kG2HHe5++67e2Lz588vli2tTJg9e3ZPrLTdF8r3zC2tjADYcsste2JdKxBK24C7lK5Z1zczl8p23cu31LbLL7+873ZJmxN7wJJUiQlYkioxAUtSJSZgSapk4Em44ffN7drCO9qJsUG2ut5///3F+JIlS3pit956a7HsPffc0xPbaqutimW32Wabnljpvr2rVq0q1n/66ad7YqWJOShf39J5Qfl+vtttt12xbOncur6EtDQhOnHixGLZ0ntMmTKlWHbx4sXrPC9NbkqbMnvAklSJCViSKjEBS1IlJmBJqsQELEmVDLwKot8bly9fvrwntnTp0mLZRx99tK8YlGfK77jjjmLZ0tbc8ePLpzx16tSeWNd26pUrV/bVrq5jldrVtaqgtD34qaeeKpbdeeede2JdKzFKbZg2bVqxbGlL9YMPPlgsW1rx0PXt0MPfo2sVhrSpsgcsSZWYgCWpEhOwJFViApakSkZ9P+ALL7ywGC/dX7drUqq0lbhrQqY0CTjIxFrXPXpLE0Vd9yQubRsuTWB1TeKV2tB1vqX77nZt7S1tO+7apj2I0rl1bTUvTUZ2TRp2/b1Jmwt7wJJUiQlYkioxAUtSJSZgSarEBCxJlQw0Db1q1SrOP//8dWKnnnpqsezee+/dEyttlYXBtgGP9kbipWNBeaa+a6b/4Ycf7utYXTcYL91svuscSqszStu8AW666aaeWNcKhEG2/ZZWXXRtFZ8wYUJf9QF22GGHdZ6XvgFa2pTZA5akSkzAklSJCViSKjEBS1IlA03CTZ48mblz564Tu+qqq4plFy1a1BO77LLL+j5W14RMaRJt+vTpxbKl+LbbblssW5qs6tqK/MADD/TESt+2XLrnLpTv0dv1LdDXX399T2zfffctlp01a1ZP7IILLiiWLW2nHuSbrLu2Ee+yyy49sdK3SEPvZKb3A9bmxh6wJFViApakSkzAklSJCViSKjEBS1IlA62CGDduXM9Nv0866aS+63fdDH3BggU9sdKqAoArrriiJ7ZkyZJi2RtuuKEn1rWFtrTioWtlQmm1QGnFxT777FOsf/jhh/fEjjzyyGLZ0tbeQRx11FHF+J133tkTmzFjRrFsaRVD15bu0uqI0jc7A+y1117rPB/tuUovNPaAJakSE7AkVWIClqRKTMCSVMlz+rW0XfeFPeyww/qKARx//PFj2qZN3TnnnFO7CX0bZCu0tCnwX7wkVWIClqRKTMCSVIkJWJIqMQFLUiUmYEmqxAQsSZWYgCWpEhOwJFViApakSkzAklSJCViSKjEBS1IlJmBJqsQELEmVPKf3A5akDRWUvyS3JOn9kt3nI3vAklSJCViSKjEBS1IlJmBJqsQELEmVmIAlqRITsCRVYgKWpEpMwJJUiQlYkioxAUtSJSZgSarEm/FI2iCb4s1xnmv2gCWpEhOwJFViApakSgYaA164cOGKiFi6sRqjzd4etRsgPZcGSsCZuf3GaogkbW4cgpCkSkzAklSJ64AlbdKez+uVx6QHHMFbI8gI9u6z/JIIZhbijwx43IHKj/A+x0WwS8dr34/guvZnSQTXtfGtIvhmBIsiuD6CQ9v41hGcG8HiCI4f8j6nRLD/CG14awQnDYtdF8FZA5zDVwrxT0XwsX7eY0PKj/A+syJ455Dn+0TwrdG+r7QpGase8LHAZe2fnxyj93wuHQcsBu4e/kImx6x9HMG/Ayvbp+9vX98ngh2An0bwKuBPaK7FZ4DLga9F8EpgXCbXjtCGE4CjhhzrpcA44OAIJmfy6IafXhWzgHcCZwBksiiC3SJ4USZ3Vm3ZMBu4umcmsGIDDrdZ1uuzFzpmx9zQ4422nRHF+t2rezJzVD+QUyCXQe4FeeuQ+KGQv4CcB3kL5OmQ0b62BHIm5ETIn0K+v40/MqT+xyGvhrwB8h87jv0I5Bchb4T8GeT2bXwO5FVt3bMhp3XFId/evs+tkNdBTuw4VkD+FnJ2+/yrkO8e8vrPIOdCHgH5GcitIa9qXzsHcpcRruFekBcNi30a8gTIb0K+c0j8F5Cfhfwl5G2QB7fx4yC/0j5+E+SV7TX+FOTH2viLIc+FXAh5KeTehbZ8CvK7bf3bh/zdBOTnIRdDLoI8Zj3xqyBXttf0o23sw5AnjPbf3PPhB7jGemNX74XU1tGc4/CfsRiCeAtwbia3AQ9EcMCQ1/YDPgK8DPgD4KAhr00BfgycmcnXh75hBG8AZgNzgTnAAREcUjj25OZi8HLgYn7f+/4OcGIm+wKLRopnMg+4BnhXJnMyebzjPA8Glmdye/v8euCoCMZHsCdwALA7cAFN7+8q4D8iOAq4NrO3dz3EQdDTOz4GOAs4k+aTxVDjM5lLc23X+cQRwdHAJ4AjM3t+S58CfDCTA4CPAV/raM++wOuAPwJOaodn3kbzd/FK4HDg8xHsPEL8E8Cl7TX9Yvu+19BcR0mMzRDEscCX28dntc8Xts9/mcld0Ixn0iSmy9rXfgR8LpPTC+/5hvbnV+3zKTQJ+ZJh5Z4Bvt8+/h4wP4Jtge0yubiNfxv47674gOd55pDnpwEvpUkqS4ErgDWZrKb56E0EWwLnAW+J4AvAi4DvZHLOsPfeGbh/7ZMIDgRWZHJnBMuA0yKYnsmDbZH57Z8Laa7pWq8DDgTekMmqoQeIYArwmvZarLV1x7n+qP1F9HgEF9H8InwtzS/LNcDyCC4GXjVCfFXhfe+D8li7tDkaVQKOYDrNf/p9IkiaMcuM4ONtkSeHFF8z7HiXA2+M4IzMnqnHAP4lk/8asEkbZQozgvE0Pb1ne/dtov3okDJXALcNq3o8Ta/71TRjx8cAP4eeBPw4sO2Q58cCe0ewpH2+DfCn8OwnhbXXdfg1/TXNJ429aH4xDLUF8FAmc7rP9FnDr+NYXdcJ0PkJ44XmFOuNab0ax6xxjusY7RDE24HvZrJHJrMy2R24g/4+Zp4E/A74auG184D3tr02Iti1negabou2DdD0Oi/LZCXwu4hn2/Bu4OKuePv4YWDqCG09HLhlbW++bdOkCCa3j18PrM7kpiGvTwPeTJOAJ9H01hOYWHj/m4GXtPW2AP4c2Ke9prNohnmGD0OULKVJ1N+J4OVDX2h7xHdE8GftcaKdHCx5SwQTIpgBHApcDVwKHBPBuAi2Bw4BfjlCvHRN96KZ7HzBy8wN+k9ovefPMWuc43CjTcDHAmcPi/2Q/pIFwIeBiRF8bmgwk/NpZs+vjGARMI9ygnwUmBvBYpqe+Kfb+F/SjEXeQDM+ub74t4CT22VfpQT5DtYdfgDYAbg2gpuBE2kS+lAnAf+cyTM0v1AOphl3/m7h/S8B9otmCvZgYNmwMeNLgJe1Y6sjyuQW4F00Qw0vHvbyu4C/iuB64EaaxF5yA3ARzTj2P7VtObuNX0/Tiz8hk3tHiN8ArGmX6K39pPDHwP+s7xykzUW7KkG1RfBl4MeZXFi7LRtDBFvTfOJ4bTt884IUEW+kmfMYB3wjM/+1z3qn0Xwiui8zXzHA8Xan+RS1I80nqFMy88sj14KImEDzi3trmmGqeZnZ9xLRiBhHM4y1LDPf3GedJTSffNYAqzPzwD7rbQd8A3gFzTm+NzOvXE+dP+T38z/QDL2dlJlf6uN4HwXe1x5rEfCezHyij3ofpll+GsDX+znWeo3Vcgp/RvcDuSPkUbXbsRHPbzbkobXbMbpzYBy/H2ffiqbX/7I+6x4C7A8sHvCYOwP7t4+n0swzrPeYbZKY0j7eElgAvHqA4/4dzafQnwxQZwkwcwOu67eB97WPtwK224C/l3uBPfoouyvNMOnE9vkPgOP6qPcKmuGzSTS/0C4EXjLaf1PeC+J5IpPl2bs6YpORye2Z/KJ2O0ZpLvB/mfmbzHyKZtVP1zDOOjLzEnh2FUvfMvOezLy2ffwwzXzBrn3Uy8xcu1N0y/anr4+7EbEb8CaaXulGFRHb0vxyOhUgM5/KzIcGfJvDgF9nZr+bacYDEyNiPE1CHWmJ6FovBRZk5mOZuZrm09zbBmxnDxOw1L9dgd8OeX4XfSTDsRIRs2jW1i/os/y4iLiOZvnfBZnZVz3gSzQ7M58ZsIkJnB8RCyPir/ussyfNEsxvRsSvIuIbETF5wOOW5mjKDcxcBvwbcCdwD7AyM8/vo+pi4OCImBERk4Ajadb9j4oJWHoBiIgpNBPcH8nM0hrrHpm5JjPnALsBcyNivWPPEbF2nHrh+soWvDYz9weOAD4QEaXNU8ONpxma+c/M3I9mYv0T/R4wIrai2cLf15r+iJhG86llT5o16ZMj4i/WVy8zbwY+C5wPnAtcRzPWPSomYKl/y1i317NbG9uoImJLmuR7embOX1/54dqP9BcBb+yj+EHAUe2E2lnA6yLie30eZ1n75300q2Pm9lHtLuCuIb3zedB906qCI4BrM3N5n+UPB+7IzPsz82maTU2v6adiZp6amQdk5iE0S2iHr/sfmAlY6t/VwOyI2LPteb2D3k01Yyqau7ucCtycmV8YoN727eoCImIi8HrglvXVy8y/z8zdMnMWzfn9PDPX20OMiMkRMXXtY5qdrOtd852Z9wK/bVc1QDOee9MIVYYbvkN1fe4EXh0Rk9prexjNuPp6RcQO7Z8vohn/PWOA4xZ5P2CpT5m5OiL+lmZd9zjgtMy8sZ+6EXEmzaaWmRFxF/DJzDy1j6oH0awxX9SO5wL8Q2b+73rq7Qx8u11OtgXwg8z8ST9t3UA7Ame3dwMbD5yRmef2WfeDwOntL7XfAO/pp1Kb6F8P/E2/jczMBRExj+beK6tpbnfQ78aKH0bEDOBp4AMbMFnYw3XAklSJQxCSVIkJWJIqMQFLUiUmYEmqxAQsSZWYgCWpEhOwJFViApakSv4f280iAuDUHj8AAAAASUVORK5CYII=\n"
          },
          "metadata": {
            "needs_background": "light"
          }
        },
        {
          "output_type": "display_data",
          "data": {
            "text/plain": [
              "<Figure size 432x288 with 0 Axes>"
            ]
          },
          "metadata": {}
        },
        {
          "output_type": "display_data",
          "data": {
            "text/plain": [
              "<Figure size 432x216 with 2 Axes>"
            ],
            "image/png": "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\n"
          },
          "metadata": {
            "needs_background": "light"
          }
        },
        {
          "output_type": "display_data",
          "data": {
            "text/plain": [
              "<Figure size 432x288 with 0 Axes>"
            ]
          },
          "metadata": {}
        },
        {
          "output_type": "display_data",
          "data": {
            "text/plain": [
              "<Figure size 432x216 with 2 Axes>"
            ],
            "image/png": "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\n"
          },
          "metadata": {
            "needs_background": "light"
          }
        },
        {
          "output_type": "display_data",
          "data": {
            "text/plain": [
              "<Figure size 432x288 with 0 Axes>"
            ]
          },
          "metadata": {}
        },
        {
          "output_type": "display_data",
          "data": {
            "text/plain": [
              "<Figure size 432x216 with 2 Axes>"
            ],
            "image/png": "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\n"
          },
          "metadata": {
            "needs_background": "light"
          }
        },
        {
          "output_type": "display_data",
          "data": {
            "text/plain": [
              "<Figure size 432x288 with 0 Axes>"
            ]
          },
          "metadata": {}
        },
        {
          "output_type": "display_data",
          "data": {
            "text/plain": [
              "<Figure size 432x216 with 2 Axes>"
            ],
            "image/png": "iVBORw0KGgoAAAANSUhEUgAAAWAAAADCCAYAAAB3whgdAAAABHNCSVQICAgIfAhkiAAAAAlwSFlzAAALEgAACxIB0t1+/AAAADh0RVh0U29mdHdhcmUAbWF0cGxvdGxpYiB2ZXJzaW9uMy4yLjIsIGh0dHA6Ly9tYXRwbG90bGliLm9yZy+WH4yJAAAU5klEQVR4nO3debCfVX3H8fc3+3YJkJDcJBizAWkqQTAjKm1wZYRKaC1FOiMzUhdmKrbQcTqtpdixhaG1i7RTbBFoKYqKGOsyRtGCDQybSUjCZjSGrJDlZt8vSb794/fEXnK+J/f55Sa/cy/5vJhM7v3+znme8/wu+f6e+5zN3B0REWm9fqUbICJyslICFhEpRAlYRKQQJWARkUKUgEVEClECFhEpZEDpBoiUNnr0aJ80aVLpZsjr1MKFCzvc/YzoNSVgOelNmjSJBQsWlG6GvE6Z2arca3oEISJSiBKwiEghSsAiIoU09Qz4ZOus2L17dxg/dOhQrVgzcvUHDhyYxEaMGNGjc/VWK1eupKOjw0q3Q6RVmkrAPe2syCWZfv3SG/FmFgkyOzH/Zp944okwvmfPniTW2dmZxA4ePFj7XPv37w/jZ5yRdp7Onj279nH7klmzZpVugkhL6RGEiEghSsAiIoW0dBxw7lHBiXrcsHPnziT28MMPh2UXLVqUxObNmxeWPeecc2q1a9euXWH9zZs3J7FRo0aFZfft25fEbrnllrDs5ZdfnsTmzJkTlp04cWIYF5HW0R2wiEghSsAiIoUoAYuIFKIELCJSiBKwiEghvXYURDOjHe68884wvmzZsiSWmwwyffr0JPahD30oLLt48eIkNnjw4CR24MCBsH40iqKtrS0sO3z48CS2adOmsOyqVemiSzfeeGPt4952221h2fHjx4dxEekZ3QGLiBSiBCwiUogSsIhIIUrAIiKFtLQTLjfluJkOtzvuuCOJbdmyJSw7efLkJBYt7wjxymVjxowJy1588cVJbO7cuUmsvb09rD9o0KAkFq0IB3DuuecmsdwU6bPOOiuJjRw5MiwbddjddNNNYdl77rknjItIz+gOWESkECVgEZFClIBFRApRAhYRKUQJWESkkF47CmLNmjVh2Sg+ZcqUsGxuQfRINDV3w4YNYdmpU6fWiv3iF78I659++ulJ7MILLwzLzp8/P4nlpgZHi7dH+9cBDB06NImtX78+LHvfffclsWuuuSYs29Np5SInE90Bi4gUogQsIlKIErCISCFKwCIihbS0Ey433TayfPnyMN6/f/8kllt3d8SIEUls//79YdloKnJUH2Dbtm1J7NJLL01ijz32WFg/6gDLXUMUz01x3r17dxKLdoYG6OzsTGLRmsYAzzzzTBLLdcKpw02kPt0Bi4gUogQsIlKIErCISCFKwCIihSgBi4gU0tJREM14/vnnw/iQIUOSWG5kQzQtdtiwYWHZaLfkaMQFwI4dO5LYuHHjktgll1wS1o+OmzvXtGnTklhuSnc0lTg3uiKatpzz9NNP1y4rIvXpDlhEpBAlYBGRQpSARUQKUQIWESmk13bCrV27NoyfcsopSSzXCRcZO3ZsGI/Wzc11YEU7K0edhtGOxgBbt25NYrk1fl9++eUkFk2Fhnj94ty05ai90S7SAKNGjUpi0VRmiHd8FpGY7oBFRApRAhYRKUQJWESkECVgEZFClIBFRArpFaMgcrsPR6KdjnOjAmbOnJnEohEMEC/InhNNG44WM8+1KxpBkJte/OqrryaxV155JSwbtSE3WiHXtkg0TXvp0qVh2VmzZtU+rsjJTnfAIiKFKAGLiBSiBCwiUogSsIhIIb2iE27FihVJLLcjcbSObbQbMMQ79G7ZsiUsG3V2NbNmbjPrCUft2rhxY+2yuXZF1xBNsYbmdoweMCD93+Sll14Ky6oTTqQ+3QGLiBSiBCwiUogSsIhIIUrAIiKFKAGLiBTSK0ZBrFmzJolFux9DPNogZ9WqVUls0qRJYdloIfHc9ORoofa2trYklpv2HLUrd13RCITcexO1N9opGWD48OFJLNfeKL5s2bKwrIjUpztgEZFClIBFRApRAhYRKUQJWESkkF7RCRft/NuvX/zZ0MyuyDt37qx93KhjLTeVOCobHTfXrqjDLerEg3gH5Vwn3N69e5NY9H4BbNq0KYmNHDkyLBu1d8mSJWFZEalPd8AiIoUoAYuIFKIELCJSiBKwiLRUe3s7ZlbrT3t7e+nmnlBKwCLSUs1swttM2b6oV4yCiHY6jqYGA5x22mlJLJraC3DFFVfUOhfEC5/npuZGoxuiWLRAOsTTi3Nlo8XXo7ZCPDpi+vTpYdlvf/vbSSw3QiR6H6IRFyLSHN0Bi4gUogQsIlKIErCISCFKwCIihfSKTrioo2no0KFh2agDK2fGjBlJ7NFHHw3L5nZhjkSdVdu2bUtiUYdhrn6uwy+6Xnfvrom/cvbZZ4fxqBMtd9zBgwcnse3bt9dug4jEdAcsIlKIErCISCFKwCIihSgBi4gU0tJOuGgdXYhngeU2xIw6inIdWOPHj69VP2fPnj1hPOoY2717dxIbNWpUWD+ayZab3ZabERiJ3rNp06aFZaNry73n0c8nN6MwijfTwSlyMtEdsIhIIUrAIiKFKAGLiBSiBCwiUogSsIhIIS0dBdHR0RHGo5EJuVEBUU99bhRENOoiNxIjGtnQ2dkZlo169YcNG5bEcmv8RtOAx4wZE5aNdmbOjeSIykYjQSC/9m8kmhae+/msX78+ieVGYoic7HQHLCJSiBKwiEghSsAiIoUoAYuIFNLSTrhozVyIO8aiDSZzx5g4cWJYtq2tLYlFU4YBxo4dW6tdAIcOHUpiUQdYtM4xxJ1wUX1obgPPnTt3JrHclOHoenNtiDo+cx2BGzduTGLqhBOJ6Q5YRKQQJWARkUKUgEVEClECFhEpRAlYRKSQlo6CyE1fjab2RjvxAixbtiyJTZ8+vfZxm9lVuZkFyqNry11DNLU3N2IiakPufdyyZUsSGz58eFj23HPPTWLRKAqId3fOtSE36kJEUroDFhEpRAlYRKQQJWARkUKUgEVECmlpJ9zmzZvjRgQdY9F0XYDt27cnsfPOOy8su2nTpiS2Y8eOsGzUqZSb8rt///4kFq0HnOvwi9bizV1vNO05t/5xNJV49erVYdmpU6cmsccffzwsG7Ut1/GZe39FJKU7YBGRQpSARUQKUQIWESlECVhEpBAlYBGRQlo6CmLRokVhPOplz40K2LBhQxKLpsoCLFiwIIlFoxUgHpmQ2zk4mh48aNCgJJZb0D2qn5v2HE1nzk1xjkZdLFmyJCx7yimnJLFoijTEP4s9e/aEZaP3/MorrwzLipzsdAcsIlKIErCISCFKwCIihSgBi4gU0tJOuNzatNFauOvWrQvLRmvW5qYiRx1Qp556alg216kUiXYEjqYn5zrWoinD0drFEHfu5XYvjqZTr1y5Miw7Z86cJPbRj340LHvVVVclsVxn5rhx48K4iKR0BywiUogSsIhIIUrAIiKFKAGLiBTS0k44kb7GiDcfzXHSDlqRnJYm4GuvvbZ22dzuuitWrEhi0eLiAHPnzk1iuWnL0fmixdAhHknR0dGRxDo7O8P60aiP3LTlKJ6bIj1mzJgk9uSTT4Zlr7vuuiQWLWAP8QiNIUOGhGVFpD49ghARKUQJWESkECVgEZFClIBFRArptaMgclNzZ86cmcSi6ckQ78J8+umnh2WjHZDb29vDstG05ehc0ZRliKcX5zrWoinOUf2c3BTrxYsXJ7HLLrus9nFFpOd0BywiUogSsIhIIUrAIiKFKAGLiBSiBCwiUkivGAURjRbITQOOFiN/7LHHwrLRLsE50QLjuTYsX748iU2ZMqX2udavX1/7XNG05dzC9tGuxhMmTAjLzp8/P4nlRkFEP59o8XcRaY7ugEVEClECFhEpRAlYRKQQJWARkUJ6RSdc1KGT2/k3smzZsjAerdsbTe2FuMMud9zJkycnsahjLLezc9SGXCfc3r17k1gzU5xz05ajjsCc6OeTa4M650Tq0x2wiEghSsAiIoUoAYuIFKIELCJSiBKwiEghvWIUROTgwYNhPBodsWrVqrBsNNrg7LPPrn3c6dOnh2WjRd1feOGFJJYbERAt/p6bNt3W1pbERo4cGZaNdmHOjfqIFmrPlR08eHAS0ygIkZ7rtQlY5GRkNPcB5sQfhNI36BGEiEghSsAiIoUoAYuIFNJrnwE305lz6623hvHPf/7zSWzevHlh2W3btiWxaMoxxB1m0ZThMWPGhPW3bt2axHbs2FG7bG4acTT1evTo0WHZ66+/PolFnW05uV2cRaQ+/SsSESlECVhEpBAlYBGRQpSARUQKUQIWESmk146CaKaXPdoNGODmm2+ufYzVq1cnsWh6McCGDRuSWDSKIbfIemTgwIG14xMnTgzLXnTRRUlsxIgRtdsgIq2lO2ARkUKUgEVEClECFhEpRAlYRKSQpjrhFi5c2GFm8eK7Ij33xtINEGmlphKwu59xohoiInKy0SMIEZFClIBFRArptRMxRKQ1mtkGSVsgHV999g7YjL8w43kzlpqx2IwLq/hKM5JFcM2YY8afZY71TjPecZTXtlfnWGzGzV1eu7Fqw3NmfNWMIVX8K1W7bu1S9iYzfvso13O+GXdXX48143tmLDHjBTO+36Ut38vUv8uMGZnXbjBjWJfvf2zGabm2SN9kTfwnvUOfvAM24+3AB4AL3NlfJdxBR6vjzneA7wTHGgC8E9gFPJ6p/qg7Hzii3gTgj4AZ7uw14wHgajMWAXvdmWnGj8wYCQwDLnTnb47SxM/Ar17/HPAjd26vzjXzaNdWXd/HorgZ/YEbgC8Dh7dCvg/4Q+CW7o57MjjG0T2jgY4jgzWSW1iv1edrdb2a4nN2vznDcX1PT0C97OiePpmAgXFAhzv7AdyTN+NTZlwODAR+z52fmfERYJY715vxn8A+4HxgHfAO4KAZHwY+5c6jNdsxABhqxqs0kuzLwKtVrF91/oM0Eupncwcxow2Y6c6SLtf30OHX3VnapfgIMx4E3gQsBD7sjpvxE+DT7iwwYxfw78B7gW8C44FHzOhw5100PogeRQkYOLbRPWa2wN1nqd7xqVfinCWu8Uh99RHEQ8AbzPi5GXeYcfERr3e4cwHwReDTmWOcCbzDnQ8C/wb8kztvziTft1ePA+aZ8esA7qwD/h5YDbwCbHfnIXdeBDYBi4DvAtOAfu4sOsr1zAKe6/L9vwJ3m/FI9ahlfJfXzqdxRzsDmAKkK/DAcOApd85z53M0PhjeVSVf3NkKDDZj1FHaJCInWJ9MwO7sAt4CfIJGsvt6dYd72Nzq74XApMxhvuHOwRqnWwS80Z3zgH8B/hugeoZ6BTCZxh3m8OoOGnduqJL5PwB/DfxllUgfMOPjwTnGVddx+Pp+SCO5fgmYDjxjxuG7tKfdWevOIWBx5voO0rjzPZqNVbtFpJA+mYAB3Dnozk/c+SxwPfC7XV7eX/19kPxjlt01z7OjSvi4831gYPXM+b3AS+5scudVGkn/NR15ZlxB40NgBDDVnauAK7t2iFX2QqMDr8t5t7hzvzvXAD8FZh9xbUe7vn01PlyGVOeVY3On6h3XeiXOWeIaX6NPJmAzzjHjrC6hNwM9mSK9E2jLnKvdqp4HM95K4z3bTOPRw9vMGFa9/h7gxS71BtJ4VPB3wFD41fid/qQdhi/SeFRxuO67Dyfp6vnw1Op8x+X6qva2Ayt7cMyTmrsf0z9C1es95yxxjUfqkwmYxh3lvdUQraU0nof+VQ+O913gd6phZr95xGtXAs+ZsQT4Z+Bqd9ydp4AHaTyieJbGe9n1B/NJ4F539gBLgWFmPAssdGdb1xO48zNgZJVsofF4ZUF1bU8Ad7nz0x5c353AD8x4pMvxn3TnQA+OKSI9ZO4aWN0bmHEjsNOdu1pwrtuB77jzPyf6XK83ZvZ+4HYav8nc5e631ax3D42hkxvd/U1NnO8NwH8BY2n8FnWnu99eo94QYD4wmMZjqgfdPTsSJ6jfH1gArHP3D3RXvqqzksZvWweBA3VHCpjZqcBdNEb2OPAH7v5EN3XOAb7eJTQFuNndv1DjfDcCH6vO9Sxwrbvvq1Hvj4GPAwZ8qc65uuXV7Zz+lP0DPgT8mhad6+Olr7cv/qGRdH9J4x/7IGAJMKNm3dnABcBzTZ5zHHBB9XUb8PM656ySxIjq64HAU8DbmjjvnwD3A99ros5KYPQxvK/3Ah+rvh4EnHoMP5f1wBtrlJ0AvAQMrb5/APhIjXpvojFSaRiND7QfA9N6+v9UX30E8brjzj537mvRub7UivO8Dr0VWO7uK9y9E/gajZEw3XL3+cCWZk/o7q+4+6Lq6500+gsm1Kjn7r6r+nZg9afWr7tmdibwW9CK38ZsJI0Pp7sB3L3T3bcdvVbiPcAv3b1uP1A1ft8G8P/j97vza8BT7r7H3Q8A/wt8sMl2JpSAReqbAKzp8v1aaiTD48XMJtEYB/5UzfL9zWwxjSGHP3L3WvWALwB/CtTfVbbBgYfMbKGZfaJmnck0hmD+h5k9Y2Z3mdnwJs97NfDVWg10D8bv+0NHrwU07n5/08xGmdkw4DLgDU22M6EELNIHmNkIGmO7b3D3dAvugLsfdPc305h09FYz6/bZs5kdfk698Bia+RvufgFwKfBJM5vdXQUad6MXAF909/NpDA8N12zJtHcQMAf4Rs3ywfh9+3B39dz9ReBvaUwC+wGNMfh15hEclRKwSH3reO1dz5lV7IQys4E0ku9X3H1ud+WPVP1K/wjw/hrFLwLmVB1qXwPebWZfrnmeddXfG4Fv0Xhk0521wNoud+cP0kjIdV0KLHL3DTXLV+P3fZO7h+P3c9z9bnd/i7vPBrbSeB7fI0rAIvX9FDjLzCZXd15XEyzwdDxZYyWau4EX3f0fm6h3RjW6ADMbCrwP+Fl39dz9z939THefROP6Hnb3bu8QzWy4mbUd/hq4hNdOr8+dbz2wphrVAI3nuS90V6+L36fm44dKNX7fhlXv7WvG7x+NmY2p/p5I4/nv/U2cN9RXF+MRaTl3P2Bm1wM/pNHzfo+7P1+nrpl9lcaqe6PNbC3wWXe/u0bVi4BrgGer57kAn3H373dTbxxwbzWcrB/wgLuHS5keJ2OBb1Urlw0A7nf3H9Ss+yngK9WH2grg2jqVqkT/PuC6uo1096fM7PD4/QPAM9Sf2fZNMxtFY8GtTx5DZ2FC44BFRArRIwgRkUKUgEVEClECFhEpRAlYRKQQJWARkUKUgEVEClECFhEpRAlYRKSQ/wN8HC7LqdQFJAAAAABJRU5ErkJggg==\n"
          },
          "metadata": {
            "needs_background": "light"
          }
        },
        {
          "output_type": "display_data",
          "data": {
            "text/plain": [
              "<Figure size 432x288 with 0 Axes>"
            ]
          },
          "metadata": {}
        },
        {
          "output_type": "display_data",
          "data": {
            "text/plain": [
              "<Figure size 432x216 with 2 Axes>"
            ],
            "image/png": "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\n"
          },
          "metadata": {
            "needs_background": "light"
          }
        },
        {
          "output_type": "display_data",
          "data": {
            "text/plain": [
              "<Figure size 432x288 with 0 Axes>"
            ]
          },
          "metadata": {}
        },
        {
          "output_type": "display_data",
          "data": {
            "text/plain": [
              "<Figure size 432x216 with 2 Axes>"
            ],
            "image/png": "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\n"
          },
          "metadata": {
            "needs_background": "light"
          }
        },
        {
          "output_type": "display_data",
          "data": {
            "text/plain": [
              "<Figure size 432x288 with 0 Axes>"
            ]
          },
          "metadata": {}
        },
        {
          "output_type": "display_data",
          "data": {
            "text/plain": [
              "<Figure size 432x216 with 2 Axes>"
            ],
            "image/png": "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\n"
          },
          "metadata": {
            "needs_background": "light"
          }
        },
        {
          "output_type": "display_data",
          "data": {
            "text/plain": [
              "<Figure size 432x288 with 0 Axes>"
            ]
          },
          "metadata": {}
        },
        {
          "output_type": "display_data",
          "data": {
            "text/plain": [
              "<Figure size 432x216 with 2 Axes>"
            ],
            "image/png": "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\n"
          },
          "metadata": {
            "needs_background": "light"
          }
        },
        {
          "output_type": "display_data",
          "data": {
            "text/plain": [
              "<Figure size 432x288 with 0 Axes>"
            ]
          },
          "metadata": {}
        },
        {
          "output_type": "display_data",
          "data": {
            "text/plain": [
              "<Figure size 432x216 with 2 Axes>"
            ],
            "image/png": "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\n"
          },
          "metadata": {
            "needs_background": "light"
          }
        },
        {
          "output_type": "display_data",
          "data": {
            "text/plain": [
              "<Figure size 432x288 with 0 Axes>"
            ]
          },
          "metadata": {}
        },
        {
          "output_type": "display_data",
          "data": {
            "text/plain": [
              "<Figure size 432x216 with 2 Axes>"
            ],
            "image/png": "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\n"
          },
          "metadata": {
            "needs_background": "light"
          }
        },
        {
          "output_type": "display_data",
          "data": {
            "text/plain": [
              "<Figure size 432x288 with 0 Axes>"
            ]
          },
          "metadata": {}
        },
        {
          "output_type": "display_data",
          "data": {
            "text/plain": [
              "<Figure size 432x216 with 2 Axes>"
            ],
            "image/png": "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\n"
          },
          "metadata": {
            "needs_background": "light"
          }
        },
        {
          "output_type": "display_data",
          "data": {
            "text/plain": [
              "<Figure size 432x288 with 0 Axes>"
            ]
          },
          "metadata": {}
        },
        {
          "output_type": "display_data",
          "data": {
            "text/plain": [
              "<Figure size 432x216 with 2 Axes>"
            ],
            "image/png": "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\n"
          },
          "metadata": {
            "needs_background": "light"
          }
        },
        {
          "output_type": "display_data",
          "data": {
            "text/plain": [
              "<Figure size 432x288 with 0 Axes>"
            ]
          },
          "metadata": {}
        }
      ]
    },
    {
      "cell_type": "markdown",
      "source": [
        "En el caso 2 hay un caso erróneo, al igual que el caso 1 es el Sneaker y encontramos una gran cantidad de franjas verdes pero menor que en el caso 1, por lo cual es ligeramente mejor. "
      ],
      "metadata": {
        "id": "bAfMsJ6YYIzR"
      }
    },
    {
      "cell_type": "markdown",
      "source": [
        "**Caso 3**"
      ],
      "metadata": {
        "id": "5CJgvs6zSTt5"
      }
    },
    {
      "cell_type": "code",
      "source": [
        "for i in range(13):\n",
        "  plt.figure(figsize=(6,3))\n",
        "  plt.subplot(1,2,1)\n",
        "  plot_image(i, prediction3[i], test_labels, test_images)\n",
        "  plt.subplot(1,2,2)\n",
        "  plot_value_array(i, prediction3[i],  test_labels)\n",
        "  plt.show()\n",
        "  plt.clf()"
      ],
      "metadata": {
        "id": "kqniBSVaSufT",
        "colab": {
          "base_uri": "https://localhost:8080/",
          "height": 1000
        },
        "outputId": "6ad2d721-544e-4d99-9429-2f3fd4231a7c"
      },
      "execution_count": 40,
      "outputs": [
        {
          "output_type": "display_data",
          "data": {
            "text/plain": [
              "<Figure size 432x216 with 2 Axes>"
            ],
            "image/png": "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\n"
          },
          "metadata": {
            "needs_background": "light"
          }
        },
        {
          "output_type": "display_data",
          "data": {
            "text/plain": [
              "<Figure size 432x288 with 0 Axes>"
            ]
          },
          "metadata": {}
        },
        {
          "output_type": "display_data",
          "data": {
            "text/plain": [
              "<Figure size 432x216 with 2 Axes>"
            ],
            "image/png": "iVBORw0KGgoAAAANSUhEUgAAAWAAAADCCAYAAAB3whgdAAAABHNCSVQICAgIfAhkiAAAAAlwSFlzAAALEgAACxIB0t1+/AAAADh0RVh0U29mdHdhcmUAbWF0cGxvdGxpYiB2ZXJzaW9uMy4yLjIsIGh0dHA6Ly9tYXRwbG90bGliLm9yZy+WH4yJAAAUkklEQVR4nO3de5BW9X3H8ffX5bYLBNDlYiBxNQbHNCOCFCQmSLVJTCWXOm20bTQmjbXm0jRMWltnorlMQ+pkErWNmRJNk7ReIcmIGiM6QUXrDRC8QUQRFBQD4X5n4ds/zsGse76HPYcFfo/yec3s8Ox3f79zfs+z7Pf5Ped3OebuiIjIoXdE6gaIiByulIBFRBJRAhYRSUQJWEQkESVgEZFElIBFRBLpkboBIqm1trZ6W1tb6mYAsHDhQtrb2yuX79GjB6NGjTqILZLumjdv3hp3Hxz9zDQPWA53Y8eO9blz56ZuBgBmVruO/oYbm5nNc/ex0c90CUJEJBElYBGRRJSARUQSqTUI10iDFQfanj17CrEtW7aEZfv373/Az79169YwfsQRxffIPn36HPDzN4Jly5axZs2a+hdBRd6kaiXgtrY2GmWw4kDbtGlTIfbYY4+FZc8888wDfv758+eH8X79+hViI0eOPODnbwRjx4bjFCJvWboEISKSiBKwiEgib4mFGNu3bw/jV111VSF20003hWXXrVtXiK1evTos29zcXKl+HWXXdaN4jx7xr23ixImF2EUXXRSWPeuss2q0TkQOBvWARUQSUQIWEUlECVhEJBElYBGRRJSARUQSedPNgrj00ksLsWnTpoVlN27cWIi1tLSEZaOZDYMGDQrLbtu2rRDr27dvIbZ79+6wfu/evSudH+Kdrnbs2BGWvfPOOwuxmTNnhmUnTJhQiD3wwANhWRE5ONQDFhFJRAlYRCQRJWARkUSUgEVEEmnYQbiygbUrr7yyEBs2bFhYNhoYK7vlSzTYtWvXrrBstDw4ipWdK9piss59wMqWLUc7pzU1NYVlH3rooULsox/9aFj29ttvr9w2EalOPWARkUSUgEVEElECFhFJRAlYRCQRJWARkUQadhbE1772tTD+tre9rRArm20QLQVetWpV5TYMHDgwjFfdJH3z5s1h/WgD+aOOOiosGz2Hsg3ZoyXK0ewOgKFDhxZiZUuR16xZU4i1traGZUWkOvWARUQSUQIWEUlECVhEJBElYBGRRBp2EG7Dhg1hPNpLt2ygKRpwu+SSS8KyF198cSE2ZsyYsGy0xHnFihWFWP/+/cP6xxxzTCH22muvhWWj5xudC2D48OGV6gNs2rSpEIv2OQZYunRpIaZBOJHuUw9YRCQRJWARkUSUgEVEElECFhFJRAlYRCSRhp0FUXbn32gZcNksiMjUqVPD+IABAwqxPXv2hGW3bt1aiE2aNKkQmz17duV2nXjiiWF88eLFhVh0t2eAq6++uhArW9I9ePDgQqzsLs4PPvhgITZu3LiwrIhUpx6wiEgiSsAiIokoAYuIJKIELCKSSEMMwu3cubNy2Wjv37IBu8gFF1wQxm+77bbKx1i3bl0hFg24XX755WH9aE/jm2++OSy7du3aQmz58uVh2XPPPbcQKxuEq7PP8IIFC8K4iHSPesAiIokoAYuIJKIELCKSiBKwiEgiSsAiIok0xCyIV155pXLZI44ovmeUbSQeKdvMvI7p06dXKnf++eeH8ebm5kKsbBnwqFGjCrFXX301LNuvX79K7apryZIlB+W4Ioc79YBFRBJRAhYRSUQJWEQkESVgEZFEGmIQbvXq1d2q397eHsZ79uxZiJUN+JXt/Rs5/fTTK5X78Ic/HMZffPHFQuzII48My951112FWLT3MMQDdmUDc9HzbWpqCstGd5cWke5TD1hEJBElYBGRRJSARUQSUQIWEUlECVhEJJGGmAWxcuXKymXr3AG5paWlECsb0Y+WOJed67e//W0hdumllxZiS5cu7aqJr6tzV+SXXnopLHvttdcWYo888khYdtCgQYVY7969w7J1fj8iUp16wCIiiSgBi4gkogQsIpKIErCISCINMQhXZylytFy2bClyFC9bmnvZZZdVPu6sWbMKsYULFxZizzzzTFh/48aNhVg02Abx4F5092Ood/fiaClydMdpgF27dlU+rohUpx6wiEgiSsAiIokoAYuIJKIELCKSiBKwiEgiDTELouwuv5E6S4ajWQwDBgwIy06dOrVyG6JjDB06tBB79tlnKx9z2LBhYXzNmjWFWJ8+fSoft0x0F+YePar/dyi7i3PZpu4iUqQesIhIIkrAIiKJKAGLiCSiBCwikkhDDMJ1967IvXr1CuNnnHFGITZnzpyw7IgRIwqxsgGlHTt2FGLRoFTZsudI2bLnaHAvOn/Z+QYOHBiWjZYtl92ZObJs2bIw/q53vavyMUQOd+oBi4gkogQsIpKIErCISCJKwCIiiTTEINz69esrl920aVMhNnz48LDshRdeWIjdddddYdnoBp5lor10o1gdZXvxRoNzZYNw0Uq2c845JyxbZ+/gSLRCDzQIJ1KHesAiIokoAYuIJKIELCKSiBKwiEgiSsAiIok0xCyI3//+95XLbtu2rRAbMmRIWHbQoEGVj9uzZ89CrGx5cDRjIdqnuI6yWRDREueystHsiPHjx1duQ9lziPYf7u6sDxFRD1hEJBklYBGRRJSARUQSUQIWEUmkIQbhoqXIZTee3L59eyHWt2/fsOyiRYsqtyFaxrtr167K9csGxqoqu7FodNyyc0WvY512lQ2sRW0rW4osItWpBywikogSsIhIIkrAIiKJKAGLiCSiBCwikkhDzILo7rLWE044IYy/8MILlY8RzRYoa1dUtmwWQ3fOD/Fy6N69e4dlozaULdOO1JkF0d07WYuIesAiIskoAYuIJKIELCKSiBKwiEgiDTEIFy35jZYGlykbhLv//vsrH6Ns799INCgVDWDV2SO4bBAvijc1NVU+7ogRIyrH6ywv3rx5c+WyIhJTD1hEJBElYBGRRJSARUQSUQIWEUlECVhEJJGGmAXR3NxciNUZ6S+bbbB48eJCLLr7McR3Hz5Y6tzpOIrXmSHy/PPPh/Fhw4YVYqtWrQrLRq/Z1q1bK7dBRGLqAYuIJKIELCKSiBKwiEgiSsAiIok0xCBcNKhUZ1Cs7O7Fa9euLcRaWlrCst3dkzjS3TslQzwYWWfZ9G233RbG29raCrH58+eHZaNBznXr1lVug4jE1AMWEUlECVhEJBElYBGRRJSARUQSUQIWEUmkIWZBRKPs27dvr1w/WnIMsGPHjkKs7I7C0UyKsuXQVe+AXGeT9TozJurM2Fi2bFkYP+mkkwqxGTNmhGWjtpXNPBGR6tQDFhFJRAlYRCQRJWARkUSUgEVEEmmIQbhoYKzOQFPZsthoIK9sEK67+w9HsTp7/JaVjQbsygb3BgwYUIg9/PDDYdmRI0eG8UjUtm3btlWuLyIx9YBFRBJRAhYRSUQJWEQkESVgEZFElIBFRBJpiFkQ0V13yzZO37x5cyE2ZcqUsOy9995biJWN3pfdWbmq7s5sKBPNBilr64YNGwqxSZMmhWUnT55ciH3jG98Iy0YzRKJl3iJSj3rAIiKJKAGLiCSiBCwikogSsIhIIg0xCLdly5ZCrGxpcDRgV7Y37eDBgwuxJUuWhGWPO+64Quxg3Cm5TNnAXDSQF70GEC/JHjJkSFi2tbW1ctuiQb/ly5dXri8iMfWARUQSUQIWEUlECVhEJBElYBGRRJSARUQSaYhZEKeddlohVraReJ8+fQqxss3Fn3vuue417C1s6dKlhVj//v3DstGy43Hjxh3wNokcbtQDFhFJRAlYRCQRJWARkUSUgEVEEmmIQbhoQKds395evXoVYt3dy/dwFC3fLtvjd+fOnYVY3759D3ibRA43ylwiIokoAYuIJKIELCKSiBKwiEgiSsAiIok0xCyI4cOHF2KjR48Oy0ZLkeuMyLe3t4fxaAP4OncvbgRRe8s2tj/++OMLsbPPPjssu379+kJswoQJNVsnIp2pBywikogSsIhIIkrAIiKJKAGLiCRSaxBu3rx5a8ys4W6H269fv9RNOOzMnj37YBz2mINxUJFGVSsBu3vxPu8iIrJfdAlCRCQRJWARkUSUgEVEEjmkCdiM3WYsMONpM6ab0dJF+fvMGJs/XmZG66FpKZjxRTOeN8M7ntcMM+Oa/GdPmjGmw88+bcaS/OvTeay3Gb/On/PnO5Sd1rFucP5PmHF5/vjrZqzs8Np9rIu2TzLjjvzxhWb85/6/El0zY7IZ3zyY5xB5KzrUS5G3uXMygBk3AH8PfO8Qt6HADAPMnT0dwg8BdwD3dSr+EeDd+dd44IfAeDOOBK4AxgIOzDNjJvAB4EHg2/kxrzVjFNDkzvx9NOuf4Q2J9vvufNeME4E5Zgzp1N4kzOgB3Al8y4zvuLM1dZvq2s/ZPa3Amv043QGvZ2aH9HwHqV6Kcx6qeqWze1LuBTEHOMmMScBX3ZkMkPfW5rrzk7KKZkwBPpt/e507V5nxHeBld36Ql/k6sDlPWv8EfBLoDfzSnSvMaAPuBh4FTgH+DHj9j9CdJ/LjdPZx4GfuOPCIGQPNOBqYBNzjztq83j3AWcB6oAXoCew92rfI3nzKnt9IYId78ZfsziIz2oFWM27NX7u5eS99rjtt+zhuG/Bjsv9Aq4HPABuAJ4Fj3dljRl9gMXAc8E7gB8BgYCtwkTuLzfgJsB0YDTzkzhQz7gMmA7eWnb9R7c/sHjOb6+5jVe/A1EtxzhTPsbMk14DzXtNHgKf2o+4pZIljPHAqcJEZo4FbyJLsXp8EbjHjQ2S91XHAycApZkzMy7wbuNadP3Knag9oOPByh+9X5LGy+D1AG/AIcE1++WC+O6/s4xynQdw7NmM8sIcsgdb1H8BP3TkJuAG4xp0NwALg9LzMZOBud3YB04AvuXMK8FXg2g7HGgG8z50p+fdzyXr7IlLRoe4BN5uxIH88B7geeF/NY7yfrBe7BcCMXwAfcOcaM4aY8XayHts6d14248vAhyDr0QL9yBLvS8Bydx7p3lPaN3fagb/O29qTrNf9cTO+R9bD/Jk7MztVO5pigv2KGZ8CNgHnuuP7/uQZmgCckz/+H+DK/PEtwLnAbOA8sssk/ch+N9M7nKd3h2NNd2d3h+9/B7y9dotEDmPJrgHvlX+c7tgTL+43Wd104C+AYWRJBbKP/VPd+a9O522DLInXtBJ4R4fvR+SxlWSXITrG7+tU9/PAz8h67hvIkt5voJCAtwEDOsW+7853O8U6vnbded1mAt/Or2OfkrepL7C+8++rg86vXR+ydh8upqneAa2X4pwpnuMbNMI0tOXAe/LZAgOBM7soPwf4hBkt+fXKP89jkCXd88iS8PQ8djfw2bxHhxnDzRjSjfbOBC7IZ0OcCmxw59X8PB8yY5AZg8h63XfvrZTHJpMl4BayywgONAfnWAQUN+wtWkaWMCF7zl35P7LXB+BvyF83dzYDjwNXA3e4s9udjcCLZvxl3n7LBw/LjASertCGtwR3368/QtVrnHOmeI6dJU/A7rxMNnDzdP7vE12Unw/8BHiMbADtur0DZu48A/QHVuZJEXdmATcCD5vxFDAjL7NPZvyDGSvIerJPmnFd/qNfAUuB54EfkfVqyQffvkWWyB4Hvrl3QC53OfBv+cyFu8mulz5FdimgsweA0fnsjH35LnCJGU9ApSl6XwI+Y8aTwPnAlzv87BbgU/zhkwNkSfpvzVgIPEM2AFnmT8hmQ4hIRfZmu+vD4cKMq4Hb3bk3dVu6YsZQ4Eb3Lj+9vOmZ2VlknxSagOvc/TsV6/2Y7BPQ79z9vTXO9w6yT01DyT4xTXP3qyvU60P2Rt6b7FLjDHe/osZ5m8gGVle6++SKdZaRjVHsBtqrzhQws4HAdcB7yZ7jZ9394S7qnMAbOwvHAZe7+1UVzvcV4HP5uZ4CPuPu2yvU+zJwEdllzR9VOVeX3F1fDfgFPhT8Y6nbUbGtfwx+cup2HPznSRPwAtkfey9gIfCeinUnAmOAp2ue82hgTP64P/BclXPmSaJf/rgn2afFU2ucdwrZJ8c7atRZBrTux+v6U+Bz+eNewMD9+L2sAo6pUHY48CLQnH9/K3BhhXrvJfuU3kL2hnYvcHx3/08lvwQhMXde8+LsiIbkzuPur89ueSsbBzzv7kvdfSdwM/u+LPM6d38A3nBJqhJ3f9Xd5+ePN5GNDxRvolis5+6+Of+2Z/5V6eOumY0AzobXL7sdNGY2gOzN6XoAd9/p7sWbEO7bmcAL7l51KmkPoNnMepAl1H1NCd3rROBRd9/q7u3A/fxhRtF+UwIWqa5srvchYWZtZItfHq1YvsnMFpBNEbzH3SvVA64iW4lZd6WlA7PMbJ6Z/V3FOseSTbn8bzN7wsyuM7Pqd9nNnAfcVKmB7ivJxk5eAl4FNrj7rApVnwY+YGZHmVkL2cKtd3RRp0tKwCJvAmbWD/g58I/uvrFKHXff7e4nkw0kjzOzLq89m9ne69Tz9qOZ73f3MWSLrL5gZhO7qkDWGx0D/NDdR5NNb/yXqic0s15kS/and1U2Lz+I7FPLsWTz1vua2ae6qufui4B/B2YBvyZbvLR7n5UqUAIWqa5sDvhBZWY9yZLvDe7+i7r184/0s8mWxnflNOBj+YDazcAZZva/Fc+zMv/3d8AvyS7ZdGUFsKJD73wGlG9SFfgIMN/dX6tY/k+BF919tbvvAn5BxcVg7n69u5/i7hOBdWTX47tFCVikuseBd5vZsXnP6zyKi2gOKMt22rkeWOTulTeuMrPB+ewCzKwZ+CDZHh/75O7/6u4j3L2N7Pn9xt277CGaWV8z67/3Mdk8+C7nhbv7KuDlfFYDZNdzn+2qXgd/RcXLD7mXgFPNrCV/bc8ku67eJTMbkv/7TrLrvzfWOG8o5WY8Im8q7t5uZl8km8fdBPzY3Z+pUtfMbiJbKdlqZiuAK9z9+gpVTyObs/1Ufj0X4DJ3/1UX9Y4GfppPJzsCuNXd76jS1v00FPhlvjNbD+BGd/91xbpfAm7I39SWku310qU80X8QuLhqI939UTObQbbXSjvZuoOqCyt+bmZHAbuAL+zHYGGB5gGLiCSiSxAiIokoAYuIJKIELCKSiBKwiEgiSsAiIokoAYuIJKIELCKSiBKwiEgi/w+ITZAhff9QagAAAABJRU5ErkJggg==\n"
          },
          "metadata": {
            "needs_background": "light"
          }
        },
        {
          "output_type": "display_data",
          "data": {
            "text/plain": [
              "<Figure size 432x288 with 0 Axes>"
            ]
          },
          "metadata": {}
        },
        {
          "output_type": "display_data",
          "data": {
            "text/plain": [
              "<Figure size 432x216 with 2 Axes>"
            ],
            "image/png": "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\n"
          },
          "metadata": {
            "needs_background": "light"
          }
        },
        {
          "output_type": "display_data",
          "data": {
            "text/plain": [
              "<Figure size 432x288 with 0 Axes>"
            ]
          },
          "metadata": {}
        },
        {
          "output_type": "display_data",
          "data": {
            "text/plain": [
              "<Figure size 432x216 with 2 Axes>"
            ],
            "image/png": "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\n"
          },
          "metadata": {
            "needs_background": "light"
          }
        },
        {
          "output_type": "display_data",
          "data": {
            "text/plain": [
              "<Figure size 432x288 with 0 Axes>"
            ]
          },
          "metadata": {}
        },
        {
          "output_type": "display_data",
          "data": {
            "text/plain": [
              "<Figure size 432x216 with 2 Axes>"
            ],
            "image/png": "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\n"
          },
          "metadata": {
            "needs_background": "light"
          }
        },
        {
          "output_type": "display_data",
          "data": {
            "text/plain": [
              "<Figure size 432x288 with 0 Axes>"
            ]
          },
          "metadata": {}
        },
        {
          "output_type": "display_data",
          "data": {
            "text/plain": [
              "<Figure size 432x216 with 2 Axes>"
            ],
            "image/png": "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\n"
          },
          "metadata": {
            "needs_background": "light"
          }
        },
        {
          "output_type": "display_data",
          "data": {
            "text/plain": [
              "<Figure size 432x288 with 0 Axes>"
            ]
          },
          "metadata": {}
        },
        {
          "output_type": "display_data",
          "data": {
            "text/plain": [
              "<Figure size 432x216 with 2 Axes>"
            ],
            "image/png": "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\n"
          },
          "metadata": {
            "needs_background": "light"
          }
        },
        {
          "output_type": "display_data",
          "data": {
            "text/plain": [
              "<Figure size 432x288 with 0 Axes>"
            ]
          },
          "metadata": {}
        },
        {
          "output_type": "display_data",
          "data": {
            "text/plain": [
              "<Figure size 432x216 with 2 Axes>"
            ],
            "image/png": "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\n"
          },
          "metadata": {
            "needs_background": "light"
          }
        },
        {
          "output_type": "display_data",
          "data": {
            "text/plain": [
              "<Figure size 432x288 with 0 Axes>"
            ]
          },
          "metadata": {}
        },
        {
          "output_type": "display_data",
          "data": {
            "text/plain": [
              "<Figure size 432x216 with 2 Axes>"
            ],
            "image/png": "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\n"
          },
          "metadata": {
            "needs_background": "light"
          }
        },
        {
          "output_type": "display_data",
          "data": {
            "text/plain": [
              "<Figure size 432x288 with 0 Axes>"
            ]
          },
          "metadata": {}
        },
        {
          "output_type": "display_data",
          "data": {
            "text/plain": [
              "<Figure size 432x216 with 2 Axes>"
            ],
            "image/png": "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\n"
          },
          "metadata": {
            "needs_background": "light"
          }
        },
        {
          "output_type": "display_data",
          "data": {
            "text/plain": [
              "<Figure size 432x288 with 0 Axes>"
            ]
          },
          "metadata": {}
        },
        {
          "output_type": "display_data",
          "data": {
            "text/plain": [
              "<Figure size 432x216 with 2 Axes>"
            ],
            "image/png": "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\n"
          },
          "metadata": {
            "needs_background": "light"
          }
        },
        {
          "output_type": "display_data",
          "data": {
            "text/plain": [
              "<Figure size 432x288 with 0 Axes>"
            ]
          },
          "metadata": {}
        },
        {
          "output_type": "display_data",
          "data": {
            "text/plain": [
              "<Figure size 432x216 with 2 Axes>"
            ],
            "image/png": "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\n"
          },
          "metadata": {
            "needs_background": "light"
          }
        },
        {
          "output_type": "display_data",
          "data": {
            "text/plain": [
              "<Figure size 432x288 with 0 Axes>"
            ]
          },
          "metadata": {}
        },
        {
          "output_type": "display_data",
          "data": {
            "text/plain": [
              "<Figure size 432x216 with 2 Axes>"
            ],
            "image/png": "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\n"
          },
          "metadata": {
            "needs_background": "light"
          }
        },
        {
          "output_type": "display_data",
          "data": {
            "text/plain": [
              "<Figure size 432x288 with 0 Axes>"
            ]
          },
          "metadata": {}
        }
      ]
    },
    {
      "cell_type": "markdown",
      "source": [
        "Por último en el caso 3, también falla el sneaker, sin embargo es más preciso que los anteriores, dado que hay menos probabilidades dudosas (franjas verdes)."
      ],
      "metadata": {
        "id": "qiebYfB-YRva"
      }
    },
    {
      "cell_type": "markdown",
      "source": [
        "## Comparativa con la Práctica 1\n"
      ],
      "metadata": {
        "id": "zsH03wvx_Zgi"
      }
    },
    {
      "cell_type": "markdown",
      "source": [
        "***8. Hacer comparativa con los resultados que obtuvisteis en la 'Práctica 1', con las\n",
        "capas Dense.***"
      ],
      "metadata": {
        "id": "zOjHnYOD_Si_"
      }
    },
    {
      "cell_type": "markdown",
      "source": [
        "Una vez realizado el análisis de los tres casos y obtenido una serie de resultados a partir de los datos proporcionados, podemos realizar una comparativa de los mismos con los obtenidos en la Práctica 1 realizada sobre esta misma base de imágenes.\n",
        "\n",
        "En el caso de la Práctica 2, hemos realizado un análisis de tres Casos, mientras en que en el de la Práctica 1 realizamos un análisis de ocho.\n",
        "\n",
        "Primero, vamos a comparar los resultados obtenidos en el Entrenamiento de los modelos. \n",
        "\n",
        "En el caso de la Práctica 1, se obtuvo que el Caso 8, con 512 número de neuronas en la primera capa, con sigmoid en función de activación en primera capa, con softmax en función de actiuvación en la última capa, rmsprop como optimizadory sparse_categorical_crossentropy como función de pérdida fue el modelo con mejores resultados."
      ],
      "metadata": {
        "id": "9XEdq_FKSk5l"
      }
    },
    {
      "cell_type": "markdown",
      "source": [
        "##Mejoras del modelo"
      ],
      "metadata": {
        "id": "yfn2ItndAC63"
      }
    },
    {
      "cell_type": "markdown",
      "source": [
        "###1ª Mejora del modelo"
      ],
      "metadata": {
        "id": "fHsGP7xpMO6C"
      }
    },
    {
      "cell_type": "markdown",
      "source": [
        "***9. Ver los conceptos de 'batch_normalization' y 'dropout'; y ver si se podría mejorar\n",
        "el modelo con ello.***"
      ],
      "metadata": {
        "id": "j_q01Xrh_fcj"
      }
    },
    {
      "cell_type": "markdown",
      "source": [
        "Antes de comenzar con su implementación en código, se comenzará introduciendo los términos y casos de uso de cada uno de los conceptos:"
      ],
      "metadata": {
        "id": "6EBYRG_dbH7D"
      }
    },
    {
      "cell_type": "markdown",
      "source": [
        "- ***batch_normalization***: la idea principal es que se trata de aquella capa en la que se normalizan las entradas. De esta manera, dicha función aplica una transformación que mantiene la media de las salidas cerca de 0,y su desviación típica cerca de 1. Asimismo, cabe destacar que trabaja de diferente forma dependiendo de si se utiliza durante el entrenamiento o durante la evaluación:\n",
        "  \n",
        "        1. Durante el entrenamiento: la capa normaliza sus salidas usando la media y la desviación típica del conocido como 'batch' actual de entradas.\n",
        "        2. Durante la evaluación: la capa normaliza sus salidas usando una media cambiante de la media y la desviación típica de aquellas 'batches' que haya visto en el periodo de entrenamiento.\n",
        "\n",
        "    Por ende, la capa normalizará únicamente sus salidas durante la evaluación, después de haber estado entrenándose con datos que contengan estadícticas similares a la de los datos de evalución."
      ],
      "metadata": {
        "id": "8SqF1ivvb3wv"
      }
    },
    {
      "cell_type": "markdown",
      "source": [
        "Pasaremos los siguientes parámetros para el uso de la función:\n",
        "\n",
        "*   initialiter: sirve para determinar como se inicializan los sesgos antes de inicializar el modelo. El predeterminado es 0.\n",
        "\n",
        "* une_bias: determina la aplicación del initialiter."
      ],
      "metadata": {
        "id": "nDZDP20wdkxn"
      }
    },
    {
      "cell_type": "code",
      "source": [
        "from keras import layers"
      ],
      "metadata": {
        "id": "0UkAlEqFX_Ph"
      },
      "execution_count": 41,
      "outputs": []
    },
    {
      "cell_type": "markdown",
      "source": [
        "**Caso 1**"
      ],
      "metadata": {
        "id": "cf6-U8fca9P0"
      }
    },
    {
      "cell_type": "code",
      "metadata": {
        "id": "lAJ_c9lQa9P0"
      },
      "source": [
        "# CREAR EL MODELO DE RED NEURONAL CNN:\n",
        "model1B = Sequential()\n",
        "model1B.add(Conv2D(32, (5, 5), activation='relu', input_shape=(28, 28, 1), use_bias=False)) # 1ª capa convolucional\n",
        "model1B.add(MaxPooling2D((2, 2))) # 1ª capa pooling\n",
        "\n",
        "model1B.add(Conv2D(64, (5, 5), activation='relu')) # 2ª capa convolucional\n",
        "model1B.add(MaxPooling2D((2, 2))) # 2ª capa pooling\n",
        "\n",
        "model1B.add(Flatten()) # Flatten no es una capa, sirve para aplanar\n",
        "\n",
        "model1B.add(Dense(10, activation='softmax')) # Última capa densa\n",
        "\n",
        "model1B.add(layers.BatchNormalization()) # Capa Batch Normalization"
      ],
      "execution_count": 42,
      "outputs": []
    },
    {
      "cell_type": "code",
      "source": [
        "# COMPILAR EL MODELO CON MÉTRICA PRECISIÓN:\n",
        "model1B.compile(loss='sparse_categorical_crossentropy',\n",
        "                optimizer='sgd',\n",
        "                metrics=['accuracy'])\n",
        "\n",
        "history = model1B.fit\n",
        "\n",
        "model1B.fit(train_images, train_labels,\n",
        "            epochs=5)\n",
        "\n",
        "test_loss1B, test_acc1B = model1B.evaluate(test_images, test_labels)"
      ],
      "metadata": {
        "colab": {
          "base_uri": "https://localhost:8080/"
        },
        "outputId": "40f270a5-3115-4ad5-acc0-e30196643316",
        "id": "V618gCXpa9P0"
      },
      "execution_count": 43,
      "outputs": [
        {
          "output_type": "stream",
          "name": "stdout",
          "text": [
            "Epoch 1/5\n",
            "1875/1875 [==============================] - 8s 4ms/step - loss: 3.0673 - accuracy: 0.1933\n",
            "Epoch 2/5\n",
            "1875/1875 [==============================] - 10s 5ms/step - loss: 2.3526 - accuracy: 0.0996\n",
            "Epoch 3/5\n",
            "1875/1875 [==============================] - 8s 4ms/step - loss: 2.3026 - accuracy: 0.1000\n",
            "Epoch 4/5\n",
            "1875/1875 [==============================] - 7s 4ms/step - loss: 2.3026 - accuracy: 0.1000\n",
            "Epoch 5/5\n",
            "1875/1875 [==============================] - 7s 4ms/step - loss: 2.3026 - accuracy: 0.1000\n",
            "313/313 [==============================] - 1s 3ms/step - loss: 2.3026 - accuracy: 0.1001\n"
          ]
        }
      ]
    },
    {
      "cell_type": "markdown",
      "source": [
        "**Caso 2**"
      ],
      "metadata": {
        "id": "OlaliR7qa9P1"
      }
    },
    {
      "cell_type": "code",
      "source": [
        "# CREAR EL MODELO DE RED NEURONAL CNN:\n",
        "model2B = Sequential()\n",
        "model2B.add(Conv2D(64, (7, 7), activation='relu', input_shape=(28, 28, 1), padding='same',use_bias=False)) # 1ª capa convolucional\n",
        "model2B.add(MaxPooling2D((2, 2))) # 1ª capa pooling\n",
        "\n",
        "model2B.add(Conv2D(128, (3, 3), activation='relu', padding='same')) # 2ª capa convolucional\n",
        "model2B.add(MaxPooling2D((2, 2))) # 2ª capa pooling\n",
        "\n",
        "model2B.add(Flatten()) # Flatten no es una capa, sirve para aplanar\n",
        "\n",
        "model2B.add(Dense(65,activation='relu')) # Penúltima capa densa\n",
        "\n",
        "model2B.add(Dense(10, activation='softmax')) # Última capa densa\n",
        "\n",
        "model2B.add(layers.BatchNormalization()) # Capa Batch Normalization"
      ],
      "metadata": {
        "id": "9JsQs068a9P1"
      },
      "execution_count": 44,
      "outputs": []
    },
    {
      "cell_type": "code",
      "source": [
        "# COMPILAR EL MODELO CON MÉTRICA PRECISIÓN:\n",
        "model2B.compile(loss='sparse_categorical_crossentropy',\n",
        "                optimizer='sgd',\n",
        "                metrics=['accuracy'])\n",
        "\n",
        "history = model2B.fit\n",
        "\n",
        "model2B.fit(train_images, train_labels,\n",
        "            epochs=5)\n",
        "\n",
        "test_loss2B, test_acc2B = model2B.evaluate(test_images, test_labels)"
      ],
      "metadata": {
        "colab": {
          "base_uri": "https://localhost:8080/"
        },
        "outputId": "7759d0ee-202a-4609-a75b-8857f30224d9",
        "id": "RixWHANja9P1"
      },
      "execution_count": 45,
      "outputs": [
        {
          "output_type": "stream",
          "name": "stdout",
          "text": [
            "Epoch 1/5\n",
            "1875/1875 [==============================] - 7s 4ms/step - loss: 6.9658 - accuracy: 0.1861\n",
            "Epoch 2/5\n",
            "1875/1875 [==============================] - 7s 4ms/step - loss: 11.9227 - accuracy: 0.1000\n",
            "Epoch 3/5\n",
            "1875/1875 [==============================] - 7s 4ms/step - loss: 11.9227 - accuracy: 0.1000\n",
            "Epoch 4/5\n",
            "1875/1875 [==============================] - 7s 4ms/step - loss: 11.9226 - accuracy: 0.1000\n",
            "Epoch 5/5\n",
            "1875/1875 [==============================] - 7s 4ms/step - loss: 11.9228 - accuracy: 0.1000\n",
            "313/313 [==============================] - 1s 3ms/step - loss: 11.9227 - accuracy: 0.1000\n"
          ]
        }
      ]
    },
    {
      "cell_type": "markdown",
      "source": [
        "**Caso 3**"
      ],
      "metadata": {
        "id": "xw6sQo9pa9P1"
      }
    },
    {
      "cell_type": "code",
      "source": [
        "# CREAR EL MODELO DE RED NEURONAL CNN:\n",
        "model3B = Sequential()\n",
        "model3B.add(Conv2D(64, (7, 7), activation='relu', input_shape=(28, 28, 1), padding='same',use_bias=False)) # 1ª capa convolucional\n",
        "model3B.add(MaxPooling2D((2, 2))) # 1ª capa pooling\n",
        "\n",
        "model3B.add(Conv2D(128, (3, 3), activation='relu', padding='same')) # 2ª capa convolucional\n",
        "model3B.add(MaxPooling2D((2, 2))) # 2ª capa pooling\n",
        "\n",
        "model3B.add(Flatten()) # Flatten no es una capa, sirve para aplanar\n",
        "\n",
        "model3B.add(Dense(65,activation='relu')) # Penúltima capa densa\n",
        "\n",
        "model3B.add(Dense(10, activation='softmax')) # Última capa densa\n",
        "\n",
        "model3B.add(layers.BatchNormalization()) # Capa Batch Normalization"
      ],
      "metadata": {
        "id": "NzB15nlwa9P1"
      },
      "execution_count": 46,
      "outputs": []
    },
    {
      "cell_type": "code",
      "source": [
        "# COMPILAR EL MODELO CON MÉTRICA PRECISIÓN:\n",
        "model3B.compile(loss='sparse_categorical_crossentropy',\n",
        "                optimizer='adam',\n",
        "                metrics=['accuracy'])\n",
        "\n",
        "history = model3B.fit\n",
        "\n",
        "model3B.fit(train_images, train_labels,\n",
        "            epochs=5)\n",
        "\n",
        "test_loss3B, test_acc3B = model3B.evaluate(test_images, test_labels)"
      ],
      "metadata": {
        "colab": {
          "base_uri": "https://localhost:8080/"
        },
        "outputId": "88b3bd7e-058e-4b34-a3a1-ecd5141332e6",
        "id": "1FR02QmFa9P1"
      },
      "execution_count": 47,
      "outputs": [
        {
          "output_type": "stream",
          "name": "stdout",
          "text": [
            "Epoch 1/5\n",
            "1875/1875 [==============================] - 8s 4ms/step - loss: 3.1634 - accuracy: 0.3126\n",
            "Epoch 2/5\n",
            "1875/1875 [==============================] - 7s 4ms/step - loss: 2.3028 - accuracy: 0.1001\n",
            "Epoch 3/5\n",
            "1875/1875 [==============================] - 7s 4ms/step - loss: 2.3026 - accuracy: 0.1001\n",
            "Epoch 4/5\n",
            "1875/1875 [==============================] - 7s 4ms/step - loss: 2.3026 - accuracy: 0.1001\n",
            "Epoch 5/5\n",
            "1875/1875 [==============================] - 7s 4ms/step - loss: 2.3026 - accuracy: 0.1001\n",
            "313/313 [==============================] - 1s 3ms/step - loss: 2.3024 - accuracy: 0.1001\n"
          ]
        }
      ]
    },
    {
      "cell_type": "markdown",
      "source": [
        "Con estos modelos obtenemos de 0.10 en todos ellos. Sin embargo, en el caso 1 se obtiene en la primera época, mientras que en los demás se alcanza en la segunda época."
      ],
      "metadata": {
        "id": "ORZ2dG32dfHX"
      }
    },
    {
      "cell_type": "markdown",
      "source": [
        "**Caso 1 (con use_bias='True' e inicializador)**"
      ],
      "metadata": {
        "id": "yHr1hC2scgDg"
      }
    },
    {
      "cell_type": "code",
      "metadata": {
        "id": "PYCVCDZlcgDh"
      },
      "source": [
        "# CREAR EL MODELO DE RED NEURONAL CNN:\n",
        "model1BT = Sequential()\n",
        "bias_initializer = tf.keras.initializers.HeNormal()\n",
        "model1BT.add(Conv2D(32, (5, 5), activation='relu', input_shape=(28, 28, 1),use_bias=True,bias_initializer=bias_initializer)) # 1ª capa convolucional\n",
        "model1BT.add(MaxPooling2D((2, 2))) # 1ª capa pooling\n",
        "\n",
        "model1BT.add(Conv2D(64, (5, 5), activation='relu')) # 2ª capa convolucional\n",
        "model1BT.add(MaxPooling2D((2, 2))) # 2ª capa pooling\n",
        "\n",
        "model1BT.add(Flatten()) # Flatten no es una capa, sirve para aplanar\n",
        "\n",
        "model1BT.add(Dense(10, activation='softmax')) # Última capa densa\n",
        "\n",
        "model1BT.add(layers.BatchNormalization()) # Capa Batch Normalization"
      ],
      "execution_count": 48,
      "outputs": []
    },
    {
      "cell_type": "code",
      "source": [
        "# COMPILAR EL MODELO CON MÉTRICA PRECISIÓN:\n",
        "model1BT.compile(loss='sparse_categorical_crossentropy',\n",
        "                optimizer='sgd',\n",
        "                metrics=['accuracy'])\n",
        "\n",
        "history = model1BT.fit\n",
        "\n",
        "model1BT.fit(train_images, train_labels,\n",
        "            epochs=5)\n",
        "\n",
        "test_loss1BT, test_acc1BT = model1BT.evaluate(test_images, test_labels)"
      ],
      "metadata": {
        "colab": {
          "base_uri": "https://localhost:8080/"
        },
        "outputId": "c395c20e-538b-4d0b-b1d1-7b6058817729",
        "id": "DkXTFU2zcgDi"
      },
      "execution_count": 49,
      "outputs": [
        {
          "output_type": "stream",
          "name": "stdout",
          "text": [
            "Epoch 1/5\n",
            "1875/1875 [==============================] - 6s 3ms/step - loss: 2.0989 - accuracy: 0.2718\n",
            "Epoch 2/5\n",
            "1875/1875 [==============================] - 6s 3ms/step - loss: 2.3026 - accuracy: 0.1000\n",
            "Epoch 3/5\n",
            "1875/1875 [==============================] - 6s 3ms/step - loss: 2.3026 - accuracy: 0.1000\n",
            "Epoch 4/5\n",
            "1875/1875 [==============================] - 10s 5ms/step - loss: 2.3026 - accuracy: 0.1000\n",
            "Epoch 5/5\n",
            "1875/1875 [==============================] - 7s 4ms/step - loss: 2.3026 - accuracy: 0.1000\n",
            "313/313 [==============================] - 1s 4ms/step - loss: 2.3026 - accuracy: 0.1000\n"
          ]
        }
      ]
    },
    {
      "cell_type": "markdown",
      "source": [
        "**Caso 2 (con use_bias='True')**"
      ],
      "metadata": {
        "id": "mGubHRPqcgDj"
      }
    },
    {
      "cell_type": "code",
      "source": [
        "# CREAR EL MODELO DE RED NEURONAL CNN:\n",
        "model2BT = Sequential()\n",
        "bias_initializer = tf.keras.initializers.HeNormal()\n",
        "model2BT.add(Conv2D(64, (7, 7), activation='relu', input_shape=(28, 28, 1), padding='same',use_bias=True,bias_initializer=bias_initializer)) # 1ª capa convolucional\n",
        "model2BT.add(MaxPooling2D((2, 2))) # 1ª capa pooling\n",
        "\n",
        "model2BT.add(Conv2D(128, (3, 3), activation='relu', padding='same')) # 2ª capa convolucional\n",
        "model2BT.add(MaxPooling2D((2, 2))) # 2ª capa pooling\n",
        "\n",
        "model2BT.add(Flatten()) # Flatten no es una capa, sirve para aplanar\n",
        "\n",
        "model2BT.add(Dense(65,activation='relu')) # Penúltima capa densa\n",
        "\n",
        "model2BT.add(Dense(10, activation='softmax')) # Última capa densa\n",
        "\n",
        "model2BT.add(layers.BatchNormalization()) # Capa Batch Normalization"
      ],
      "metadata": {
        "id": "xyrr4lHUcgDk"
      },
      "execution_count": 50,
      "outputs": []
    },
    {
      "cell_type": "code",
      "source": [
        "# COMPILAR EL MODELO CON MÉTRICA PRECISIÓN:\n",
        "model2BT.compile(loss='sparse_categorical_crossentropy',\n",
        "                optimizer='sgd',\n",
        "                metrics=['accuracy'])\n",
        "\n",
        "history = model2BT.fit\n",
        "\n",
        "model2BT.fit(train_images, train_labels,\n",
        "            epochs=5)\n",
        "\n",
        "test_loss2BT, test_acc2BT = model2BT.evaluate(test_images, test_labels)"
      ],
      "metadata": {
        "colab": {
          "base_uri": "https://localhost:8080/"
        },
        "outputId": "0cbe4064-35d7-4ed3-fc3d-84dc0a6e77ec",
        "id": "93JmZ18qcgDk"
      },
      "execution_count": 51,
      "outputs": [
        {
          "output_type": "stream",
          "name": "stdout",
          "text": [
            "Epoch 1/5\n",
            "1875/1875 [==============================] - 9s 5ms/step - loss: 2.3329 - accuracy: 0.1004\n",
            "Epoch 2/5\n",
            "1875/1875 [==============================] - 7s 4ms/step - loss: 2.3026 - accuracy: 0.1000\n",
            "Epoch 3/5\n",
            "1875/1875 [==============================] - 8s 4ms/step - loss: 2.3026 - accuracy: 0.1000\n",
            "Epoch 4/5\n",
            "1875/1875 [==============================] - 7s 4ms/step - loss: 2.3026 - accuracy: 0.1000\n",
            "Epoch 5/5\n",
            "1875/1875 [==============================] - 8s 4ms/step - loss: 2.3026 - accuracy: 0.1000\n",
            "313/313 [==============================] - 1s 3ms/step - loss: 2.3026 - accuracy: 0.1000\n"
          ]
        }
      ]
    },
    {
      "cell_type": "markdown",
      "source": [
        "**Caso 3 (con use_bias='True')**"
      ],
      "metadata": {
        "id": "aDZVQDohcgDl"
      }
    },
    {
      "cell_type": "code",
      "source": [
        "# CREAR EL MODELO DE RED NEURONAL CNN:\n",
        "model3BT = Sequential()\n",
        "bias_initializer = tf.keras.initializers.HeNormal()\n",
        "model3BT.add(Conv2D(64, (7, 7), activation='relu', input_shape=(28, 28, 1), padding='same',use_bias=True,bias_initializer=bias_initializer)) # 1ª capa convolucional\n",
        "model3BT.add(MaxPooling2D((2, 2))) # 1ª capa pooling\n",
        "\n",
        "model3BT.add(Conv2D(128, (3, 3), activation='relu', padding='same')) # 2ª capa convolucional\n",
        "model3BT.add(MaxPooling2D((2, 2))) # 2ª capa pooling\n",
        "\n",
        "model3BT.add(Flatten()) # Flatten no es una capa, sirve para aplanar\n",
        "\n",
        "model3BT.add(Dense(65,activation='relu')) # Penúltima capa densa\n",
        "\n",
        "model3BT.add(Dense(10, activation='softmax')) # Última capa densa\n",
        "\n",
        "model3BT.add(layers.BatchNormalization()) # Capa Batch Normalization"
      ],
      "metadata": {
        "id": "IiF6mNpvcgDl"
      },
      "execution_count": 52,
      "outputs": []
    },
    {
      "cell_type": "code",
      "source": [
        "# COMPILAR EL MODELO CON MÉTRICA PRECISIÓN:\n",
        "model3BT.compile(loss='sparse_categorical_crossentropy',\n",
        "                optimizer='adam',\n",
        "                metrics=['accuracy'])\n",
        "\n",
        "history = model3BT.fit\n",
        "\n",
        "model3BT.fit(train_images, train_labels,\n",
        "            epochs=5)\n",
        "\n",
        "test_loss3BT, test_acc3BT = model3BT.evaluate(test_images, test_labels)"
      ],
      "metadata": {
        "colab": {
          "base_uri": "https://localhost:8080/"
        },
        "outputId": "a17de492-423f-4e16-f5a3-e2ff0c86241c",
        "id": "cpqGJOAjcgDm"
      },
      "execution_count": 53,
      "outputs": [
        {
          "output_type": "stream",
          "name": "stdout",
          "text": [
            "Epoch 1/5\n",
            "1875/1875 [==============================] - 8s 4ms/step - loss: 2.4486 - accuracy: 0.4315\n",
            "Epoch 2/5\n",
            "1875/1875 [==============================] - 7s 4ms/step - loss: 1.3837 - accuracy: 0.5068\n",
            "Epoch 3/5\n",
            "1875/1875 [==============================] - 7s 4ms/step - loss: 2.1360 - accuracy: 0.2622\n",
            "Epoch 4/5\n",
            "1875/1875 [==============================] - 8s 4ms/step - loss: 1.8444 - accuracy: 0.3349\n",
            "Epoch 5/5\n",
            "1875/1875 [==============================] - 7s 4ms/step - loss: 3.6753 - accuracy: 0.1988\n",
            "313/313 [==============================] - 1s 3ms/step - loss: 12.5133 - accuracy: 0.1000\n"
          ]
        }
      ]
    },
    {
      "cell_type": "markdown",
      "source": [
        "Obtenemos unos valores menores que los primeros modelos, además en todos ellos se obtiene una precisión máxima, aunque baja, en las primeras épocas y esta decrece a lo largo de las épocas posteriores, por lo que se produce sobre entrenamiento. Sin embargo son precisiones mayores que sin sesgar. Podría ser que con un inicializador diferente obtuvieramos mejores resultados. Y la función de perdida es menor."
      ],
      "metadata": {
        "id": "BldNQdsGfohf"
      }
    },
    {
      "cell_type": "markdown",
      "source": [
        "- ***dropout***: esta capa establece - de manera aleatoria - unidades de entrada a 0 con una fecuencia de una vez cada paso del tiempo de entrenamiento. Esto ayuda a prevenir el peligroso 'sobre entrenamiento', también conocido por su traducción inglesa como 'overfitting'. Aquellas entradas que no se establezcan como 0 se escalan hasta por \"1/(1 - ratio)\", de forma que la suma sobre todas las entradas permanece inalterada."
      ],
      "metadata": {
        "id": "Cuv9-15Wb6dX"
      }
    },
    {
      "cell_type": "markdown",
      "source": [
        "**Caso 1**"
      ],
      "metadata": {
        "id": "cXS9BXAnXPDP"
      }
    },
    {
      "cell_type": "code",
      "metadata": {
        "id": "03CNbNOAXeE8"
      },
      "source": [
        "# CREAR EL MODELO DE RED NEURONAL CNN:\n",
        "model1D = Sequential()\n",
        "model1D.add(Conv2D(32, (5, 5), activation='relu', input_shape=(28, 28, 1))) # 1ª capa convolucional\n",
        "model1D.add(MaxPooling2D((2, 2))) # 1ª capa pooling\n",
        "\n",
        "model1D.add(Conv2D(64, (5, 5), activation='relu')) # 2ª capa convolucional\n",
        "model1D.add(MaxPooling2D((2, 2))) # 2ª capa pooling\n",
        "\n",
        "model1D.add(Flatten()) # Flatten no es una capa, sirve para aplanar\n",
        "\n",
        "model1D.add(Dense(10, activation='softmax')) # Última capa densa\n",
        "\n",
        "model1D.add(layers.Dropout(0.5)) # Capa Dropout"
      ],
      "execution_count": 54,
      "outputs": []
    },
    {
      "cell_type": "code",
      "source": [
        "# COMPILAR EL MODELO CON MÉTRICA PRECISIÓN:\n",
        "model1D.compile(loss='sparse_categorical_crossentropy',\n",
        "                optimizer='sgd',\n",
        "                metrics=['accuracy'])\n",
        "\n",
        "history = model1D.fit\n",
        "\n",
        "model1D.fit(train_images, train_labels,\n",
        "            epochs=5)\n",
        "\n",
        "test_loss1D, test_acc1D = model1D.evaluate(test_images, test_labels)"
      ],
      "metadata": {
        "colab": {
          "base_uri": "https://localhost:8080/"
        },
        "outputId": "556e9253-043a-4500-8945-f0b9f6e6e323",
        "id": "n9P9hfJ5XTks"
      },
      "execution_count": 55,
      "outputs": [
        {
          "output_type": "stream",
          "name": "stdout",
          "text": [
            "Epoch 1/5\n",
            "1875/1875 [==============================] - 6s 3ms/step - loss: 5.2662 - accuracy: 0.3405\n",
            "Epoch 2/5\n",
            "1875/1875 [==============================] - 6s 3ms/step - loss: 3.4215 - accuracy: 0.4184\n",
            "Epoch 3/5\n",
            "1875/1875 [==============================] - 6s 3ms/step - loss: 3.1235 - accuracy: 0.4400\n",
            "Epoch 4/5\n",
            "1875/1875 [==============================] - 6s 3ms/step - loss: 2.9703 - accuracy: 0.4482\n",
            "Epoch 5/5\n",
            "1875/1875 [==============================] - 5s 3ms/step - loss: 2.8798 - accuracy: 0.4532\n",
            "313/313 [==============================] - 1s 3ms/step - loss: 2.8373 - accuracy: 0.7951\n"
          ]
        }
      ]
    },
    {
      "cell_type": "markdown",
      "source": [
        "**Caso 2**"
      ],
      "metadata": {
        "id": "8E0bDk47XPKF"
      }
    },
    {
      "cell_type": "code",
      "source": [
        "# CREAR EL MODELO DE RED NEURONAL CNN:\n",
        "model2D = Sequential()\n",
        "model2D.add(Conv2D(64, (7, 7), activation='relu', input_shape=(28, 28, 1), padding='same')) # 1ª capa convolucional\n",
        "model2D.add(MaxPooling2D((2, 2))) # 1ª capa pooling\n",
        "\n",
        "model2D.add(Conv2D(128, (3, 3), activation='relu', padding='same')) # 2ª capa convolucional\n",
        "model2D.add(MaxPooling2D((2, 2))) # 2ª capa pooling\n",
        "\n",
        "model2D.add(Flatten()) # Flatten no es una capa, sirve para aplanar\n",
        "\n",
        "model2D.add(Dense(65,activation='relu')) # Penúltima capa densa\n",
        "\n",
        "model2D.add(Dense(10, activation='softmax')) # Última capa densa\n",
        "\n",
        "model2D.add(layers.Dropout(0.5)) # Capa Dropout"
      ],
      "metadata": {
        "id": "jOzzYpvHYuOv"
      },
      "execution_count": 56,
      "outputs": []
    },
    {
      "cell_type": "code",
      "source": [
        "# COMPILAR EL MODELO CON MÉTRICA PRECISIÓN:\n",
        "model2D.compile(loss='sparse_categorical_crossentropy',\n",
        "                optimizer='sgd',\n",
        "                metrics=['accuracy'])\n",
        "\n",
        "history = model2D.fit\n",
        "\n",
        "model2D.fit(train_images, train_labels,\n",
        "            epochs=5)\n",
        "\n",
        "test_loss2D, test_acc2D = model2D.evaluate(test_images, test_labels)"
      ],
      "metadata": {
        "colab": {
          "base_uri": "https://localhost:8080/"
        },
        "outputId": "df7a9f23-1507-4ab4-cc02-c2f03e4ac78e",
        "id": "W8_Xt3hCY616"
      },
      "execution_count": 57,
      "outputs": [
        {
          "output_type": "stream",
          "name": "stdout",
          "text": [
            "Epoch 1/5\n",
            "1875/1875 [==============================] - 7s 3ms/step - loss: 5.2700 - accuracy: 0.3353\n",
            "Epoch 2/5\n",
            "1875/1875 [==============================] - 6s 3ms/step - loss: 3.8077 - accuracy: 0.4087\n",
            "Epoch 3/5\n",
            "1875/1875 [==============================] - 6s 3ms/step - loss: 3.2713 - accuracy: 0.4347\n",
            "Epoch 4/5\n",
            "1875/1875 [==============================] - 7s 4ms/step - loss: 3.0121 - accuracy: 0.4477\n",
            "Epoch 5/5\n",
            "1875/1875 [==============================] - 6s 3ms/step - loss: 2.8294 - accuracy: 0.4541\n",
            "313/313 [==============================] - 1s 3ms/step - loss: 3.3249 - accuracy: 0.7708\n"
          ]
        }
      ]
    },
    {
      "cell_type": "markdown",
      "source": [
        "**Caso 3**"
      ],
      "metadata": {
        "id": "j7chjN_nXPQD"
      }
    },
    {
      "cell_type": "code",
      "source": [
        "# CREAR EL MODELO DE RED NEURONAL CNN:\n",
        "model3D = Sequential()\n",
        "model3D.add(Conv2D(64, (7, 7), activation='relu', input_shape=(28, 28, 1), padding='same')) # 1ª capa convolucional\n",
        "model3D.add(MaxPooling2D((2, 2))) # 1ª capa pooling\n",
        "\n",
        "model3D.add(Conv2D(128, (3, 3), activation='relu', padding='same')) # 2ª capa convolucional\n",
        "model3D.add(MaxPooling2D((2, 2))) # 2ª capa pooling\n",
        "\n",
        "model3D.add(Flatten()) # Flatten no es una capa, sirve para aplanar\n",
        "\n",
        "model3D.add(Dense(65,activation='relu')) # Penúltima capa densa\n",
        "\n",
        "model3D.add(Dense(10, activation='softmax')) # Última capa densa\n",
        "\n",
        "model3D.add(layers.Dropout(0.5)) # Capa Dropout"
      ],
      "metadata": {
        "id": "2jBarvUYZNyw"
      },
      "execution_count": 58,
      "outputs": []
    },
    {
      "cell_type": "code",
      "source": [
        "# COMPILAR EL MODELO CON MÉTRICA PRECISIÓN:\n",
        "model3D.compile(loss='sparse_categorical_crossentropy',\n",
        "                optimizer='adam',\n",
        "                metrics=['accuracy'])\n",
        "\n",
        "history = model3D.fit\n",
        "\n",
        "model3D.fit(train_images, train_labels,\n",
        "            epochs=5)\n",
        "\n",
        "test_loss3D, test_acc3D = model3D.evaluate(test_images, test_labels)"
      ],
      "metadata": {
        "colab": {
          "base_uri": "https://localhost:8080/"
        },
        "outputId": "e8fbd98a-07ec-4736-c691-2c524cfd870a",
        "id": "hh5Raq9XZNyx"
      },
      "execution_count": 59,
      "outputs": [
        {
          "output_type": "stream",
          "name": "stdout",
          "text": [
            "Epoch 1/5\n",
            "1875/1875 [==============================] - 7s 3ms/step - loss: 3.8461 - accuracy: 0.3933\n",
            "Epoch 2/5\n",
            "1875/1875 [==============================] - 6s 3ms/step - loss: 3.3616 - accuracy: 0.4204\n",
            "Epoch 3/5\n",
            "1875/1875 [==============================] - 6s 3ms/step - loss: 3.0500 - accuracy: 0.4375\n",
            "Epoch 4/5\n",
            "1875/1875 [==============================] - 6s 3ms/step - loss: 2.9212 - accuracy: 0.4476\n",
            "Epoch 5/5\n",
            "1875/1875 [==============================] - 6s 3ms/step - loss: 2.8643 - accuracy: 0.4493\n",
            "313/313 [==============================] - 1s 3ms/step - loss: 3.6927 - accuracy: 0.7661\n"
          ]
        }
      ]
    },
    {
      "cell_type": "markdown",
      "source": [
        "Las ventajas de usar 'batch normalization' son parecidas a las ventajas ofrecidas por el uso de 'dropout'. Es posible usar ambos métodos al mismo tiempo; aunque lo recomendable es usar primero 'batch normalization' y después, si fuese necesario, aplicar 'dropout'. Por tanto, debido a que se ha comprobado la efictividad de cada método por separado, a continuación se emplearán ambas al mismo modelo. Analizaremos las diferencias visibles que se produzcan."
      ],
      "metadata": {
        "id": "I4bolpwx2hm2"
      }
    },
    {
      "cell_type": "markdown",
      "source": [
        "Con valores dropout obtenemos mejores precisiones que en los modelos con bach_normalitation. Sin embargo, siguen siendo valores menores que en los primeros modelos, lo que indica que deberíamos estudiar la respuesta de los modelos a variaciones en el porcentaje del dropout."
      ],
      "metadata": {
        "id": "RT4XHQURhuEc"
      }
    },
    {
      "cell_type": "markdown",
      "source": [
        "**Caso 3 (bach normalitation + dropout)**"
      ],
      "metadata": {
        "id": "jaZqSWc8jaCj"
      }
    },
    {
      "cell_type": "code",
      "source": [
        "# CREAR EL MODELO DE RED NEURONAL CNN:\n",
        "model3DD = Sequential()\n",
        "model3DD.add(Conv2D(64, (7, 7), activation='relu', input_shape=(28, 28, 1), padding='same')) # 1ª capa convolucional\n",
        "model3DD.add(MaxPooling2D((2, 2))) # 1ª capa pooling\n",
        "\n",
        "model3DD.add(Conv2D(128, (3, 3), activation='relu', padding='same')) # 2ª capa convolucional\n",
        "model3DD.add(MaxPooling2D((2, 2))) # 2ª capa pooling\n",
        "\n",
        "model3DD.add(Flatten()) # Flatten no es una capa, sirve para aplanar\n",
        "\n",
        "model3DD.add(Dense(65,activation='relu')) # Penúltima capa densa\n",
        "\n",
        "model3DD.add(Dense(10, activation='softmax')) # Última capa densa\n",
        "\n",
        "model3DD.add(layers.BatchNormalization()) # Capa Batch Normalization\n",
        "\n",
        "model3DD.add(layers.Dropout(0.5)) # Capa Dropout"
      ],
      "metadata": {
        "id": "_Sw-NZacjaCk"
      },
      "execution_count": 60,
      "outputs": []
    },
    {
      "cell_type": "code",
      "source": [
        "# COMPILAR EL MODELO CON MÉTRICA PRECISIÓN:\n",
        "model3DD.compile(loss='sparse_categorical_crossentropy',\n",
        "                optimizer='adam',\n",
        "                metrics=['accuracy'])\n",
        "\n",
        "history = model3DD.fit\n",
        "\n",
        "model3DD.fit(train_images, train_labels,\n",
        "            epochs=5)\n",
        "\n",
        "test_loss3DD, test_acc3DD = model3DD.evaluate(test_images, test_labels)"
      ],
      "metadata": {
        "colab": {
          "base_uri": "https://localhost:8080/"
        },
        "outputId": "367b6538-ac81-422e-af2c-4bff6f3a60e2",
        "id": "jjX85t4LjaCl"
      },
      "execution_count": 61,
      "outputs": [
        {
          "output_type": "stream",
          "name": "stdout",
          "text": [
            "Epoch 1/5\n",
            "1875/1875 [==============================] - 8s 4ms/step - loss: 2.6607 - accuracy: 0.1177\n",
            "Epoch 2/5\n",
            "1875/1875 [==============================] - 7s 4ms/step - loss: 2.3024 - accuracy: 0.1026\n",
            "Epoch 3/5\n",
            "1875/1875 [==============================] - 7s 4ms/step - loss: 2.3027 - accuracy: 0.1005\n",
            "Epoch 4/5\n",
            "1875/1875 [==============================] - 7s 4ms/step - loss: 2.3026 - accuracy: 0.0986\n",
            "Epoch 5/5\n",
            "1875/1875 [==============================] - 7s 4ms/step - loss: 2.3026 - accuracy: 0.0997\n",
            "313/313 [==============================] - 1s 3ms/step - loss: 2.3026 - accuracy: 0.1811\n"
          ]
        }
      ]
    },
    {
      "cell_type": "markdown",
      "source": [
        "No solo se produce sobre entramiento y fluctuaciones, sino que la precisión es menor, por lo que no conviene combinarlos para estos modelos."
      ],
      "metadata": {
        "id": "z36Aas7bj5WY"
      }
    },
    {
      "cell_type": "markdown",
      "source": [
        "###2ª Mejora del modelo"
      ],
      "metadata": {
        "id": "gOEtq36QYGIN"
      }
    },
    {
      "cell_type": "markdown",
      "source": [
        "***10. Ver los conceptos de 'callbacks' (Decaimiento del ratio de aprendizaje), y ver si se\n",
        "podría mejorar el modelo con ello.***"
      ],
      "metadata": {
        "id": "jvst3fHRYJVU"
      }
    },
    {
      "cell_type": "markdown",
      "source": [
        "Siguiendo la misma estructura que aquella del apartado anterior, se comenzará exponiendo las ideas generales de los conceptos de ***callbacks***:\n",
        "Un 'callback' es un objeto capaz de llevar a cabo acciones en diferentes etapas del entrenamiento. Algunos ejemplos podrían ser su aplicación al comenzar o terminar una época ('epoch'), antes o después de un único 'batch',... Por ende, es posible aplicarlos en diversos momentos y con diferentes objetivos."
      ],
      "metadata": {
        "id": "YyTDGVXlblcL"
      }
    },
    {
      "cell_type": "markdown",
      "source": [
        "Al igual que en funciones anteriores existen diversos parámetros que podemos aplicar. Con el proposito de estudiar estos modelos hemos elegido el siguiente:"
      ],
      "metadata": {
        "id": "pydRlWcUlBqE"
      }
    },
    {
      "cell_type": "code",
      "source": [
        "tf.keras.callbacks.Callback()"
      ],
      "metadata": {
        "colab": {
          "base_uri": "https://localhost:8080/"
        },
        "id": "bT-ieA-kk1vV",
        "outputId": "da984ef3-9b6d-4185-f490-f5063a9e2033"
      },
      "execution_count": 62,
      "outputs": [
        {
          "output_type": "execute_result",
          "data": {
            "text/plain": [
              "<keras.callbacks.Callback at 0x7f624647afd0>"
            ]
          },
          "metadata": {},
          "execution_count": 62
        }
      ]
    },
    {
      "cell_type": "code",
      "source": [
        "def scheduler(epoch, lr):\n",
        "   if epoch < 10:\n",
        "     return lr\n",
        "   else:\n",
        "     return lr * tf.math.exp(-0.1)"
      ],
      "metadata": {
        "id": "k_uJV4r3vFP5"
      },
      "execution_count": 69,
      "outputs": []
    },
    {
      "cell_type": "code",
      "source": [
        "callback = tf.keras.callbacks.LearningRateScheduler(scheduler)"
      ],
      "metadata": {
        "id": "n_XArxW1vK7n"
      },
      "execution_count": 70,
      "outputs": []
    },
    {
      "cell_type": "markdown",
      "source": [
        "Esta funcion deja los primeros rangos de aprendizaje para las primeras 10 épocas, tras eso decrece de forma exponencial."
      ],
      "metadata": {
        "id": "AUUGkFbZvZgA"
      }
    },
    {
      "cell_type": "markdown",
      "source": [
        "**Caso 1**"
      ],
      "metadata": {
        "id": "krZd8_Be3i1N"
      }
    },
    {
      "cell_type": "code",
      "metadata": {
        "id": "4JzcH14h3i1O"
      },
      "source": [
        "# CREAR EL MODELO DE RED NEURONAL CNN:\n",
        "model1F = Sequential()\n",
        "model1F.add(Conv2D(32, (5, 5), activation='relu', input_shape=(28, 28, 1))) # 1ª capa convolucional\n",
        "model1F.add(MaxPooling2D((2, 2))) # 1ª capa pooling\n",
        "\n",
        "model1F.add(Conv2D(64, (5, 5), activation='relu')) # 2ª capa convolucional\n",
        "model1F.add(MaxPooling2D((2, 2))) # 2ª capa pooling\n",
        "\n",
        "model1F.add(Flatten()) # Flatten sirve para aplanar\n",
        "\n",
        "model1F.add(Dense(10, activation='softmax')) # Última capa densa"
      ],
      "execution_count": 71,
      "outputs": []
    },
    {
      "cell_type": "code",
      "source": [
        "# COMPILAR EL MODELO CON MÉTRICA PRECISIÓN:\n",
        "model1F.compile(loss='sparse_categorical_crossentropy',\n",
        "                 optimizer='sgd',\n",
        "                 metrics=['accuracy'])\n",
        "\n",
        "history = model1F.fit\n",
        "\n",
        "model1F.fit(train_images, train_labels,\n",
        "             epochs=5,callbacks=[callback])\n",
        "\n",
        "test_loss1F, test_acc1F = model1F.evaluate(test_images, test_labels)\n"
      ],
      "metadata": {
        "id": "TIVbe9tz3i1O",
        "colab": {
          "base_uri": "https://localhost:8080/"
        },
        "outputId": "0a72185e-0771-4d7b-dfd1-f91250f64278"
      },
      "execution_count": 72,
      "outputs": [
        {
          "output_type": "stream",
          "name": "stdout",
          "text": [
            "Epoch 1/5\n",
            "1875/1875 [==============================] - 6s 3ms/step - loss: 0.8327 - accuracy: 0.7046 - lr: 0.0100\n",
            "Epoch 2/5\n",
            "1875/1875 [==============================] - 5s 3ms/step - loss: 0.5207 - accuracy: 0.8112 - lr: 0.0100\n",
            "Epoch 3/5\n",
            "1875/1875 [==============================] - 5s 3ms/step - loss: 0.4571 - accuracy: 0.8373 - lr: 0.0100\n",
            "Epoch 4/5\n",
            "1875/1875 [==============================] - 5s 3ms/step - loss: 0.4217 - accuracy: 0.8501 - lr: 0.0100\n",
            "Epoch 5/5\n",
            "1875/1875 [==============================] - 5s 3ms/step - loss: 0.3989 - accuracy: 0.8581 - lr: 0.0100\n",
            "313/313 [==============================] - 1s 3ms/step - loss: 0.4062 - accuracy: 0.8578\n"
          ]
        }
      ]
    },
    {
      "cell_type": "markdown",
      "source": [
        "**Caso 2**"
      ],
      "metadata": {
        "id": "lYfDFcw03i1O"
      }
    },
    {
      "cell_type": "code",
      "source": [
        "# CREAR EL MODELO DE RED NEURONAL CNN:\n",
        "model2F = Sequential()\n",
        "model2F.add(Conv2D(64, (7, 7), activation='relu', input_shape=(28, 28, 1), padding='same')) # 1ª capa convolucional\n",
        "model2F.add(MaxPooling2D((2, 2))) # 1ª capa pooling\n",
        "\n",
        "model2F.add(Conv2D(128, (3, 3), activation='relu', padding='same')) # 2ª capa convolucional\n",
        "model2F.add(MaxPooling2D((2, 2))) # 2ª capa pooling\n",
        "\n",
        "model2F.add(Flatten()) # Flatten sirve para aplanar\n",
        "\n",
        "model2F.add(Dense(65,activation='relu')) # Penúltima capa densa\n",
        "\n",
        "model2F.add(Dense(10, activation='softmax')) # Última capa densa"
      ],
      "metadata": {
        "id": "V27oo2bd3i1O"
      },
      "execution_count": 73,
      "outputs": []
    },
    {
      "cell_type": "code",
      "source": [
        "# COMPILAR EL MODELO CON MÉTRICA PRECISIÓN:\n",
        "model2F.compile(loss='sparse_categorical_crossentropy',\n",
        "                 optimizer='sgd',\n",
        "                 metrics=['accuracy'])\n",
        "\n",
        "history = model2F.fit\n",
        "\n",
        "model2F.fit(train_images, train_labels,\n",
        "             epochs=5, callbacks=[callback])\n",
        "\n",
        "test_loss2F, test_acc2F = model2F.evaluate(test_images, test_labels)"
      ],
      "metadata": {
        "id": "JQtj2vBw3i1O",
        "colab": {
          "base_uri": "https://localhost:8080/"
        },
        "outputId": "3ea1226d-b554-4e1c-edc8-ca76a5e6cd69"
      },
      "execution_count": 74,
      "outputs": [
        {
          "output_type": "stream",
          "name": "stdout",
          "text": [
            "Epoch 1/5\n",
            "1875/1875 [==============================] - 6s 3ms/step - loss: 0.7810 - accuracy: 0.7165 - lr: 0.0100\n",
            "Epoch 2/5\n",
            "1875/1875 [==============================] - 6s 3ms/step - loss: 0.4989 - accuracy: 0.8192 - lr: 0.0100\n",
            "Epoch 3/5\n",
            "1875/1875 [==============================] - 6s 3ms/step - loss: 0.4227 - accuracy: 0.8482 - lr: 0.0100\n",
            "Epoch 4/5\n",
            "1875/1875 [==============================] - 6s 3ms/step - loss: 0.3856 - accuracy: 0.8624 - lr: 0.0100\n",
            "Epoch 5/5\n",
            "1875/1875 [==============================] - 6s 3ms/step - loss: 0.3593 - accuracy: 0.8718 - lr: 0.0100\n",
            "313/313 [==============================] - 1s 3ms/step - loss: 0.4005 - accuracy: 0.8510\n"
          ]
        }
      ]
    },
    {
      "cell_type": "markdown",
      "source": [
        "**Caso 3**"
      ],
      "metadata": {
        "id": "1mzRIFSD3i1O"
      }
    },
    {
      "cell_type": "code",
      "source": [
        "# CREAR EL MODELO DE RED NEURONAL CNN:\n",
        "model3F = Sequential()\n",
        "model3F.add(Conv2D(64, (7, 7), activation='relu', input_shape=(28, 28, 1), padding='same')) # 1ª capa convolucional\n",
        "model3F.add(MaxPooling2D((2, 2))) # 1ª capa pooling\n",
        "\n",
        "model3F.add(Conv2D(128, (3, 3), activation='relu', padding='same')) # 2ª capa convolucional\n",
        "model3F.add(MaxPooling2D((2, 2))) # 2ª capa pooling\n",
        "\n",
        "model3F.add(Flatten()) # Flatten para aplanar\n",
        "\n",
        "model3F.add(Dense(65,activation='relu')) # Penúltima capa densa\n",
        "\n",
        "model3F.add(Dense(10, activation='softmax')) # Última capa densa"
      ],
      "metadata": {
        "id": "JUgn-E8i3i1O"
      },
      "execution_count": 77,
      "outputs": []
    },
    {
      "cell_type": "code",
      "source": [
        "# COMPILAR EL MODELO CON MÉTRICA PRECISIÓN:\n",
        "model3F.compile(loss='sparse_categorical_crossentropy',\n",
        "                 optimizer='adam',\n",
        "                 metrics=['accuracy'])\n",
        "\n",
        "history = model3F.fit\n",
        "\n",
        "model3F.fit(train_images, train_labels,\n",
        "             epochs=5, callbacks=[callback])\n",
        "\n",
        "test_loss3F, test_acc3F = model3F.evaluate(test_images, test_labels)"
      ],
      "metadata": {
        "id": "j9g8psgc3i1P",
        "colab": {
          "base_uri": "https://localhost:8080/"
        },
        "outputId": "dcd8aca3-0660-45cf-bf0b-2931e50409df"
      },
      "execution_count": 78,
      "outputs": [
        {
          "output_type": "stream",
          "name": "stdout",
          "text": [
            "Epoch 1/5\n",
            "1875/1875 [==============================] - 7s 3ms/step - loss: 0.4064 - accuracy: 0.8547 - lr: 0.0010\n",
            "Epoch 2/5\n",
            "1875/1875 [==============================] - 6s 3ms/step - loss: 0.2686 - accuracy: 0.9011 - lr: 0.0010\n",
            "Epoch 3/5\n",
            "1875/1875 [==============================] - 6s 3ms/step - loss: 0.2274 - accuracy: 0.9162 - lr: 0.0010\n",
            "Epoch 4/5\n",
            "1875/1875 [==============================] - 6s 3ms/step - loss: 0.1972 - accuracy: 0.9266 - lr: 0.0010\n",
            "Epoch 5/5\n",
            "1875/1875 [==============================] - 6s 3ms/step - loss: 0.1723 - accuracy: 0.9346 - lr: 0.0010\n",
            "313/313 [==============================] - 1s 3ms/step - loss: 0.2626 - accuracy: 0.9071\n"
          ]
        }
      ]
    },
    {
      "cell_type": "markdown",
      "source": [
        "Tras aplicar callback a los 3 modelos observamos que las precisiones de todos ellos son menores en comparación a los modelos iniciales. "
      ],
      "metadata": {
        "id": "VVvJAUvsyhk0"
      }
    },
    {
      "cell_type": "markdown",
      "source": [
        "# CONCLUSIONES"
      ],
      "metadata": {
        "id": "Qg6F-q4vkpeD"
      }
    },
    {
      "cell_type": "markdown",
      "source": [
        "En esta práctica hacemos uso de las capas convolucionales y pooling, que nos dan precisiones superiores al 86%. \n",
        "\n",
        "En cuanto a la precisión de los 3 modelos con respecto a una imagen los 3 han sido entrenados favorablemente, pues han acertado la gran mayoría. Hemos visto que el mejor de los modelos es el modelo 3.\n",
        "\n",
        "Asimismo, al aumentar las épocas del caso 1 se ha visto una importante mejora en el modelo, aunque no siempre aumentar las épocas implica un modelo mejor entrenado, en este caso es una buena opción.\n",
        "\n",
        "En cuanto a las funciones explicadas anteriormente, batch normalization, dropout y bias se concluye que el modelo empeora considerablemente. Es posible que con otros parámetros (por ejemplo un dropout menor) u otro tipo de inicializadores de sesgo se obtengan mejores resultados. Nos gustaría destacar que los valores optenidos, en estos apartados, son sospechosos debido a su bajo valor de precisión.\n",
        "\n",
        "Por ahora la mejor opción es el caso 1 con 25 épocas o el caso 3 con una menor precisión pero con menores épocas.\n",
        "\n",
        "Por último, el uso de callback aporta una precisión ligeramente menor que en los modelos inicales, pero es una mejor opción ante el uso de bach_normalitation o bias o dropout(0.5).\n",
        "\n",
        
      ],
      "metadata": {
        "id": "BdPwgUA47GKp"
      }
    },
    {
      "cell_type": "markdown",
      "source": [
        "# REFLEXIONES"
      ],
      "metadata": {
        "id": "i98dDcKukr8Z"
      }
    },
    {
      "cell_type": "markdown",
      "source": [
        "Al igual que en el anterior proyecto, este apartado expone los acontecimientos y las dificultades que hemos encontrado como equipo durante su realización. Está compuesto por tres secciones fuertemente relacionadas entre sí:"
      ],
      "metadata": {
        "id": "kQSAC_-CdjO4"
      }
    },
    {
      "cell_type": "markdown",
      "source": [
        "## 1.   Cómo hemos afrontado la solución de la práctica\n",
        "\n",
        "\n",
        "\n"
      ],
      "metadata": {
        "id": "VkQld-8tlG1l"
      }
    },
    {
      "cell_type": "markdown",
      "source": [
        "Habiendo aprendido de la prática anterior ('Práctica 1'), y con el objetivo de mejorar los resultados obtenidos, tomamos algunas medidas nuevas con el fin de mejorar nuestro rendimiento.\n",
        "\n",
        "Entre ellas destaca que empezamos a trabajar en ella con mayor tiempo de antelación, con el propósito de estar más preparadas ante posibles imprevistos y tener un mayor tiempo de reacción.\n",
        "\n",
        "A su vez, hemos tenido más tiempo para aplicar detenidamente la segunda idea: trabajar primero el código de cada ejercicio, anotando únicamente algunos conceptos clave; y después, repasarlo d enuevo, centrándonos en la redacción de las observaciones y conclusiones encontradas.\n",
        "\n",
        "Esta estructura y conceptos iniciales para atajar la práctica de manera más eficaz posible nos ha permitido alcanzar un buen conocimiento de las Redes de Neuronas Convolucionales y sus utilidades. A su vez, se ha podido lograr una mejor comprensión de la 'Práctica 1' (funcionamiento de las Redes de Neuronas Artificiales) debido a la necesidad de comparar ambos proyectos detenidamente."
      ],
      "metadata": {
        "id": "3wIPeH0ehI4e"
      }
    },
    {
      "cell_type": "markdown",
      "source": [
        "## 2.   Cómo se ha dividido el trabajo"
      ],
      "metadata": {
        "id": "ElW4xpEHlY4N"
      }
    },
    {
      "cell_type": "markdown",
      "source": [
        "Debido a la imposibilidad de trabajar con varios ordenadores al unísono, se han continuado con las distintas estrategias de la anterior práctica:\n",
        "- Comenzamos estructurando el proyecto de una manera similar a la del proyecto previo, recopilando aquellos conceptos necesarios tanto antiguos como nuevos.\n",
        "- Avanzamos en el trabajo a través de videollamadas. Esta herramienta permitía a una de nosotras compartir el código por la pantalla, mientras que las demás ayudábamos buscando soluciones con nuestros respectivos ordenadores para avanzar de manera conjunta y eficiente.\n",
        "- Se comprobó el código en diferentes ordenadores con el propósito de encontrar posibles fallos en la compilación, o errores en la redacción."
      ],
      "metadata": {
        "id": "ELDEV1WRdken"
      }
    },
    {
      "cell_type": "markdown",
      "source": [
        "## 3.   Cómo se ha gestionado el equipo para trabajar"
      ],
      "metadata": {
        "id": "gUwpnuQylZA2"
      }
    },
    {
      "cell_type": "markdown",
      "source": [
        "Siguiendo la línea argumental propuesta, teniendo en cuenta las similitudes de este apartado con el anterior y el carácter casi idéntico con respecto a la 'Práctica 1', explicaremos en más detalle las videollamadas mencionadas.\n",
        "\n",
        "Nos asignábamos pequeñas tareas - que incluíamos en el proyecto mandándoselas a la compañera con el trabajo abierto, o esperando a incluirlas después - mientras avanzábamos con el código y las conclusiones con el fin de aprovechar el tiempo al máximo.\n",
        "\n",
        "Sin embargo, también se utilizó tiempo en el que nos encontrábamos físicamente juntas para continuar."
      ],
      "metadata": {
        "id": "MJM4hUNudlNr"
      }
    },
    {
      "cell_type": "markdown",
      "source": [
        "# REFERENCIAS BIBLIOGRÁFICAS"
      ],
      "metadata": {
        "id": "45-BMfTpktzs"
      }
    },
    {
      "cell_type": "markdown",
      "source": [
        "- Apuntes recogidos de GitHub y GoogleColab, a raíz de los contenidos estudiados en el aula\n",
        "- ***https://keras.io/api/layers/normalization_layers/batch_normalization/***\n",
        "- ***https://keras.io/api/layers/regularization_layers/dropout/***\n",
        "- ***https://www.tensorflow.org/api_docs/python/tf/keras/callbacks/LearningRateScheduler***\n",
        "- ***https://keras.io/api/callbacks/***"
      ],
      "metadata": {
        "id": "rZoJaNUq8A_h"
      }
    }
  ]
}
