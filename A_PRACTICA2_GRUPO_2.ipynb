{
  "nbformat": 4,
  "nbformat_minor": 0,
  "metadata": {
    "colab": {
      "provenance": [],
      "collapsed_sections": [
        "zXY6f3Stvuin",
        "Xo8E6lFYEGf7",
        "Iu-Hs4guEOoV",
        "Egg02Vtuaces",
        "lLerLNFgcggC",
        "i98dDcKukr8Z",
        "VkQld-8tlG1l",
        "ElW4xpEHlY4N",
        "gUwpnuQylZA2",
        "45-BMfTpktzs"
      ],
      "toc_visible": true,
      "include_colab_link": true
    },
    "kernelspec": {
      "name": "python3",
      "display_name": "Python 3"
    },
    "language_info": {
      "name": "python"
    }
  },
  "cells": [
    {
      "cell_type": "markdown",
      "metadata": {
        "id": "view-in-github",
        "colab_type": "text"
      },
      "source": [
        "<a href=\"https://colab.research.google.com/github/Paloma-Moya-Tudela/AA_PRACTICA1_GRUPO_2/blob/main/A_PRACTICA2_GRUPO_2.ipynb\" target=\"_parent\"><img src=\"https://colab.research.google.com/assets/colab-badge.svg\" alt=\"Open In Colab\"/></a>"
      ]
    },
    {
      "cell_type": "markdown",
      "source": [
        "**GRUPO 2**\n",
        "\n",
        "María García Rodríguez\n",
        "\n",
        "Paloma Moya Tudela\n",
        "\n",
        "Sofía Peña González\n",
        "\n",
        "Elena Peral Pastor\n",
        "\n"
      ],
      "metadata": {
        "id": "w8YbxA3YDZZu"
      }
    },
    {
      "cell_type": "markdown",
      "source": [
        "# RESUMEN"
      ],
      "metadata": {
        "id": "zXY6f3Stvuin"
      }
    },
    {
      "cell_type": "markdown",
      "source": [
        "\n"
      ],
      "metadata": {
        "id": "dSAN9x20dhFd"
      }
    },
    {
      "cell_type": "markdown",
      "source": [
        "# ÍNDICE"
      ],
      "metadata": {
        "id": "Xo8E6lFYEGf7"
      }
    },
    {
      "cell_type": "markdown",
      "source": [
        "\n",
        "\n",
        "*   Introducción\n",
        "*   Resolución\n",
        "*   Conclusiones\n",
        "*   Reflexiones\n",
        "*   Referencias Bibliográficas\n",
        "\n",
        "\n",
        "\n",
        "\n",
        "\n"
      ],
      "metadata": {
        "id": "3fiCm_ARE1Rb"
      }
    },
    {
      "cell_type": "markdown",
      "source": [
        "# INTRODUCCIÓN"
      ],
      "metadata": {
        "id": "Iu-Hs4guEOoV"
      }
    },
    {
      "cell_type": "markdown",
      "source": [
        "\n"
      ],
      "metadata": {
        "id": "bScY0amsHsdV"
      }
    },
    {
      "cell_type": "markdown",
      "source": [
        "# RESOLUCIÓN"
      ],
      "metadata": {
        "id": "X36Twi4IEVBu"
      }
    },
    {
      "cell_type": "markdown",
      "source": [
        "El primer paso será comprender el enunciado y extraer los datos que se nos aportan.\n",
        "\n",
        "**PROBLEMA:**\n",
        "\n",
        "*\n",
        "\n",
        "Una vez se tienen claro los materiales con los que se trabajará, se podrá empezar a incorporar código. Sin embargo, antes de comenzar importemnos keras y el resto de librerías necesarias para la red neuronal, asegurando que es la versión 2.0.0 (o superior) de TensorFlow."
      ],
      "metadata": {
        "id": "ZyIlHHA-HuUU"
      }
    },
    {
      "cell_type": "markdown",
      "source": [
        "## Configuración de los casos"
      ],
      "metadata": {
        "id": "U6T2Irug9Apv"
      }
    },
    {
      "cell_type": "markdown",
      "source": [
        "***1. Configurar y entrenar los siguientes modelos de red de neuronas convolucionales, analizando y reflexionando sobre los resultados.***"
      ],
      "metadata": {
        "id": "ArQFsQrscBU1"
      }
    },
    {
      "cell_type": "markdown",
      "source": [
        "**Caso 1**"
      ],
      "metadata": {
        "id": "uc62hBll9eS_"
      }
    },
    {
      "cell_type": "markdown",
      "source": [
        "**Caso 2**"
      ],
      "metadata": {
        "id": "qZfcAMyJ9hAC"
      }
    },
    {
      "cell_type": "markdown",
      "source": [
        "**Caso 3**"
      ],
      "metadata": {
        "id": "PRe0u_7J9hTN"
      }
    },
    {
      "cell_type": "markdown",
      "source": [
        "## Salidas"
      ],
      "metadata": {
        "id": "DveszbD_zNFQ"
      }
    },
    {
      "cell_type": "markdown",
      "source": [
        "***2. Explicar la salida de la llamada model.summary() de cada uno de los 3 casos.***"
      ],
      "metadata": {
        "id": "DspFv9LXcWwp"
      }
    },
    {
      "cell_type": "markdown",
      "source": [
        "##Análisis (5 épocas vs 25 épocas)"
      ],
      "metadata": {
        "id": "HJkZNDF00gnU"
      }
    },
    {
      "cell_type": "markdown",
      "source": [
        "***3. Analizar e interpretar los resultados del Caso 1 frente a su original si se multiplica por 5 las épocas de entrenamiento (25).***"
      ],
      "metadata": {
        "id": "WPKU27telzeM"
      }
    },
    {
      "cell_type": "markdown",
      "source": [
        "##Análisis (5 épocas vs 25 épocas)"
      ],
      "metadata": {
        "id": "_D2dSySz-Pqu"
      }
    },
    {
      "cell_type": "markdown",
      "source": [
        "***4. Analiza el resultado del Caso 1 si en lugar de 'ReLU' usas 'tanh' en la función de activación de las dos capas convolucionales..***"
      ],
      "metadata": {
        "id": "zmKixDFS-SeR"
      }
    },
    {
      "cell_type": "markdown",
      "source": [
        "## Comparación de rendimiento"
      ],
      "metadata": {
        "id": "JZ4zHoKQ3PRi"
      }
    },
    {
      "cell_type": "markdown",
      "source": [
        "***5. Evaluar cada uno de los 3 modelos comparando el rendimiento del modelo en el conjunto de datos de prueba***"
      ],
      "metadata": {
        "id": "cU33EEXLlzlS"
      }
    },
    {
      "cell_type": "markdown",
      "source": [
        "## Predicciones"
      ],
      "metadata": {
        "id": "3Y5_rnXT5_bT"
      }
    },
    {
      "cell_type": "markdown",
      "source": [
        "***6. Usar cada uno de los 3 modelos para hacer predicciones sobre la 6ª imagen de test (test_images[5]).***"
      ],
      "metadata": {
        "id": "6hLOzUeMlzsY"
      }
    },
    {
      "cell_type": "markdown",
      "source": [
        "## Gráficas\n"
      ],
      "metadata": {
        "id": "i5Gv-pbYEFzc"
      }
    },
    {
      "cell_type": "markdown",
      "source": [
        "***7. Utilice el siguiente código para graficar cómo de bien o de mal se comporta el modelo para cada uno de los 3 casos con las 14 primeras imágenes del conjunto de test. Reflexione y comente las diferencias que observa.***"
      ],
      "metadata": {
        "id": "1L5cdhcqlzzi"
      }
    },
    {
      "cell_type": "markdown",
      "source": [
        "## Comparativa con la Práctica 1\n"
      ],
      "metadata": {
        "id": "zsH03wvx_Zgi"
      }
    },
    {
      "cell_type": "markdown",
      "source": [
        "***8. Hacer comparativa con los resultados que obtuvisteis en la práctica 1, con las\n",
        "capas Dense.***"
      ],
      "metadata": {
        "id": "zOjHnYOD_Si_"
      }
    },
    {
      "cell_type": "markdown",
      "source": [
        "##Mejoras del modelo"
      ],
      "metadata": {
        "id": "yfn2ItndAC63"
      }
    },
    {
      "cell_type": "markdown",
      "source": [
        "###1ª Mejora del modelo"
      ],
      "metadata": {
        "id": "fHsGP7xpMO6C"
      }
    },
    {
      "cell_type": "markdown",
      "source": [
        "***9. Ver los conceptos de 'batch_normalization' y 'dropout'; y ver si se podría mejorar\n",
        "el modelo con ello.\n",
        "https://keras.io/api/layers/normalization_layers/batch_normalization/\n",
        "https://keras.io/api/layers/regularization_layers/dropout/***"
      ],
      "metadata": {
        "id": "j_q01Xrh_fcj"
      }
    },
    {
      "cell_type": "markdown",
      "source": [
        "###2ª Mejora del modelo"
      ],
      "metadata": {
        "id": "BX30_FZZ_7kP"
      }
    },
    {
      "cell_type": "markdown",
      "source": [
        "***9. Ver los conceptos de 'callbacks' (Decaimiento del ratio de aprendizaje); y ver si se\n",
        "podría mejorar el modelo con ello.\n",
        "https://www.tensorflow.org/api_docs/python/tf/keras/callbacks/Learning\n",
        "RateScheduler y https://keras.io/api/callbacks/***"
      ],
      "metadata": {
        "id": "Wn_BRA7k_vzF"
      }
    },
    {
      "cell_type": "markdown",
      "source": [
        "# CONCLUSIONES"
      ],
      "metadata": {
        "id": "Qg6F-q4vkpeD"
      }
    },
    {
      "cell_type": "markdown",
      "source": [],
      "metadata": {
        "id": "BdPwgUA47GKp"
      }
    },
    {
      "cell_type": "markdown",
      "source": [
        "# REFLEXIONES"
      ],
      "metadata": {
        "id": "i98dDcKukr8Z"
      }
    },
    {
      "cell_type": "markdown",
      "source": [],
      "metadata": {
        "id": "DlWY-Cjc7Jap"
      }
    },
    {
      "cell_type": "markdown",
      "source": [
        "# REFERENCIAS BIBLIOGRÁFICAS"
      ],
      "metadata": {
        "id": "45-BMfTpktzs"
      }
    },
    {
      "cell_type": "markdown",
      "source": [
        "- Apuntes recogidos de GitHub y GoogleColab, a raíz de los contenidos estudiados en el aula"
      ],
      "metadata": {
        "id": "rZoJaNUq8A_h"
      }
    }
  ]
}