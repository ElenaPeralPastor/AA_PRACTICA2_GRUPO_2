{
  "nbformat": 4,
  "nbformat_minor": 0,
  "metadata": {
    "colab": {
      "provenance": [],
      "collapsed_sections": [
        "zXY6f3Stvuin",
        "Xo8E6lFYEGf7",
        "Iu-Hs4guEOoV",
        "Egg02Vtuaces",
        "lLerLNFgcggC",
        "i98dDcKukr8Z",
        "VkQld-8tlG1l",
        "ElW4xpEHlY4N",
        "gUwpnuQylZA2",
        "45-BMfTpktzs"
      ],
      "include_colab_link": true
    },
    "kernelspec": {
      "name": "python3",
      "display_name": "Python 3"
    },
    "language_info": {
      "name": "python"
    }
  },
  "cells": [
    {
      "cell_type": "markdown",
      "metadata": {
        "id": "view-in-github",
        "colab_type": "text"
      },
      "source": [
        "<a href=\"https://colab.research.google.com/github/Paloma-Moya-Tudela/AA_PRACTICA2_GRUPO_2/blob/main/A_PRACTICA2_GRUPO_2.ipynb\" target=\"_parent\"><img src=\"https://colab.research.google.com/assets/colab-badge.svg\" alt=\"Open In Colab\"/></a>"
      ]
    },
    {
      "cell_type": "markdown",
      "source": [
        "**GRUPO 2**\n",
        "\n",
        "María García Rodríguez\n",
        "\n",
        "Paloma Moya Tudela\n",
        "\n",
        "Sofía Peña González\n",
        "\n",
        "Elena Peral Pastor\n",
        "\n"
      ],
      "metadata": {
        "id": "w8YbxA3YDZZu"
      }
    },
    {
      "cell_type": "markdown",
      "source": [
        "# RESUMEN"
      ],
      "metadata": {
        "id": "zXY6f3Stvuin"
      }
    },
    {
      "cell_type": "markdown",
      "source": [],
      "metadata": {
        "id": "_pG4J3y4BZnm"
      }
    },
    {
      "cell_type": "markdown",
      "source": [
        "# ÍNDICE"
      ],
      "metadata": {
        "id": "Xo8E6lFYEGf7"
      }
    },
    {
      "cell_type": "markdown",
      "source": [
        "\n",
        "\n",
        "*   Introducción\n",
        "*   Resolución\n",
        "*   Conclusiones\n",
        "*   Reflexiones\n",
        "*   Referencias Bibliográficas\n",
        "\n",
        "\n",
        "\n",
        "\n",
        "\n"
      ],
      "metadata": {
        "id": "3fiCm_ARE1Rb"
      }
    },
    {
      "cell_type": "markdown",
      "source": [
        "# INTRODUCCIÓN"
      ],
      "metadata": {
        "id": "Iu-Hs4guEOoV"
      }
    },
    {
      "cell_type": "markdown",
      "source": [
        "\n"
      ],
      "metadata": {
        "id": "bScY0amsHsdV"
      }
    },
    {
      "cell_type": "markdown",
      "source": [
        "# RESOLUCIÓN"
      ],
      "metadata": {
        "id": "X36Twi4IEVBu"
      }
    },
    {
      "cell_type": "markdown",
      "source": [
        "El primer paso será comprender el enunciado y extraer los datos que se nos aportan.\n",
        "\n",
        "**PROBLEMA:**\n",
        "\n",
        "* Reconocer y clasificar imágenes de ropa - en escala de grises - en sus diferentes tipologías (10). Este modelo será definido, configurado, entrenado, evaluado y mejorado para posteriormente usarlo para hacer predicciones.\n",
        "* Crear un modelo de Red de Neuronas COnvolucionales en Keras aplicando de una tirada todos los pasos al conjunto de datos Fashion-MNIST - precargado en Keras - y que ya se ha utilizado para la 'Prática 1'.\n",
        "* Se dispone de 70k imágenes del conjunto de datos de Fashion-MNIST en baja resolución (28 x 28 píxeles): artículos de Zalando, una tienda de moda online alemana especializada en ventas de ropa y zapatos. Se usarán 60K imágenes para el entrenamiento de la red, y 10K imágenes para evaluar la precisión con la que la red aprende a clasificarlas.\n",
        "\n",
        "\n",
        "Una vez se tienen claro los materiales con los que se trabajará, se podrá empezar a incorporar código. Sin embargo, antes de comenzar importemnos qyuras y el resto de librerías necesarias para la red neuronal, asegurando que es la versión 2.0.0 (o superior) de TensorFlow."
      ],
      "metadata": {
        "id": "ZyIlHHA-HuUU"
      }
    },
    {
      "cell_type": "markdown",
      "source": [
        "\n",
        "**DISEÑO, ENTRENAMIENTO Y TEST DE UN SISTEMA DE REDES DE NEURONAS ARTIFICIALES**\n"
      ],
      "metadata": {
        "id": "Fe61Lwmrbpo_"
      }
    },
    {
      "cell_type": "code",
      "source": [
        "# 1._ IMPORTAMOS KERAS\n",
        "%tensorflow_version 2.x\n",
        "import tensorflow as tf\n",
        "from tensorflow import keras\n",
        "print(tf.keras.__version__)\n",
        "print(\"GPU Available:\", tf.config.list_physical_devices('GPU'))\n",
        "print(tf.__version__)\n",
        "\n",
        "import numpy as np\n",
        "import pandas as pd\n",
        "import matplotlib.image as mpim\n",
        "import matplotlib.pyplot as plt\n",
        "%matplotlib inline\n",
        "\n",
        "from keras import backend as K\n",
        "from keras.utils import np_utils\n",
        "from sklearn.model_selection import train_test_split\n",
        "from keras.models import Sequential\n",
        "from keras.layers import Dense, Dropout, Flatten, Reshape, InputLayer"
      ],
      "metadata": {
        "colab": {
          "base_uri": "https://localhost:8080/"
        },
        "id": "psaION17mmw3",
        "outputId": "a0dac986-28c2-414e-83cc-c9338ef3f2fb"
      },
      "execution_count": null,
      "outputs": [
        {
          "output_type": "stream",
          "name": "stdout",
          "text": [
            "Colab only includes TensorFlow 2.x; %tensorflow_version has no effect.\n",
            "2.9.0\n",
            "GPU Available: []\n",
            "2.9.2\n"
          ]
        }
      ]
    },
    {
      "cell_type": "markdown",
      "source": [
        "A continuación, cargamos el conjunto de datos  MNIST en Keras con el que vamos a trabajar en esta prática.\n"
      ],
      "metadata": {
        "id": "m_FEKAOAaEC-"
      }
    },
    {
      "cell_type": "code",
      "source": [
        "# 2.- CARGAMOS EL CONJUNTO DE DATOS MINIST EN KERAS\n",
        "# mnist = tf.keras.datasets.mnist\n",
        "from keras.datasets import mnist\n",
        "\n",
        "fashion_mnist = keras.datasets.fashion_mnist\n",
        "(train_images, train_labels), (test_images, test_labels) = fashion_mnist.load_data()\n"
      ],
      "metadata": {
        "id": "9boZLFDdaHN0",
        "colab": {
          "base_uri": "https://localhost:8080/"
        },
        "outputId": "127589b8-3c95-4a7c-b8ca-729a35d90d67"
      },
      "execution_count": null,
      "outputs": [
        {
          "output_type": "stream",
          "name": "stdout",
          "text": [
            "Downloading data from https://storage.googleapis.com/tensorflow/tf-keras-datasets/train-labels-idx1-ubyte.gz\n",
            "29515/29515 [==============================] - 0s 0us/step\n",
            "Downloading data from https://storage.googleapis.com/tensorflow/tf-keras-datasets/train-images-idx3-ubyte.gz\n",
            "26421880/26421880 [==============================] - 1s 0us/step\n",
            "Downloading data from https://storage.googleapis.com/tensorflow/tf-keras-datasets/t10k-labels-idx1-ubyte.gz\n",
            "5148/5148 [==============================] - 0s 0us/step\n",
            "Downloading data from https://storage.googleapis.com/tensorflow/tf-keras-datasets/t10k-images-idx3-ubyte.gz\n",
            "4422102/4422102 [==============================] - 0s 0us/step\n"
          ]
        }
      ]
    },
    {
      "cell_type": "markdown",
      "source": [
        "Al cargar el set de datos retorna cuatro arreglos en NumPy:\n",
        "- `train_images` y `train_labels` son el **conjunto de entrenamiento** (los datos de los que aprenderá el modelo).\n",
        "- `test_images` y `test_labels` son el conjunto de pruebas (los datos con los que testearemos el modelo ya entrenado).\n",
        "- Las imágenes están **codificadas** como matrices `Numpy`, y las etiquetas son un vector de números con valores entre el 0 y el 9 (imágenes y etiquetas tienen una correspondencia 1 a 1) \n",
        "\n",
        "![image.png](data:image/png;base64,iVBORw0KGgoAAAANSUhEUgAAAH4AAADNCAYAAAB+fcRTAAAAAXNSR0IArs4c6QAAAARnQU1BAACxjwv8YQUAAAAJcEhZcwAAFiUAABYlAUlSJPAAABm7SURBVHhe7Z13V1vH1sZHFBWaqKKYkgAmjkuy4tyV3LXyEe79UO8nu+9/eZ1cN1wwvfeORBEq8M5vS+cYHGyQAOFo9pNoSefoSMjzzN6zz+xn9gROLYzCOVTknxWOQYl3FIFMJquuvowRCARMRUUgf/QRgd29uBJfxqiurjY1kXD+6CMCaxvbSnwZIxwKmob62vzRRwRW17eU+DJGOBw00fq6/NFHaHDnKJR4R6HEOwol3lEo8Y5CiXcU/u1cOp02+/v7JhQKmZqaGnnTw/HxsYnH46aystLU19fLpMBZbGxsmJOTE9PS0mKqqqryZ91FNps1iUTCxPf27O1U2FTZ9komkyYajUrbMptWKnzuds4nfnt724yOjpqOjg7T398vRKZSKUPyjg4xNzcnP7i3t9c0NzfL+ZTtEJWW6Ddv3sj1P/zwg4lEIvLFLmNlZcWMjY2Zw4MDMSQMJWM7w9DQkN92tBPtiVGRHw2HQyaTyciD62/KgC4lfnlpyfz+++9mYHBQCFxbWzOTk5MmYz0BvXZ5ecXs7u6aWHvMfPPNN0L66uqqabL/ED7bYHvzb7/9Zurq/vpHXALW/mFkxIyNj5uO9nYheHNr03qAfdPV1eV71lhbzDQ2NYqxNTY2Srvx3vbWlunsumcGBwf+4nmLwaUTOCe22/GHs7bH0SOPjo7MyvKyeffunfwjDg4PTKQmYnZ3dsyL58/NH3/8YV4PD5uXL1+a+fl5+Sw913VgsVhx0FrtvXv3TP/AgBCLd8fdr1uDGn792rx+/cosLiyYt9ZbLlnDYWiYm52VjrC3tysc3CbOBXf8aH7A5uaG2bK9NG2P+cXJo6TtEFkTtm7L2H8A10B0px0Went7TG1tbUnHra8ZxEGBigpzYN08Ln9iYkK8Z8a23441mj0bK2HJWD1t2xZrs8Nk1pK/aMLWOzQ0NMgQcXh4mP/G24FPPONKyLr0WTuWv33z1uxb1xQMBsUFNbc027GpyaQs2eFwxDyxQ8GD7x8I4c3NLbZX95vWllY7LlXmv81dQDxxUrMNdBcXF8WAGhubTCwWM62tLZb0iIz7HZ2dEijX1zfY47D1Dt2m0Q6XDKs1tl255jbhj/G4IcZseip/nAfBHZbNj6isqDTJ46T8w3BdnCfSh/wK28Orq6pNtDEq77sO2g3rpn2ESGvhBL+0UyIRt9Z8JAZVV1drr9uVQC5qLZ3Pxa03JfonCLyJtrw0uGNMITDhGbfNwxtnPDfuHfODeM0/xnuPZ/5hihxoG699vDYCXrvRVpz3ruGY17zP65tqy0uJV5QnLo3qFW5BiXcUSryjUOIdRWBlbVODuzJGJByyt4oXBnfwro/yfvwVgeTx8cXvKMoCzAdUX5Dp00WTjkKDO0ehxDsKJf4O4M3X87gr+GM82TbkV/F4QrJJLS3NkllSFAbaEaXS1ta2CDLIr8dibdKmXrKG8+Tjq4NBU59X3pCZIw3Ogw7BMdeTLue1DcLlOGI54ZrrwieeNCJqmtXVNdPa2mqePHliuro65SLF1YGAAn3ii5evzOrKqm3Hx+bp05+kA+zvHwiJELu6tirZ0N6eHsl2YnDoGRBxpI5TZndv19TazoKKZ2NjU8Qc6Uxa8vrt9pFMHsvnyO+jlqIzkT4nnXsVvZ4Qj+wKmdWrV6/lx4QjYTM4OGj6v/3W76WKqwEVE+Q/f/7CTE5OmX/842dRKZGbn52dE7Kw2oS1eJRMHZ0dQlTA/ofxQSK5+vX1ddPU1CQdZ35+QYjnM+gf2q0HObadAw1EVXWV2dvbk++F+O+/fyDkX8ZbbozPjzl8CT0zFAyZ0zscf/7OgETaENIQVCC2hEwEFzwgcMkaGddhvfhbOkg8ETdrluyjo6QoePgOChqkUmm5F0cBVWdJT9vjtbUNOXdiTuWzCGjoLFj9+vqGGO9lEOLpHZWVVfKlW1tbosLhnFr7NUDT2QfGBPmhUG7shhhcN2M3KttKSyBuPp3OS6uD9nwjEqyQdILNzU3pJO3t7fmY61QIxlvs79vPWfd/aDsWVn9wcHjlgLHyfywgmKGeIIMOQG/lD+FWFMUBWTpB2L2uLrF8xJbZbEZk6G2xVtNtx+6Ghqgf0HV0tIsUq621zbZ9zhNg8ZCONq+trc2O/wEJEqPRBuk4vA7ajoKhIodDs8e6B77nMqP1gzvcAy4J8vljiCqrbW9VFAeCONoSISVBG1ZK+9LYWDnjsbhra6FcS5vDAed4TyL5ZFK8AB1DXLk958nfvWtXbACJQJaxvTHaaI21Rr7rMuiUbYlBc191COVaOgbXQ/JZeN+Di+dBvFDI7bcS/zcHli+BubXyq3YooMQ7Cp2ydRQBGzCoxZcxKgIVElx+ikA6k1HiyxiM+9xFfIrAiY7xZY3PhXsa3DkKDe4chRLvKM65eiYCOGSWqJDJAMVH0H6049m2JGX6tbWnTzxzw9PTM1KWg/orfX19coGiMJB3H/nwwbx+9dpsb+9IW/766y+SamV2jdY+PT2RzgBofjqF93x2itbrPLkQLWefnP90+rYYnCE+LZWaKN3x8OFD8+DBd3KBojCQSNna3DTPnv1pDWna/PzzU8msZbIZUdSQOkVQ0d19T5IvZNY4T5q1rr5eBBi1NbUifaPjIIcjS0rCh+weBolC6rrk+8TzROmODx9GparV0NB9uUBRHFAzjY9PmB9+eOJn2cjOkY8n38450qrIsUjDLiwsiMxqdW3NxGxHkezc8bEQzrV4kqH7g+bp06fSEa47dPjdhi8ix1tZqfHeTYLCRlhnQ7RBZtBO7X8QRz2h3d09EWaSXcMLMBQc2Ge87uzsrJmdmZXikXgF0rF87iZIB+dYRoRRY90MLkhxPZAiRTBBbh1BZE3EPmzbQhmqGpY1UQwJsQU18CiPxtiP8SGEaW1tk1RrQ32DiGJ4HYncXFXMc1E97sUrfqQVKq8H5NO4dtw5wOqJo6hhd3JyKlIs2hkXDpk8uBYZFZ0F8SUdIZMh5VopniNXMOmvK1+LwTniFbcPr7k9y738WJ7sce75pqDEOwqN5ByFEu8oApms7jRZziBWqLggQFAhRpkD4i8WYnBvoShreHcIZ6FRvaPQ4M5RKPGOQl39HYDVLzQ707g8e7n5UsInnjliNh9iER6b6AwM9N/YvLBrYOOm4eFhSbn29fXKgkba0guyZmZmJDPX2dlpDg8PZNevUkOWSaP0YNH+zMysJP7ZYYqF+SzvVRQO9qKhYAEpbsimA3hWjuBiYmLSLCwu2jaul9IzpFopn0J5k0yGXaoOJJHD+neuX1tbNwcH+5JAY219bgVt6FopdLF4fhB/jE2I+CPkiNkjrb//2/xlikJAPh1BC1k2lDdk4Orr6sX6eQ15EPrjjz/Knn2oaoKhoKE4Alk90q8URjg+Tkp1kt29PSGbNfekZxHKtLWxB1Dxy9ily9ArvU1y2HeGGirsGqkoDrQnpCCfuj94X0jHk7ID1eaW9aiWQMZXDG5padkODctS0AhpFUaXTh3LVmR4AzrRyMiICDPoMMQFpG+vGxf4voIfNTLyQXokmwpRFIEfpigckIPFxmLtvnXi6ilihPSKodUDJGLNo6PsTHko8RVeAtkVr203kvVv6PDwChAu1bEumJQpBB+Du8NDKaIjpVCam6QyU6FrrhU55OrTUJ4kV/yIukJIqCiHggSnxrpyhBV4VqyYsRo3jzCjvr5OAu1jO97zPrIsNHcINwBxF2VPruPmgU88T/LSEg3VSnjxyDep34Yce1JpznnnefauPfve2c/z+uyx97gu9D7eUejMnaNQ4h2FpmXLHJ+LBwL2NkOJL2N8LhhUi3cAFxKvUb2b0ODOUSjxjkKJdxT+GE+igB0SSNKwQL+5qUlWbioKB224vLIiQRVr3dE23IXK5kvwiSexMDo6ahYWFiUl++jRQ6m8oCgcCC3+79kzWQp9//59ycNDPFk7lqCTdAkEKmQZNa8paU6WjvdZYQtQ7HB8WxDi4d5ThkxNT8uP+/npT6anpyd/maIQUAmDHDpZNNqSlCzAoNA8sA0JpCKyyJ5kpepFtCFqO4OR3atkwwLrKcjO3RakS+GSSAlSkiNq3RL70WSzuidNsUDLAGnk4iEfoQVFpZBPTUxOmvGxcTMzPWNGx8ak5g0dBcHF5uaWmZmdNVNT03L+NuH7EooiUJmhMl/wNpVOybOicDAnhvtm4yHiJsmdW+Oqqqo2e7u7osmjvdNSiOLQbEu+flPcfiKekPx93Hrg28Q5V8/4jvQKi6cQDypQReHAWlHaIpwkgmJjQV6zPw0q5q3tLdPR3iHjOXl6OgmBNCIMXD3bv7VYj0F8cFvwgzvGGdkzxR7K+GPHIq2FUxxoS8j0xnYsnnalTXmPB23LM8QT6FELB3B3xfU8brMcjU+84u4ABd58+tnXtwkl3lHozJ2jUOIdhebjyxyfixd0jHcU6uodhRLvKJR4R6HEO4q/BHdMIXKKaPA288HlDNqP6VoetCHTr5fNxnltXiqcI575ZRI1ZJTYgJ40raJwkHEbGXlv3r17b9uwQ/akaWpqzM/LB0SUwWsedAxyJGTrEF+USvXkmzQ/AsLfvBmWH5xIxPPvKAoBdrSxsS5ZOHLykUhYNiYgY0epGXLzlDRhSTrCF86/fz9i/vOf/5VzpYIQz48lFz83N297X1JcE0KMM85AcUXg3tmQALXNP//5q2xGhDVTGoUyJ3SIZ8/+kBo5c/Pz5vXrYRFgiBaihLo8IR5rj8f3bO9bMyzQ58cjCuC8ojDIOG3/z9q2S2cyck7El8sronJC4EInGBsfF40jihs+QhEFbzeLUkCI58ciEXr06JF58GBIxnZ+RCmDjXKBBMTWUR5ad75iyZ6dnZNzCCsZSrOZrJAcCgZFyYzujqpXVMAqpYc9F9zxkpIolPHgxyD6UxQOypdAMgILhk3KmIjUKp227pxhNGMy1qtWVlSKMgf5NQIMjK9UVn/hXD2n1NqvB4ZJrx2xeF57xzy898VDWPAaeMe3DU3SOIrSdC/FVwcl3lEo8Y5CFThljs8F6WrxZY7Pxe4a1TsKtXhHocQ7CiXeUfhjPNtiUAyffWnIIj1+/Nh0dFAvXVEoyLdPTU3JpgS9vT2mt6fn0gWozNXnSptn/IIUzO+zcQHZUnL7LLq8KfgWjwpkYWFBEgzMF+tcfXHAjiCLvDvCCgogsDsF69/Z9oVEDSlvBBmsk4dUOgptz0YR0zMzksZFoEGih10qSOlimDcJn/hUioX86/YPbuTXbeeW+CoKB9nNNUsce7piqRBLRYzZuVnZiYKNh3heXFwUIQapW0QwHuF0mEV7PRsWbW5tCjc3rY2QXah4gcPHyOmxbI3R1NgkacJSZYvKBXjK09MTE7D/5UQtJyaxn5AhdGEePeOupLylFoG9HuJJxfI4sW2PlfO56elp6TCp45wWj+1NbnK9vM8qpKMPa29v8xftKwoHlnlsyaoOVlujCYhVb1gvmtjfF+kVbp+tSCDftrqfp+d80naGfbY1sQ/2p4nvxeX924Af3NEDcTG4KU51dHRIL9OxvjDQdjlx5YaolgHBMgIXjiss6X29fTKU0kkY+1HnbG/nauVwTX19vVyPtyWgw/PCBd9zU/CJ54mIkgfKkaD0WHXzxQBCsVQCNwoeeZsNQTbk8gC0OddiXFxPe+ek1zldfq42Xk6OfdMBt07ZOgo1aUehxDsKJd5RqBCjzPG5gDBgo3glvowB8RfdnekuVGUOiL/I6vV2zlFocOcolHhHcc7VkywgkWBPy4JJ3ZOmOLA+nizb0dGhaYhGTdC2I1k6smxM35IXYWqcOXnAtC00lHJ9vE88c8UkaSiSz+rNzs4uU1Nze2WzyxU0J4UOWANPW3Z2dZi62jpJsQ4MDEhJFM6zP0BnV1cuM7e1bZ9TUn7mJhMxX4Lv6uPxhBkefiMCARQk/BBFcaDIBLtTHB8nTdpaP0RTBgU5Fmlaqo4gepmZmTHz8/Oyf82LF6+kc5QKPvHJ5JFZtT92I59SpCOcGQUUBSAYDMluEwgnuIcm03Zq/0OV8/btO2nbxcUls8iOILYT4PYh3cvalQJCPARzr1cnlRkaJCdMPlhRHNiMqKW1VcZshk/a06t4sb6xIUaGzIqxnXGesZ9htZQ7ggjxkI70p7evV/aiaW5pkWNF4fC8ZNCSz8aNsnljc7Pp7Og0He3tsi9N1AZ83d3dpt0eI7LgGeELVTJKBT+4I8hgbMfSieabmppudU+UcgXNSRuiVia6x4pD4ZBo8DyBBhbO3VPYnsfAkGqxNRkdIifJun2cu53jhzEe4QFwUxdN9SkuB01KO9Ken7Yj73HsPXvvnW33UkCnbB2Fztw5CiXeUSjxjiKQTqsQo5wRQJ59gRBDLd5RaFTvKNTiHYUS7yh8V88sE1kinr2qy4gGFIWDJj07c3fVdW98js9ASNUtz+AJ8fwxVniOjo1LSpaU4sPvH5iurq6STSGWExBZsL6dFbC0YV9fr69m8joBHcM7hnAe5EuolJGyzwP9/X7b896nHYfjq3Smz8EnnqQCuyXMzsyao2TSPP3pJ/Pdd0MXarIVnwckIa548+atJGJY3jw4OCjv4Umbm5vEmyLO4Foyd57kjWO2LKHj/PLLL7JiGZD08VbZcm0wFDIN9fXXksb5rp4narNMU7NlZ8cMDPSbrs5OuUhxddCOKG2odFEdDEobcg5FDsRFaiKmxZI9NTUt2U+yc9HGqNS6wb2Tv9/e2TWPHz2UbB36PHL46PbwAHymp6db0rrXId4vhQJIy6IMYaE+eWMVWxYH3HgmkxVLxUJJxWJUuHA8KsdjdlhF3sYmRBUVlVIXh6oZkAz5VNRAf4dki/foAHwOoQz5e4Qd13H1vh/nxx4eHuGPTGO0UXPxRYJhE0Utlkw1i734nhDU2toqBoXFRyI14uIpa8ZuVXgE8vAYGs/37nUJsQTbqJ0pO8e1EI5Ys7a25tpDsO/q+SMEIwgEEWEgFlAUDoinng2uG4kV4zGSNojCCzCWsxnR+sambEZUWVUp3uBg/0A6CFUzsHQMDwvnHEINOgCegfOQf1017rnbOS/SZCy6jhtxHZ73ZKMhCKI9aWYetDPHnqYRz4DRUccOrR7t7t0Cci0PhgvO4RE4fxP8+MQr3ILeqzkKJd5RKPGOIpDWihhljQobBF506xc4TqWU+DKG3AXk5/zPQkuhlDuw+Atu/fR2zlFocOcolHhH4bt6phkp38F8PUIMkgqanSsOaBvm5xdkKpbESizWJtOsXxN8i6dO/dj4uBkdHTUTE5OSaFAUB3ahQIFD6pVqFxgUhQ84z7w7RkbnIEfP+bsIs3zi2feEnRSo2kBO+OBACyMUCzKc8cS+2d7ZNssrK2Zpadl2gjEzPDxs3r59K2KX589fmBcvX5nnL15KIqbU8Imn19ETqdmSzWTvpBeWC2g72ZfG3kZxI7W3tyuCipeW6D//+0Lq4OAFyNBNTEzcHfH8UMYjqEYGRHqQlKKiOLArRWtLi8iuKIxA3BRPJCS1Sgk01DTo7yLhiMmkM/lPlRa+xZPg7+rqtEFdiw1IYiLxURQHKl2Qh+eByrazs8O02WC5u/ueGRwYkMC5yhoXls+Yfxfah3NRPfovFCLsRoXQ72uLRP8uID5Cro6ahho3dACCOQJo7pgI6P7487+ixv3+wQPz73//68L59NuEztzdAZBWT05N21enpq+3VwoflRpKvKMorX9RfDVQ4h2FpmXLHDKXcFFaNplMKvFljApk2RfcnQVSqsApa3Cb6K26PQuN6h2FBneOQol3FD7xZIiYSmRWianFu8gYlROOUymZ/mYu/lNw3tM7MNKyYwVt/ymYRuc8iyqvAr7rqrz5xJMxInX4/v2IbJnBj1MUD/aZmZiclCIT3hp5Nizg9dzcvOxUwepZFktubGxIXQIypFzDM4ATEjm8x+chNbfAMrerBUTzfRzzTGfier7jMkhhBL6AD41PTJi9eNwk7R9knTYJBkXhoOEhCwMCRNUrq6uy7Qs5+KnpGamawRw9Fk1BipWVFVNVXS1FEdKW1Eg4bN87NOPjY2Z5eVW+I0fujlxDp4D89fU12d8GQ11YWBT1FN9LtvVLWT+/IgaZuaXlJXNo/xgF9knPkj5UFA6IwNrX19eFoGw2I1UtIJI9aFaWl2XTp1AoKGvdcfXj4+OifFpYWBAxDDUKyO7hHRh+WSO/s7MtnQQPgaGyvQl/i3MUraITsQPW0NCQFE/4EvG+q8fCW1tafXdT6jRhuQB3TAoWV4+yBTeMhWLpTdaDImAlhqLAEYSymTdqHQhbXlr2x+icuw+IKIa0LnIu8Ri2IwE8c25/m6QQDOl4Bdbbk1b/EulA2OUiLkaAgSr0Xndu3xRF4cAdU+UC0cXjJ4/MN9/0yXmGzZhtX0qgYM2PHz+Sfeb29xMi3GAvINmnJtYuHGCxVfZ7QqGwEAr5lE0RF14RkLIqiDvY9gR9F9/bFmuTahvU2rlseuacEAOXQW/F+vlxpdwVqVyAt8QasTdIOrCWjpo2HAqZWCwm7UyZFJqd0mdUzqDsDB6Ac1guBsi1dCJiha2tTXtNvRgjpegSibiJNjTI5xjzKbkCXzWWN7R8yL7oJF+yep94nnAv/DDc0UXTfIrLgaumDRkqefAaAnntKZo4hhTamMieCqK0P26fSlgYHA/OEc3nvEiVqa5iq9KsydiYgfl3vo94jBiCQkv8De9vXWa0OmXrKDSCcxRKvKNQ4h2FKnDKHASRF0X3avGOQqN6R6EW7ySM+X9tQJKJhvqvOQAAAABJRU5ErkJggg==)\n",
        "\n",
        "Como los `Class names` no están incluidos los podremos a mano en el siguiente código: "
      ],
      "metadata": {
        "id": "iZDirwqQaLez"
      }
    },
    {
      "cell_type": "code",
      "source": [
        "nombres = ['T-shirt/top', 'Trouser', 'Pullover', 'Dress', 'Coat',\n",
        "               'Sandal', 'Shirt', 'Sneaker', 'Bag', 'Ankle boot']"
      ],
      "metadata": {
        "id": "C8jr9gdDaMTs"
      },
      "execution_count": null,
      "outputs": []
    },
    {
      "cell_type": "markdown",
      "source": [
        "Una vez tenemos los datos preparados, se puede proceder a revisar los **datos de entrenamiento**."
      ],
      "metadata": {
        "id": "X1L1KM84D8eN"
      }
    },
    {
      "cell_type": "markdown",
      "source": [
        "## Pre-procesamiento del set de datos"
      ],
      "metadata": {
        "id": "3gSuwlq9EGLh"
      }
    },
    {
      "cell_type": "code",
      "source": [
        "print(train_images.shape)"
      ],
      "metadata": {
        "colab": {
          "base_uri": "https://localhost:8080/"
        },
        "id": "4N0tG5E5aerY",
        "outputId": "37df2746-e496-4f35-9b2c-95b217bcbb16"
      },
      "execution_count": null,
      "outputs": [
        {
          "output_type": "stream",
          "name": "stdout",
          "text": [
            "(60000, 28, 28)\n"
          ]
        }
      ]
    },
    {
      "cell_type": "markdown",
      "source": [
        "Esto nos indica que el 'Dataset' de los **datos de entrenamiento** contiene 60K imágenes de 28x28, tal y como indica el enunciado. Hagamos lo mismo con los datos correspondientes a las imágenes de 'test':\n"
      ],
      "metadata": {
        "id": "DZ-yU9ytdfpj"
      }
    },
    {
      "cell_type": "code",
      "source": [
        "print(test_images.shape)"
      ],
      "metadata": {
        "colab": {
          "base_uri": "https://localhost:8080/"
        },
        "id": "3j03mt0ae0ox",
        "outputId": "5c97ca8a-5002-4c0f-fc94-e132c662de09"
      },
      "execution_count": null,
      "outputs": [
        {
          "output_type": "stream",
          "name": "stdout",
          "text": [
            "(10000, 28, 28)\n"
          ]
        }
      ]
    },
    {
      "cell_type": "markdown",
      "source": [
        "De esta manera, apreciamos que se trata de un array de 10K imágenes de 28x28.\n",
        "\n",
        "\n",
        "A continución, veamos las imágenes de otra forma. Por ejemplo, representemos la matriz de la imagen correspondiente a la posición 0 del array de las imágenes de entrenamiento:"
      ],
      "metadata": {
        "id": "tUzu49Bke2e5"
      }
    },
    {
      "cell_type": "code",
      "source": [
        "plt.figure()\n",
        "plt.imshow(train_images[0])\n",
        "plt.colorbar()\n",
        "plt.grid(False)\n",
        "plt.show()"
      ],
      "metadata": {
        "colab": {
          "base_uri": "https://localhost:8080/",
          "height": 265
        },
        "id": "WcYXrMWSdev5",
        "outputId": "4e742816-8992-4086-89be-9b6db5b00f96"
      },
      "execution_count": null,
      "outputs": [
        {
          "output_type": "display_data",
          "data": {
            "text/plain": [
              "<Figure size 432x288 with 2 Axes>"
            ],
            "image/png": "[encoded data removed]"
          },
          "metadata": {
            "needs_background": "light"
          }
        }
      ]
    },
    {
      "cell_type": "markdown",
      "source": [
        "Una vez se han comprobado las dimensiones de los arrays que se necesitarán, y se tiene clara la estructura de los datos de entrada, nos encontramos con un problema: se observa que los valores oscilan en un rango entre 0 y 250. Sin embargo, si se desea aplicarlos a la red neuronal convolucional, deben ser transformados a valores entre 0 y 1. De esta forma, nos aseguramos de que los datos de entrenamiento y de test se hayan normalizado, y puedan ser porcesados de la misma manera. Arreglémoslo de la siguiente forma:"
      ],
      "metadata": {
        "id": "Uig52cL6gdB5"
      }
    },
    {
      "cell_type": "code",
      "source": [
        "# 3.- NORMALIZACIÓN DE LOS DATOS\n",
        "train_images = train_images / 255\n",
        "test_images = test_images / 255"
      ],
      "metadata": {
        "id": "bdHPSrEIjhTQ"
      },
      "execution_count": null,
      "outputs": []
    },
    {
      "cell_type": "markdown",
      "source": [
        "Volvamos a mostrar la imagen anterior. Esta vez, los valores se presentarán en el rango [0,1], debido a la normalización de los datos previamente realizada:"
      ],
      "metadata": {
        "id": "43y9njeVjilX"
      }
    },
    {
      "cell_type": "code",
      "source": [
        "plt.figure()\n",
        "plt.imshow(train_images[0])\n",
        "plt.colorbar()\n",
        "plt.grid(False)\n",
        "plt.show()"
      ],
      "metadata": {
        "colab": {
          "base_uri": "https://localhost:8080/",
          "height": 269
        },
        "id": "dM4kCSlpjp1o",
        "outputId": "219dfc98-7ca8-4310-b96d-8551e25f9974"
      },
      "execution_count": null,
      "outputs": [
        {
          "output_type": "display_data",
          "data": {
            "text/plain": [
              "<Figure size 432x288 with 2 Axes>"
            ],
            "image/png": "[encoded data removed]"
          },
          "metadata": {
            "needs_background": "light"
          }
        }
      ]
    },
    {
      "cell_type": "markdown",
      "source": [
        "## Configuración de los casos"
      ],
      "metadata": {
        "id": "U6T2Irug9Apv"
      }
    },
    {
      "cell_type": "markdown",
      "source": [
        "***1. Configurar y entrenar los siguientes modelos de red de neuronas convolucionales, analizando y reflexionando sobre los resultados.***"
      ],
      "metadata": {
        "id": "ArQFsQrscBU1"
      }
    },
    {
      "cell_type": "markdown",
      "source": [
        "**Caso 1**"
      ],
      "metadata": {
        "id": "uc62hBll9eS_"
      }
    },
    {
      "cell_type": "markdown",
      "source": [
        "**Caso 2**"
      ],
      "metadata": {
        "id": "qZfcAMyJ9hAC"
      }
    },
    {
      "cell_type": "markdown",
      "source": [
        "**Caso 3**"
      ],
      "metadata": {
        "id": "PRe0u_7J9hTN"
      }
    },
    {
      "cell_type": "markdown",
      "source": [
        "## Salidas"
      ],
      "metadata": {
        "id": "DveszbD_zNFQ"
      }
    },
    {
      "cell_type": "markdown",
      "source": [
        "***2. Explicar la salida de la llamada model.summary() de cada uno de los 3 casos.***"
      ],
      "metadata": {
        "id": "DspFv9LXcWwp"
      }
    },
    {
      "cell_type": "markdown",
      "source": [
        "##Análisis"
      ],
      "metadata": {
        "id": "HJkZNDF00gnU"
      }
    },
    {
      "cell_type": "markdown",
      "source": [
        "###Análisis (5 épocas vs 25 épocas)"
      ],
      "metadata": {
        "id": "LuZhWyBEAeqG"
      }
    },
    {
      "cell_type": "markdown",
      "source": [
        "***3. Analizar e interpretar los resultados del Caso 1 frente a su original si se multiplica por 5 las épocas de entrenamiento (25).***"
      ],
      "metadata": {
        "id": "WPKU27telzeM"
      }
    },
    {
      "cell_type": "markdown",
      "source": [
        "###Análisis (ReLU vs tanh)"
      ],
      "metadata": {
        "id": "_D2dSySz-Pqu"
      }
    },
    {
      "cell_type": "markdown",
      "source": [
        "***4. Analiza el resultado del Caso 1 si en lugar de 'ReLU' usas 'tanh' en la función de activación de las dos capas convolucionales.***"
      ],
      "metadata": {
        "id": "zmKixDFS-SeR"
      }
    },
    {
      "cell_type": "markdown",
      "source": [
        "## Comparación de rendimiento"
      ],
      "metadata": {
        "id": "JZ4zHoKQ3PRi"
      }
    },
    {
      "cell_type": "markdown",
      "source": [
        "***5. Evaluar cada uno de los 3 modelos comparando el rendimiento del modelo en el conjunto de datos de prueba***"
      ],
      "metadata": {
        "id": "cU33EEXLlzlS"
      }
    },
    {
      "cell_type": "markdown",
      "source": [
        "## Predicciones"
      ],
      "metadata": {
        "id": "3Y5_rnXT5_bT"
      }
    },
    {
      "cell_type": "markdown",
      "source": [
        "***6. Usar cada uno de los 3 modelos para hacer predicciones sobre la 6ª imagen de test (test_images[5]).***"
      ],
      "metadata": {
        "id": "6hLOzUeMlzsY"
      }
    },
    {
      "cell_type": "markdown",
      "source": [
        "## Gráficas\n"
      ],
      "metadata": {
        "id": "i5Gv-pbYEFzc"
      }
    },
    {
      "cell_type": "markdown",
      "source": [
        "***7. Utilice el siguiente código para graficar cómo de bien o de mal se comporta el modelo para cada uno de los 3 casos con las 14 primeras imágenes del conjunto de test. Reflexione y comente las diferencias que observa.***"
      ],
      "metadata": {
        "id": "1L5cdhcqlzzi"
      }
    },
    {
      "cell_type": "markdown",
      "source": [
        "## Comparativa con la Práctica 1\n"
      ],
      "metadata": {
        "id": "zsH03wvx_Zgi"
      }
    },
    {
      "cell_type": "markdown",
      "source": [
        "***8. Hacer comparativa con los resultados que obtuvisteis en la práctica 1, con las\n",
        "capas Dense.***"
      ],
      "metadata": {
        "id": "zOjHnYOD_Si_"
      }
    },
    {
      "cell_type": "markdown",
      "source": [
        "##Mejoras del modelo"
      ],
      "metadata": {
        "id": "yfn2ItndAC63"
      }
    },
    {
      "cell_type": "markdown",
      "source": [
        "###1ª Mejora del modelo"
      ],
      "metadata": {
        "id": "fHsGP7xpMO6C"
      }
    },
    {
      "cell_type": "markdown",
      "source": [
        "***9. Ver los conceptos de 'batch_normalization' y 'dropout'; y ver si se podría mejorar\n",
        "el modelo con ello.\n",
        "https://keras.io/api/layers/normalization_layers/batch_normalization/\n",
        "https://keras.io/api/layers/regularization_layers/dropout/***"
      ],
      "metadata": {
        "id": "j_q01Xrh_fcj"
      }
    },
    {
      "cell_type": "markdown",
      "source": [
        "###2ª Mejora del modelo"
      ],
      "metadata": {
        "id": "BX30_FZZ_7kP"
      }
    },
    {
      "cell_type": "markdown",
      "source": [
        "***9. Ver los conceptos de 'callbacks' (Decaimiento del ratio de aprendizaje); y ver si se\n",
        "podría mejorar el modelo con ello.\n",
        "https://www.tensorflow.org/api_docs/python/tf/keras/callbacks/Learning\n",
        "RateScheduler y https://keras.io/api/callbacks/***"
      ],
      "metadata": {
        "id": "Wn_BRA7k_vzF"
      }
    },
    {
      "cell_type": "markdown",
      "source": [
        "# CONCLUSIONES"
      ],
      "metadata": {
        "id": "Qg6F-q4vkpeD"
      }
    },
    {
      "cell_type": "markdown",
      "source": [],
      "metadata": {
        "id": "BdPwgUA47GKp"
      }
    },
    {
      "cell_type": "markdown",
      "source": [
        "# REFLEXIONES"
      ],
      "metadata": {
        "id": "i98dDcKukr8Z"
      }
    },
    {
      "cell_type": "markdown",
      "source": [],
      "metadata": {
        "id": "DlWY-Cjc7Jap"
      }
    },
    {
      "cell_type": "markdown",
      "source": [
        "# REFERENCIAS BIBLIOGRÁFICAS"
      ],
      "metadata": {
        "id": "45-BMfTpktzs"
      }
    },
    {
      "cell_type": "markdown",
      "source": [
        "- Apuntes recogidos de GitHub y GoogleColab, a raíz de los contenidos estudiados en el aula"
      ],
      "metadata": {
        "id": "rZoJaNUq8A_h"
      }
    }
  ]
}