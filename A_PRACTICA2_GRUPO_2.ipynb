{
  "nbformat": 4,
  "nbformat_minor": 0,
  "metadata": {
    "colab": {
      "provenance": [],
      "collapsed_sections": [
        "zXY6f3Stvuin",
        "Xo8E6lFYEGf7",
        "Iu-Hs4guEOoV",
        "Egg02Vtuaces",
        "lLerLNFgcggC",
        "i98dDcKukr8Z",
        "VkQld-8tlG1l",
        "ElW4xpEHlY4N",
        "gUwpnuQylZA2",
        "45-BMfTpktzs"
      ],
      "include_colab_link": true
    },
    "kernelspec": {
      "name": "python3",
      "display_name": "Python 3"
    },
    "language_info": {
      "name": "python"
    },
    "accelerator": "GPU",
    "gpuClass": "standard"
  },
  "cells": [
    {
      "cell_type": "markdown",
      "metadata": {
        "id": "view-in-github",
        "colab_type": "text"
      },
      "source": [
        "<a href=\"https://colab.research.google.com/github/Paloma-Moya-Tudela/AA_PRACTICA2_GRUPO_2/blob/main/A_PRACTICA2_GRUPO_2.ipynb\" target=\"_parent\"><img src=\"https://colab.research.google.com/assets/colab-badge.svg\" alt=\"Open In Colab\"/></a>"
      ]
    },
    {
      "cell_type": "markdown",
      "source": [
        "**GRUPO 2**\n",
        "\n",
        "María García Rodríguez\n",
        "\n",
        "Paloma Moya Tudela\n",
        "\n",
        "Sofía Peña González\n",
        "\n",
        "Elena Peral Pastor\n",
        "\n"
      ],
      "metadata": {
        "id": "w8YbxA3YDZZu"
      }
    },
    {
      "cell_type": "markdown",
      "source": [
        "# RESUMEN"
      ],
      "metadata": {
        "id": "zXY6f3Stvuin"
      }
    },
    {
      "cell_type": "markdown",
      "source": [
        "En la anterior práctica trabajamos las Redes de Neuronas Artificiales (RNA)con un ejemplo. Utilizando la misma baso de datos, se estudiarán un tipo específico de estructuras de red que la asignatura de “Aprendizaje Automático” nos da a conocer: las Redes de Neuronas Convolucionales (CNN).\n",
        "\n",
        "Por tanto, este segundo trabajo irá dirigido a profundizar en el funcionamiento de estas redes. Será interesante comparar los resultados obtenidos en ambas prácticas, con el fin de averiguar - de manera práctica - las diferencias entre ambos. De esta forma, al final del estudio seremos capaces de identificar los casos de uso óptimo para cada una de las redes.\n"
      ],
      "metadata": {
        "id": "dSAN9x20dhFd"
      }
    },
    {
      "cell_type": "markdown",
      "source": [
        "# ÍNDICE"
      ],
      "metadata": {
        "id": "Xo8E6lFYEGf7"
      }
    },
    {
      "cell_type": "markdown",
      "source": [
        "\n",
        "\n",
        "*   Introducción\n",
        "*   Resolución\n",
        "*   Conclusiones\n",
        "*   Reflexiones\n",
        "*   Referencias Bibliográficas\n",
        "\n",
        "\n",
        "\n",
        "\n",
        "\n"
      ],
      "metadata": {
        "id": "3fiCm_ARE1Rb"
      }
    },
    {
      "cell_type": "markdown",
      "source": [
        "# INTRODUCCIÓN"
      ],
      "metadata": {
        "id": "Iu-Hs4guEOoV"
      }
    },
    {
      "cell_type": "markdown",
      "source": [
        "En la 'Práctica 1' se mencionaron tanto los aspectos más relevantes de las Redes de Neuronas Artificiales, como su semejanza con la neurología biológica; y se dio a entender el gran impacto que la Inteligencia Artificial (IA) está cobrando en nuestras vidas. Por consiguiente, y con el fin de no ser repetitivos, únicamente presentaremos en otro estilo de red neuronal: la Red de Neuronas Convolucionales.\n",
        "\n",
        "Este proyecto volverá a examinar los productos de la tienda de moda online alemana especializada en ventas de ropa y zapatos 'Zalando' (www.zalando.com).\n",
        "\n",
        "Este estudio se centrará en entender el comportamiento de una Red de Neuronas Convolucionales. Asimismo, servirá de gran ayuda en la comprensión de sus similitudes y diferencias con una Red de Neuronas Artificiales como aquella de la práctica previa."
      ],
      "metadata": {
        "id": "bScY0amsHsdV"
      }
    },
    {
      "cell_type": "markdown",
      "source": [
        "# RESOLUCIÓN"
      ],
      "metadata": {
        "id": "X36Twi4IEVBu"
      }
    },
    {
      "cell_type": "markdown",
      "source": [
        "El primer paso será comprender el enunciado y extraer los datos que se nos aportan.\n",
        "\n",
        "**PROBLEMA:**\n",
        "\n",
        "* Reconocer y clasificar imágenes de ropa - en escala de grises - en sus diferentes tipologías (10). Este modelo será definido, configurado, entrenado, evaluado y mejorado para posteriormente usarlo para hacer predicciones.\n",
        "* Crear un modelo de Red de Neuronas COnvolucionales en Keras aplicando de una tirada todos los pasos al conjunto de datos Fashion-MNIST - precargado en Keras - y que ya se ha utilizado para la 'Prática 1'.\n",
        "* Se dispone de 70k imágenes del conjunto de datos de Fashion-MNIST en baja resolución (28 x 28 píxeles): artículos de Zalando, una tienda de moda online alemana especializada en ventas de ropa y zapatos. Se usarán 60K imágenes para el entrenamiento de la red, y 10K imágenes para evaluar la precisión con la que la red aprende a clasificarlas.\n",
        "\n",
        "\n",
        "Una vez se tienen claro los materiales con los que se trabajará, se podrá empezar a incorporar código. Sin embargo, antes de comenzar importemnos qyuras y el resto de librerías necesarias para la red neuronal, asegurando que es la versión 2.0.0 (o superior) de TensorFlow."
      ],
      "metadata": {
        "id": "ZyIlHHA-HuUU"
      }
    },
    {
      "cell_type": "markdown",
      "source": [
        "\n",
        "**DISEÑO, ENTRENAMIENTO Y TEST DE UN SISTEMA DE REDES DE NEURONAS ARTIFICIALES**\n"
      ],
      "metadata": {
        "id": "Fe61Lwmrbpo_"
      }
    },
    {
      "cell_type": "code",
      "source": [
        "# 1._ IMPORTAMOS KERAS\n",
        "%tensorflow_version 2.x\n",
        "import tensorflow as tf\n",
        "from tensorflow import keras\n",
        "print(tf.keras.__version__)\n",
        "print(\"GPU Available:\", tf.config.list_physical_devices('GPU'))\n",
        "print(tf.__version__)\n",
        "\n",
        "import numpy as np\n",
        "import pandas as pd\n",
        "import matplotlib.image as mpim\n",
        "import matplotlib.pyplot as plt\n",
        "%matplotlib inline\n",
        "\n",
        "from keras import backend as K\n",
        "from keras.utils import np_utils\n",
        "from sklearn.model_selection import train_test_split\n",
        "from keras.models import Sequential\n",
        "from keras.layers import Dense, Dropout, Flatten, Reshape, InputLayer"
      ],
      "metadata": {
        "colab": {
          "base_uri": "https://localhost:8080/"
        },
        "id": "psaION17mmw3",
        "outputId": "73217095-505d-4364-acb2-34004b19c21a"
      },
      "execution_count": 80,
      "outputs": [
        {
          "output_type": "stream",
          "name": "stdout",
          "text": [
            "Colab only includes TensorFlow 2.x; %tensorflow_version has no effect.\n",
            "2.9.0\n",
            "GPU Available: [PhysicalDevice(name='/physical_device:GPU:0', device_type='GPU')]\n",
            "2.9.2\n"
          ]
        }
      ]
    },
    {
      "cell_type": "markdown",
      "source": [
        "A continuación, cargamos el conjunto de datos  MNIST en Keras con el que vamos a trabajar en esta prática.\n"
      ],
      "metadata": {
        "id": "m_FEKAOAaEC-"
      }
    },
    {
      "cell_type": "code",
      "source": [
        "# 2.- CARGAMOS EL CONJUNTO DE DATOS MINIST EN KERAS\n",
        "# mnist = tf.keras.datasets.mnist\n",
        "from keras.datasets import mnist\n",
        "\n",
        "fashion_mnist = keras.datasets.fashion_mnist\n",
        "(train_images, train_labels), (test_images, test_labels) = fashion_mnist.load_data()\n"
      ],
      "metadata": {
        "id": "9boZLFDdaHN0"
      },
      "execution_count": 81,
      "outputs": []
    },
    {
      "cell_type": "markdown",
      "source": [
        "Al cargar el set de datos retorna cuatro arreglos en NumPy:\n",
        "- `train_images` y `train_labels` son el **conjunto de entrenamiento** (los datos de los que aprenderá el modelo).\n",
        "- `test_images` y `test_labels` son el conjunto de pruebas (los datos con los que testearemos el modelo ya entrenado).\n",
        "- Las imágenes están **codificadas** como matrices `Numpy`, y las etiquetas son un vector de números con valores entre el 0 y el 9 (imágenes y etiquetas tienen una correspondencia 1 a 1) \n",
        "\n",
        "| *CLASE* | *PRENDA* |\n",
        "|-----------|------------|\n",
        "| 0         | T-shirt    |\n",
        "| 1         | Trouser    |\n",
        "| 2         | Pullover   |\n",
        "| 3         | Dress      |\n",
        "| 4         | Coat       |\n",
        "| 5         | Sandal     |\n",
        "| 6         | Shirt      |\n",
        "| 7         | Sneaker    |\n",
        "| 8         | Bag        |\n",
        "| 9         | Ankle boot |\n",
        "\n",
        "Como los `Class names` no están incluidos los podremos a mano en el siguiente código: "
      ],
      "metadata": {
        "id": "iZDirwqQaLez"
      }
    },
    {
      "cell_type": "code",
      "source": [
        "nombres = ['T-shirt/top', 'Trouser', 'Pullover', 'Dress', 'Coat',\n",
        "               'Sandal', 'Shirt', 'Sneaker', 'Bag', 'Ankle boot']"
      ],
      "metadata": {
        "id": "C8jr9gdDaMTs"
      },
      "execution_count": 82,
      "outputs": []
    },
    {
      "cell_type": "markdown",
      "source": [
        "Una vez tenemos los datos preparados, se puede proceder a revisar los **datos de entrenamiento**."
      ],
      "metadata": {
        "id": "X1L1KM84D8eN"
      }
    },
    {
      "cell_type": "markdown",
      "source": [
        "## Pre-procesamiento del set de datos"
      ],
      "metadata": {
        "id": "3gSuwlq9EGLh"
      }
    },
    {
      "cell_type": "code",
      "source": [
        "print(train_images.shape)"
      ],
      "metadata": {
        "colab": {
          "base_uri": "https://localhost:8080/"
        },
        "id": "4N0tG5E5aerY",
        "outputId": "c1e8a0ea-82c6-4858-9069-e15a909cbce5"
      },
      "execution_count": 83,
      "outputs": [
        {
          "output_type": "stream",
          "name": "stdout",
          "text": [
            "(60000, 28, 28)\n"
          ]
        }
      ]
    },
    {
      "cell_type": "markdown",
      "source": [
        "Esto nos indica que el 'Dataset' de los **datos de entrenamiento** contiene 60K imágenes de 28x28, tal y como indica el enunciado. Hagamos lo mismo con los datos correspondientes a las imágenes de 'test':\n"
      ],
      "metadata": {
        "id": "DZ-yU9ytdfpj"
      }
    },
    {
      "cell_type": "code",
      "source": [
        "print(test_images.shape)"
      ],
      "metadata": {
        "colab": {
          "base_uri": "https://localhost:8080/"
        },
        "id": "3j03mt0ae0ox",
        "outputId": "14551434-205e-4d27-83c3-76898038a80e"
      },
      "execution_count": 84,
      "outputs": [
        {
          "output_type": "stream",
          "name": "stdout",
          "text": [
            "(10000, 28, 28)\n"
          ]
        }
      ]
    },
    {
      "cell_type": "markdown",
      "source": [
        "De esta manera, apreciamos que se trata de un array de 10K imágenes de 28x28.\n",
        "\n",
        "\n",
        "A continución, veamos las imágenes de otra forma. Por ejemplo, representemos la matriz de la imagen correspondiente a la posición 0 del array de las imágenes de entrenamiento:"
      ],
      "metadata": {
        "id": "tUzu49Bke2e5"
      }
    },
    {
      "cell_type": "code",
      "source": [
        "plt.figure()\n",
        "plt.imshow(train_images[0])\n",
        "plt.colorbar()\n",
        "plt.grid(False)\n",
        "plt.show()"
      ],
      "metadata": {
        "colab": {
          "base_uri": "https://localhost:8080/",
          "height": 265
        },
        "id": "WcYXrMWSdev5",
        "outputId": "138e7bd6-d1de-4ccf-87ee-174b18f735b6"
      },
      "execution_count": 85,
      "outputs": [
        {
          "output_type": "display_data",
          "data": {
            "text/plain": [
              "<Figure size 432x288 with 2 Axes>"
            ],
            "image/png": "[encoded data removed]"
          },
          "metadata": {
            "needs_background": "light"
          }
        }
      ]
    },
    {
      "cell_type": "markdown",
      "source": [
        "Una vez se han comprobado las dimensiones de los arrays que se necesitarán, y se tiene clara la estructura de los datos de entrada, nos encontramos con un problema: se observa que los valores oscilan en un rango entre 0 y 250. Sin embargo, si se desea aplicarlos a la red neuronal convolucional, deben ser transformados a valores entre 0 y 1. De esta forma, nos aseguramos de que los datos de entrenamiento y de test se hayan normalizado, y puedan ser porcesados de la misma manera. Arreglémoslo de la siguiente forma:"
      ],
      "metadata": {
        "id": "Uig52cL6gdB5"
      }
    },
    {
      "cell_type": "code",
      "source": [
        "# 3.- NORMALIZACIÓN DE LOS DATOS (IMÁGENES DE ENTRENAMIENTO Y DE TEST)\n",
        "train_images = train_images.astype('float32') / 255\n",
        "test_images = test_images.astype('float32') / 255"
      ],
      "metadata": {
        "id": "bdHPSrEIjhTQ"
      },
      "execution_count": 86,
      "outputs": []
    },
    {
      "cell_type": "code",
      "source": [
        "print (train_images.shape)\n",
        "print (train_labels.shape)"
      ],
      "metadata": {
        "id": "jHxaQNAdBDTQ",
        "colab": {
          "base_uri": "https://localhost:8080/"
        },
        "outputId": "dc27159e-0b07-4eef-9efb-8b2a6a5fdf69"
      },
      "execution_count": 87,
      "outputs": [
        {
          "output_type": "stream",
          "name": "stdout",
          "text": [
            "(60000, 28, 28)\n",
            "(60000,)\n"
          ]
        }
      ]
    },
    {
      "cell_type": "markdown",
      "source": [
        "Volvamos a mostrar la imagen anterior. Esta vez, los valores se presentarán en el rango [0,1], debido a la normalización de los datos previamente realizada:"
      ],
      "metadata": {
        "id": "43y9njeVjilX"
      }
    },
    {
      "cell_type": "code",
      "source": [
        "plt.figure()\n",
        "plt.imshow(train_images[0])\n",
        "plt.colorbar()\n",
        "plt.grid(False)\n",
        "plt.show()"
      ],
      "metadata": {
        "colab": {
          "base_uri": "https://localhost:8080/",
          "height": 269
        },
        "id": "dM4kCSlpjp1o",
        "outputId": "bbaabf43-0888-4589-ca2c-316117d0b47a"
      },
      "execution_count": 88,
      "outputs": [
        {
          "output_type": "display_data",
          "data": {
            "text/plain": [
              "<Figure size 432x288 with 2 Axes>"
            ],
            "image/png": "[encoded data removed]"
          },
          "metadata": {
            "needs_background": "light"
          }
        }
      ]
    },
    {
      "cell_type": "markdown",
      "source": [
        "A su vez, existe la posibilidad de visalizar las imágenes en su forma matricial. Utilicemos como ejemplo la imagen correspondiente a la posición 2000 del array de los datos de entrenamiento.\n",
        "\n"
      ],
      "metadata": {
        "id": "oEi4IS_vjp9v"
      }
    },
    {
      "cell_type": "code",
      "source": [
        "np.set_printoptions(precision=2, suppress=True, linewidth=145)\n",
        "print(np.matrix(train_images[20000]))"
      ],
      "metadata": {
        "colab": {
          "base_uri": "https://localhost:8080/"
        },
        "id": "Mae-YS0ylT53",
        "outputId": "08474a4d-41bd-4adb-b5dd-3625fc671d4e"
      },
      "execution_count": 89,
      "outputs": [
        {
          "output_type": "stream",
          "name": "stdout",
          "text": [
            "[[0.   0.   0.   0.   0.   0.   0.   0.   0.   0.   0.   0.   0.   0.   0.   0.   0.   0.   0.   0.   0.   0.   0.   0.   0.   0.   0.   0.  ]\n",
            " [0.   0.   0.   0.   0.   0.   0.   0.   0.   0.   0.   0.   0.   0.   0.   0.   0.   0.   0.   0.   0.   0.   0.   0.   0.   0.   0.   0.  ]\n",
            " [0.   0.   0.   0.   0.   0.   0.   0.   0.   0.   0.   0.   0.   0.   0.   0.   0.   0.   0.   0.   0.   0.   0.   0.   0.   0.   0.   0.  ]\n",
            " [0.   0.   0.   0.   0.   0.   0.   0.   0.   0.   0.   0.   0.   0.   0.   0.   0.   0.   0.   0.   0.   0.   0.   0.   0.   0.   0.   0.  ]\n",
            " [0.   0.   0.   0.   0.   0.   0.   0.   0.   0.   0.   0.   0.   0.   0.   0.   0.   0.   0.   0.   0.   0.   0.   0.   0.   0.   0.   0.  ]\n",
            " [0.   0.   0.   0.   0.   0.   0.   0.   0.   0.   0.   0.   0.   0.   0.   0.   0.   0.   0.   0.   0.   0.   0.   0.   0.   0.   0.   0.  ]\n",
            " [0.   0.   0.   0.   0.   0.   0.   0.   0.   0.   0.   0.   0.   0.   0.   0.   0.   0.   0.   0.   0.   0.   0.   0.   0.   0.   0.   0.  ]\n",
            " [0.   0.   0.   0.   0.   0.   0.   0.   0.   0.   0.   0.   0.   0.   0.   0.   0.   0.   0.   0.   0.   0.   0.   0.   0.   0.   0.   0.  ]\n",
            " [0.   0.   0.   0.   0.   0.   0.   0.   0.   0.   0.   0.   0.   0.   0.   0.   0.   0.   0.   0.   0.   0.   0.   0.   0.   0.   0.   0.  ]\n",
            " [0.   0.   0.   0.   0.   0.   0.   0.   0.   0.   0.   0.01 0.   0.   0.14 0.26 0.22 0.   0.   0.01 0.   0.   0.   0.   0.   0.   0.16 0.11]\n",
            " [0.   0.   0.   0.   0.   0.   0.   0.   0.01 0.   0.   0.   0.   0.63 1.   0.85 1.   0.37 0.   0.   0.   0.   0.02 0.   0.   0.   0.25 0.15]\n",
            " [0.   0.   0.   0.   0.   0.   0.   0.   0.   0.   0.   0.59 0.93 0.84 0.78 0.76 0.77 0.98 0.78 0.16 0.   0.   0.   0.   0.   0.25 0.93 0.1 ]\n",
            " [0.   0.01 0.   0.   0.   0.   0.   0.   0.26 0.65 0.95 0.85 0.8  0.75 0.75 0.79 0.78 0.77 0.84 1.   0.77 0.48 0.38 0.48 0.73 0.81 0.89 0.25]\n",
            " [0.   0.   0.   0.   0.   0.   0.16 0.7  0.88 0.84 0.78 0.75 0.76 0.75 0.75 0.78 0.81 0.8  0.8  0.81 0.84 0.88 0.89 0.88 0.86 0.8  0.85 0.49]\n",
            " [0.   0.29 0.53 0.57 0.65 0.75 0.8  0.78 0.76 0.75 0.76 0.77 0.76 0.79 0.8  0.81 0.8  0.78 0.8  0.8  0.79 0.79 0.78 0.78 0.78 0.77 0.87 0.52]\n",
            " [0.05 0.64 0.84 0.85 0.86 0.85 0.84 0.82 0.83 0.82 0.81 0.8  0.81 0.82 0.81 0.81 0.81 0.81 0.82 0.81 0.82 0.81 0.81 0.81 0.81 0.8  0.89 0.59]\n",
            " [0.11 0.01 0.   0.06 0.17 0.32 0.47 0.53 0.66 0.73 0.81 0.86 0.87 0.89 0.91 0.93 0.95 0.95 0.93 0.92 0.93 0.93 0.93 0.91 0.89 0.85 0.96 0.41]\n",
            " [0.13 0.22 0.17 0.07 0.   0.   0.   0.   0.   0.   0.   0.   0.   0.   0.03 0.06 0.05 0.07 0.08 0.05 0.04 0.06 0.08 0.08 0.09 0.08 0.24 0.15]\n",
            " [0.   0.   0.05 0.16 0.29 0.32 0.27 0.26 0.22 0.18 0.15 0.15 0.13 0.14 0.15 0.14 0.15 0.16 0.15 0.14 0.15 0.16 0.18 0.21 0.24 0.31 0.45 0.25]\n",
            " [0.   0.   0.   0.   0.   0.06 0.12 0.22 0.26 0.27 0.32 0.35 0.32 0.28 0.24 0.18 0.13 0.13 0.15 0.18 0.18 0.17 0.12 0.07 0.05 0.07 0.09 0.  ]\n",
            " [0.   0.   0.   0.   0.   0.   0.   0.   0.   0.   0.   0.   0.   0.   0.   0.   0.   0.   0.   0.   0.   0.   0.   0.   0.   0.   0.   0.  ]\n",
            " [0.   0.   0.   0.   0.   0.   0.   0.   0.   0.   0.   0.   0.   0.   0.   0.   0.   0.   0.   0.   0.   0.   0.   0.   0.   0.   0.   0.  ]\n",
            " [0.   0.   0.   0.   0.   0.   0.   0.   0.   0.   0.   0.   0.   0.   0.   0.   0.   0.   0.   0.   0.   0.   0.   0.   0.   0.   0.   0.  ]\n",
            " [0.   0.   0.   0.   0.   0.   0.   0.   0.   0.   0.   0.   0.   0.   0.   0.   0.   0.   0.   0.   0.   0.   0.   0.   0.   0.   0.   0.  ]\n",
            " [0.   0.   0.   0.   0.   0.   0.   0.   0.   0.   0.   0.   0.   0.   0.   0.   0.   0.   0.   0.   0.   0.   0.   0.   0.   0.   0.   0.  ]\n",
            " [0.   0.   0.   0.   0.   0.   0.   0.   0.   0.   0.   0.   0.   0.   0.   0.   0.   0.   0.   0.   0.   0.   0.   0.   0.   0.   0.   0.  ]\n",
            " [0.   0.   0.   0.   0.   0.   0.   0.   0.   0.   0.   0.   0.   0.   0.   0.   0.   0.   0.   0.   0.   0.   0.   0.   0.   0.   0.   0.  ]\n",
            " [0.   0.   0.   0.   0.   0.   0.   0.   0.   0.   0.   0.   0.   0.   0.   0.   0.   0.   0.   0.   0.   0.   0.   0.   0.   0.   0.   0.  ]]\n"
          ]
        }
      ]
    },
    {
      "cell_type": "markdown",
      "source": [
        "Simula la silueta de un 'sneaker'; así que, comprobémoslo con su correspondiente imagen asociada. Cabe destacar que observamos que los valores seguirán estando entre 0 y 1:"
      ],
      "metadata": {
        "id": "--RGKDtiHotC"
      }
    },
    {
      "cell_type": "code",
      "source": [
        "plt.figure()\n",
        "plt.imshow(train_images[2000])\n",
        "plt.colorbar()\n",
        "plt.grid(False)\n",
        "plt.show()"
      ],
      "metadata": {
        "colab": {
          "base_uri": "https://localhost:8080/",
          "height": 269
        },
        "outputId": "4af7894b-7b4e-4fd0-dab0-adac9da6463a",
        "id": "XgwjGgdWHvId"
      },
      "execution_count": 90,
      "outputs": [
        {
          "output_type": "display_data",
          "data": {
            "text/plain": [
              "<Figure size 432x288 with 2 Axes>"
            ],
            "image/png": "[encoded data removed]"
          },
          "metadata": {
            "needs_background": "light"
          }
        }
      ]
    },
    {
      "cell_type": "markdown",
      "source": [
        "Por último, antes de comenzar con la red neuronal convolucional, incluimos una representación de los 10 primeros elementos con sus correspondientes etiquetas. De esta forma, nos aseguramos de que el 'Dataset' sea correcto."
      ],
      "metadata": {
        "id": "o4GlEgAKokYc"
      }
    },
    {
      "cell_type": "code",
      "source": [
        "plt.figure(figsize=(10,10))\n",
        "for i in range(10):\n",
        "    plt.subplot(5,5,i+1)\n",
        "    plt.xticks([])\n",
        "    plt.yticks([])\n",
        "    plt.grid(False)\n",
        "    plt.imshow(train_images[i], cmap=plt.cm.binary)\n",
        "    plt.xlabel(nombres[train_labels[i]])\n",
        "plt.show()"
      ],
      "metadata": {
        "colab": {
          "base_uri": "https://localhost:8080/",
          "height": 251
        },
        "id": "wtm8MmmigeGw",
        "outputId": "917ff53a-aeb2-4528-ada7-6d1898adb0fa"
      },
      "execution_count": 91,
      "outputs": [
        {
          "output_type": "display_data",
          "data": {
            "text/plain": [
              "<Figure size 720x720 with 10 Axes>"
            ],
            "image/png": "[encoded data removed]"
          },
          "metadata": {}
        }
      ]
    },
    {
      "cell_type": "markdown",
      "source": [
        "## Configuración de los casos"
      ],
      "metadata": {
        "id": "fImU1jnsHEpw"
      }
    },
    {
      "cell_type": "markdown",
      "source": [
        "***1. Configurar y entrenar los siguientes modelos de red de neuronas convolucionales, analizando y reflexionando sobre los resultados.***"
      ],
      "metadata": {
        "id": "ArQFsQrscBU1"
      }
    },
    {
      "cell_type": "markdown",
      "source": [
        "**Caso 1**"
      ],
      "metadata": {
        "id": "uc62hBll9eS_"
      }
    },
    {
      "cell_type": "code",
      "metadata": {
        "id": "-uOOAaPim-lb"
      },
      "source": [
        "# CREAR EL MODELO DE RED NEURONAL CNN:\n",
        "from tensorflow.keras import Sequential\n",
        "from tensorflow.keras.layers import Conv2D\n",
        "from tensorflow.keras.layers import MaxPooling2D\n",
        "\n",
        "model1 = Sequential()\n",
        "model1.add(Conv2D(32, (5, 5), activation='relu', input_shape=(28, 28, 1))) # 1ª capa convolucional\n",
        "model1.add(MaxPooling2D((2, 2))) # 1ª capa pooling\n",
        "\n",
        "model1.add(Conv2D(64, (5, 5), activation='relu')) # 2ª capa convolucional\n",
        "model1.add(MaxPooling2D((2, 2))) # 2ª capa pooling\n",
        "\n",
        "model1.add(Flatten()) # Capa Flatten\n",
        "\n",
        "model1.add(Dense(10, activation='softmax')) # Última capa densa"
      ],
      "execution_count": 92,
      "outputs": []
    },
    {
      "cell_type": "code",
      "source": [
        "# COMPILAR EL MODELO CON MÉTRICA PRECISIÓN:\n",
        "model1.compile(loss='sparse_categorical_crossentropy',\n",
        "               optimizer='sgd',\n",
        "               metrics=['accuracy'])\n",
        "\n",
        "history = model1.fit\n",
        "\n",
        "model1.fit(train_images, train_labels,\n",
        "           epochs=5)\n",
        "\n",
        "test_loss1, test_acc1 = model1.evaluate(test_images, test_labels)\n",
        "\n",
        "print('Test accuracy:', test_acc1)"
      ],
      "metadata": {
        "colab": {
          "base_uri": "https://localhost:8080/"
        },
        "id": "MwgwQY4uKxvq",
        "outputId": "3a28ff5d-e291-4d7d-da76-b907bd869331"
      },
      "execution_count": 93,
      "outputs": [
        {
          "output_type": "stream",
          "name": "stdout",
          "text": [
            "Epoch 1/5\n",
            "1875/1875 [==============================] - 6s 3ms/step - loss: 0.8348 - accuracy: 0.7059\n",
            "Epoch 2/5\n",
            "1875/1875 [==============================] - 5s 3ms/step - loss: 0.5127 - accuracy: 0.8164\n",
            "Epoch 3/5\n",
            "1875/1875 [==============================] - 5s 3ms/step - loss: 0.4512 - accuracy: 0.8404\n",
            "Epoch 4/5\n",
            "1875/1875 [==============================] - 5s 3ms/step - loss: 0.4173 - accuracy: 0.8517\n",
            "Epoch 5/5\n",
            "1875/1875 [==============================] - 5s 3ms/step - loss: 0.3968 - accuracy: 0.8597\n",
            "313/313 [==============================] - 1s 4ms/step - loss: 0.4279 - accuracy: 0.8525\n",
            "Test accuracy: 0.8525000214576721\n"
          ]
        }
      ]
    },
    {
      "cell_type": "markdown",
      "source": [
        "**Caso 2**"
      ],
      "metadata": {
        "id": "qZfcAMyJ9hAC"
      }
    },
    {
      "cell_type": "code",
      "source": [
        "# CREAR EL MODELO DE RED NEURONAL CNN:\n",
        "model2 = Sequential()\n",
        "model2.add(Conv2D(64, (7, 7), activation='relu', input_shape=(28, 28, 1), padding='same')) # 1ª capa convolucional\n",
        "model2.add(MaxPooling2D((2, 2))) # 1ª capa pooling\n",
        "\n",
        "model2.add(Conv2D(128, (3, 3), activation='relu', padding='same')) # 2ª capa convolucional\n",
        "model2.add(MaxPooling2D((2, 2))) # 2ª capa pooling\n",
        "\n",
        "model2.add(Flatten()) # Capa Flatten\n",
        "\n",
        "model2.add(Dense(65,activation='relu')) # Penúltima capa densa\n",
        "model2.add(Dense(10, activation='softmax')) # Última capa densa"
      ],
      "metadata": {
        "id": "SPUktnXxMEQ4"
      },
      "execution_count": 95,
      "outputs": []
    },
    {
      "cell_type": "code",
      "source": [
        "# COMPILAR EL MODELO CON MÉTRICA PRECISIÓN:\n",
        "model2.compile(loss='sparse_categorical_crossentropy',\n",
        "               optimizer='sgd',\n",
        "               metrics=['accuracy'])\n",
        "\n",
        "history = model2.fit\n",
        "\n",
        "model2.fit(train_images, train_labels,\n",
        "           epochs=5)\n",
        "\n",
        "test_loss2, test_acc2 = model2.evaluate(test_images, test_labels)\n",
        "\n",
        "print('Test accuracy:', test_acc2)"
      ],
      "metadata": {
        "colab": {
          "base_uri": "https://localhost:8080/"
        },
        "id": "bFngMI8MM2ts",
        "outputId": "e2dbc658-d8c7-430e-b878-c32dacb82888"
      },
      "execution_count": 96,
      "outputs": [
        {
          "output_type": "stream",
          "name": "stdout",
          "text": [
            "Epoch 1/5\n",
            "1875/1875 [==============================] - 6s 3ms/step - loss: 0.7828 - accuracy: 0.7236\n",
            "Epoch 2/5\n",
            "1875/1875 [==============================] - 7s 4ms/step - loss: 0.4935 - accuracy: 0.8214\n",
            "Epoch 3/5\n",
            "1875/1875 [==============================] - 8s 4ms/step - loss: 0.4210 - accuracy: 0.8493\n",
            "Epoch 4/5\n",
            "1875/1875 [==============================] - 6s 3ms/step - loss: 0.3846 - accuracy: 0.8612\n",
            "Epoch 5/5\n",
            "1875/1875 [==============================] - 6s 3ms/step - loss: 0.3568 - accuracy: 0.8716\n",
            "313/313 [==============================] - 1s 3ms/step - loss: 0.3653 - accuracy: 0.8714\n",
            "Test accuracy: 0.871399998664856\n"
          ]
        }
      ]
    },
    {
      "cell_type": "markdown",
      "source": [
        "**Caso 3**"
      ],
      "metadata": {
        "id": "PRe0u_7J9hTN"
      }
    },
    {
      "cell_type": "code",
      "source": [
        "# CREAR EL MODELO DE RED NEURONAL CNN:\n",
        "model3 = Sequential()\n",
        "model3.add(Conv2D(64, (7, 7), activation='relu', input_shape=(28, 28, 1), padding='same')) # 1ª capa convolucional\n",
        "model3.add(MaxPooling2D((2, 2))) # 1ª capa pooling\n",
        "\n",
        "model3.add(Conv2D(128, (3, 3), activation='relu', padding='same')) # 2ª capa convolucional\n",
        "model3.add(MaxPooling2D((2, 2))) # 2ª capa pooling\n",
        "\n",
        "model3.add(Flatten()) # Capa Flatten\n",
        "\n",
        "model3.add(Dense(65,activation='relu')) # Penúltima capa densa\n",
        "model3.add(Dense(10, activation='softmax')) # Última capa densa"
      ],
      "metadata": {
        "id": "5dULRGQxNL3p"
      },
      "execution_count": 101,
      "outputs": []
    },
    {
      "cell_type": "code",
      "source": [
        "# COMPILAR EL MODELO CON MÉTRICA PRECISIÓN:\n",
        "model3.compile(loss='sparse_categorical_crossentropy',\n",
        "               optimizer='adam',\n",
        "               metrics=['accuracy'])\n",
        "\n",
        "history = model3.fit\n",
        "\n",
        "model3.fit(train_images, train_labels,\n",
        "           epochs=5)\n",
        "\n",
        "test_loss3, test_acc3 = model3.evaluate(test_images, test_labels)\n",
        "\n",
        "print('Test accuracy:', test_acc3)"
      ],
      "metadata": {
        "colab": {
          "base_uri": "https://localhost:8080/"
        },
        "id": "coiuR9oINNGU",
        "outputId": "ebcd9621-5b00-493f-8ca5-c26f8a86529a"
      },
      "execution_count": 102,
      "outputs": [
        {
          "output_type": "stream",
          "name": "stdout",
          "text": [
            "Epoch 1/5\n",
            "1875/1875 [==============================] - 7s 3ms/step - loss: 0.4080 - accuracy: 0.8533\n",
            "Epoch 2/5\n",
            "1875/1875 [==============================] - 6s 3ms/step - loss: 0.2673 - accuracy: 0.9007\n",
            "Epoch 3/5\n",
            "1875/1875 [==============================] - 6s 3ms/step - loss: 0.2231 - accuracy: 0.9169\n",
            "Epoch 4/5\n",
            "1875/1875 [==============================] - 6s 3ms/step - loss: 0.1930 - accuracy: 0.9279\n",
            "Epoch 5/5\n",
            "1875/1875 [==============================] - 6s 3ms/step - loss: 0.1687 - accuracy: 0.9378\n",
            "313/313 [==============================] - 1s 3ms/step - loss: 0.2489 - accuracy: 0.9142\n",
            "Test accuracy: 0.9142000079154968\n"
          ]
        }
      ]
    },
    {
      "cell_type": "markdown",
      "source": [
        "## Salidas"
      ],
      "metadata": {
        "id": "DveszbD_zNFQ"
      }
    },
    {
      "cell_type": "markdown",
      "source": [
        "***2. Explicar la salida de la llamada model.summary() de cada uno de los 3 casos.***"
      ],
      "metadata": {
        "id": "740ymnmuOU-q"
      }
    },
    {
      "cell_type": "code",
      "source": [
        "model1.summary()"
      ],
      "metadata": {
        "colab": {
          "base_uri": "https://localhost:8080/"
        },
        "id": "baTTfvWNNpnA",
        "outputId": "f5c252f3-ff87-405e-f5d8-9523edd424c9"
      },
      "execution_count": 103,
      "outputs": [
        {
          "output_type": "stream",
          "name": "stdout",
          "text": [
            "Model: \"sequential_10\"\n",
            "_________________________________________________________________\n",
            " Layer (type)                Output Shape              Param #   \n",
            "=================================================================\n",
            " conv2d_20 (Conv2D)          (None, 24, 24, 32)        832       \n",
            "                                                                 \n",
            " max_pooling2d_20 (MaxPoolin  (None, 12, 12, 32)       0         \n",
            " g2D)                                                            \n",
            "                                                                 \n",
            " conv2d_21 (Conv2D)          (None, 8, 8, 64)          51264     \n",
            "                                                                 \n",
            " max_pooling2d_21 (MaxPoolin  (None, 4, 4, 64)         0         \n",
            " g2D)                                                            \n",
            "                                                                 \n",
            " flatten_10 (Flatten)        (None, 1024)              0         \n",
            "                                                                 \n",
            " dense_14 (Dense)            (None, 10)                10250     \n",
            "                                                                 \n",
            "=================================================================\n",
            "Total params: 62,346\n",
            "Trainable params: 62,346\n",
            "Non-trainable params: 0\n",
            "_________________________________________________________________\n"
          ]
        }
      ]
    },
    {
      "cell_type": "code",
      "source": [
        "model2.summary()"
      ],
      "metadata": {
        "colab": {
          "base_uri": "https://localhost:8080/"
        },
        "id": "ealMizVINqYH",
        "outputId": "2a064f77-1a71-4f9b-c7e5-4ac92a2a4316"
      },
      "execution_count": 104,
      "outputs": [
        {
          "output_type": "stream",
          "name": "stdout",
          "text": [
            "Model: \"sequential_12\"\n",
            "_________________________________________________________________\n",
            " Layer (type)                Output Shape              Param #   \n",
            "=================================================================\n",
            " conv2d_23 (Conv2D)          (None, 28, 28, 64)        3200      \n",
            "                                                                 \n",
            " max_pooling2d_22 (MaxPoolin  (None, 14, 14, 64)       0         \n",
            " g2D)                                                            \n",
            "                                                                 \n",
            " conv2d_24 (Conv2D)          (None, 14, 14, 128)       73856     \n",
            "                                                                 \n",
            " max_pooling2d_23 (MaxPoolin  (None, 7, 7, 128)        0         \n",
            " g2D)                                                            \n",
            "                                                                 \n",
            " flatten_11 (Flatten)        (None, 6272)              0         \n",
            "                                                                 \n",
            " dense_15 (Dense)            (None, 65)                407745    \n",
            "                                                                 \n",
            " dense_16 (Dense)            (None, 10)                660       \n",
            "                                                                 \n",
            "=================================================================\n",
            "Total params: 485,461\n",
            "Trainable params: 485,461\n",
            "Non-trainable params: 0\n",
            "_________________________________________________________________\n"
          ]
        }
      ]
    },
    {
      "cell_type": "code",
      "source": [
        "model3.summary()"
      ],
      "metadata": {
        "colab": {
          "base_uri": "https://localhost:8080/"
        },
        "id": "GAB4SqpANqvK",
        "outputId": "57ce83d0-8acc-4011-d24b-522ea34ffecb"
      },
      "execution_count": 105,
      "outputs": [
        {
          "output_type": "stream",
          "name": "stdout",
          "text": [
            "Model: \"sequential_13\"\n",
            "_________________________________________________________________\n",
            " Layer (type)                Output Shape              Param #   \n",
            "=================================================================\n",
            " conv2d_25 (Conv2D)          (None, 28, 28, 64)        3200      \n",
            "                                                                 \n",
            " max_pooling2d_24 (MaxPoolin  (None, 14, 14, 64)       0         \n",
            " g2D)                                                            \n",
            "                                                                 \n",
            " conv2d_26 (Conv2D)          (None, 14, 14, 128)       73856     \n",
            "                                                                 \n",
            " max_pooling2d_25 (MaxPoolin  (None, 7, 7, 128)        0         \n",
            " g2D)                                                            \n",
            "                                                                 \n",
            " flatten_12 (Flatten)        (None, 6272)              0         \n",
            "                                                                 \n",
            " dense_17 (Dense)            (None, 65)                407745    \n",
            "                                                                 \n",
            " dense_18 (Dense)            (None, 10)                660       \n",
            "                                                                 \n",
            "=================================================================\n",
            "Total params: 485,461\n",
            "Trainable params: 485,461\n",
            "Non-trainable params: 0\n",
            "_________________________________________________________________\n"
          ]
        }
      ]
    },
    {
      "cell_type": "markdown",
      "source": [
        "##Análisis"
      ],
      "metadata": {
        "id": "HJkZNDF00gnU"
      }
    },
    {
      "cell_type": "markdown",
      "source": [
        "###Análisis (5 épocas vs 25 épocas)"
      ],
      "metadata": {
        "id": "LuZhWyBEAeqG"
      }
    },
    {
      "cell_type": "markdown",
      "source": [
        "***3. Analizar e interpretar los resultados del Caso 1 frente a su original si se multiplica por 5 las épocas de entrenamiento (25).***"
      ],
      "metadata": {
        "id": "WPKU27telzeM"
      }
    },
    {
      "cell_type": "code",
      "metadata": {
        "id": "rBdf3SaJOrH3"
      },
      "source": [
        "# CREAR EL MODELO DE RED NEURONAL CNN:\n",
        "model1b = Sequential()\n",
        "model1b.add(Conv2D(32, (5, 5), activation='relu', input_shape=(28, 28, 1))) # 1ª capa convolucional\n",
        "model1b.add(MaxPooling2D((2, 2))) # 1ª capa pooling\n",
        "\n",
        "model1b.add(Conv2D(64, (5, 5), activation='relu')) # 2ª capa convolucional\n",
        "model1b.add(MaxPooling2D((2, 2))) # 2ª capa pooling\n",
        "\n",
        "model1b.add(Flatten()) # Capa Flatten\n",
        "\n",
        "model1b.add(Dense(10, activation='softmax')) # Última capa densa"
      ],
      "execution_count": 106,
      "outputs": []
    },
    {
      "cell_type": "code",
      "source": [
        "# COMPILAR EL MODELO CON MÉTRICA PRECISIÓN:\n",
        "model1b.compile(loss='sparse_categorical_crossentropy',\n",
        "                optimizer='sgd',\n",
        "                metrics=['accuracy'])\n",
        "\n",
        "history = model1b.fit\n",
        "\n",
        "model1b.fit(train_images, train_labels,\n",
        "            epochs=25)\n",
        "\n",
        "test_loss1b, test_acc1b = model1b.evaluate(test_images, test_labels)\n",
        "\n",
        "print('Test accuracy:', test_acc1b)"
      ],
      "metadata": {
        "colab": {
          "base_uri": "https://localhost:8080/"
        },
        "id": "lO0k1VTJOxh0",
        "outputId": "bfb3c14c-b831-4d4f-e3d6-0d3fb4fff9a1"
      },
      "execution_count": 107,
      "outputs": [
        {
          "output_type": "stream",
          "name": "stdout",
          "text": [
            "Epoch 1/25\n",
            "1875/1875 [==============================] - 5s 3ms/step - loss: 0.8463 - accuracy: 0.7010\n",
            "Epoch 2/25\n",
            "1875/1875 [==============================] - 5s 3ms/step - loss: 0.5163 - accuracy: 0.8147\n",
            "Epoch 3/25\n",
            "1875/1875 [==============================] - 5s 3ms/step - loss: 0.4519 - accuracy: 0.8404\n",
            "Epoch 4/25\n",
            "1875/1875 [==============================] - 5s 3ms/step - loss: 0.4179 - accuracy: 0.8537\n",
            "Epoch 5/25\n",
            "1875/1875 [==============================] - 5s 3ms/step - loss: 0.3958 - accuracy: 0.8608\n",
            "Epoch 6/25\n",
            "1875/1875 [==============================] - 5s 3ms/step - loss: 0.3775 - accuracy: 0.8679\n",
            "Epoch 7/25\n",
            "1875/1875 [==============================] - 5s 3ms/step - loss: 0.3621 - accuracy: 0.8715\n",
            "Epoch 8/25\n",
            "1875/1875 [==============================] - 5s 3ms/step - loss: 0.3502 - accuracy: 0.8763\n",
            "Epoch 9/25\n",
            "1875/1875 [==============================] - 5s 3ms/step - loss: 0.3390 - accuracy: 0.8801\n",
            "Epoch 10/25\n",
            "1875/1875 [==============================] - 5s 3ms/step - loss: 0.3286 - accuracy: 0.8843\n",
            "Epoch 11/25\n",
            "1875/1875 [==============================] - 5s 3ms/step - loss: 0.3209 - accuracy: 0.8867\n",
            "Epoch 12/25\n",
            "1875/1875 [==============================] - 5s 3ms/step - loss: 0.3133 - accuracy: 0.8892\n",
            "Epoch 13/25\n",
            "1875/1875 [==============================] - 7s 4ms/step - loss: 0.3056 - accuracy: 0.8921\n",
            "Epoch 14/25\n",
            "1875/1875 [==============================] - 5s 3ms/step - loss: 0.3001 - accuracy: 0.8938\n",
            "Epoch 15/25\n",
            "1875/1875 [==============================] - 5s 3ms/step - loss: 0.2933 - accuracy: 0.8962\n",
            "Epoch 16/25\n",
            "1875/1875 [==============================] - 5s 3ms/step - loss: 0.2875 - accuracy: 0.8983\n",
            "Epoch 17/25\n",
            "1875/1875 [==============================] - 5s 3ms/step - loss: 0.2827 - accuracy: 0.8985\n",
            "Epoch 18/25\n",
            "1875/1875 [==============================] - 5s 3ms/step - loss: 0.2775 - accuracy: 0.9007\n",
            "Epoch 19/25\n",
            "1875/1875 [==============================] - 5s 3ms/step - loss: 0.2733 - accuracy: 0.9030\n",
            "Epoch 20/25\n",
            "1875/1875 [==============================] - 5s 3ms/step - loss: 0.2677 - accuracy: 0.9041\n",
            "Epoch 21/25\n",
            "1875/1875 [==============================] - 5s 3ms/step - loss: 0.2640 - accuracy: 0.9068\n",
            "Epoch 22/25\n",
            "1875/1875 [==============================] - 5s 3ms/step - loss: 0.2597 - accuracy: 0.9073\n",
            "Epoch 23/25\n",
            "1875/1875 [==============================] - 5s 3ms/step - loss: 0.2551 - accuracy: 0.9088\n",
            "Epoch 24/25\n",
            "1875/1875 [==============================] - 5s 3ms/step - loss: 0.2514 - accuracy: 0.9102\n",
            "Epoch 25/25\n",
            "1875/1875 [==============================] - 5s 3ms/step - loss: 0.2472 - accuracy: 0.9118\n",
            "313/313 [==============================] - 1s 4ms/step - loss: 0.3110 - accuracy: 0.8916\n",
            "Test accuracy: 0.8916000127792358\n"
          ]
        }
      ]
    },
    {
      "cell_type": "markdown",
      "source": [
        "###Análisis (ReLU vs tanh)"
      ],
      "metadata": {
        "id": "_D2dSySz-Pqu"
      }
    },
    {
      "cell_type": "markdown",
      "source": [
        "***4. Analiza el resultado del Caso 1 si en lugar de 'ReLU' usas 'tanh' en la función de activación de las dos capas convolucionales.***"
      ],
      "metadata": {
        "id": "zmKixDFS-SeR"
      }
    },
    {
      "cell_type": "code",
      "metadata": {
        "id": "9tL6hLCvO3wr"
      },
      "source": [
        "# CREAR EL MODELO DE RED NEURONAL CNN:\n",
        "model1c = Sequential()\n",
        "model1c.add(Conv2D(32, (5, 5), activation='tanh', input_shape=(28, 28, 1))) # 1ª capa convolucional\n",
        "model1c.add(MaxPooling2D((2, 2))) # 1ª capa pooling\n",
        "\n",
        "model1c.add(Conv2D(64, (5, 5), activation='tanh')) # 2ª capa convolucional\n",
        "model1c.add(MaxPooling2D((2, 2))) # 2ª capa pooling\n",
        "\n",
        "model1c.add(Flatten()) # Capa Flatten\n",
        "\n",
        "model1c.add(Dense(10, activation='softmax')) # Última capa densa"
      ],
      "execution_count": 108,
      "outputs": []
    },
    {
      "cell_type": "code",
      "source": [
        "# COMPILAR EL MODELO CON MÉTRICA PRECISIÓN:\n",
        "model1c.compile(loss='sparse_categorical_crossentropy',\n",
        "                optimizer='sgd',\n",
        "                metrics=['accuracy'])\n",
        "\n",
        "history = model1b.fit\n",
        "\n",
        "model1c.fit(train_images, train_labels,\n",
        "            epochs=5)\n",
        "\n",
        "test_loss1c, test_acc1c = model1c.evaluate(test_images, test_labels)\n",
        "\n",
        "print('Test accuracy:', test_acc1c)"
      ],
      "metadata": {
        "colab": {
          "base_uri": "https://localhost:8080/"
        },
        "id": "cGR1HnL0PBVw",
        "outputId": "5260da7b-cf1e-4313-efa8-6127ae7a6709"
      },
      "execution_count": 109,
      "outputs": [
        {
          "output_type": "stream",
          "name": "stdout",
          "text": [
            "Epoch 1/5\n",
            "1875/1875 [==============================] - 7s 3ms/step - loss: 0.7739 - accuracy: 0.7316\n",
            "Epoch 2/5\n",
            "1875/1875 [==============================] - 5s 3ms/step - loss: 0.4995 - accuracy: 0.8202\n",
            "Epoch 3/5\n",
            "1875/1875 [==============================] - 6s 3ms/step - loss: 0.4374 - accuracy: 0.8453\n",
            "Epoch 4/5\n",
            "1875/1875 [==============================] - 6s 3ms/step - loss: 0.4031 - accuracy: 0.8563\n",
            "Epoch 5/5\n",
            "1875/1875 [==============================] - 5s 3ms/step - loss: 0.3803 - accuracy: 0.8649\n",
            "313/313 [==============================] - 1s 3ms/step - loss: 0.4015 - accuracy: 0.8561\n",
            "Test accuracy: 0.8561000227928162\n"
          ]
        }
      ]
    },
    {
      "cell_type": "markdown",
      "source": [
        "## Comparación de rendimiento"
      ],
      "metadata": {
        "id": "JZ4zHoKQ3PRi"
      }
    },
    {
      "cell_type": "markdown",
      "source": [
        "***5. Evaluar cada uno de los 3 modelos comparando el rendimiento del modelo en el conjunto de datos de prueba***"
      ],
      "metadata": {
        "id": "cU33EEXLlzlS"
      }
    },
    {
      "cell_type": "code",
      "metadata": {
        "id": "0uwQjCR6rbk5",
        "colab": {
          "base_uri": "https://localhost:8080/"
        },
        "outputId": "03dd6c72-dc9e-4141-c0de-4bf68f22b3f1"
      },
      "source": [
        "# VERIFICAMOS NUESTRO MODELO YA ENTRENADO, CONTRA EL CONJUNTO DE PRUEBAS\n",
        "#test_labels = to_categorical(test_labels)\n",
        "test_loss1, test_acc1 = model1.evaluate(test_images, test_labels)\n",
        "test_loss2, test_acc2 = model2.evaluate(test_images, test_labels)\n",
        "test_loss3, test_acc3 = model3.evaluate(test_images, test_labels)\n",
        "#(train_images, train_labels), (test_images, test_labels) = fashion_mnist.load_data()\n",
        "#print('test_loss8:', test_loss ,'test_acc8:', test_acc)  Con esto se muestran más decimales"
      ],
      "execution_count": 110,
      "outputs": [
        {
          "output_type": "stream",
          "name": "stdout",
          "text": [
            "313/313 [==============================] - 1s 3ms/step - loss: 0.4279 - accuracy: 0.8525\n",
            "313/313 [==============================] - 1s 3ms/step - loss: 0.3653 - accuracy: 0.8714\n",
            "313/313 [==============================] - 1s 3ms/step - loss: 0.2489 - accuracy: 0.9142\n"
          ]
        }
      ]
    },
    {
      "cell_type": "markdown",
      "source": [
        "## Predicciones"
      ],
      "metadata": {
        "id": "3Y5_rnXT5_bT"
      }
    },
    {
      "cell_type": "markdown",
      "source": [
        "***6. Usar cada uno de los 3 modelos para hacer predicciones sobre la 6ª imagen de test (test_images[5]).***"
      ],
      "metadata": {
        "id": "6hLOzUeMlzsY"
      }
    },
    {
      "cell_type": "markdown",
      "source": [
        "Para comenzar, visualicemos de qué trata la 'Imagen 6':"
      ],
      "metadata": {
        "id": "b2oLEPSEc0Zy"
      }
    },
    {
      "cell_type": "code",
      "source": [
        "plt.figure()\n",
        "plt.imshow(test_images[5])\n",
        "plt.colorbar()\n",
        "plt.grid(False)\n",
        "plt.show()"
      ],
      "metadata": {
        "id": "2l6FpH4w6_qg",
        "colab": {
          "base_uri": "https://localhost:8080/",
          "height": 269
        },
        "outputId": "b75e1616-6797-4b66-a2cb-e0d45972269e"
      },
      "execution_count": 111,
      "outputs": [
        {
          "output_type": "display_data",
          "data": {
            "text/plain": [
              "<Figure size 432x288 with 2 Axes>"
            ],
            "image/png": "[encoded data removed]"
          },
          "metadata": {
            "needs_background": "light"
          }
        }
      ]
    },
    {
      "cell_type": "markdown",
      "source": [
        "Observamos que parece ser un pantalón, que corresponde a la 'Categoría 1' de nuestra clasificación: 'Trouser'."
      ],
      "metadata": {
        "id": "nlmNkIKMQmDN"
      }
    },
    {
      "cell_type": "markdown",
      "source": [
        "**Caso 1**"
      ],
      "metadata": {
        "id": "xuEP09Edxmkx"
      }
    },
    {
      "cell_type": "code",
      "source": [
        "prediction1 = model1.predict(test_images)"
      ],
      "metadata": {
        "id": "mLpGgwxr6RvT",
        "colab": {
          "base_uri": "https://localhost:8080/"
        },
        "outputId": "3d54ce30-012f-46be-82f6-7d388b7e8e32"
      },
      "execution_count": 112,
      "outputs": [
        {
          "output_type": "stream",
          "name": "stdout",
          "text": [
            "313/313 [==============================] - 1s 2ms/step\n"
          ]
        }
      ]
    },
    {
      "cell_type": "code",
      "source": [
        "prediction1[5]"
      ],
      "metadata": {
        "id": "hyG98mnW6YPq",
        "colab": {
          "base_uri": "https://localhost:8080/"
        },
        "outputId": "af3784dd-6dc7-4086-81eb-386d08fd2b05"
      },
      "execution_count": 113,
      "outputs": [
        {
          "output_type": "execute_result",
          "data": {
            "text/plain": [
              "array([0., 1., 0., 0., 0., 0., 0., 0., 0., 0.], dtype=float32)"
            ]
          },
          "metadata": {},
          "execution_count": 113
        }
      ]
    },
    {
      "cell_type": "code",
      "source": [
        "np.argmax(prediction1[5])"
      ],
      "metadata": {
        "id": "1NXwVsmW7y7x",
        "colab": {
          "base_uri": "https://localhost:8080/"
        },
        "outputId": "485c3396-47f7-4fcf-937f-36e67ceac9f3"
      },
      "execution_count": 114,
      "outputs": [
        {
          "output_type": "execute_result",
          "data": {
            "text/plain": [
              "1"
            ]
          },
          "metadata": {},
          "execution_count": 114
        }
      ]
    },
    {
      "cell_type": "markdown",
      "source": [
        "**Caso 2**"
      ],
      "metadata": {
        "id": "FUybqBTrQ-rs"
      }
    },
    {
      "cell_type": "code",
      "source": [
        "prediction2 = model2.predict(test_images)"
      ],
      "metadata": {
        "colab": {
          "base_uri": "https://localhost:8080/"
        },
        "outputId": "f7cdf7e3-69a0-4620-ea17-bba0749f083c",
        "id": "VNjAUehJRFZV"
      },
      "execution_count": 115,
      "outputs": [
        {
          "output_type": "stream",
          "name": "stdout",
          "text": [
            "313/313 [==============================] - 1s 2ms/step\n"
          ]
        }
      ]
    },
    {
      "cell_type": "code",
      "source": [
        "prediction2[5]"
      ],
      "metadata": {
        "colab": {
          "base_uri": "https://localhost:8080/"
        },
        "outputId": "bc0e64ab-6ff6-4c1e-8146-017be5038532",
        "id": "rwOI1dNjRLHY"
      },
      "execution_count": 116,
      "outputs": [
        {
          "output_type": "execute_result",
          "data": {
            "text/plain": [
              "array([0., 1., 0., 0., 0., 0., 0., 0., 0., 0.], dtype=float32)"
            ]
          },
          "metadata": {},
          "execution_count": 116
        }
      ]
    },
    {
      "cell_type": "code",
      "source": [
        "np.argmax(prediction2[5])"
      ],
      "metadata": {
        "colab": {
          "base_uri": "https://localhost:8080/"
        },
        "outputId": "a9f765bc-7fb4-4fa1-a9e2-2f8da24bf4f6",
        "id": "2BeSIfadRPnn"
      },
      "execution_count": 117,
      "outputs": [
        {
          "output_type": "execute_result",
          "data": {
            "text/plain": [
              "1"
            ]
          },
          "metadata": {},
          "execution_count": 117
        }
      ]
    },
    {
      "cell_type": "markdown",
      "source": [
        "**Caso 3**"
      ],
      "metadata": {
        "id": "TITtwHXmQ-4H"
      }
    },
    {
      "cell_type": "code",
      "source": [
        "prediction3 = model3.predict(test_images)"
      ],
      "metadata": {
        "colab": {
          "base_uri": "https://localhost:8080/"
        },
        "outputId": "18e0ed2b-2acc-4972-8fe0-e4d6b18fba06",
        "id": "YXHZHgJqRFu3"
      },
      "execution_count": 118,
      "outputs": [
        {
          "output_type": "stream",
          "name": "stdout",
          "text": [
            "313/313 [==============================] - 1s 2ms/step\n"
          ]
        }
      ]
    },
    {
      "cell_type": "code",
      "source": [
        "prediction3[5]"
      ],
      "metadata": {
        "colab": {
          "base_uri": "https://localhost:8080/"
        },
        "outputId": "d27c1dd7-1318-4158-d259-d3e3f9bdfc65",
        "id": "-iA1Igr5RMFl"
      },
      "execution_count": 119,
      "outputs": [
        {
          "output_type": "execute_result",
          "data": {
            "text/plain": [
              "array([0., 1., 0., 0., 0., 0., 0., 0., 0., 0.], dtype=float32)"
            ]
          },
          "metadata": {},
          "execution_count": 119
        }
      ]
    },
    {
      "cell_type": "code",
      "source": [
        "np.argmax(prediction3[5])"
      ],
      "metadata": {
        "colab": {
          "base_uri": "https://localhost:8080/"
        },
        "outputId": "cf95d3f2-1903-4ef0-e09c-67960c1fe1d3",
        "id": "jjzlyRpURQ3s"
      },
      "execution_count": 120,
      "outputs": [
        {
          "output_type": "execute_result",
          "data": {
            "text/plain": [
              "1"
            ]
          },
          "metadata": {},
          "execution_count": 120
        }
      ]
    },
    {
      "cell_type": "markdown",
      "source": [
        "## Gráficas\n"
      ],
      "metadata": {
        "id": "i5Gv-pbYEFzc"
      }
    },
    {
      "cell_type": "markdown",
      "source": [
        "***7. Utilice el siguiente código para graficar cómo de bien o de mal se comporta el modelo para cada uno de los 3 casos con las 14 primeras imágenes del conjunto de test. Reflexione y comente las diferencias que observa.***"
      ],
      "metadata": {
        "id": "1L5cdhcqlzzi"
      }
    },
    {
      "cell_type": "markdown",
      "source": [
        "En las gráficas se verán los siguientes colores:\n",
        "\n",
        "- azul = valores menores del las otras prediciones\n",
        "\n",
        "- rojo = el valor interpretadopor el modelo\n",
        "- negro = el valor de la categoría real\n",
        "\n",
        "Incluimos las funciones necesarias en los siguientes códigos:"
      ],
      "metadata": {
        "id": "XEwZ4FUrc80N"
      }
    },
    {
      "cell_type": "code",
      "source": [
        "# PRIMERA FUNCIÓN:\n",
        "def plot_image(i, predictions_array, true_label, img):\n",
        "  predictions_array, true_label, img = predictions_array, true_label[i], img[i]\n",
        "  plt.grid(False)\n",
        "  plt.xticks([])\n",
        "  plt.yticks([])\n",
        "\n",
        "  plt.imshow(img, cmap=plt.cm.binary)    \n",
        "\n",
        "  predicted_label = np.argmax(predictions_array)\n",
        "  if predicted_label == true_label:\n",
        "    color = 'blue'\n",
        "  else:\n",
        "    color = 'red'\n",
        "\n",
        "  plt.xlabel(\"{} {:2.0f}% ({})\".format(nombres[predicted_label],\n",
        "                                100*np.max(predictions_array),\n",
        "                                nombres[true_label]),\n",
        "                                color=color)\n",
        "\n",
        "# SEGUNDA FUNCIÓN:\n",
        "def plot_value_array(i, predictions_array, true_label):\n",
        "  predictions_array, true_label = predictions_array, true_label[i]\n",
        "  plt.grid(False)\n",
        "  plt.xticks(range(10))\n",
        "  plt.yticks([])\n",
        "  thisplot = plt.bar(range(10), predictions_array, color=\"#00FF00\")\n",
        "  plt.ylim([0, 1])\n",
        "  predicted_label = np.argmax(predictions_array)\n",
        "\n",
        "  thisplot[predicted_label].set_color('red')\n",
        "  thisplot[true_label].set_color('black')"
      ],
      "metadata": {
        "id": "8gmO2DFpFAFN"
      },
      "execution_count": 121,
      "outputs": []
    },
    {
      "cell_type": "markdown",
      "source": [
        "**Caso 1**"
      ],
      "metadata": {
        "id": "AhuWMSYKFC6S"
      }
    },
    {
      "cell_type": "code",
      "source": [
        "for i in range(13):\n",
        "  plt.figure(figsize=(6,3))\n",
        "  plt.subplot(1,2,1)\n",
        "  plot_image(i, prediction1[i], test_labels, test_images)\n",
        "  plt.subplot(1,2,2)\n",
        "  plot_value_array(i, prediction1[i],  test_labels)\n",
        "  plt.show()\n",
        "  plt.clf()"
      ],
      "metadata": {
        "colab": {
          "base_uri": "https://localhost:8080/",
          "height": 1000
        },
        "id": "i2iTpjCVSdGf",
        "outputId": "e786bfc0-c795-405e-dbe6-2b0e0311f96a"
      },
      "execution_count": 122,
      "outputs": [
        {
          "output_type": "display_data",
          "data": {
            "text/plain": [
              "<Figure size 432x216 with 2 Axes>"
            ],
            "image/png": "[encoded data removed]"
          },
          "metadata": {
            "needs_background": "light"
          }
        },
        {
          "output_type": "display_data",
          "data": {
            "text/plain": [
              "<Figure size 432x288 with 0 Axes>"
            ]
          },
          "metadata": {}
        },
        {
          "output_type": "display_data",
          "data": {
            "text/plain": [
              "<Figure size 432x216 with 2 Axes>"
            ],
            "image/png": "[encoded data removed]"
          },
          "metadata": {
            "needs_background": "light"
          }
        },
        {
          "output_type": "display_data",
          "data": {
            "text/plain": [
              "<Figure size 432x288 with 0 Axes>"
            ]
          },
          "metadata": {}
        },
        {
          "output_type": "display_data",
          "data": {
            "text/plain": [
              "<Figure size 432x216 with 2 Axes>"
            ],
            "image/png": "[encoded data removed]"
          },
          "metadata": {
            "needs_background": "light"
          }
        },
        {
          "output_type": "display_data",
          "data": {
            "text/plain": [
              "<Figure size 432x288 with 0 Axes>"
            ]
          },
          "metadata": {}
        },
        {
          "output_type": "display_data",
          "data": {
            "text/plain": [
              "<Figure size 432x216 with 2 Axes>"
            ],
            "image/png": "[encoded data removed]"
          },
          "metadata": {
            "needs_background": "light"
          }
        },
        {
          "output_type": "display_data",
          "data": {
            "text/plain": [
              "<Figure size 432x288 with 0 Axes>"
            ]
          },
          "metadata": {}
        },
        {
          "output_type": "display_data",
          "data": {
            "text/plain": [
              "<Figure size 432x216 with 2 Axes>"
            ],
            "image/png": "[encoded data removed]"
          },
          "metadata": {
            "needs_background": "light"
          }
        },
        {
          "output_type": "display_data",
          "data": {
            "text/plain": [
              "<Figure size 432x288 with 0 Axes>"
            ]
          },
          "metadata": {}
        },
        {
          "output_type": "display_data",
          "data": {
            "text/plain": [
              "<Figure size 432x216 with 2 Axes>"
            ],
            "image/png": "[encoded data removed]"
          },
          "metadata": {
            "needs_background": "light"
          }
        },
        {
          "output_type": "display_data",
          "data": {
            "text/plain": [
              "<Figure size 432x288 with 0 Axes>"
            ]
          },
          "metadata": {}
        },
        {
          "output_type": "display_data",
          "data": {
            "text/plain": [
              "<Figure size 432x216 with 2 Axes>"
            ],
            "image/png": "[encoded data removed]"
          },
          "metadata": {
            "needs_background": "light"
          }
        },
        {
          "output_type": "display_data",
          "data": {
            "text/plain": [
              "<Figure size 432x288 with 0 Axes>"
            ]
          },
          "metadata": {}
        },
        {
          "output_type": "display_data",
          "data": {
            "text/plain": [
              "<Figure size 432x216 with 2 Axes>"
            ],
            "image/png": "[encoded data removed]"
          },
          "metadata": {
            "needs_background": "light"
          }
        },
        {
          "output_type": "display_data",
          "data": {
            "text/plain": [
              "<Figure size 432x288 with 0 Axes>"
            ]
          },
          "metadata": {}
        },
        {
          "output_type": "display_data",
          "data": {
            "text/plain": [
              "<Figure size 432x216 with 2 Axes>"
            ],
            "image/png": "[encoded data removed]"
          },
          "metadata": {
            "needs_background": "light"
          }
        },
        {
          "output_type": "display_data",
          "data": {
            "text/plain": [
              "<Figure size 432x288 with 0 Axes>"
            ]
          },
          "metadata": {}
        },
        {
          "output_type": "display_data",
          "data": {
            "text/plain": [
              "<Figure size 432x216 with 2 Axes>"
            ],
            "image/png": "[encoded data removed]"
          },
          "metadata": {
            "needs_background": "light"
          }
        },
        {
          "output_type": "display_data",
          "data": {
            "text/plain": [
              "<Figure size 432x288 with 0 Axes>"
            ]
          },
          "metadata": {}
        },
        {
          "output_type": "display_data",
          "data": {
            "text/plain": [
              "<Figure size 432x216 with 2 Axes>"
            ],
            "image/png": "[encoded data removed]"
          },
          "metadata": {
            "needs_background": "light"
          }
        },
        {
          "output_type": "display_data",
          "data": {
            "text/plain": [
              "<Figure size 432x288 with 0 Axes>"
            ]
          },
          "metadata": {}
        },
        {
          "output_type": "display_data",
          "data": {
            "text/plain": [
              "<Figure size 432x216 with 2 Axes>"
            ],
            "image/png": "[encoded data removed]"
          },
          "metadata": {
            "needs_background": "light"
          }
        },
        {
          "output_type": "display_data",
          "data": {
            "text/plain": [
              "<Figure size 432x288 with 0 Axes>"
            ]
          },
          "metadata": {}
        },
        {
          "output_type": "display_data",
          "data": {
            "text/plain": [
              "<Figure size 432x216 with 2 Axes>"
            ],
            "image/png": "[encoded data removed]"
          },
          "metadata": {
            "needs_background": "light"
          }
        },
        {
          "output_type": "display_data",
          "data": {
            "text/plain": [
              "<Figure size 432x288 with 0 Axes>"
            ]
          },
          "metadata": {}
        }
      ]
    },
    {
      "cell_type": "markdown",
      "source": [
        "**Caso 2**"
      ],
      "metadata": {
        "id": "bNZlSty6STn6"
      }
    },
    {
      "cell_type": "code",
      "source": [
        "for i in range(13):\n",
        "  plt.figure(figsize=(6,3))\n",
        "  plt.subplot(1,2,1)\n",
        "  plot_image(i, prediction2[i], test_labels, test_images)\n",
        "  plt.subplot(1,2,2)\n",
        "  plot_value_array(i, prediction2[i],  test_labels)\n",
        "  plt.show()\n",
        "  plt.clf()"
      ],
      "metadata": {
        "id": "f66IZ1aBStrL",
        "colab": {
          "base_uri": "https://localhost:8080/",
          "height": 1000
        },
        "outputId": "dd0c1828-10a0-4aed-aaaf-479056d17fb8"
      },
      "execution_count": 123,
      "outputs": [
        {
          "output_type": "display_data",
          "data": {
            "text/plain": [
              "<Figure size 432x216 with 2 Axes>"
            ],
            "image/png": "[encoded data removed]"
          },
          "metadata": {
            "needs_background": "light"
          }
        },
        {
          "output_type": "display_data",
          "data": {
            "text/plain": [
              "<Figure size 432x288 with 0 Axes>"
            ]
          },
          "metadata": {}
        },
        {
          "output_type": "display_data",
          "data": {
            "text/plain": [
              "<Figure size 432x216 with 2 Axes>"
            ],
            "image/png": "[encoded data removed]"
          },
          "metadata": {
            "needs_background": "light"
          }
        },
        {
          "output_type": "display_data",
          "data": {
            "text/plain": [
              "<Figure size 432x288 with 0 Axes>"
            ]
          },
          "metadata": {}
        },
        {
          "output_type": "display_data",
          "data": {
            "text/plain": [
              "<Figure size 432x216 with 2 Axes>"
            ],
            "image/png": "[encoded data removed]"
          },
          "metadata": {
            "needs_background": "light"
          }
        },
        {
          "output_type": "display_data",
          "data": {
            "text/plain": [
              "<Figure size 432x288 with 0 Axes>"
            ]
          },
          "metadata": {}
        },
        {
          "output_type": "display_data",
          "data": {
            "text/plain": [
              "<Figure size 432x216 with 2 Axes>"
            ],
            "image/png": "[encoded data removed]"
          },
          "metadata": {
            "needs_background": "light"
          }
        },
        {
          "output_type": "display_data",
          "data": {
            "text/plain": [
              "<Figure size 432x288 with 0 Axes>"
            ]
          },
          "metadata": {}
        },
        {
          "output_type": "display_data",
          "data": {
            "text/plain": [
              "<Figure size 432x216 with 2 Axes>"
            ],
            "image/png": "[encoded data removed]"
          },
          "metadata": {
            "needs_background": "light"
          }
        },
        {
          "output_type": "display_data",
          "data": {
            "text/plain": [
              "<Figure size 432x288 with 0 Axes>"
            ]
          },
          "metadata": {}
        },
        {
          "output_type": "display_data",
          "data": {
            "text/plain": [
              "<Figure size 432x216 with 2 Axes>"
            ],
            "image/png": "[encoded data removed]"
          },
          "metadata": {
            "needs_background": "light"
          }
        },
        {
          "output_type": "display_data",
          "data": {
            "text/plain": [
              "<Figure size 432x288 with 0 Axes>"
            ]
          },
          "metadata": {}
        },
        {
          "output_type": "display_data",
          "data": {
            "text/plain": [
              "<Figure size 432x216 with 2 Axes>"
            ],
            "image/png": "[encoded data removed]"
          },
          "metadata": {
            "needs_background": "light"
          }
        },
        {
          "output_type": "display_data",
          "data": {
            "text/plain": [
              "<Figure size 432x288 with 0 Axes>"
            ]
          },
          "metadata": {}
        },
        {
          "output_type": "display_data",
          "data": {
            "text/plain": [
              "<Figure size 432x216 with 2 Axes>"
            ],
            "image/png": "[encoded data removed]"
          },
          "metadata": {
            "needs_background": "light"
          }
        },
        {
          "output_type": "display_data",
          "data": {
            "text/plain": [
              "<Figure size 432x288 with 0 Axes>"
            ]
          },
          "metadata": {}
        },
        {
          "output_type": "display_data",
          "data": {
            "text/plain": [
              "<Figure size 432x216 with 2 Axes>"
            ],
            "image/png": "[encoded data removed]"
          },
          "metadata": {
            "needs_background": "light"
          }
        },
        {
          "output_type": "display_data",
          "data": {
            "text/plain": [
              "<Figure size 432x288 with 0 Axes>"
            ]
          },
          "metadata": {}
        },
        {
          "output_type": "display_data",
          "data": {
            "text/plain": [
              "<Figure size 432x216 with 2 Axes>"
            ],
            "image/png": "[encoded data removed]"
          },
          "metadata": {
            "needs_background": "light"
          }
        },
        {
          "output_type": "display_data",
          "data": {
            "text/plain": [
              "<Figure size 432x288 with 0 Axes>"
            ]
          },
          "metadata": {}
        },
        {
          "output_type": "display_data",
          "data": {
            "text/plain": [
              "<Figure size 432x216 with 2 Axes>"
            ],
            "image/png": "[encoded data removed]"
          },
          "metadata": {
            "needs_background": "light"
          }
        },
        {
          "output_type": "display_data",
          "data": {
            "text/plain": [
              "<Figure size 432x288 with 0 Axes>"
            ]
          },
          "metadata": {}
        },
        {
          "output_type": "display_data",
          "data": {
            "text/plain": [
              "<Figure size 432x216 with 2 Axes>"
            ],
            "image/png": "[encoded data removed]"
          },
          "metadata": {
            "needs_background": "light"
          }
        },
        {
          "output_type": "display_data",
          "data": {
            "text/plain": [
              "<Figure size 432x288 with 0 Axes>"
            ]
          },
          "metadata": {}
        },
        {
          "output_type": "display_data",
          "data": {
            "text/plain": [
              "<Figure size 432x216 with 2 Axes>"
            ],
            "image/png": "[encoded data removed]"
          },
          "metadata": {
            "needs_background": "light"
          }
        },
        {
          "output_type": "display_data",
          "data": {
            "text/plain": [
              "<Figure size 432x288 with 0 Axes>"
            ]
          },
          "metadata": {}
        }
      ]
    },
    {
      "cell_type": "markdown",
      "source": [
        "**Caso 3**"
      ],
      "metadata": {
        "id": "5CJgvs6zSTt5"
      }
    },
    {
      "cell_type": "code",
      "source": [
        "for i in range(13):\n",
        "  plt.figure(figsize=(6,3))\n",
        "  plt.subplot(1,2,1)\n",
        "  plot_image(i, prediction3[i], test_labels, test_images)\n",
        "  plt.subplot(1,2,2)\n",
        "  plot_value_array(i, prediction3[i],  test_labels)\n",
        "  plt.show()\n",
        "  plt.clf()"
      ],
      "metadata": {
        "id": "kqniBSVaSufT",
        "colab": {
          "base_uri": "https://localhost:8080/",
          "height": 1000
        },
        "outputId": "94a5e31b-645e-4681-8548-94e9ead6456f"
      },
      "execution_count": 124,
      "outputs": [
        {
          "output_type": "display_data",
          "data": {
            "text/plain": [
              "<Figure size 432x216 with 2 Axes>"
            ],
            "image/png": "[encoded data removed]"
          },
          "metadata": {
            "needs_background": "light"
          }
        },
        {
          "output_type": "display_data",
          "data": {
            "text/plain": [
              "<Figure size 432x288 with 0 Axes>"
            ]
          },
          "metadata": {}
        },
        {
          "output_type": "display_data",
          "data": {
            "text/plain": [
              "<Figure size 432x216 with 2 Axes>"
            ],
            "image/png": "[encoded data removed]"
          },
          "metadata": {
            "needs_background": "light"
          }
        },
        {
          "output_type": "display_data",
          "data": {
            "text/plain": [
              "<Figure size 432x288 with 0 Axes>"
            ]
          },
          "metadata": {}
        },
        {
          "output_type": "display_data",
          "data": {
            "text/plain": [
              "<Figure size 432x216 with 2 Axes>"
            ],
            "image/png": "[encoded data removed]"
          },
          "metadata": {
            "needs_background": "light"
          }
        },
        {
          "output_type": "display_data",
          "data": {
            "text/plain": [
              "<Figure size 432x288 with 0 Axes>"
            ]
          },
          "metadata": {}
        },
        {
          "output_type": "display_data",
          "data": {
            "text/plain": [
              "<Figure size 432x216 with 2 Axes>"
            ],
            "image/png": "[encoded data removed]"
          },
          "metadata": {
            "needs_background": "light"
          }
        },
        {
          "output_type": "display_data",
          "data": {
            "text/plain": [
              "<Figure size 432x288 with 0 Axes>"
            ]
          },
          "metadata": {}
        },
        {
          "output_type": "display_data",
          "data": {
            "text/plain": [
              "<Figure size 432x216 with 2 Axes>"
            ],
            "image/png": "[encoded data removed]"
          },
          "metadata": {
            "needs_background": "light"
          }
        },
        {
          "output_type": "display_data",
          "data": {
            "text/plain": [
              "<Figure size 432x288 with 0 Axes>"
            ]
          },
          "metadata": {}
        },
        {
          "output_type": "display_data",
          "data": {
            "text/plain": [
              "<Figure size 432x216 with 2 Axes>"
            ],
            "image/png": "[encoded data removed]"
          },
          "metadata": {
            "needs_background": "light"
          }
        },
        {
          "output_type": "display_data",
          "data": {
            "text/plain": [
              "<Figure size 432x288 with 0 Axes>"
            ]
          },
          "metadata": {}
        },
        {
          "output_type": "display_data",
          "data": {
            "text/plain": [
              "<Figure size 432x216 with 2 Axes>"
            ],
            "image/png": "[encoded data removed]"
          },
          "metadata": {
            "needs_background": "light"
          }
        },
        {
          "output_type": "display_data",
          "data": {
            "text/plain": [
              "<Figure size 432x288 with 0 Axes>"
            ]
          },
          "metadata": {}
        },
        {
          "output_type": "display_data",
          "data": {
            "text/plain": [
              "<Figure size 432x216 with 2 Axes>"
            ],
            "image/png": "[encoded data removed]"
          },
          "metadata": {
            "needs_background": "light"
          }
        },
        {
          "output_type": "display_data",
          "data": {
            "text/plain": [
              "<Figure size 432x288 with 0 Axes>"
            ]
          },
          "metadata": {}
        },
        {
          "output_type": "display_data",
          "data": {
            "text/plain": [
              "<Figure size 432x216 with 2 Axes>"
            ],
            "image/png": "[encoded data removed]"
          },
          "metadata": {
            "needs_background": "light"
          }
        },
        {
          "output_type": "display_data",
          "data": {
            "text/plain": [
              "<Figure size 432x288 with 0 Axes>"
            ]
          },
          "metadata": {}
        },
        {
          "output_type": "display_data",
          "data": {
            "text/plain": [
              "<Figure size 432x216 with 2 Axes>"
            ],
            "image/png": "[encoded data removed]"
          },
          "metadata": {
            "needs_background": "light"
          }
        },
        {
          "output_type": "display_data",
          "data": {
            "text/plain": [
              "<Figure size 432x288 with 0 Axes>"
            ]
          },
          "metadata": {}
        },
        {
          "output_type": "display_data",
          "data": {
            "text/plain": [
              "<Figure size 432x216 with 2 Axes>"
            ],
            "image/png": "[encoded data removed]"
          },
          "metadata": {
            "needs_background": "light"
          }
        },
        {
          "output_type": "display_data",
          "data": {
            "text/plain": [
              "<Figure size 432x288 with 0 Axes>"
            ]
          },
          "metadata": {}
        },
        {
          "output_type": "display_data",
          "data": {
            "text/plain": [
              "<Figure size 432x216 with 2 Axes>"
            ],
            "image/png": "[encoded data removed]"
          },
          "metadata": {
            "needs_background": "light"
          }
        },
        {
          "output_type": "display_data",
          "data": {
            "text/plain": [
              "<Figure size 432x288 with 0 Axes>"
            ]
          },
          "metadata": {}
        },
        {
          "output_type": "display_data",
          "data": {
            "text/plain": [
              "<Figure size 432x216 with 2 Axes>"
            ],
            "image/png": "[encoded data removed]"
          },
          "metadata": {
            "needs_background": "light"
          }
        },
        {
          "output_type": "display_data",
          "data": {
            "text/plain": [
              "<Figure size 432x288 with 0 Axes>"
            ]
          },
          "metadata": {}
        }
      ]
    },
    {
      "cell_type": "markdown",
      "source": [
        "## Comparativa con la Práctica 1\n"
      ],
      "metadata": {
        "id": "zsH03wvx_Zgi"
      }
    },
    {
      "cell_type": "markdown",
      "source": [
        "***8. Hacer comparativa con los resultados que obtuvisteis en la 'Práctica 1', con las\n",
        "capas Dense.***"
      ],
      "metadata": {
        "id": "zOjHnYOD_Si_"
      }
    },
    {
      "cell_type": "markdown",
      "source": [],
      "metadata": {
        "id": "9XEdq_FKSk5l"
      }
    },
    {
      "cell_type": "markdown",
      "source": [
        "##Mejoras del modelo"
      ],
      "metadata": {
        "id": "yfn2ItndAC63"
      }
    },
    {
      "cell_type": "markdown",
      "source": [
        "###1ª Mejora del modelo"
      ],
      "metadata": {
        "id": "fHsGP7xpMO6C"
      }
    },
    {
      "cell_type": "markdown",
      "source": [
        "***9. Ver los conceptos de 'batch_normalization' y 'dropout'; y ver si se podría mejorar\n",
        "el modelo con ello.\n",
        "https://keras.io/api/layers/normalization_layers/batch_normalization/***\n",
        "\n",
        "\n",
        "***https://keras.io/api/layers/regularization_layers/dropout/***"
      ],
      "metadata": {
        "id": "j_q01Xrh_fcj"
      }
    },
    {
      "cell_type": "markdown",
      "source": [
        "Antes de comenzar con su implementación en código, se comenzará introduciendo los términos y casos de uso de cada uno de los conceptos:"
      ],
      "metadata": {
        "id": "6EBYRG_dbH7D"
      }
    },
    {
      "cell_type": "markdown",
      "source": [
        "- ***batch_normalization***: la idea principal es que se trata de aquella capa en la que se normalizan las entradas. De esta manera, dicha función aplica una transformación que mantiene la media de las salidas cerca de 0,y su desviación típica cerca de 1. Asimismo, cabe destacar que trabaja de diferente forma dependiendo de si se utiliza durante el entrenamiento o durante la evaluación:\n",
        "  \n",
        "        1. Durante el entrenamiento: la capa normaliza sus salidas usando la media y la desviación típica del conocido como 'batch' actual de entradas.\n",
        "        2. Durante la evaluación: la capa normaliza sus salidas usando una media cambiante de la media y la desviación típica de aquellas 'batches' que haya visto en el periodo de entrenamiento.\n",
        "\n",
        "    Por ende, la capa normalizará únicamente sus salidas durante la evaluación, después de haber estado entrenándose con datos que contengan estadícticas similares a la de los datos de evalución."
      ],
      "metadata": {
        "id": "8SqF1ivvb3wv"
      }
    },
    {
      "cell_type": "code",
      "source": [
        "from keras import layers"
      ],
      "metadata": {
        "id": "0UkAlEqFX_Ph"
      },
      "execution_count": 135,
      "outputs": []
    },
    {
      "cell_type": "markdown",
      "source": [
        "**Caso 1**"
      ],
      "metadata": {
        "id": "cf6-U8fca9P0"
      }
    },
    {
      "cell_type": "code",
      "metadata": {
        "id": "lAJ_c9lQa9P0"
      },
      "source": [
        "# CREAR EL MODELO DE RED NEURONAL CNN:\n",
        "model1B = Sequential()\n",
        "model1B.add(Conv2D(32, (5, 5), activation='relu', input_shape=(28, 28, 1))) # 1ª capa convolucional\n",
        "model1B.add(MaxPooling2D((2, 2))) # 1ª capa pooling\n",
        "\n",
        "model1B.add(Conv2D(64, (5, 5), activation='relu')) # 2ª capa convolucional\n",
        "model1B.add(MaxPooling2D((2, 2))) # 2ª capa pooling\n",
        "\n",
        "model1B.add(Flatten()) # Capa Flatten\n",
        "\n",
        "model1B.add(Dense(10, activation='softmax')) # Última capa densa\n",
        "\n",
        "model1B.add(layers.BatchNormalization()) # Capa Batch Normalization"
      ],
      "execution_count": 138,
      "outputs": []
    },
    {
      "cell_type": "code",
      "source": [
        "# COMPILAR EL MODELO CON MÉTRICA PRECISIÓN:\n",
        "model1B.compile(loss='sparse_categorical_crossentropy',\n",
        "                optimizer='sgd',\n",
        "                metrics=['accuracy'])\n",
        "\n",
        "history = model1B.fit\n",
        "\n",
        "model1B.fit(train_images, train_labels,\n",
        "            epochs=5)\n",
        "\n",
        "test_loss1B, test_acc1B = model1B.evaluate(test_images, test_labels)\n",
        "\n",
        "print('Test accuracy:', test_acc1B)"
      ],
      "metadata": {
        "colab": {
          "base_uri": "https://localhost:8080/"
        },
        "outputId": "411e347e-dee4-42b9-9ad1-4a3a9626638f",
        "id": "V618gCXpa9P0"
      },
      "execution_count": 139,
      "outputs": [
        {
          "output_type": "stream",
          "name": "stdout",
          "text": [
            "Epoch 1/5\n",
            "1875/1875 [==============================] - 6s 3ms/step - loss: 2.9996 - accuracy: 0.2387\n",
            "Epoch 2/5\n",
            "1875/1875 [==============================] - 8s 4ms/step - loss: 2.3026 - accuracy: 0.1000\n",
            "Epoch 3/5\n",
            "1875/1875 [==============================] - 8s 4ms/step - loss: 2.3026 - accuracy: 0.1000\n",
            "Epoch 4/5\n",
            "1875/1875 [==============================] - 6s 3ms/step - loss: 2.3026 - accuracy: 0.1000\n",
            "Epoch 5/5\n",
            "1875/1875 [==============================] - 7s 4ms/step - loss: 2.3026 - accuracy: 0.1000\n",
            "313/313 [==============================] - 1s 3ms/step - loss: 2.3026 - accuracy: 0.1000\n",
            "Test accuracy: 0.10000000149011612\n"
          ]
        }
      ]
    },
    {
      "cell_type": "markdown",
      "source": [
        "**Caso 2**"
      ],
      "metadata": {
        "id": "OlaliR7qa9P1"
      }
    },
    {
      "cell_type": "code",
      "source": [
        "# CREAR EL MODELO DE RED NEURONAL CNN:\n",
        "model2B = Sequential()\n",
        "model2B.add(Conv2D(64, (7, 7), activation='relu', input_shape=(28, 28, 1), padding='same')) # 1ª capa convolucional\n",
        "model2B.add(MaxPooling2D((2, 2))) # 1ª capa pooling\n",
        "\n",
        "model2B.add(Conv2D(128, (3, 3), activation='relu', padding='same')) # 2ª capa convolucional\n",
        "model2B.add(MaxPooling2D((2, 2))) # 2ª capa pooling\n",
        "\n",
        "model2B.add(Flatten()) # Capa Flatten\n",
        "\n",
        "model2B.add(Dense(65,activation='relu')) # Penúltima capa densa\n",
        "\n",
        "model2B.add(Dense(10, activation='softmax')) # Última capa densa\n",
        "\n",
        "model2B.add(layers.BatchNormalization()) # Capa Batch Normalization"
      ],
      "metadata": {
        "id": "9JsQs068a9P1"
      },
      "execution_count": 140,
      "outputs": []
    },
    {
      "cell_type": "code",
      "source": [
        "# COMPILAR EL MODELO CON MÉTRICA PRECISIÓN:\n",
        "model2B.compile(loss='sparse_categorical_crossentropy',\n",
        "                optimizer='sgd',\n",
        "                metrics=['accuracy'])\n",
        "\n",
        "history = model2B.fit\n",
        "\n",
        "model2B.fit(train_images, train_labels,\n",
        "            epochs=5)\n",
        "\n",
        "test_loss2B, test_acc2B = model2B.evaluate(test_images, test_labels)\n",
        "\n",
        "print('Test accuracy:', test_acc2B)"
      ],
      "metadata": {
        "colab": {
          "base_uri": "https://localhost:8080/"
        },
        "outputId": "394c28bc-10ff-4a44-e6fa-5991c80df5b0",
        "id": "RixWHANja9P1"
      },
      "execution_count": 141,
      "outputs": [
        {
          "output_type": "stream",
          "name": "stdout",
          "text": [
            "Epoch 1/5\n",
            "1875/1875 [==============================] - 8s 4ms/step - loss: 6.5886 - accuracy: 0.1000\n",
            "Epoch 2/5\n",
            "1875/1875 [==============================] - 8s 4ms/step - loss: 6.5842 - accuracy: 0.1000\n",
            "Epoch 3/5\n",
            "1875/1875 [==============================] - 7s 4ms/step - loss: 6.5842 - accuracy: 0.1000\n",
            "Epoch 4/5\n",
            "1875/1875 [==============================] - 8s 4ms/step - loss: 6.5840 - accuracy: 0.1000\n",
            "Epoch 5/5\n",
            "1875/1875 [==============================] - 9s 5ms/step - loss: 6.5841 - accuracy: 0.1000\n",
            "313/313 [==============================] - 1s 4ms/step - loss: 6.5841 - accuracy: 0.1000\n",
            "Test accuracy: 0.10000000149011612\n"
          ]
        }
      ]
    },
    {
      "cell_type": "markdown",
      "source": [
        "**Caso 3**"
      ],
      "metadata": {
        "id": "xw6sQo9pa9P1"
      }
    },
    {
      "cell_type": "code",
      "source": [
        "# CREAR EL MODELO DE RED NEURONAL CNN:\n",
        "model3B = Sequential()\n",
        "model3B.add(Conv2D(64, (7, 7), activation='relu', input_shape=(28, 28, 1), padding='same')) # 1ª capa convolucional\n",
        "model3B.add(MaxPooling2D((2, 2))) # 1ª capa pooling\n",
        "\n",
        "model3B.add(Conv2D(128, (3, 3), activation='relu', padding='same')) # 2ª capa convolucional\n",
        "model3B.add(MaxPooling2D((2, 2))) # 2ª capa pooling\n",
        "\n",
        "model3B.add(Flatten()) # Capa Flatten\n",
        "\n",
        "model3B.add(Dense(65,activation='relu')) # Penúltima capa densa\n",
        "model3B.add(Dense(10, activation='softmax')) # Última capa densa\n",
        "model3B.add(layers.Dropout(0.5)) # Capa Dropout"
      ],
      "metadata": {
        "id": "NzB15nlwa9P1"
      },
      "execution_count": 142,
      "outputs": []
    },
    {
      "cell_type": "code",
      "source": [
        "# COMPILAR EL MODELO CON MÉTRICA PRECISIÓN:\n",
        "model3B.compile(loss='sparse_categorical_crossentropy',\n",
        "                optimizer='adam',\n",
        "                metrics=['accuracy'])\n",
        "\n",
        "history = model3B.fit\n",
        "\n",
        "model3B.fit(train_images, train_labels,\n",
        "            epochs=5)\n",
        "\n",
        "test_loss3B, test_acc3B = model3B.evaluate(test_images, test_labels)\n",
        "\n",
        "print('Test accuracy:', test_acc3B)"
      ],
      "metadata": {
        "colab": {
          "base_uri": "https://localhost:8080/"
        },
        "outputId": "723edbb6-e28f-4590-b192-4354705ee912",
        "id": "1FR02QmFa9P1"
      },
      "execution_count": 143,
      "outputs": [
        {
          "output_type": "stream",
          "name": "stdout",
          "text": [
            "Epoch 1/5\n",
            "1875/1875 [==============================] - 7s 3ms/step - loss: 3.7609 - accuracy: 0.3923\n",
            "Epoch 2/5\n",
            "1875/1875 [==============================] - 6s 3ms/step - loss: 3.4387 - accuracy: 0.4130\n",
            "Epoch 3/5\n",
            "1875/1875 [==============================] - 6s 3ms/step - loss: 3.4715 - accuracy: 0.4091\n",
            "Epoch 4/5\n",
            "1875/1875 [==============================] - 6s 3ms/step - loss: 3.3539 - accuracy: 0.4164\n",
            "Epoch 5/5\n",
            "1875/1875 [==============================] - 6s 3ms/step - loss: 3.3383 - accuracy: 0.4201\n",
            "313/313 [==============================] - 1s 3ms/step - loss: 4.1920 - accuracy: 0.7365\n",
            "Test accuracy: 0.7365000247955322\n"
          ]
        }
      ]
    },
    {
      "cell_type": "markdown",
      "source": [
        "- ***dropout***: esta capa establece - de manera aleatoria - unidades de entrada a 0 con una fecuencia de una vez cada paso del tiempo de entrenamiento. Esto ayuda a prevenir el peligroso 'sobre entrenamiento', también conocido por su traducción inglesa como 'overfitting'. Aquellas entradas que no se establezcan como 0 se escalan hasta por \"1/(1 - ratio)\", de forma que la suma sobre todas las entradas permanece inalterada."
      ],
      "metadata": {
        "id": "Cuv9-15Wb6dX"
      }
    },
    {
      "cell_type": "markdown",
      "source": [
        "**Caso 1**"
      ],
      "metadata": {
        "id": "cXS9BXAnXPDP"
      }
    },
    {
      "cell_type": "code",
      "metadata": {
        "id": "03CNbNOAXeE8"
      },
      "source": [
        "# CREAR EL MODELO DE RED NEURONAL CNN:\n",
        "model1D = Sequential()\n",
        "model1D.add(Conv2D(32, (5, 5), activation='relu', input_shape=(28, 28, 1))) # 1ª capa convolucional\n",
        "model1D.add(MaxPooling2D((2, 2))) # 1ª capa pooling\n",
        "\n",
        "model1D.add(Conv2D(64, (5, 5), activation='relu')) # 2ª capa convolucional\n",
        "model1D.add(MaxPooling2D((2, 2))) # 2ª capa pooling\n",
        "\n",
        "model1D.add(Flatten()) # Capa Flatten\n",
        "\n",
        "model1D.add(Dense(10, activation='softmax')) # Última capa densa\n",
        "\n",
        "model1D.add(layers.Dropout(0.5)) # Capa Dropout"
      ],
      "execution_count": 127,
      "outputs": []
    },
    {
      "cell_type": "code",
      "source": [
        "# COMPILAR EL MODELO CON MÉTRICA PRECISIÓN:\n",
        "model1D.compile(loss='sparse_categorical_crossentropy',\n",
        "                optimizer='sgd',\n",
        "                metrics=['accuracy'])\n",
        "\n",
        "history = model1D.fit\n",
        "\n",
        "model1D.fit(train_images, train_labels,\n",
        "            epochs=5)\n",
        "\n",
        "test_loss1D, test_acc1D = model1D.evaluate(test_images, test_labels)\n",
        "\n",
        "print('Test accuracy:', test_acc1D)"
      ],
      "metadata": {
        "colab": {
          "base_uri": "https://localhost:8080/"
        },
        "outputId": "ee5025ac-a2e8-42e8-e04f-f87eed83e67e",
        "id": "n9P9hfJ5XTks"
      },
      "execution_count": 130,
      "outputs": [
        {
          "output_type": "stream",
          "name": "stdout",
          "text": [
            "Epoch 1/5\n",
            "1875/1875 [==============================] - 6s 3ms/step - loss: 2.6254 - accuracy: 0.2772\n",
            "Epoch 2/5\n",
            "1875/1875 [==============================] - 8s 4ms/step - loss: 2.5847 - accuracy: 0.2818\n",
            "Epoch 3/5\n",
            "1875/1875 [==============================] - 6s 3ms/step - loss: 2.5683 - accuracy: 0.2854\n",
            "Epoch 4/5\n",
            "1875/1875 [==============================] - 6s 3ms/step - loss: 2.5489 - accuracy: 0.2828\n",
            "Epoch 5/5\n",
            "1875/1875 [==============================] - 6s 3ms/step - loss: 2.5714 - accuracy: 0.2819\n",
            "313/313 [==============================] - 1s 3ms/step - loss: 3.0921 - accuracy: 0.7907\n",
            "Test accuracy: 0.7907000184059143\n"
          ]
        }
      ]
    },
    {
      "cell_type": "markdown",
      "source": [
        "**Caso 2**"
      ],
      "metadata": {
        "id": "8E0bDk47XPKF"
      }
    },
    {
      "cell_type": "code",
      "source": [
        "# CREAR EL MODELO DE RED NEURONAL CNN:\n",
        "model2D = Sequential()\n",
        "model2D.add(Conv2D(64, (7, 7), activation='relu', input_shape=(28, 28, 1), padding='same')) # 1ª capa convolucional\n",
        "model2D.add(MaxPooling2D((2, 2))) # 1ª capa pooling\n",
        "\n",
        "model2D.add(Conv2D(128, (3, 3), activation='relu', padding='same')) # 2ª capa convolucional\n",
        "model2D.add(MaxPooling2D((2, 2))) # 2ª capa pooling\n",
        "\n",
        "model2D.add(Flatten()) # Capa Flatten\n",
        "\n",
        "model2D.add(Dense(65,activation='relu')) # Penúltima capa densa\n",
        "model2D.add(Dense(10, activation='softmax')) # Última capa densa\n",
        "model2D.add(layers.Dropout(0.5)) # Capa Dropout"
      ],
      "metadata": {
        "id": "jOzzYpvHYuOv"
      },
      "execution_count": 131,
      "outputs": []
    },
    {
      "cell_type": "code",
      "source": [
        "# COMPILAR EL MODELO CON MÉTRICA PRECISIÓN:\n",
        "model2D.compile(loss='sparse_categorical_crossentropy',\n",
        "                optimizer='sgd',\n",
        "                metrics=['accuracy'])\n",
        "\n",
        "history = model2D.fit\n",
        "\n",
        "model2D.fit(train_images, train_labels,\n",
        "            epochs=5)\n",
        "\n",
        "test_loss2D, test_acc2D = model2D.evaluate(test_images, test_labels)\n",
        "\n",
        "print('Test accuracy:', test_acc2D)"
      ],
      "metadata": {
        "colab": {
          "base_uri": "https://localhost:8080/"
        },
        "outputId": "604ddd55-22fa-4a71-9066-3bfa808559b5",
        "id": "W8_Xt3hCY616"
      },
      "execution_count": 132,
      "outputs": [
        {
          "output_type": "stream",
          "name": "stdout",
          "text": [
            "Epoch 1/5\n",
            "1875/1875 [==============================] - 7s 3ms/step - loss: 5.0054 - accuracy: 0.3538\n",
            "Epoch 2/5\n",
            "1875/1875 [==============================] - 6s 3ms/step - loss: 3.6755 - accuracy: 0.4155\n",
            "Epoch 3/5\n",
            "1875/1875 [==============================] - 6s 3ms/step - loss: 3.2645 - accuracy: 0.4337\n",
            "Epoch 4/5\n",
            "1875/1875 [==============================] - 6s 3ms/step - loss: 3.0160 - accuracy: 0.4465\n",
            "Epoch 5/5\n",
            "1875/1875 [==============================] - 7s 4ms/step - loss: 2.8718 - accuracy: 0.4521\n",
            "313/313 [==============================] - 1s 3ms/step - loss: 3.3023 - accuracy: 0.7766\n",
            "Test accuracy: 0.7766000032424927\n"
          ]
        }
      ]
    },
    {
      "cell_type": "markdown",
      "source": [
        "**Caso 3**"
      ],
      "metadata": {
        "id": "j7chjN_nXPQD"
      }
    },
    {
      "cell_type": "code",
      "source": [
        "# CREAR EL MODELO DE RED NEURONAL CNN:\n",
        "model3D = Sequential()\n",
        "model3D.add(Conv2D(64, (7, 7), activation='relu', input_shape=(28, 28, 1), padding='same')) # 1ª capa convolucional\n",
        "model3D.add(MaxPooling2D((2, 2))) # 1ª capa pooling\n",
        "\n",
        "model3D.add(Conv2D(128, (3, 3), activation='relu', padding='same')) # 2ª capa convolucional\n",
        "model3D.add(MaxPooling2D((2, 2))) # 2ª capa pooling\n",
        "\n",
        "model3D.add(Flatten()) # Capa Flatten\n",
        "\n",
        "model3D.add(Dense(65,activation='relu')) # Penúltima capa densa\n",
        "model3D.add(Dense(10, activation='softmax')) # Última capa densa\n",
        "model3D.add(layers.Dropout(0.5)) # Capa Dropout"
      ],
      "metadata": {
        "id": "2jBarvUYZNyw"
      },
      "execution_count": 133,
      "outputs": []
    },
    {
      "cell_type": "code",
      "source": [
        "# COMPILAR EL MODELO CON MÉTRICA PRECISIÓN:\n",
        "model3D.compile(loss='sparse_categorical_crossentropy',\n",
        "                optimizer='adam',\n",
        "                metrics=['accuracy'])\n",
        "\n",
        "history = model3D.fit\n",
        "\n",
        "model3D.fit(train_images, train_labels,\n",
        "            epochs=5)\n",
        "\n",
        "test_loss3D, test_acc3D = model3D.evaluate(test_images, test_labels)\n",
        "\n",
        "print('Test accuracy:', test_acc3D)"
      ],
      "metadata": {
        "colab": {
          "base_uri": "https://localhost:8080/"
        },
        "outputId": "76843aab-b9ae-4389-c90a-0a084e87e295",
        "id": "hh5Raq9XZNyx"
      },
      "execution_count": 134,
      "outputs": [
        {
          "output_type": "stream",
          "name": "stdout",
          "text": [
            "Epoch 1/5\n",
            "1875/1875 [==============================] - 7s 3ms/step - loss: 8.2589 - accuracy: 0.1121\n",
            "Epoch 2/5\n",
            "1875/1875 [==============================] - 8s 4ms/step - loss: 8.3969 - accuracy: 0.1000\n",
            "Epoch 3/5\n",
            "1875/1875 [==============================] - 7s 4ms/step - loss: 8.4082 - accuracy: 0.1000\n",
            "Epoch 4/5\n",
            "1875/1875 [==============================] - 6s 3ms/step - loss: 8.4147 - accuracy: 0.1000\n",
            "Epoch 5/5\n",
            "1875/1875 [==============================] - 6s 3ms/step - loss: 8.4376 - accuracy: 0.1000\n",
            "313/313 [==============================] - 1s 3ms/step - loss: 14.5063 - accuracy: 0.1000\n",
            "Test accuracy: 0.10000000149011612\n"
          ]
        }
      ]
    },
    {
      "cell_type": "markdown",
      "source": [
        "###2ª Mejora del modelo"
      ],
      "metadata": {
        "id": "gOEtq36QYGIN"
      }
    },
    {
      "cell_type": "markdown",
      "source": [
        "***10. Ver los conceptos de 'callbacks' (Decaimiento del ratio de aprendizaje), y ver si se\n",
        "podría mejorar el modelo con ello.\n",
        "https://www.tensorflow.org/api_docs/python/tf/keras/callbacks/LearningRateScheduler***\n",
        "\n",
        "***y***\n",
        "\n",
        "***https://keras.io/api/callbacks/***"
      ],
      "metadata": {
        "id": "jvst3fHRYJVU"
      }
    },
    {
      "cell_type": "markdown",
      "source": [
        "Siguiendo la misma estructura que aquella del apartado anterior, se comenzará exponiendo las ideas generales de los conceptos de ***callbacks***:\n",
        "Un 'callback' es un objeto capaz de llevar a cabo acciones en diferentes etapas del entrenamiento. Algunos ejemplos podrían ser su aplicación al comenzar o terminar una época ('epoch'), antes o después de un único 'batch',... Por ende, es posible aplicarlos en diversos momentos y con diferentes objetivos."
      ],
      "metadata": {
        "id": "YyTDGVXlblcL"
      }
    },
    {
      "cell_type": "code",
      "source": [],
      "metadata": {
        "id": "mDv-0WCIcCbS"
      },
      "execution_count": null,
      "outputs": []
    },
    {
      "cell_type": "markdown",
      "source": [
        "# CONCLUSIONES"
      ],
      "metadata": {
        "id": "Qg6F-q4vkpeD"
      }
    },
    {
      "cell_type": "markdown",
      "source": [],
      "metadata": {
        "id": "BdPwgUA47GKp"
      }
    },
    {
      "cell_type": "markdown",
      "source": [
        "# REFLEXIONES"
      ],
      "metadata": {
        "id": "i98dDcKukr8Z"
      }
    },
    {
      "cell_type": "markdown",
      "source": [
        "Al igual que en el anterior proyecto, este apartado expone los acontecimientos y las dificultades que hemos encontrado como equipo durante su realización. Está compuesto por tres secciones fuertemente relacionadas entre sí:"
      ],
      "metadata": {
        "id": "kQSAC_-CdjO4"
      }
    },
    {
      "cell_type": "markdown",
      "source": [
        "## 1.   Cómo hemos afrontado la solución de la práctica\n",
        "\n",
        "\n",
        "\n"
      ],
      "metadata": {
        "id": "VkQld-8tlG1l"
      }
    },
    {
      "cell_type": "markdown",
      "source": [
        "Habiendo aprendido de la prática anterior ('Práctica 1'), y con el objetivo de mejorar los resultados obtenidos, tomamos algunas medidas nuevas con el fin de mejorar nuestro rendimiento.\n",
        "\n",
        "Entre ellas destaca que empezamos a trabajar en ella con mayor tiempo de antelación, con el propósito de estar más preparadas ante posibles imprevistos y tener un mayor tiempo de reacción.\n",
        "\n",
        "A su vez, hemos tenido más tiempo para aplicar detenidamente la segunda idea: trabajar primero el código de cada ejercicio, anotando únicamente algunos conceptos clave; y después, repasarlo d enuevo, centrándonos en la redacción de las observaciones y conclusiones encontradas.\n",
        "\n",
        "Esta estructura y conceptos iniciales para atajar la práctica de manera más eficaz posible nos ha permitido alcanzar un buen conocimiento de las Redes de Neuronas Convolucionales y sus utilidades. A su vez, se ha podido lograr una mejor comprensión de la 'Práctica 1' (funcionamiento de las Redes de Neuronas Artificiales) debido a la necesidad de comparar ambos proyectos detenidamente."
      ],
      "metadata": {
        "id": "3wIPeH0ehI4e"
      }
    },
    {
      "cell_type": "markdown",
      "source": [
        "## 2.   Cómo se ha dividido el trabajo"
      ],
      "metadata": {
        "id": "ElW4xpEHlY4N"
      }
    },
    {
      "cell_type": "markdown",
      "source": [
        "Debido a la imposibilidad de trabajar con varios ordenadores al unísono, se han continuado con las distintas estrategias de la anterior práctica:\n",
        "- Comenzamos estructurando el proyecto de una manera similar a la del proyecto previo, recopilando aquellos conceptos necesarios tanto antiguos como nuevos.\n",
        "- Avanzamos en el trabajo a través de videollamadas. Esta herramienta permitía a una de nosotras compartir el código por la pantalla, mientras que las demás ayudábamos buscando soluciones con nuestros respectivos ordenadores para avanzar de manera conjunta y eficiente.\n",
        "- Se comprobó el código en diferentes ordenadores con el propósito de encontrar posibles fallos en la compilación, o errores en la redacción."
      ],
      "metadata": {
        "id": "ELDEV1WRdken"
      }
    },
    {
      "cell_type": "markdown",
      "source": [
        "## 3.   Cómo se ha gestionado el equipo para trabajar"
      ],
      "metadata": {
        "id": "gUwpnuQylZA2"
      }
    },
    {
      "cell_type": "markdown",
      "source": [
        "Siguiendo la línea argumental propuesta, teniendo en cuenta las similitudes de este apartado con el anterior y el carácter casi idéntico con respecto a la 'Práctica 1', explicaremos en más detalle las videollamadas mencionadas.\n",
        "\n",
        "Nos asignábamos pequeñas tareas - que incluíamos en el proyecto mandándoselas a la compañera con el trabajo abierto, o esperando a incluirlas después - mientras avanzábamos con el código y las conclusiones con el fin de aprovechar el tiempo al máximo.\n",
        "\n",
        "Sin embargo, también se utilizó tiempo en el que nos encontrábamos físicamente juntas para continuar."
      ],
      "metadata": {
        "id": "MJM4hUNudlNr"
      }
    },
    {
      "cell_type": "markdown",
      "source": [
        "# REFERENCIAS BIBLIOGRÁFICAS"
      ],
      "metadata": {
        "id": "45-BMfTpktzs"
      }
    },
    {
      "cell_type": "markdown",
      "source": [
        "- Apuntes recogidos de GitHub y GoogleColab, a raíz de los contenidos estudiados en el aula\n",
        "- ***https://keras.io/api/layers/normalization_layers/batch_normalization/***\n",
        "- ***https://keras.io/api/layers/regularization_layers/dropout/***\n",
        "- ***https://www.tensorflow.org/api_docs/python/tf/keras/callbacks/LearningRateScheduler***\n",
        "- ***https://keras.io/api/callbacks/***"
      ],
      "metadata": {
        "id": "rZoJaNUq8A_h"
      }
    }
  ]
}