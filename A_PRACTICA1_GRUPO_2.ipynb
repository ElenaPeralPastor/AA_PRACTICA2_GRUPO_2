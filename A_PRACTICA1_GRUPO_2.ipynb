{
  "nbformat": 4,
  "nbformat_minor": 0,
  "metadata": {
    "colab": {
      "provenance": [],
      "collapsed_sections": [
        "zXY6f3Stvuin",
        "Xo8E6lFYEGf7",
        "Iu-Hs4guEOoV",
        "Egg02Vtuaces",
        "lLerLNFgcggC",
        "i98dDcKukr8Z",
        "VkQld-8tlG1l",
        "ElW4xpEHlY4N",
        "gUwpnuQylZA2",
        "45-BMfTpktzs"
      ],
      "toc_visible": true,
      "include_colab_link": true
    },
    "kernelspec": {
      "name": "python3",
      "display_name": "Python 3"
    },
    "language_info": {
      "name": "python"
    }
  },
  "cells": [
    {
      "cell_type": "markdown",
      "metadata": {
        "id": "view-in-github",
        "colab_type": "text"
      },
      "source": [
        "<a href=\"https://colab.research.google.com/github/Paloma-Moya-Tudela/AA_PRACTICA1_GRUPO_2/blob/main/A_PRACTICA1_GRUPO_2.ipynb\" target=\"_parent\"><img src=\"https://colab.research.google.com/assets/colab-badge.svg\" alt=\"Open In Colab\"/></a>"
      ]
    },
    {
      "cell_type": "markdown",
      "source": [
        "**GRUPO 2**\n",
        "\n",
        "Paloma Moya Tudela\n",
        "\n",
        "María García Rodríguez\n",
        "\n",
        "Elena Peral Pastor\n",
        "\n",
        "Sofía Peña González\n",
        "\n"
      ],
      "metadata": {
        "id": "w8YbxA3YDZZu"
      }
    },
    {
      "cell_type": "markdown",
      "source": [
        "# RESUMEN"
      ],
      "metadata": {
        "id": "zXY6f3Stvuin"
      }
    },
    {
      "cell_type": "markdown",
      "source": [
        "En la asignatura de “Aprendizaje Automático”, estamos aprendiendo acerca de una utilidad cada vez más desarrollada y puesta en práctica: las Redes de Neuronas Artificiales.\n",
        "\n",
        "Este trabajo tiene como fin plasmar los conocimientos teórico-prácticos estudiados en clase aplicándolos a un ejemplo concreto: el “data set” de la empresa Zalando. Se ejecutarán diversas funciones y se irán extrayendo conclusiones que nos ayuden a comprender el funcionamiento interno de la red.\n"
      ],
      "metadata": {
        "id": "dSAN9x20dhFd"
      }
    },
    {
      "cell_type": "markdown",
      "source": [
        "# ÍNDICE"
      ],
      "metadata": {
        "id": "Xo8E6lFYEGf7"
      }
    },
    {
      "cell_type": "markdown",
      "source": [
        "\n",
        "\n",
        "*   Introducción\n",
        "*   Resolución\n",
        "*   Conclusiones\n",
        "*   Reflexiones\n",
        "*   Referencias Bibliográficas\n",
        "\n",
        "\n",
        "\n",
        "\n",
        "\n"
      ],
      "metadata": {
        "id": "3fiCm_ARE1Rb"
      }
    },
    {
      "cell_type": "markdown",
      "source": [
        "# INTRODUCCIÓN"
      ],
      "metadata": {
        "id": "Iu-Hs4guEOoV"
      }
    },
    {
      "cell_type": "markdown",
      "source": [
        "Las Redes de Neuronas Artificiales son una herramienta muy útil, y cada vez más utilizada, para resolver problemas cotidianos. Sin embargo, están siendo también de gran ayuda para hallar las respuestas a cuestiones increíblemente complejas.\n",
        "\n",
        "La fuerte componente biológica sobre la que se sustenta llama considerablemente la atención, y es precisamente esta característica lo que las hace únicas.\n",
        "\n",
        "Sin darnos cuenta, estas redes están siendo implementadas en multitud de campos, muchos de los cuales nos afectan – de manera directa o indirecta – en nuestro día a día. Tanto es así, que las empresas las implementan con el objetivo de ser capaces de lograr llamativos beneficios gracias a la eficacia de este método. Pueden ser empresas de distintas áreas; empresas como Zalando (www.zalando.com), una tienda de moda online alemana especializada en ventas de ropa y zapatos. Estos productos se van a trabajar a lo largo de este proyecto.\n",
        "\n",
        "Este estudio se centrará en la manipulación de una red neuronal y en la interacción con sus diferentes componentes. De esta forma, será importante probar diferentes métodos de llevar a cabo una misma función, y así ser capaces de visualizar cómo funciona cada herramienta interna hasta llegar a las condiciones más óptimas posibles. Por lo tanto, esta práctica servirá de gran ayuda para entender el comportamiento de una Red de Neuronas Artificiales.\n"
      ],
      "metadata": {
        "id": "bScY0amsHsdV"
      }
    },
    {
      "cell_type": "markdown",
      "source": [
        "# RESOLUCIÓN"
      ],
      "metadata": {
        "id": "X36Twi4IEVBu"
      }
    },
    {
      "cell_type": "markdown",
      "source": [
        "El primer paso será comprender el enunciado y extraer los datos que se nos aportan.\n",
        "\n",
        "**PROBLEMA:**\n",
        "\n",
        "* Reconocer y clasificar imágenes - en escala de grises - de ropa (28 x 28 píxeles) en sus diferentes tipologías (10). Este modelo será definido, configurado, entrenado, evaluado y mejorado para posteriormente usarlo para hacer predicciones.\n",
        "* Se dispone de 70k imágenes del conjunto de datos de Fashion-MNIST: artículos de Zalando, una tienda de moda online alemana especializada en ventas de ropa y zapatos. Se usarán 60K imágenes para el entrenamiento de la red, y 10K imágenes para evaluar la precisión con la que la red aprende a clasificarlas.\n",
        "\n",
        "\n",
        "Una vez se tienen claro los materiales con los que se trabajará, se podrá empezar a incorporar código. Sin embargo, antes de comenzar importemnos qyuras y el resto de librerías necesarias para la red neuronal, asegurando que es la versión 2.0.0 (o superior) de TensorFlow."
      ],
      "metadata": {
        "id": "ZyIlHHA-HuUU"
      }
    },
    {
      "cell_type": "markdown",
      "source": [
        "\n",
        "**DISEÑO, ENTRENAMIENTO Y TEST DE UN SISTEMA DE REDES DE NEURONAS ARTIFICIALES**\n"
      ],
      "metadata": {
        "id": "Fe61Lwmrbpo_"
      }
    },
    {
      "cell_type": "code",
      "source": [
        "# 1._ IMPORTAMOS KERAS\n",
        "%tensorflow_version 2.x\n",
        "import tensorflow as tf\n",
        "from tensorflow import keras\n",
        "print(tf.keras.__version__)\n",
        "print(\"GPU Available:\", tf.config.list_physical_devices('GPU'))\n",
        "print(tf.__version__)\n",
        "\n",
        "import numpy as np\n",
        "import pandas as pd\n",
        "import matplotlib.image as mpim\n",
        "import matplotlib.pyplot as plt\n",
        "%matplotlib inline\n",
        "\n",
        "from keras import backend as K\n",
        "from keras.utils import np_utils\n",
        "from sklearn.model_selection import train_test_split\n",
        "from keras.models import Sequential\n",
        "from keras.layers import Dense, Dropout, Flatten, Reshape, InputLayer"
      ],
      "metadata": {
        "colab": {
          "base_uri": "https://localhost:8080/"
        },
        "id": "psaION17mmw3",
        "outputId": "a0dac986-28c2-414e-83cc-c9338ef3f2fb"
      },
      "execution_count": null,
      "outputs": [
        {
          "output_type": "stream",
          "name": "stdout",
          "text": [
            "Colab only includes TensorFlow 2.x; %tensorflow_version has no effect.\n",
            "2.9.0\n",
            "GPU Available: []\n",
            "2.9.2\n"
          ]
        }
      ]
    },
    {
      "cell_type": "markdown",
      "source": [
        "A continuación, cargamos el conjunto de datos  MNIST en Keras para poder visualizar los datos.\n"
      ],
      "metadata": {
        "id": "m_FEKAOAaEC-"
      }
    },
    {
      "cell_type": "code",
      "source": [
        "# 2.- CARGAMOS EL CONJUNTO DE DATOS MINIST EN KERAS\n",
        "# mnist = tf.keras.datasets.mnist\n",
        "from keras.datasets import mnist\n",
        "\n",
        "fashion_mnist = keras.datasets.fashion_mnist\n",
        "(train_images, train_labels), (test_images, test_labels) = fashion_mnist.load_data()\n"
      ],
      "metadata": {
        "id": "9boZLFDdaHN0",
        "colab": {
          "base_uri": "https://localhost:8080/"
        },
        "outputId": "127589b8-3c95-4a7c-b8ca-729a35d90d67"
      },
      "execution_count": null,
      "outputs": [
        {
          "output_type": "stream",
          "name": "stdout",
          "text": [
            "Downloading data from https://storage.googleapis.com/tensorflow/tf-keras-datasets/train-labels-idx1-ubyte.gz\n",
            "29515/29515 [==============================] - 0s 0us/step\n",
            "Downloading data from https://storage.googleapis.com/tensorflow/tf-keras-datasets/train-images-idx3-ubyte.gz\n",
            "26421880/26421880 [==============================] - 1s 0us/step\n",
            "Downloading data from https://storage.googleapis.com/tensorflow/tf-keras-datasets/t10k-labels-idx1-ubyte.gz\n",
            "5148/5148 [==============================] - 0s 0us/step\n",
            "Downloading data from https://storage.googleapis.com/tensorflow/tf-keras-datasets/t10k-images-idx3-ubyte.gz\n",
            "4422102/4422102 [==============================] - 0s 0us/step\n"
          ]
        }
      ]
    },
    {
      "cell_type": "markdown",
      "source": [
        "Al cargar el set de datos retorna cuatro arreglos en NumPy:\n",
        "- `train_images` y `train_labels` son el **conjunto de entrenamiento** (los datos de los que aprenderá el modelo).\n",
        "- `test_images` y `test_labels` son el conjunto de pruebas (los datos con los que testearemos el modelo ya entrenado).\n",
        "- Las imágenes están **codificadas** como matrices `Numpy`, y las etiquetas son un vector de números con valores entre el 0 y el 9 (imágenes y etiquetas tienen una correspondencia 1 a 1) \n",
        "\n",
        "![image.png](data:image/png;base64,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)\n",
        "\n",
        "Como los `Class names` no están incluidos los podremos a mano en el siguiente código: "
      ],
      "metadata": {
        "id": "iZDirwqQaLez"
      }
    },
    {
      "cell_type": "code",
      "source": [
        "nombres = ['T-shirt/top', 'Trouser', 'Pullover', 'Dress', 'Coat',\n",
        "               'Sandal', 'Shirt', 'Sneaker', 'Bag', 'Ankle boot']"
      ],
      "metadata": {
        "id": "C8jr9gdDaMTs"
      },
      "execution_count": null,
      "outputs": []
    },
    {
      "cell_type": "markdown",
      "source": [
        "Una vez tenemos los datos preparados se puede proceder a echarle un vistazo a los **datos de entrenamiento**\n",
        "## Pre-procesamiento del set de datos"
      ],
      "metadata": {
        "id": "Egg02Vtuaces"
      }
    },
    {
      "cell_type": "code",
      "source": [
        "print(train_images.shape)"
      ],
      "metadata": {
        "colab": {
          "base_uri": "https://localhost:8080/"
        },
        "id": "4N0tG5E5aerY",
        "outputId": "37df2746-e496-4f35-9b2c-95b217bcbb16"
      },
      "execution_count": null,
      "outputs": [
        {
          "output_type": "stream",
          "name": "stdout",
          "text": [
            "(60000, 28, 28)\n"
          ]
        }
      ]
    },
    {
      "cell_type": "markdown",
      "source": [
        "Esto nos indica que el data set de los **datos de entrenamiento** contiene 60K elementos de 28x28, tal cual como indica el enunciado. Hagamos los mismos con los datos con los que estamos el modelo entrenado:\n"
      ],
      "metadata": {
        "id": "DZ-yU9ytdfpj"
      }
    },
    {
      "cell_type": "code",
      "source": [
        "print(test_images.shape)"
      ],
      "metadata": {
        "colab": {
          "base_uri": "https://localhost:8080/"
        },
        "id": "3j03mt0ae0ox",
        "outputId": "5c97ca8a-5002-4c0f-fc94-e132c662de09"
      },
      "execution_count": null,
      "outputs": [
        {
          "output_type": "stream",
          "name": "stdout",
          "text": [
            "(10000, 28, 28)\n"
          ]
        }
      ]
    },
    {
      "cell_type": "markdown",
      "source": [
        "Apreciamos que es un array de 10K elementos de 28x28.\n",
        "\n",
        "\n",
        "A continución, veamos la imágenes de otra forma, por ejemplo veamos la matriz de la imágen número 0"
      ],
      "metadata": {
        "id": "tUzu49Bke2e5"
      }
    },
    {
      "cell_type": "code",
      "source": [
        "plt.figure()\n",
        "plt.imshow(train_images[0])\n",
        "plt.colorbar()\n",
        "plt.grid(False)\n",
        "plt.show()"
      ],
      "metadata": {
        "colab": {
          "base_uri": "https://localhost:8080/",
          "height": 265
        },
        "id": "WcYXrMWSdev5",
        "outputId": "4e742816-8992-4086-89be-9b6db5b00f96"
      },
      "execution_count": null,
      "outputs": [
        {
          "output_type": "display_data",
          "data": {
            "text/plain": [
              "<Figure size 432x288 with 2 Axes>"
            ],
            "image/png": "[encoded data removed]"
          },
          "metadata": {
            "needs_background": "light"
          }
        }
      ]
    },
    {
      "cell_type": "markdown",
      "source": [
        "Nos encontramos un porblema, se observa que los valores van de 0 a 250 y para aplicarlos a la red neuronal deben ser valores entre 0 y 1 para que los datos de entrenamiento y de test sean porcesados de la misma manera. Arreglemolos de la siguiente forma:"
      ],
      "metadata": {
        "id": "Uig52cL6gdB5"
      }
    },
    {
      "cell_type": "code",
      "source": [
        "train_images = train_images / 255.0\n",
        "\n",
        "test_images = test_images / 255.0"
      ],
      "metadata": {
        "id": "bdHPSrEIjhTQ"
      },
      "execution_count": null,
      "outputs": []
    },
    {
      "cell_type": "markdown",
      "source": [
        "Volvamos a mostrar la imagen, los valores serán entre 0 y 1:"
      ],
      "metadata": {
        "id": "43y9njeVjilX"
      }
    },
    {
      "cell_type": "code",
      "source": [
        "plt.figure()\n",
        "plt.imshow(train_images[0])\n",
        "plt.colorbar()\n",
        "plt.grid(False)\n",
        "plt.show()"
      ],
      "metadata": {
        "colab": {
          "base_uri": "https://localhost:8080/",
          "height": 269
        },
        "id": "dM4kCSlpjp1o",
        "outputId": "219dfc98-7ca8-4310-b96d-8551e25f9974"
      },
      "execution_count": null,
      "outputs": [
        {
          "output_type": "display_data",
          "data": {
            "text/plain": [
              "<Figure size 432x288 with 2 Axes>"
            ],
            "image/png": "[encoded data removed]"
          },
          "metadata": {
            "needs_background": "light"
          }
        }
      ]
    },
    {
      "cell_type": "markdown",
      "source": [
        "También podemos visalizarla en forma de matriz, eavmos el ejemplo 2000, que debe ser similar a la imagen de un sneaker, ahora los valores seguirán estando entre 0 y 1:\n",
        "\n"
      ],
      "metadata": {
        "id": "oEi4IS_vjp9v"
      }
    },
    {
      "cell_type": "code",
      "source": [
        "np.set_printoptions(precision=2, suppress=True, linewidth=145)\n",
        "print(np.matrix(train_images[20000]))"
      ],
      "metadata": {
        "colab": {
          "base_uri": "https://localhost:8080/"
        },
        "id": "Mae-YS0ylT53",
        "outputId": "5e0c997b-8e7c-4401-8f92-14020bec79fc"
      },
      "execution_count": null,
      "outputs": [
        {
          "output_type": "stream",
          "name": "stdout",
          "text": [
            "[[0.   0.   0.   0.   0.   0.   0.   0.   0.   0.   0.   0.   0.   0.   0.   0.   0.   0.   0.   0.   0.   0.   0.   0.   0.   0.   0.   0.  ]\n",
            " [0.   0.   0.   0.   0.   0.   0.   0.   0.   0.   0.   0.   0.   0.   0.   0.   0.   0.   0.   0.   0.   0.   0.   0.   0.   0.   0.   0.  ]\n",
            " [0.   0.   0.   0.   0.   0.   0.   0.   0.   0.   0.   0.   0.   0.   0.   0.   0.   0.   0.   0.   0.   0.   0.   0.   0.   0.   0.   0.  ]\n",
            " [0.   0.   0.   0.   0.   0.   0.   0.   0.   0.   0.   0.   0.   0.   0.   0.   0.   0.   0.   0.   0.   0.   0.   0.   0.   0.   0.   0.  ]\n",
            " [0.   0.   0.   0.   0.   0.   0.   0.   0.   0.   0.   0.   0.   0.   0.   0.   0.   0.   0.   0.   0.   0.   0.   0.   0.   0.   0.   0.  ]\n",
            " [0.   0.   0.   0.   0.   0.   0.   0.   0.   0.   0.   0.   0.   0.   0.   0.   0.   0.   0.   0.   0.   0.   0.   0.   0.   0.   0.   0.  ]\n",
            " [0.   0.   0.   0.   0.   0.   0.   0.   0.   0.   0.   0.   0.   0.   0.   0.   0.   0.   0.   0.   0.   0.   0.   0.   0.   0.   0.   0.  ]\n",
            " [0.   0.   0.   0.   0.   0.   0.   0.   0.   0.   0.   0.   0.   0.   0.   0.   0.   0.   0.   0.   0.   0.   0.   0.   0.   0.   0.   0.  ]\n",
            " [0.   0.   0.   0.   0.   0.   0.   0.   0.   0.   0.   0.   0.   0.   0.   0.   0.   0.   0.   0.   0.   0.   0.   0.   0.   0.   0.   0.  ]\n",
            " [0.   0.   0.   0.   0.   0.   0.   0.   0.   0.   0.   0.01 0.   0.   0.14 0.26 0.22 0.   0.   0.01 0.   0.   0.   0.   0.   0.   0.16 0.11]\n",
            " [0.   0.   0.   0.   0.   0.   0.   0.   0.01 0.   0.   0.   0.   0.63 1.   0.85 1.   0.37 0.   0.   0.   0.   0.02 0.   0.   0.   0.25 0.15]\n",
            " [0.   0.   0.   0.   0.   0.   0.   0.   0.   0.   0.   0.59 0.93 0.84 0.78 0.76 0.77 0.98 0.78 0.16 0.   0.   0.   0.   0.   0.25 0.93 0.1 ]\n",
            " [0.   0.01 0.   0.   0.   0.   0.   0.   0.26 0.65 0.95 0.85 0.8  0.75 0.75 0.79 0.78 0.77 0.84 1.   0.77 0.48 0.38 0.48 0.73 0.81 0.89 0.25]\n",
            " [0.   0.   0.   0.   0.   0.   0.16 0.7  0.88 0.84 0.78 0.75 0.76 0.75 0.75 0.78 0.81 0.8  0.8  0.81 0.84 0.88 0.89 0.88 0.86 0.8  0.85 0.49]\n",
            " [0.   0.29 0.53 0.57 0.65 0.75 0.8  0.78 0.76 0.75 0.76 0.77 0.76 0.79 0.8  0.81 0.8  0.78 0.8  0.8  0.79 0.79 0.78 0.78 0.78 0.77 0.87 0.52]\n",
            " [0.05 0.64 0.84 0.85 0.86 0.85 0.84 0.82 0.83 0.82 0.81 0.8  0.81 0.82 0.81 0.81 0.81 0.81 0.82 0.81 0.82 0.81 0.81 0.81 0.81 0.8  0.89 0.59]\n",
            " [0.11 0.01 0.   0.06 0.17 0.32 0.47 0.53 0.66 0.73 0.81 0.86 0.87 0.89 0.91 0.93 0.95 0.95 0.93 0.92 0.93 0.93 0.93 0.91 0.89 0.85 0.96 0.41]\n",
            " [0.13 0.22 0.17 0.07 0.   0.   0.   0.   0.   0.   0.   0.   0.   0.   0.03 0.06 0.05 0.07 0.08 0.05 0.04 0.06 0.08 0.08 0.09 0.08 0.24 0.15]\n",
            " [0.   0.   0.05 0.16 0.29 0.32 0.27 0.26 0.22 0.18 0.15 0.15 0.13 0.14 0.15 0.14 0.15 0.16 0.15 0.14 0.15 0.16 0.18 0.21 0.24 0.31 0.45 0.25]\n",
            " [0.   0.   0.   0.   0.   0.06 0.12 0.22 0.26 0.27 0.32 0.35 0.32 0.28 0.24 0.18 0.13 0.13 0.15 0.18 0.18 0.17 0.12 0.07 0.05 0.07 0.09 0.  ]\n",
            " [0.   0.   0.   0.   0.   0.   0.   0.   0.   0.   0.   0.   0.   0.   0.   0.   0.   0.   0.   0.   0.   0.   0.   0.   0.   0.   0.   0.  ]\n",
            " [0.   0.   0.   0.   0.   0.   0.   0.   0.   0.   0.   0.   0.   0.   0.   0.   0.   0.   0.   0.   0.   0.   0.   0.   0.   0.   0.   0.  ]\n",
            " [0.   0.   0.   0.   0.   0.   0.   0.   0.   0.   0.   0.   0.   0.   0.   0.   0.   0.   0.   0.   0.   0.   0.   0.   0.   0.   0.   0.  ]\n",
            " [0.   0.   0.   0.   0.   0.   0.   0.   0.   0.   0.   0.   0.   0.   0.   0.   0.   0.   0.   0.   0.   0.   0.   0.   0.   0.   0.   0.  ]\n",
            " [0.   0.   0.   0.   0.   0.   0.   0.   0.   0.   0.   0.   0.   0.   0.   0.   0.   0.   0.   0.   0.   0.   0.   0.   0.   0.   0.   0.  ]\n",
            " [0.   0.   0.   0.   0.   0.   0.   0.   0.   0.   0.   0.   0.   0.   0.   0.   0.   0.   0.   0.   0.   0.   0.   0.   0.   0.   0.   0.  ]\n",
            " [0.   0.   0.   0.   0.   0.   0.   0.   0.   0.   0.   0.   0.   0.   0.   0.   0.   0.   0.   0.   0.   0.   0.   0.   0.   0.   0.   0.  ]\n",
            " [0.   0.   0.   0.   0.   0.   0.   0.   0.   0.   0.   0.   0.   0.   0.   0.   0.   0.   0.   0.   0.   0.   0.   0.   0.   0.   0.   0.  ]]\n"
          ]
        }
      ]
    },
    {
      "cell_type": "markdown",
      "source": [
        "Por último, antes de comenzar con la red neuronal incluimos una representación de los 10 primeros elemento con sus correspondientes etiquetas, de esta forma nos aseguramos de que el data set es correcto."
      ],
      "metadata": {
        "id": "o4GlEgAKokYc"
      }
    },
    {
      "cell_type": "code",
      "source": [
        "plt.figure(figsize=(10,10))\n",
        "for i in range(10):\n",
        "    plt.subplot(5,5,i+1)\n",
        "    plt.xticks([])\n",
        "    plt.yticks([])\n",
        "    plt.grid(False)\n",
        "    plt.imshow(train_images[i], cmap=plt.cm.binary)\n",
        "    plt.xlabel(nombres[train_labels[i]])\n",
        "plt.show()"
      ],
      "metadata": {
        "colab": {
          "base_uri": "https://localhost:8080/",
          "height": 251
        },
        "id": "wtm8MmmigeGw",
        "outputId": "f7ab0ef7-8db2-40c9-9f29-e98c4425579f"
      },
      "execution_count": null,
      "outputs": [
        {
          "output_type": "display_data",
          "data": {
            "text/plain": [
              "<Figure size 720x720 with 10 Axes>"
            ],
            "image/png": "[encoded data removed]"
          },
          "metadata": {}
        }
      ]
    },
    {
      "cell_type": "markdown",
      "source": [
        "## Configuración de los casos"
      ],
      "metadata": {
        "id": "lLerLNFgcggC"
      }
    },
    {
      "cell_type": "markdown",
      "source": [
        "***1. Configurar y entrenar los siguientes modelos de red de neuronas, todos con función de pérdida ‘categorical_crossentropy’, métrica de precisión y 5 épocas, analizando y reflexionando sobre los resultados.***"
      ],
      "metadata": {
        "id": "ArQFsQrscBU1"
      }
    },
    {
      "cell_type": "markdown",
      "source": [
        "**1. Configurar y entrenar los siguientes modelos de red de neuronas, todos con función de pérdida ‘categorical_crossentropy’, métrica de precisión y 5 épocas, analizando y reflexionando sobre los resultados.**\n",
        "\n",
        "\n",
        "En este apartado, se dará a la RNA los datos de entrenamiento `train_images` y `train_labels`. Esta aprenderá a asociar imágenes y etiquetas, por lo que pediremos a la RNA que haga predicciones para `test_images` y comprobaremos si estas predicciones coinciden con las etiquetas de `test_labels`.\n",
        "\n",
        "![image.png](data:image/png;base64,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)\n",
        "\n",
        "**Caso 1**"
      ],
      "metadata": {
        "id": "xglrNEuXnLdF"
      }
    },
    {
      "cell_type": "code",
      "source": [
        "from keras.utils.np_utils import to_categorical\n",
        "train_labels = to_categorical(train_labels)\n",
        "test_labels = to_categorical(test_labels)\n",
        "\n",
        "model1 = keras.Sequential([\n",
        "    keras.layers.Flatten(input_shape=(28, 28)),\n",
        "    keras.layers.Dense(10, activation='relu')\n",
        "])\n",
        "model1.compile(optimizer='sgd',\n",
        "              loss='categorical_crossentropy',\n",
        "              metrics=['accuracy'])\n"
      ],
      "metadata": {
        "id": "tA3F7pCRpGaH"
      },
      "execution_count": null,
      "outputs": []
    },
    {
      "cell_type": "markdown",
      "source": [
        "En primer lugar transformamos las variables `train_labels` y `train_labels` a categóricas para hacer uso de **one-hot encoding**, el cual trata de transformar las etiquetas en un vector de tantos ceros como el número de etiquetas distinta, y que contiene el valor de 1 en el índice que le corresponde al valor de la etiqueta. \n",
        "\n",
        "Para la primera capa se incluye `tf.keras.layers.Flatten`, este transforma el formato de las imagenes, las cuales estaán en 28x28, a un arreglo 1D, podriamos decir que o aplasta todo en un mismo array: 28*28 = 784 pixeles.\n",
        "\n",
        "\n",
        "Por tanto, esta capa simplemente las aline, no tiene parametros que aprender, es decir, sirve simplemente para dar la forma que buscamos al set de datos.\n",
        "\n",
        "En la siguiente caca tenemos 10 nodos con función de activación 'relu',la cual permite a las redes neuronales modificar los valores de entrada llevando los valores negativos a 0 y utilizando únicamente los positivos, devolviendo esos mismos valores positivos.\n",
        "\n",
        "El optimizador es Sgd, este es un tipo de optimizado que permite realizar una aproximación estocástixa del descenso del gradiente sustituyendo el gradiente real por su estimación.\n",
        "\n",
        "La función de pérdida es `categorical_crossentropy`,  cuya función es producir una matriz one-hot, por ello es que las variable son categóricas. Los valores de la matriz contienen la coincidencia probable para cada categoría.\n",
        "\n",
        "A continuación compilamos el modelo con 5 épocas, cada una con tamaño de 128."
      ],
      "metadata": {
        "id": "XAzUa-rlxJsf"
      }
    },
    {
      "cell_type": "code",
      "source": [
        "model1.fit(train_images, train_labels, epochs=5, batch_size=128)"
      ],
      "metadata": {
        "colab": {
          "base_uri": "https://localhost:8080/"
        },
        "id": "krMCN8uHxKrd",
        "outputId": "5f4721ed-5f50-4b24-ea12-38c578f54987"
      },
      "execution_count": null,
      "outputs": [
        {
          "output_type": "stream",
          "name": "stdout",
          "text": [
            "Epoch 1/5\n",
            "469/469 [==============================] - 2s 3ms/step - loss: nan - accuracy: 0.1493\n",
            "Epoch 2/5\n",
            "469/469 [==============================] - 1s 3ms/step - loss: nan - accuracy: 0.1000\n",
            "Epoch 3/5\n",
            "469/469 [==============================] - 1s 3ms/step - loss: nan - accuracy: 0.1000\n",
            "Epoch 4/5\n",
            "469/469 [==============================] - 1s 3ms/step - loss: nan - accuracy: 0.1000\n",
            "Epoch 5/5\n",
            "469/469 [==============================] - 1s 3ms/step - loss: nan - accuracy: 0.1000\n"
          ]
        },
        {
          "output_type": "execute_result",
          "data": {
            "text/plain": [
              "<keras.callbacks.History at 0x7f082d952790>"
            ]
          },
          "metadata": {},
          "execution_count": 13
        }
      ]
    },
    {
      "cell_type": "markdown",
      "source": [
        "Observamos que este modelo tiene  una baja precisión pues el método de entrenamiento no es adecuado. Llama la atención que la precisión en la primera época es mayor que en las siguientes, que es un síntoma de sobreentrenamiento."
      ],
      "metadata": {
        "id": "h9wdlA6xxMM3"
      }
    },
    {
      "cell_type": "markdown",
      "source": [
        "**Caso 2**"
      ],
      "metadata": {
        "id": "E1AoIMktwiKm"
      }
    },
    {
      "cell_type": "code",
      "source": [
        "model2 = keras.Sequential([\n",
        "    keras.layers.Flatten(input_shape=(28, 28)),\n",
        "    keras.layers.Dense(10, activation='relu')\n",
        "])\n",
        "model2.compile(optimizer='rmsprop',\n",
        "              loss='categorical_crossentropy',\n",
        "              metrics=['accuracy'])"
      ],
      "metadata": {
        "id": "-knBdhDJwhWm"
      },
      "execution_count": null,
      "outputs": []
    },
    {
      "cell_type": "markdown",
      "source": [
        "Para el segundo modelo se vuelve a hacer uso de todolo anterior, lo único que varía es el optimizador.\n",
        "\n",
        "El optimizador rmsprop, este normaliza el gradiente de la raíz cuadrada del valor medio de los cuadrados. De esta forma se consideran los gradientes más recieintes.\n",
        "\n"
      ],
      "metadata": {
        "id": "1QiJQt3VxcDC"
      }
    },
    {
      "cell_type": "code",
      "source": [
        "model2.fit(train_images, train_labels, epochs=5, batch_size=128)"
      ],
      "metadata": {
        "colab": {
          "base_uri": "https://localhost:8080/"
        },
        "id": "vaJTct2Mxabh",
        "outputId": "da87798f-9f73-4a6e-a11e-b3165dcdc0f5"
      },
      "execution_count": null,
      "outputs": [
        {
          "output_type": "stream",
          "name": "stdout",
          "text": [
            "Epoch 1/5\n",
            "469/469 [==============================] - 2s 3ms/step - loss: nan - accuracy: 0.1198\n",
            "Epoch 2/5\n",
            "469/469 [==============================] - 1s 3ms/step - loss: nan - accuracy: 0.1000\n",
            "Epoch 3/5\n",
            "469/469 [==============================] - 2s 4ms/step - loss: nan - accuracy: 0.1000\n",
            "Epoch 4/5\n",
            "469/469 [==============================] - 3s 5ms/step - loss: nan - accuracy: 0.1000\n",
            "Epoch 5/5\n",
            "469/469 [==============================] - 2s 4ms/step - loss: nan - accuracy: 0.1000\n"
          ]
        },
        {
          "output_type": "execute_result",
          "data": {
            "text/plain": [
              "<keras.callbacks.History at 0x7f083056aa90>"
            ]
          },
          "metadata": {},
          "execution_count": 15
        }
      ]
    },
    {
      "cell_type": "markdown",
      "source": [
        "En este caso ocurre lo mismo que el anterior, por lo que no parece que el cambio de los optimizadores tenga ningún efecto. La pérdida en abbos casos ens Nan."
      ],
      "metadata": {
        "id": "od1raucAxZ6U"
      }
    },
    {
      "cell_type": "markdown",
      "source": [
        "**Caso 3**"
      ],
      "metadata": {
        "id": "HJojUoKWwjNn"
      }
    },
    {
      "cell_type": "code",
      "source": [
        "model3 = keras.Sequential([\n",
        "    keras.layers.Flatten(input_shape=(28, 28)),\n",
        "    keras.layers.Dense(10, activation='sigmoid')\n",
        "])\n",
        "model3.compile(optimizer='sgd',\n",
        "              loss='categorical_crossentropy',\n",
        "              metrics=['accuracy'])"
      ],
      "metadata": {
        "id": "An58PyDux1Ka"
      },
      "execution_count": null,
      "outputs": []
    },
    {
      "cell_type": "markdown",
      "source": [
        "En este caso, el número de capas es 10 (por tanto la profundidad del modelo sigue invariante), con una función de activación `sigmoidea`, \n",
        "\n"
      ],
      "metadata": {
        "id": "JAgzdB2Qx1Kb"
      }
    },
    {
      "cell_type": "code",
      "source": [
        "model3.fit(train_images, train_labels, epochs=5, batch_size=128)"
      ],
      "metadata": {
        "colab": {
          "base_uri": "https://localhost:8080/"
        },
        "outputId": "20450232-43c0-476c-e5cd-9d246580b9a1",
        "id": "5T2fsZDJx1Kb"
      },
      "execution_count": null,
      "outputs": [
        {
          "output_type": "stream",
          "name": "stdout",
          "text": [
            "Epoch 1/5\n",
            "469/469 [==============================] - 2s 3ms/step - loss: 1.1752 - accuracy: 0.6351\n",
            "Epoch 2/5\n",
            "469/469 [==============================] - 2s 4ms/step - loss: 0.7916 - accuracy: 0.7422\n",
            "Epoch 3/5\n",
            "469/469 [==============================] - 2s 4ms/step - loss: 0.7030 - accuracy: 0.7734\n",
            "Epoch 4/5\n",
            "469/469 [==============================] - 2s 5ms/step - loss: 0.6545 - accuracy: 0.7891\n",
            "Epoch 5/5\n",
            "469/469 [==============================] - 1s 3ms/step - loss: 0.6223 - accuracy: 0.7995\n"
          ]
        },
        {
          "output_type": "execute_result",
          "data": {
            "text/plain": [
              "<keras.callbacks.History at 0x7f0830462d90>"
            ]
          },
          "metadata": {},
          "execution_count": 17
        }
      ]
    },
    {
      "cell_type": "markdown",
      "source": [
        "A diferencia de los anteriores modelos, esta función de activación es considerablemente mejor, pues llega a tener una precisión del casi 80%. Por ahora este modelo es el más adecuado, lo cual significa que una función de activación sigmoidea es preferible para entrenar la RNA."
      ],
      "metadata": {
        "id": "42ai3_yxx1Kb"
      }
    },
    {
      "cell_type": "markdown",
      "source": [
        "**Caso 4**"
      ],
      "metadata": {
        "id": "hjKTbb35wtp4"
      }
    },
    {
      "cell_type": "code",
      "source": [
        "model4 = keras.Sequential([\n",
        "    keras.layers.Flatten(input_shape=(28, 28)),\n",
        "    keras.layers.Dense(10, activation='sigmoid')\n",
        "])\n",
        "model4.compile(optimizer='rmsprop',\n",
        "              loss='categorical_crossentropy',\n",
        "              metrics=['accuracy'])"
      ],
      "metadata": {
        "id": "xEYr4b1nx2ot"
      },
      "execution_count": null,
      "outputs": []
    },
    {
      "cell_type": "markdown",
      "source": [
        "Para el segundo modelo se vuelve a hacer uso de todolo anterior, lo único que varía es el optimizador, que vuelve a ser rmsprop."
      ],
      "metadata": {
        "id": "62raT2bmx2ou"
      }
    },
    {
      "cell_type": "code",
      "source": [
        "model4.fit(train_images, train_labels, epochs=5, batch_size=128)"
      ],
      "metadata": {
        "colab": {
          "base_uri": "https://localhost:8080/"
        },
        "outputId": "f363db00-80ec-47db-95ea-9c97cea408b7",
        "id": "PpXn5Pnbx2ou"
      },
      "execution_count": null,
      "outputs": [
        {
          "output_type": "stream",
          "name": "stdout",
          "text": [
            "Epoch 1/5\n",
            "469/469 [==============================] - 2s 3ms/step - loss: 0.6921 - accuracy: 0.7705\n",
            "Epoch 2/5\n",
            "469/469 [==============================] - 1s 3ms/step - loss: 0.4956 - accuracy: 0.8337\n",
            "Epoch 3/5\n",
            "469/469 [==============================] - 1s 3ms/step - loss: 0.4620 - accuracy: 0.8440\n",
            "Epoch 4/5\n",
            "469/469 [==============================] - 1s 3ms/step - loss: 0.4443 - accuracy: 0.8491\n",
            "Epoch 5/5\n",
            "469/469 [==============================] - 2s 3ms/step - loss: 0.4332 - accuracy: 0.8522\n"
          ]
        },
        {
          "output_type": "execute_result",
          "data": {
            "text/plain": [
              "<keras.callbacks.History at 0x7f083040be50>"
            ]
          },
          "metadata": {},
          "execution_count": 19
        }
      ]
    },
    {
      "cell_type": "markdown",
      "source": [
        "Esta salida da un 85% de precisión, por lo que con un optimizador rmsprop, para una función de activación sigmoidea obtenemos una RNA mejor entrenada, pues la precisión es mayor y la pérdida es menor. Lo cual nos indica que esta combinación sobrepone a la anterior."
      ],
      "metadata": {
        "id": "ZDTIDUCZx2ou"
      }
    },
    {
      "cell_type": "markdown",
      "source": [
        "**Caso 5**"
      ],
      "metadata": {
        "id": "9I9jXSxawtp5"
      }
    },
    {
      "cell_type": "code",
      "source": [
        "(train_images, train_labels), (test_images, test_labels) = fashion_mnist.load_data()\n",
        "model5 = keras.Sequential([\n",
        "    keras.layers.Flatten(input_shape=(28, 28)),\n",
        "    keras.layers.Dense(512, activation='relu')\n",
        "])\n",
        "model5.compile(optimizer='sgd',\n",
        "              loss='sparse_categorical_crossentropy',\n",
        "              metrics=['accuracy'])"
      ],
      "metadata": {
        "id": "29EotngWyYCL"
      },
      "execution_count": null,
      "outputs": []
    },
    {
      "cell_type": "markdown",
      "source": [
        "A continuación variamos de 10 capas a 512 capas. Al igual que las anteriores, el  set de datos ha pasado por una capa Flatten(). Los siguientes 4 casos son idénticos a los anteriores. Unicamente varía el número de capas.\n"
      ],
      "metadata": {
        "id": "rEMuN2yryYCM"
      }
    },
    {
      "cell_type": "code",
      "source": [
        "model5.fit(train_images, train_labels, epochs=5, batch_size=128)"
      ],
      "metadata": {
        "colab": {
          "base_uri": "https://localhost:8080/"
        },
        "outputId": "41aac033-b8f7-465f-ddb9-d65e080e35aa",
        "id": "-Y09o_rayYCN"
      },
      "execution_count": null,
      "outputs": [
        {
          "output_type": "stream",
          "name": "stdout",
          "text": [
            "Epoch 1/5\n",
            "469/469 [==============================] - 7s 13ms/step - loss: 5.7648 - accuracy: 0.1916\n",
            "Epoch 2/5\n",
            "469/469 [==============================] - 5s 12ms/step - loss: 4.5746 - accuracy: 0.2585\n",
            "Epoch 3/5\n",
            "469/469 [==============================] - 6s 13ms/step - loss: 3.8332 - accuracy: 0.1836\n",
            "Epoch 4/5\n",
            "469/469 [==============================] - 6s 13ms/step - loss: 3.8606 - accuracy: 0.1824\n",
            "Epoch 5/5\n",
            "469/469 [==============================] - 6s 12ms/step - loss: 3.7991 - accuracy: 0.1792\n"
          ]
        },
        {
          "output_type": "execute_result",
          "data": {
            "text/plain": [
              "<keras.callbacks.History at 0x7f082a27b690>"
            ]
          },
          "metadata": {},
          "execution_count": 21
        }
      ]
    },
    {
      "cell_type": "markdown",
      "source": [
        "Observamos que con la misma estructura que en el *Caso 1* pero con un mayor número de capas la precisión mejora ligeramente. "
      ],
      "metadata": {
        "id": "cR_qpm3fp3zm"
      }
    },
    {
      "cell_type": "markdown",
      "source": [
        "**Caso 6**"
      ],
      "metadata": {
        "id": "uGV0OkALwt8O"
      }
    },
    {
      "cell_type": "code",
      "source": [
        "model6 = keras.Sequential([\n",
        "    keras.layers.Flatten(input_shape=(28, 28)),\n",
        "    keras.layers.Dense(512, activation='relu')\n",
        "])\n",
        "model6.compile(optimizer='rmsprop',\n",
        "              loss='sparse_categorical_crossentropy',\n",
        "              metrics=['accuracy'])"
      ],
      "metadata": {
        "id": "GoEf5tOyyZ_r"
      },
      "execution_count": null,
      "outputs": []
    },
    {
      "cell_type": "code",
      "source": [
        "model6.fit(train_images, train_labels, epochs=5, batch_size=128)"
      ],
      "metadata": {
        "colab": {
          "base_uri": "https://localhost:8080/"
        },
        "outputId": "6a3f52f0-11b9-47e0-f141-5ad213553817",
        "id": "CeTGBaXyyZ_r"
      },
      "execution_count": null,
      "outputs": [
        {
          "output_type": "stream",
          "name": "stdout",
          "text": [
            "Epoch 1/5\n",
            "469/469 [==============================] - 8s 16ms/step - loss: 7.5468 - accuracy: 0.1146\n",
            "Epoch 2/5\n",
            "469/469 [==============================] - 7s 14ms/step - loss: 6.4689 - accuracy: 0.1112\n",
            "Epoch 3/5\n",
            "469/469 [==============================] - 7s 16ms/step - loss: 6.4542 - accuracy: 0.1099\n",
            "Epoch 4/5\n",
            "469/469 [==============================] - 6s 13ms/step - loss: 6.4235 - accuracy: 0.1114\n",
            "Epoch 5/5\n",
            "469/469 [==============================] - 6s 12ms/step - loss: 6.3487 - accuracy: 0.1193\n"
          ]
        },
        {
          "output_type": "execute_result",
          "data": {
            "text/plain": [
              "<keras.callbacks.History at 0x7f082a1efb90>"
            ]
          },
          "metadata": {},
          "execution_count": 23
        }
      ]
    },
    {
      "cell_type": "markdown",
      "source": [
        "En este caso, con 512 capas vemos también una mejora de la precisión en comparación al *Caso 2*, sin embargo, los valores de las pérdidas son altos. "
      ],
      "metadata": {
        "id": "T8ZO1AB_qabK"
      }
    },
    {
      "cell_type": "markdown",
      "source": [
        "**Caso 7**"
      ],
      "metadata": {
        "id": "HXKceQLAwt8P"
      }
    },
    {
      "cell_type": "code",
      "source": [
        "model7 = keras.Sequential([\n",
        "    keras.layers.Flatten(input_shape=(28, 28)),\n",
        "    keras.layers.Dense(512, activation='sigmoid')\n",
        "])\n",
        "model7.compile(optimizer='sgd',\n",
        "              loss='sparse_categorical_crossentropy',\n",
        "              metrics=['accuracy'])"
      ],
      "metadata": {
        "id": "xFYhQ0-Eydw8"
      },
      "execution_count": null,
      "outputs": []
    },
    {
      "cell_type": "code",
      "source": [
        "model7.fit(train_images, train_labels, epochs=5, batch_size=128)"
      ],
      "metadata": {
        "colab": {
          "base_uri": "https://localhost:8080/"
        },
        "outputId": "f7de92c0-f095-48e5-e20d-ace7fd7e82f0",
        "id": "GWqlsHwMydw9"
      },
      "execution_count": null,
      "outputs": [
        {
          "output_type": "stream",
          "name": "stdout",
          "text": [
            "Epoch 1/5\n",
            "469/469 [==============================] - 4s 9ms/step - loss: 2000.4717 - accuracy: 0.7069\n",
            "Epoch 2/5\n",
            "469/469 [==============================] - 4s 9ms/step - loss: 1245.8314 - accuracy: 0.7650\n",
            "Epoch 3/5\n",
            "469/469 [==============================] - 4s 9ms/step - loss: 1199.5796 - accuracy: 0.7732\n",
            "Epoch 4/5\n",
            "469/469 [==============================] - 4s 9ms/step - loss: 1110.6183 - accuracy: 0.7804\n",
            "Epoch 5/5\n",
            "469/469 [==============================] - 4s 9ms/step - loss: 1050.7321 - accuracy: 0.7848\n"
          ]
        },
        {
          "output_type": "execute_result",
          "data": {
            "text/plain": [
              "<keras.callbacks.History at 0x7f082998ba50>"
            ]
          },
          "metadata": {},
          "execution_count": 25
        }
      ]
    },
    {
      "cell_type": "markdown",
      "source": [
        "En este caso la identidad del *Caso 3* con 512 capas empeora, pues la precisión es vagamente menor y la función de pérdida se dispara. Al contrario de lo que s epodía pensar, un aumento del número de capas no significa que sea óptimo."
      ],
      "metadata": {
        "id": "B6DNu6LXq116"
      }
    },
    {
      "cell_type": "markdown",
      "source": [
        "**Caso 8**"
      ],
      "metadata": {
        "id": "URgSJnHkw2Ip"
      }
    },
    {
      "cell_type": "code",
      "source": [
        "model8 = keras.Sequential([\n",
        "    keras.layers.Flatten(input_shape=(28, 28)),\n",
        "    keras.layers.Dense(512, activation='sigmoid')\n",
        "])\n",
        "model8.compile(optimizer='rmsprop',\n",
        "              loss='sparse_categorical_crossentropy',\n",
        "              metrics=['accuracy'])"
      ],
      "metadata": {
        "id": "dLLTGA0ryc8J"
      },
      "execution_count": null,
      "outputs": []
    },
    {
      "cell_type": "code",
      "source": [
        "model8.fit(train_images, train_labels, epochs=5, batch_size=128)"
      ],
      "metadata": {
        "colab": {
          "base_uri": "https://localhost:8080/"
        },
        "outputId": "a5e9bc74-157a-41b9-91a8-72458cafa6af",
        "id": "yB6pcMG4yc8K"
      },
      "execution_count": null,
      "outputs": [
        {
          "output_type": "stream",
          "name": "stdout",
          "text": [
            "Epoch 1/5\n",
            "469/469 [==============================] - 6s 11ms/step - loss: 19.6566 - accuracy: 0.7042\n",
            "Epoch 2/5\n",
            "469/469 [==============================] - 5s 11ms/step - loss: 14.2635 - accuracy: 0.7657\n",
            "Epoch 3/5\n",
            "469/469 [==============================] - 5s 11ms/step - loss: 13.2026 - accuracy: 0.7797\n",
            "Epoch 4/5\n",
            "469/469 [==============================] - 6s 12ms/step - loss: 12.8997 - accuracy: 0.7822\n",
            "Epoch 5/5\n",
            "469/469 [==============================] - 5s 11ms/step - loss: 12.4078 - accuracy: 0.7886\n"
          ]
        },
        {
          "output_type": "execute_result",
          "data": {
            "text/plain": [
              "<keras.callbacks.History at 0x7f08298139d0>"
            ]
          },
          "metadata": {},
          "execution_count": 27
        }
      ]
    },
    {
      "cell_type": "markdown",
      "source": [
        "En este caso, al igual que el anterior, tanto las pérdidas como la precisión empeoran."
      ],
      "metadata": {
        "id": "wvA2s3ohrYqC"
      }
    },
    {
      "cell_type": "markdown",
      "source": [
        "Una vez estudiados los 8 casos, vemos que lo más óptimo es  hacer uso de la función de activación sigmoidea con 10 capas, una función de pérdida categorical_crossentropy y el optimizador:rmsprop."
      ],
      "metadata": {
        "id": "sZEb7u-jrxfy"
      }
    },
    {
      "cell_type": "markdown",
      "source": [
        "## Salidas"
      ],
      "metadata": {
        "id": "DveszbD_zNFQ"
      }
    },
    {
      "cell_type": "markdown",
      "source": [
        "***2. Explicar la salida de la llamada model.summary() de cada uno de los 8 casos.***"
      ],
      "metadata": {
        "id": "DspFv9LXcWwp"
      }
    },
    {
      "cell_type": "code",
      "source": [
        "model1.summary() "
      ],
      "metadata": {
        "colab": {
          "base_uri": "https://localhost:8080/"
        },
        "id": "IjCKbOqszj9O",
        "outputId": "ca298ac7-f246-494a-95b1-c60a82ff9d1e"
      },
      "execution_count": null,
      "outputs": [
        {
          "output_type": "stream",
          "name": "stdout",
          "text": [
            "Model: \"sequential\"\n",
            "_________________________________________________________________\n",
            " Layer (type)                Output Shape              Param #   \n",
            "=================================================================\n",
            " flatten (Flatten)           (None, 784)               0         \n",
            "                                                                 \n",
            " dense (Dense)               (None, 10)                7850      \n",
            "                                                                 \n",
            "=================================================================\n",
            "Total params: 7,850\n",
            "Trainable params: 7,850\n",
            "Non-trainable params: 0\n",
            "_________________________________________________________________\n"
          ]
        }
      ]
    },
    {
      "cell_type": "code",
      "source": [
        "model2.summary() "
      ],
      "metadata": {
        "colab": {
          "base_uri": "https://localhost:8080/"
        },
        "id": "2TT1AP-i0DzE",
        "outputId": "89bae265-bffa-4655-8ce9-bbf35f916058"
      },
      "execution_count": null,
      "outputs": [
        {
          "output_type": "stream",
          "name": "stdout",
          "text": [
            "Model: \"sequential_1\"\n",
            "_________________________________________________________________\n",
            " Layer (type)                Output Shape              Param #   \n",
            "=================================================================\n",
            " flatten_1 (Flatten)         (None, 784)               0         \n",
            "                                                                 \n",
            " dense_1 (Dense)             (None, 10)                7850      \n",
            "                                                                 \n",
            "=================================================================\n",
            "Total params: 7,850\n",
            "Trainable params: 7,850\n",
            "Non-trainable params: 0\n",
            "_________________________________________________________________\n"
          ]
        }
      ]
    },
    {
      "cell_type": "code",
      "source": [
        "model3.summary() "
      ],
      "metadata": {
        "colab": {
          "base_uri": "https://localhost:8080/"
        },
        "id": "YHDXkApZ0DwG",
        "outputId": "bf42f5dd-7557-4a16-cbc3-611caaa08339"
      },
      "execution_count": null,
      "outputs": [
        {
          "output_type": "stream",
          "name": "stdout",
          "text": [
            "Model: \"sequential_2\"\n",
            "_________________________________________________________________\n",
            " Layer (type)                Output Shape              Param #   \n",
            "=================================================================\n",
            " flatten_2 (Flatten)         (None, 784)               0         \n",
            "                                                                 \n",
            " dense_2 (Dense)             (None, 10)                7850      \n",
            "                                                                 \n",
            "=================================================================\n",
            "Total params: 7,850\n",
            "Trainable params: 7,850\n",
            "Non-trainable params: 0\n",
            "_________________________________________________________________\n"
          ]
        }
      ]
    },
    {
      "cell_type": "code",
      "source": [
        "model4.summary() "
      ],
      "metadata": {
        "colab": {
          "base_uri": "https://localhost:8080/"
        },
        "id": "muv4F0E_0Ds0",
        "outputId": "6557265c-6838-4d86-9dd9-11f9ec41787d"
      },
      "execution_count": null,
      "outputs": [
        {
          "output_type": "stream",
          "name": "stdout",
          "text": [
            "Model: \"sequential_3\"\n",
            "_________________________________________________________________\n",
            " Layer (type)                Output Shape              Param #   \n",
            "=================================================================\n",
            " flatten_3 (Flatten)         (None, 784)               0         \n",
            "                                                                 \n",
            " dense_3 (Dense)             (None, 10)                7850      \n",
            "                                                                 \n",
            "=================================================================\n",
            "Total params: 7,850\n",
            "Trainable params: 7,850\n",
            "Non-trainable params: 0\n",
            "_________________________________________________________________\n"
          ]
        }
      ]
    },
    {
      "cell_type": "code",
      "source": [
        "model5.summary() "
      ],
      "metadata": {
        "colab": {
          "base_uri": "https://localhost:8080/"
        },
        "id": "jnP7qmla0Dpu",
        "outputId": "5da65af1-e484-4f92-d13a-cc2ddc0bf624"
      },
      "execution_count": null,
      "outputs": [
        {
          "output_type": "stream",
          "name": "stdout",
          "text": [
            "Model: \"sequential_4\"\n",
            "_________________________________________________________________\n",
            " Layer (type)                Output Shape              Param #   \n",
            "=================================================================\n",
            " flatten_4 (Flatten)         (None, 784)               0         \n",
            "                                                                 \n",
            " dense_4 (Dense)             (None, 512)               401920    \n",
            "                                                                 \n",
            "=================================================================\n",
            "Total params: 401,920\n",
            "Trainable params: 401,920\n",
            "Non-trainable params: 0\n",
            "_________________________________________________________________\n"
          ]
        }
      ]
    },
    {
      "cell_type": "code",
      "source": [
        "model6.summary() "
      ],
      "metadata": {
        "colab": {
          "base_uri": "https://localhost:8080/"
        },
        "id": "nYrwL7MV0DnF",
        "outputId": "6cb47751-fa45-4c16-9ed8-30284ed3677f"
      },
      "execution_count": null,
      "outputs": [
        {
          "output_type": "stream",
          "name": "stdout",
          "text": [
            "Model: \"sequential_5\"\n",
            "_________________________________________________________________\n",
            " Layer (type)                Output Shape              Param #   \n",
            "=================================================================\n",
            " flatten_5 (Flatten)         (None, 784)               0         \n",
            "                                                                 \n",
            " dense_5 (Dense)             (None, 512)               401920    \n",
            "                                                                 \n",
            "=================================================================\n",
            "Total params: 401,920\n",
            "Trainable params: 401,920\n",
            "Non-trainable params: 0\n",
            "_________________________________________________________________\n"
          ]
        }
      ]
    },
    {
      "cell_type": "code",
      "source": [
        "model7.summary() "
      ],
      "metadata": {
        "colab": {
          "base_uri": "https://localhost:8080/"
        },
        "id": "utcKauc00Dko",
        "outputId": "83d85664-74ba-4fb3-ba9a-f834a7f1f21c"
      },
      "execution_count": null,
      "outputs": [
        {
          "output_type": "stream",
          "name": "stdout",
          "text": [
            "Model: \"sequential_6\"\n",
            "_________________________________________________________________\n",
            " Layer (type)                Output Shape              Param #   \n",
            "=================================================================\n",
            " flatten_6 (Flatten)         (None, 784)               0         \n",
            "                                                                 \n",
            " dense_6 (Dense)             (None, 512)               401920    \n",
            "                                                                 \n",
            "=================================================================\n",
            "Total params: 401,920\n",
            "Trainable params: 401,920\n",
            "Non-trainable params: 0\n",
            "_________________________________________________________________\n"
          ]
        }
      ]
    },
    {
      "cell_type": "code",
      "source": [
        "model8.summary() "
      ],
      "metadata": {
        "colab": {
          "base_uri": "https://localhost:8080/"
        },
        "id": "YDTP_ifj0Dh1",
        "outputId": "4268861c-9459-4c6e-ccb5-f220c16fc27b"
      },
      "execution_count": null,
      "outputs": [
        {
          "output_type": "stream",
          "name": "stdout",
          "text": [
            "Model: \"sequential_7\"\n",
            "_________________________________________________________________\n",
            " Layer (type)                Output Shape              Param #   \n",
            "=================================================================\n",
            " flatten_7 (Flatten)         (None, 784)               0         \n",
            "                                                                 \n",
            " dense_7 (Dense)             (None, 512)               401920    \n",
            "                                                                 \n",
            "=================================================================\n",
            "Total params: 401,920\n",
            "Trainable params: 401,920\n",
            "Non-trainable params: 0\n",
            "_________________________________________________________________\n"
          ]
        }
      ]
    },
    {
      "cell_type": "markdown",
      "source": [
        "##Análisis (5 épocas vs 25 épocas)"
      ],
      "metadata": {
        "id": "HJkZNDF00gnU"
      }
    },
    {
      "cell_type": "markdown",
      "source": [
        "***3. Analizar e interpretar los resultados del caso 2 y el 7 frente a sus originales si se multiplica por 5 las épocas de entrenamiento (25).***"
      ],
      "metadata": {
        "id": "WPKU27telzeM"
      }
    },
    {
      "cell_type": "markdown",
      "source": [
        "**Caso 2**"
      ],
      "metadata": {
        "id": "v1M0fH8XclsU"
      }
    },
    {
      "cell_type": "code",
      "source": [
        "train_labels = to_categorical(train_labels)\n",
        "test_labels = to_categorical(test_labels)\n",
        "model2_2 = keras.Sequential([\n",
        "    keras.layers.Flatten(input_shape=(28, 28)),\n",
        "    keras.layers.Dense(10, activation='relu')\n",
        "])\n",
        "model2.compile(optimizer='rmsprop',\n",
        "              loss='categorical_crossentropy',\n",
        "              metrics=['accuracy'])\n",
        "model2.fit(train_images, train_labels, epochs=25, batch_size=128)"
      ],
      "metadata": {
        "colab": {
          "base_uri": "https://localhost:8080/"
        },
        "id": "8dhY7Mus2_AO",
        "outputId": "9b1d42c9-38e8-4901-ead7-bcd8576d126d"
      },
      "execution_count": null,
      "outputs": [
        {
          "output_type": "stream",
          "name": "stdout",
          "text": [
            "Epoch 1/25\n",
            "469/469 [==============================] - 2s 3ms/step - loss: nan - accuracy: 0.1000\n",
            "Epoch 2/25\n",
            "469/469 [==============================] - 1s 3ms/step - loss: nan - accuracy: 0.1000\n",
            "Epoch 3/25\n",
            "469/469 [==============================] - 1s 3ms/step - loss: nan - accuracy: 0.1000\n",
            "Epoch 4/25\n",
            "469/469 [==============================] - 1s 3ms/step - loss: nan - accuracy: 0.1000\n",
            "Epoch 5/25\n",
            "469/469 [==============================] - 2s 4ms/step - loss: nan - accuracy: 0.1000\n",
            "Epoch 6/25\n",
            "469/469 [==============================] - 1s 3ms/step - loss: nan - accuracy: 0.1000\n",
            "Epoch 7/25\n",
            "469/469 [==============================] - 1s 3ms/step - loss: nan - accuracy: 0.1000\n",
            "Epoch 8/25\n",
            "469/469 [==============================] - 1s 3ms/step - loss: nan - accuracy: 0.1000\n",
            "Epoch 9/25\n",
            "469/469 [==============================] - 1s 3ms/step - loss: nan - accuracy: 0.1000\n",
            "Epoch 10/25\n",
            "469/469 [==============================] - 1s 3ms/step - loss: nan - accuracy: 0.1000\n",
            "Epoch 11/25\n",
            "469/469 [==============================] - 1s 3ms/step - loss: nan - accuracy: 0.1000\n",
            "Epoch 12/25\n",
            "469/469 [==============================] - 1s 3ms/step - loss: nan - accuracy: 0.1000\n",
            "Epoch 13/25\n",
            "469/469 [==============================] - 1s 3ms/step - loss: nan - accuracy: 0.1000\n",
            "Epoch 14/25\n",
            "469/469 [==============================] - 1s 3ms/step - loss: nan - accuracy: 0.1000\n",
            "Epoch 15/25\n",
            "469/469 [==============================] - 2s 4ms/step - loss: nan - accuracy: 0.1000\n",
            "Epoch 16/25\n",
            "469/469 [==============================] - 2s 4ms/step - loss: nan - accuracy: 0.1000\n",
            "Epoch 17/25\n",
            "469/469 [==============================] - 2s 4ms/step - loss: nan - accuracy: 0.1000\n",
            "Epoch 18/25\n",
            "469/469 [==============================] - 2s 4ms/step - loss: nan - accuracy: 0.1000\n",
            "Epoch 19/25\n",
            "469/469 [==============================] - 2s 4ms/step - loss: nan - accuracy: 0.1000\n",
            "Epoch 20/25\n",
            "469/469 [==============================] - 2s 3ms/step - loss: nan - accuracy: 0.1000\n",
            "Epoch 21/25\n",
            "469/469 [==============================] - 2s 4ms/step - loss: nan - accuracy: 0.1000\n",
            "Epoch 22/25\n",
            "469/469 [==============================] - 2s 5ms/step - loss: nan - accuracy: 0.1000\n",
            "Epoch 23/25\n",
            "469/469 [==============================] - 2s 3ms/step - loss: nan - accuracy: 0.1000\n",
            "Epoch 24/25\n",
            "469/469 [==============================] - 2s 5ms/step - loss: nan - accuracy: 0.1000\n",
            "Epoch 25/25\n",
            "469/469 [==============================] - 1s 3ms/step - loss: nan - accuracy: 0.1000\n"
          ]
        },
        {
          "output_type": "execute_result",
          "data": {
            "text/plain": [
              "<keras.callbacks.History at 0x7f0829822850>"
            ]
          },
          "metadata": {},
          "execution_count": 36
        }
      ]
    },
    {
      "cell_type": "markdown",
      "source": [
        "El *caso 2*  sigue siendo mal entrenado a pesar del aumento de las épocas, la precisión es constante y muy baja.\n",
        "\n",
        "Por otro lasdo, la función de pérdida da Nan continuamente, que como ha sido expuesto antes, significa un entrenamineto pobre.\n",
        "\n",
        "Esto indica que con esta configuración de modelo de red y con un mayor número de épocas obtenemos una RNA **peor** entrenada.\n"
      ],
      "metadata": {
        "id": "p-jfctWo3JWc"
      }
    },
    {
      "cell_type": "markdown",
      "source": [
        "**Caso 7**"
      ],
      "metadata": {
        "id": "zlnIao6-3PRi"
      }
    },
    {
      "cell_type": "code",
      "source": [
        "(train_images, train_labels), (test_images, test_labels) = fashion_mnist.load_data()\n",
        "model7_7 = keras.Sequential([\n",
        "    keras.layers.Flatten(input_shape=(28, 28)),\n",
        "    keras.layers.Dense(512, activation='sigmoid')\n",
        "])\n",
        "model7.compile(optimizer='sgd',\n",
        "              loss='sparse_categorical_crossentropy',\n",
        "              metrics=['accuracy'])\n",
        "model7.fit(train_images, train_labels, epochs=25, batch_size=128)"
      ],
      "metadata": {
        "id": "MIiZDlh43PRi",
        "colab": {
          "base_uri": "https://localhost:8080/"
        },
        "outputId": "021b7997-a605-486a-e7a7-b0baeb4106a6"
      },
      "execution_count": null,
      "outputs": [
        {
          "output_type": "stream",
          "name": "stdout",
          "text": [
            "Epoch 1/25\n",
            "469/469 [==============================] - 6s 12ms/step - loss: 1029.0684 - accuracy: 0.7892\n",
            "Epoch 2/25\n",
            "469/469 [==============================] - 4s 9ms/step - loss: 1054.9014 - accuracy: 0.7903\n",
            "Epoch 3/25\n",
            "469/469 [==============================] - 4s 9ms/step - loss: 1046.9583 - accuracy: 0.7915\n",
            "Epoch 4/25\n",
            "469/469 [==============================] - 4s 9ms/step - loss: 1020.4102 - accuracy: 0.7917\n",
            "Epoch 5/25\n",
            "469/469 [==============================] - 5s 10ms/step - loss: 1065.0830 - accuracy: 0.7913\n",
            "Epoch 6/25\n",
            "469/469 [==============================] - 4s 9ms/step - loss: 1031.7791 - accuracy: 0.7933\n",
            "Epoch 7/25\n",
            "469/469 [==============================] - 4s 9ms/step - loss: 992.4521 - accuracy: 0.7961\n",
            "Epoch 8/25\n",
            "469/469 [==============================] - 6s 12ms/step - loss: 1020.7779 - accuracy: 0.7958\n",
            "Epoch 9/25\n",
            "469/469 [==============================] - 6s 12ms/step - loss: 991.5716 - accuracy: 0.7982\n",
            "Epoch 10/25\n",
            "469/469 [==============================] - 7s 15ms/step - loss: 969.4973 - accuracy: 0.7976\n",
            "Epoch 11/25\n",
            "469/469 [==============================] - 5s 10ms/step - loss: 965.1924 - accuracy: 0.7985\n",
            "Epoch 12/25\n",
            "469/469 [==============================] - 4s 9ms/step - loss: 1010.8333 - accuracy: 0.7965\n",
            "Epoch 13/25\n",
            "469/469 [==============================] - 4s 9ms/step - loss: 997.3606 - accuracy: 0.7988\n",
            "Epoch 14/25\n",
            "469/469 [==============================] - 5s 10ms/step - loss: 933.5486 - accuracy: 0.8011\n",
            "Epoch 15/25\n",
            "469/469 [==============================] - 4s 10ms/step - loss: 1010.9329 - accuracy: 0.7946\n",
            "Epoch 16/25\n",
            "469/469 [==============================] - 4s 9ms/step - loss: 963.4650 - accuracy: 0.8015\n",
            "Epoch 17/25\n",
            "469/469 [==============================] - 4s 9ms/step - loss: 1009.1190 - accuracy: 0.8004\n",
            "Epoch 18/25\n",
            "469/469 [==============================] - 4s 9ms/step - loss: 961.1413 - accuracy: 0.8011\n",
            "Epoch 19/25\n",
            "469/469 [==============================] - 4s 9ms/step - loss: 974.7794 - accuracy: 0.8031\n",
            "Epoch 20/25\n",
            "469/469 [==============================] - 5s 10ms/step - loss: 973.6771 - accuracy: 0.8019\n",
            "Epoch 21/25\n",
            "469/469 [==============================] - 4s 9ms/step - loss: 931.3525 - accuracy: 0.8022\n",
            "Epoch 22/25\n",
            "469/469 [==============================] - 5s 10ms/step - loss: 945.2338 - accuracy: 0.8052\n",
            "Epoch 23/25\n",
            "469/469 [==============================] - 4s 9ms/step - loss: 906.0702 - accuracy: 0.8036\n",
            "Epoch 24/25\n",
            "469/469 [==============================] - 6s 13ms/step - loss: 973.2875 - accuracy: 0.7986\n",
            "Epoch 25/25\n",
            "469/469 [==============================] - 5s 12ms/step - loss: 902.5523 - accuracy: 0.8046\n"
          ]
        },
        {
          "output_type": "execute_result",
          "data": {
            "text/plain": [
              "<keras.callbacks.History at 0x7f082960c050>"
            ]
          },
          "metadata": {},
          "execution_count": 37
        }
      ]
    },
    {
      "cell_type": "markdown",
      "source": [
        "El *caso 7* sí que mejora levemente, pues la función de pércdida es menor a la vez que la precisión aumenta. \n",
        "\n",
        "Esto indica que con esta configuración de modelo de red y con un mayor número de épocas obtenemos una RNA **mejor** entrenada."
      ],
      "metadata": {
        "id": "-VvFwyox32Pu"
      }
    },
    {
      "cell_type": "markdown",
      "source": [
        "## Comparación de rendimiento"
      ],
      "metadata": {
        "id": "JZ4zHoKQ3PRi"
      }
    },
    {
      "cell_type": "markdown",
      "source": [
        "***4. Evaluar cada uno de los 8 modelos comparando el rendimiento del modelo en el conjunto de datos de prueba.***"
      ],
      "metadata": {
        "id": "cU33EEXLlzlS"
      }
    },
    {
      "cell_type": "code",
      "metadata": {
        "id": "0uwQjCR6rbk5",
        "colab": {
          "base_uri": "https://localhost:8080/"
        },
        "outputId": "1d193052-85e9-4952-9914-d34f931a6044"
      },
      "source": [
        "# 8.- VERIFICAMOS NUESTRO MODELO YA ENTRENADO, CONTRA EL CONJUNTO DE PRUEBAS\n",
        "test_labels = to_categorical(test_labels)\n",
        "test_loss1, test_acc1 = model1.evaluate(test_images, test_labels)\n",
        "test_loss2, test_acc2 = model2.evaluate(test_images, test_labels)\n",
        "test_loss3, test_acc3 = model3.evaluate(test_images, test_labels)\n",
        "test_loss4, test_acc4 = model4.evaluate(test_images, test_labels)\n",
        "(train_images, train_labels), (test_images, test_labels) = fashion_mnist.load_data()\n",
        "test_loss5, test_acc5 = model5.evaluate(test_images, test_labels)\n",
        "test_loss6, test_acc6 = model6.evaluate(test_images, test_labels)\n",
        "test_loss7, test_acc7 = model7.evaluate(test_images, test_labels)\n",
        "test_loss8, test_acc8 = model8.evaluate(test_images, test_labels)\n",
        "\n",
        "#print('test_loss8:', test_loss ,'test_acc8:', test_acc)  con esto se muestran mas decimales a rabazo"
      ],
      "execution_count": null,
      "outputs": [
        {
          "output_type": "stream",
          "name": "stdout",
          "text": [
            "313/313 [==============================] - 1s 2ms/step - loss: nan - accuracy: 0.1000\n",
            "313/313 [==============================] - 1s 2ms/step - loss: nan - accuracy: 0.1000\n",
            "313/313 [==============================] - 1s 4ms/step - loss: 66.0060 - accuracy: 0.7725\n",
            "313/313 [==============================] - 1s 2ms/step - loss: 76.3594 - accuracy: 0.8141\n",
            "313/313 [==============================] - 2s 6ms/step - loss: 3.7992 - accuracy: 0.1782\n",
            "313/313 [==============================] - 1s 4ms/step - loss: 6.3459 - accuracy: 0.1164\n",
            "313/313 [==============================] - 1s 4ms/step - loss: 1859.7122 - accuracy: 0.7162\n",
            "313/313 [==============================] - 1s 4ms/step - loss: 22.6539 - accuracy: 0.7288\n"
          ]
        }
      ]
    },
    {
      "cell_type": "markdown",
      "source": [
        "Vemos que los dos primeros modelos son muy poco precisos, al igual que el 5 y el 6. El modelo más óptimo es el modelo 4 (loss: 76.3594 - accuracy: 0.8141), que coincide con lo concluido anteriormente."
      ],
      "metadata": {
        "id": "amuFm6B3uTT5"
      }
    },
    {
      "cell_type": "markdown",
      "source": [
        "## Predicciones"
      ],
      "metadata": {
        "id": "3Y5_rnXT5_bT"
      }
    },
    {
      "cell_type": "markdown",
      "source": [
        "***5. Usar cada uno de los 8 modelos para hacer predicciones sobre la 6ª imagen de test (test_images[5]).***\n",
        "\n",
        "La función de pérdida es `categorical_crossentropy`,  cuya función es producir una matriz one-hot, por ello es que las variable son categóricas. Los valores de la matriz contienen la coincidencia probable para cada categoría."
      ],
      "metadata": {
        "id": "6hLOzUeMlzsY"
      }
    },
    {
      "cell_type": "markdown",
      "source": [
        "\\Para comenzar, visualicemos de qué imagen trata la imagen 6. Vemos que es un pantalón, que corresponde a la categoría 1."
      ],
      "metadata": {
        "id": "b2oLEPSEc0Zy"
      }
    },
    {
      "cell_type": "code",
      "source": [
        "plt.figure()\n",
        "plt.imshow(test_images[5])\n",
        "plt.colorbar()\n",
        "plt.grid(False)\n",
        "plt.show()"
      ],
      "metadata": {
        "id": "2l6FpH4w6_qg",
        "colab": {
          "base_uri": "https://localhost:8080/",
          "height": 265
        },
        "outputId": "4ec5458c-c4ce-42ca-ce77-9ce5faa03c60"
      },
      "execution_count": null,
      "outputs": [
        {
          "output_type": "display_data",
          "data": {
            "text/plain": [
              "<Figure size 432x288 with 2 Axes>"
            ],
            "image/png": "[encoded data removed]"
          },
          "metadata": {
            "needs_background": "light"
          }
        }
      ]
    },
    {
      "cell_type": "markdown",
      "source": [
        "Las predicciones serán arreglos de 10 para los primeros 4 modelos y de 512 para los restantes."
      ],
      "metadata": {
        "id": "PjP5UBBJxpki"
      }
    },
    {
      "cell_type": "markdown",
      "source": [
        "**Caso 1**"
      ],
      "metadata": {
        "id": "xuEP09Edxmkx"
      }
    },
    {
      "cell_type": "code",
      "source": [
        "prediction1 = model1.predict(test_images)"
      ],
      "metadata": {
        "id": "mLpGgwxr6RvT",
        "colab": {
          "base_uri": "https://localhost:8080/"
        },
        "outputId": "33a2bbcb-acd4-4432-be52-8e84d319cb74"
      },
      "execution_count": null,
      "outputs": [
        {
          "output_type": "stream",
          "name": "stdout",
          "text": [
            "313/313 [==============================] - 1s 2ms/step\n"
          ]
        }
      ]
    },
    {
      "cell_type": "code",
      "source": [
        "prediction1[5]"
      ],
      "metadata": {
        "id": "hyG98mnW6YPq",
        "colab": {
          "base_uri": "https://localhost:8080/"
        },
        "outputId": "e2d87df6-b6fa-4aae-c918-63d7ea5bb871"
      },
      "execution_count": null,
      "outputs": [
        {
          "output_type": "execute_result",
          "data": {
            "text/plain": [
              "array([nan, nan, nan, nan, nan, nan, nan, nan, nan, nan], dtype=float32)"
            ]
          },
          "metadata": {},
          "execution_count": 41
        }
      ]
    },
    {
      "cell_type": "code",
      "source": [
        "np.argmax(prediction1[5])"
      ],
      "metadata": {
        "id": "1NXwVsmW7y7x",
        "colab": {
          "base_uri": "https://localhost:8080/"
        },
        "outputId": "1a6a79a2-8a52-4a73-dafb-36a15907f6c4"
      },
      "execution_count": null,
      "outputs": [
        {
          "output_type": "execute_result",
          "data": {
            "text/plain": [
              "0"
            ]
          },
          "metadata": {},
          "execution_count": 42
        }
      ]
    },
    {
      "cell_type": "markdown",
      "source": [
        "El modelo ha predicho que es la categoría 0, una camiseta, lo cual es erróneo. Como se había concluido anteriormente que este modelo había sido mal entrenado, que la salida no sea correcta es lógico."
      ],
      "metadata": {
        "id": "RZfktCOrx4hT"
      }
    },
    {
      "cell_type": "markdown",
      "source": [
        "**caso2**"
      ],
      "metadata": {
        "id": "Yp6FqF6W80iP"
      }
    },
    {
      "cell_type": "code",
      "source": [
        "prediction2 = model2.predict(test_images)"
      ],
      "metadata": {
        "id": "5jvc-OB780Tq",
        "colab": {
          "base_uri": "https://localhost:8080/"
        },
        "outputId": "2f51f11f-4e27-4540-e559-2b8d63962243"
      },
      "execution_count": null,
      "outputs": [
        {
          "output_type": "stream",
          "name": "stdout",
          "text": [
            "313/313 [==============================] - 1s 3ms/step\n"
          ]
        }
      ]
    },
    {
      "cell_type": "code",
      "source": [
        "prediction2[5]"
      ],
      "metadata": {
        "id": "NamFe7F5-imv",
        "colab": {
          "base_uri": "https://localhost:8080/"
        },
        "outputId": "14927035-7a73-42da-ea28-f8e106961195"
      },
      "execution_count": null,
      "outputs": [
        {
          "output_type": "execute_result",
          "data": {
            "text/plain": [
              "array([nan, nan, nan, nan, nan, nan, nan, nan, nan, nan], dtype=float32)"
            ]
          },
          "metadata": {},
          "execution_count": 44
        }
      ]
    },
    {
      "cell_type": "code",
      "source": [
        "np.argmax(prediction2[5])"
      ],
      "metadata": {
        "id": "kvme07o5-imy",
        "colab": {
          "base_uri": "https://localhost:8080/"
        },
        "outputId": "29c580da-cb9e-4521-da51-cc6808555232"
      },
      "execution_count": null,
      "outputs": [
        {
          "output_type": "execute_result",
          "data": {
            "text/plain": [
              "0"
            ]
          },
          "metadata": {},
          "execution_count": 45
        }
      ]
    },
    {
      "cell_type": "markdown",
      "source": [
        "El modelo ha predicho que es la categoría 0, una camiseta, lo cual es erróneo. Al igual que el anterior, este modelo había sido mal entrenado, que la salida no sea correcta es lógico."
      ],
      "metadata": {
        "id": "kLPG5qaGyR2U"
      }
    },
    {
      "cell_type": "markdown",
      "source": [
        "**caso3**"
      ],
      "metadata": {
        "id": "-z7mTr1h-xvd"
      }
    },
    {
      "cell_type": "code",
      "source": [
        "prediction3 = model3.predict(test_images)"
      ],
      "metadata": {
        "id": "Ec96qMwy-xve",
        "colab": {
          "base_uri": "https://localhost:8080/"
        },
        "outputId": "a220ec75-1432-465d-9dc2-5b3e20b16d4a"
      },
      "execution_count": null,
      "outputs": [
        {
          "output_type": "stream",
          "name": "stdout",
          "text": [
            "313/313 [==============================] - 1s 2ms/step\n"
          ]
        }
      ]
    },
    {
      "cell_type": "code",
      "source": [
        "prediction3[5]"
      ],
      "metadata": {
        "id": "2FhdXNrV-xvf",
        "colab": {
          "base_uri": "https://localhost:8080/"
        },
        "outputId": "f6ab10d5-726b-4d86-8c48-6d27dc2cd404"
      },
      "execution_count": null,
      "outputs": [
        {
          "output_type": "execute_result",
          "data": {
            "text/plain": [
              "array([1., 1., 1., 1., 1., 0., 1., 0., 0., 0.], dtype=float32)"
            ]
          },
          "metadata": {},
          "execution_count": 47
        }
      ]
    },
    {
      "cell_type": "code",
      "source": [
        "np.argmax(prediction3[5])"
      ],
      "metadata": {
        "id": "QdAtteAE-xvg",
        "colab": {
          "base_uri": "https://localhost:8080/"
        },
        "outputId": "ffa32d26-a0a4-4b25-d962-fc9bceffefb6"
      },
      "execution_count": null,
      "outputs": [
        {
          "output_type": "execute_result",
          "data": {
            "text/plain": [
              "0"
            ]
          },
          "metadata": {},
          "execution_count": 48
        }
      ]
    },
    {
      "cell_type": "markdown",
      "source": [
        "El modelo no tenía una precisón lo suficientemente elevada, por lo que la salida no ha sido acertada, sin embargo, el el array se puede apreciar que el modelo ha hecho varias predicciones en categorías, siendo la más alta la categoría 0."
      ],
      "metadata": {
        "id": "elbZXRVaye8S"
      }
    },
    {
      "cell_type": "markdown",
      "source": [
        "**caso4**"
      ],
      "metadata": {
        "id": "9SYNXBMV-x-c"
      }
    },
    {
      "cell_type": "code",
      "source": [
        "prediction4 = model4.predict(test_images)"
      ],
      "metadata": {
        "id": "8z4vQYf--x-d",
        "colab": {
          "base_uri": "https://localhost:8080/"
        },
        "outputId": "5e89a892-1c72-42dd-d829-53041e56eea9"
      },
      "execution_count": null,
      "outputs": [
        {
          "output_type": "stream",
          "name": "stdout",
          "text": [
            "313/313 [==============================] - 0s 1ms/step\n"
          ]
        }
      ]
    },
    {
      "cell_type": "code",
      "source": [
        "prediction4[5]"
      ],
      "metadata": {
        "id": "fOjXBhD--x-d",
        "colab": {
          "base_uri": "https://localhost:8080/"
        },
        "outputId": "29231999-c5b3-40ea-e45c-4d8a3dfb5782"
      },
      "execution_count": null,
      "outputs": [
        {
          "output_type": "execute_result",
          "data": {
            "text/plain": [
              "array([0., 1., 0., 0., 1., 0., 0., 0., 0., 0.], dtype=float32)"
            ]
          },
          "metadata": {},
          "execution_count": 50
        }
      ]
    },
    {
      "cell_type": "code",
      "source": [
        "np.argmax(prediction4[5])"
      ],
      "metadata": {
        "id": "Qjgk3rqi-x-e",
        "colab": {
          "base_uri": "https://localhost:8080/"
        },
        "outputId": "dc5d979b-fc3d-412c-a88a-67064bc19f9f"
      },
      "execution_count": null,
      "outputs": [
        {
          "output_type": "execute_result",
          "data": {
            "text/plain": [
              "1"
            ]
          },
          "metadata": {},
          "execution_count": 51
        }
      ]
    },
    {
      "cell_type": "markdown",
      "source": [
        "Este es el modelo con mayor precisión, la salida es la correcta, ha predicho que es de la categoría 1 y ha acertado. Sin embargo también ha dado valores a otras categorías. Por ejemplo, a la categoría 4. "
      ],
      "metadata": {
        "id": "p4b9HUd2y9Cp"
      }
    },
    {
      "cell_type": "markdown",
      "source": [
        "**caso5**"
      ],
      "metadata": {
        "id": "gE67zuo0_UG3"
      }
    },
    {
      "cell_type": "code",
      "source": [
        "prediction5 = model5.predict(test_images)"
      ],
      "metadata": {
        "id": "4U8PnMqJ_UG4",
        "colab": {
          "base_uri": "https://localhost:8080/"
        },
        "outputId": "3b5f5b9d-aaa5-4b4c-ff9a-67b05f42ad78"
      },
      "execution_count": null,
      "outputs": [
        {
          "output_type": "stream",
          "name": "stdout",
          "text": [
            "313/313 [==============================] - 1s 3ms/step\n"
          ]
        }
      ]
    },
    {
      "cell_type": "code",
      "source": [
        "prediction5[5]"
      ],
      "metadata": {
        "id": "eMgCzvNl_UG5",
        "colab": {
          "base_uri": "https://localhost:8080/"
        },
        "outputId": "c65aec79-6a22-4e24-8250-f5824f239d6e"
      },
      "execution_count": null,
      "outputs": [
        {
          "output_type": "execute_result",
          "data": {
            "text/plain": [
              "array([1273.7 , 1760.09, 1005.85, 2880.98,  244.68, 1063.66,  921.7 ,  341.28, 1135.23,    0.  ,    0.  ,    0.  ,    0.  ,    0.  ,    0.  ,\n",
              "          0.  ,    0.  ,    0.  ,    0.  ,    0.  ,    0.  ,    0.  ,    0.  ,    0.  ,    0.  ,    0.  ,    0.  ,    0.  ,    0.  ,    0.  ,\n",
              "          0.  ,    0.  ,    0.  ,    0.  ,    0.  ,    0.  ,    0.  ,    0.  ,    0.  ,    0.  ,    0.  ,    0.  ,    0.  ,    0.  ,    0.  ,\n",
              "          0.  ,    0.  ,    0.  ,    0.  ,    0.  ,    0.  ,    0.  ,    0.  ,    0.  ,    0.  ,    0.  ,    0.  ,    0.  ,    0.  ,    0.  ,\n",
              "          0.  ,    0.  ,    0.  ,    0.  ,    0.  ,    0.  ,    0.  ,    0.  ,    0.  ,    0.  ,    0.  ,    0.  ,    0.  ,    0.  ,    0.  ,\n",
              "          0.  ,    0.  ,    0.  ,    0.  ,    0.  ,    0.  ,    0.  ,    0.  ,    0.  ,    0.  ,    0.  ,    0.  ,    0.  ,    0.  ,    0.  ,\n",
              "          0.  ,    0.  ,    0.  ,    0.  ,    0.  ,    0.  ,    0.  ,    0.  ,    0.  ,    0.  ,    0.  ,    0.  ,    0.  ,    0.  ,    0.  ,\n",
              "          0.  ,    0.  ,    0.  ,    0.  ,    0.  ,    0.  ,    0.  ,    0.  ,    0.  ,    0.  ,    0.  ,    0.  ,    0.  ,    0.  ,    0.  ,\n",
              "          0.  ,    0.  ,    0.  ,    0.  ,    0.  ,    0.  ,    0.  ,    0.  ,    0.  ,    0.  ,    0.  ,    0.  ,    0.  ,    0.  ,    0.  ,\n",
              "          0.  ,    0.  ,    0.  ,    0.  ,    0.  ,    0.  ,    0.  ,    0.  ,    0.  ,    0.  ,    0.  ,    0.  ,    0.  ,    0.  ,    0.  ,\n",
              "          0.  ,    0.  ,    0.  ,    0.  ,    0.  ,    0.  ,    0.  ,    0.  ,    0.  ,    0.  ,    0.  ,    0.  ,    0.  ,    0.  ,    0.  ,\n",
              "          0.  ,    0.  ,    0.  ,    0.  ,    0.  ,    0.  ,    0.  ,    0.  ,    0.  ,    0.  ,    0.  ,    0.  ,    0.  ,    0.  ,    0.  ,\n",
              "          0.  ,    0.  ,    0.  ,    0.  ,    0.  ,    0.  ,    0.  ,    0.  ,    0.  ,    0.  ,    0.  ,    0.  ,    0.  ,    0.  ,    0.  ,\n",
              "          0.  ,    0.  ,    0.  ,    0.  ,    0.  ,    0.  ,    0.  ,    0.  ,    0.  ,    0.  ,    0.  ,    0.  ,    0.  ,    0.  ,    0.  ,\n",
              "          0.  ,    0.  ,    0.  ,    0.  ,    0.  ,    0.  ,    0.  ,    0.  ,    0.  ,    0.  ,    0.  ,    0.  ,    0.  ,    0.  ,    0.  ,\n",
              "          0.  ,    0.  ,    0.  ,    0.  ,    0.  ,    0.  ,    0.  ,    0.  ,    0.  ,    0.  ,    0.  ,    0.  ,    0.  ,    0.  ,    0.  ,\n",
              "          0.  ,    0.  ,    0.  ,    0.  ,    0.  ,    0.  ,    0.  ,    0.  ,    0.  ,    0.  ,    0.  ,    0.  ,    0.  ,    0.  ,    0.  ,\n",
              "          0.  ,    0.  ,    0.  ,    0.  ,    0.  ,    0.  ,    0.  ,    0.  ,    0.  ,    0.  ,    0.  ,    0.  ,    0.  ,    0.  ,    0.  ,\n",
              "          0.  ,    0.  ,    0.  ,    0.  ,    0.  ,    0.  ,    0.  ,    0.  ,    0.  ,    0.  ,    0.  ,    0.  ,    0.  ,    0.  ,    0.  ,\n",
              "          0.  ,    0.  ,    0.  ,    0.  ,    0.  ,    0.  ,    0.  ,    0.  ,    0.  ,    0.  ,    0.  ,    0.  ,    0.  ,    0.  ,    0.  ,\n",
              "          0.  ,    0.  ,    0.  ,    0.  ,    0.  ,    0.  ,    0.  ,    0.  ,    0.  ,    0.  ,    0.  ,    0.  ,    0.  ,    0.  ,    0.  ,\n",
              "          0.  ,    0.  ,    0.  ,    0.  ,    0.  ,    0.  ,    0.  ,    0.  ,    0.  ,    0.  ,    0.  ,    0.  ,    0.  ,    0.  ,    0.  ,\n",
              "          0.  ,    0.  ,    0.  ,    0.  ,    0.  ,    0.  ,    0.  ,    0.  ,    0.  ,    0.  ,    0.  ,    0.  ,    0.  ,    0.  ,    0.  ,\n",
              "          0.  ,    0.  ,    0.  ,    0.  ,    0.  ,    0.  ,    0.  ,    0.  ,    0.  ,    0.  ,    0.  ,    0.  ,    0.  ,    0.  ,    0.  ,\n",
              "          0.  ,    0.  ,    0.  ,    0.  ,    0.  ,    0.  ,    0.  ,    0.  ,    0.  ,    0.  ,    0.  ,    0.  ,    0.  ,    0.  ,    0.  ,\n",
              "          0.  ,    0.  ,    0.  ,    0.  ,    0.  ,    0.  ,    0.  ,    0.  ,    0.  ,    0.  ,    0.  ,    0.  ,    0.  ,    0.  ,    0.  ,\n",
              "          0.  ,    0.  ,    0.  ,    0.  ,    0.  ,    0.  ,    0.  ,    0.  ,    0.  ,    0.  ,    0.  ,    0.  ,    0.  ,    0.  ,    0.  ,\n",
              "          0.  ,    0.  ,    0.  ,    0.  ,    0.  ,    0.  ,    0.  ,    0.  ,    0.  ,    0.  ,    0.  ,    0.  ,    0.  ,    0.  ,    0.  ,\n",
              "          0.  ,    0.  ,    0.  ,    0.  ,    0.  ,    0.  ,    0.  ,    0.  ,    0.  ,    0.  ,    0.  ,    0.  ,    0.  ,    0.  ,    0.  ,\n",
              "          0.  ,    0.  ,    0.  ,    0.  ,    0.  ,    0.  ,    0.  ,    0.  ,    0.  ,    0.  ,    0.  ,    0.  ,    0.  ,    0.  ,    0.  ,\n",
              "          0.  ,    0.  ,    0.  ,    0.  ,    0.  ,    0.  ,    0.  ,    0.  ,    0.  ,    0.  ,    0.  ,    0.  ,    0.  ,    0.  ,    0.  ,\n",
              "          0.  ,    0.  ,    0.  ,    0.  ,    0.  ,    0.  ,    0.  ,    0.  ,    0.  ,    0.  ,    0.  ,    0.  ,    0.  ,    0.  ,    0.  ,\n",
              "          0.  ,    0.  ,    0.  ,    0.  ,    0.  ,    0.  ,    0.  ,    0.  ,    0.  ,    0.  ,    0.  ,    0.  ,    0.  ,    0.  ,    0.  ,\n",
              "          0.  ,    0.  ,    0.  ,    0.  ,    0.  ,    0.  ,    0.  ,    0.  ,    0.  ,    0.  ,    0.  ,    0.  ,    0.  ,    0.  ,    0.  ,\n",
              "          0.  ,    0.  ], dtype=float32)"
            ]
          },
          "metadata": {},
          "execution_count": 86
        }
      ]
    },
    {
      "cell_type": "code",
      "source": [
        "np.argmax(prediction5[5])"
      ],
      "metadata": {
        "colab": {
          "base_uri": "https://localhost:8080/"
        },
        "id": "S9raXKFsze0l",
        "outputId": "affb5979-e3c0-4f11-e94f-fe39f28ff8f8"
      },
      "execution_count": null,
      "outputs": [
        {
          "output_type": "execute_result",
          "data": {
            "text/plain": [
              "3"
            ]
          },
          "metadata": {},
          "execution_count": 87
        }
      ]
    },
    {
      "cell_type": "markdown",
      "source": [
        "El modelo 5 ha predicho que la mayor probabilidad es que sea de la categoría 3, pero también se puede ve en la matriz que ha dado valores a otras categorías."
      ],
      "metadata": {
        "id": "6JXUctMczf1w"
      }
    },
    {
      "cell_type": "markdown",
      "source": [
        "**caso6**"
      ],
      "metadata": {
        "id": "wKuglPTy_-AJ"
      }
    },
    {
      "cell_type": "code",
      "source": [
        "prediction6 = model6.predict(test_images)"
      ],
      "metadata": {
        "id": "WZLdiCkZ_-AJ",
        "colab": {
          "base_uri": "https://localhost:8080/"
        },
        "outputId": "e0c31aad-736c-4ded-e405-2e73898b3d42"
      },
      "execution_count": null,
      "outputs": [
        {
          "output_type": "stream",
          "name": "stdout",
          "text": [
            "313/313 [==============================] - 1s 3ms/step\n"
          ]
        }
      ]
    },
    {
      "cell_type": "code",
      "source": [
        "prediction6[5]"
      ],
      "metadata": {
        "id": "EgkuetFp_-AK",
        "colab": {
          "base_uri": "https://localhost:8080/"
        },
        "outputId": "3787ed27-581e-41fe-ce4f-6362c17aaea6"
      },
      "execution_count": null,
      "outputs": [
        {
          "output_type": "execute_result",
          "data": {
            "text/plain": [
              "array([0., 0., 0., 0., 0., 0., 0., 0., 0., 0., 0., 0., 0., 0., 0., 0., 0., 0., 0., 0., 0., 0., 0., 0., 0., 0., 0., 0., 0., 0., 0., 0., 0., 0.,\n",
              "       0., 0., 0., 0., 0., 0., 0., 0., 0., 0., 0., 0., 0., 0., 0., 0., 0., 0., 0., 0., 0., 0., 0., 0., 0., 0., 0., 0., 0., 0., 0., 0., 0., 0.,\n",
              "       0., 0., 0., 0., 0., 0., 0., 0., 0., 0., 0., 0., 0., 0., 0., 0., 0., 0., 0., 0., 0., 0., 0., 0., 0., 0., 0., 0., 0., 0., 0., 0., 0., 0.,\n",
              "       0., 0., 0., 0., 0., 0., 0., 0., 0., 0., 0., 0., 0., 0., 0., 0., 0., 0., 0., 0., 0., 0., 0., 0., 0., 0., 0., 0., 0., 0., 0., 0., 0., 0.,\n",
              "       0., 0., 0., 0., 0., 0., 0., 0., 0., 0., 0., 0., 0., 0., 0., 0., 0., 0., 0., 0., 0., 0., 0., 0., 0., 0., 0., 0., 0., 0., 0., 0., 0., 0.,\n",
              "       0., 0., 0., 0., 0., 0., 0., 0., 0., 0., 0., 0., 0., 0., 0., 0., 0., 0., 0., 0., 0., 0., 0., 0., 0., 0., 0., 0., 0., 0., 0., 0., 0., 0.,\n",
              "       0., 0., 0., 0., 0., 0., 0., 0., 0., 0., 0., 0., 0., 0., 0., 0., 0., 0., 0., 0., 0., 0., 0., 0., 0., 0., 0., 0., 0., 0., 0., 0., 0., 0.,\n",
              "       0., 0., 0., 0., 0., 0., 0., 0., 0., 0., 0., 0., 0., 0., 0., 0., 0., 0., 0., 0., 0., 0., 0., 0., 0., 0., 0., 0., 0., 0., 0., 0., 0., 0.,\n",
              "       0., 0., 0., 0., 0., 0., 0., 0., 0., 0., 0., 0., 0., 0., 0., 0., 0., 0., 0., 0., 0., 0., 0., 0., 0., 0., 0., 0., 0., 0., 0., 0., 0., 0.,\n",
              "       0., 0., 0., 0., 0., 0., 0., 0., 0., 0., 0., 0., 0., 0., 0., 0., 0., 0., 0., 0., 0., 0., 0., 0., 0., 0., 0., 0., 0., 0., 0., 0., 0., 0.,\n",
              "       0., 0., 0., 0., 0., 0., 0., 0., 0., 0., 0., 0., 0., 0., 0., 0., 0., 0., 0., 0., 0., 0., 0., 0., 0., 0., 0., 0., 0., 0., 0., 0., 0., 0.,\n",
              "       0., 0., 0., 0., 0., 0., 0., 0., 0., 0., 0., 0., 0., 0., 0., 0., 0., 0., 0., 0., 0., 0., 0., 0., 0., 0., 0., 0., 0., 0., 0., 0., 0., 0.,\n",
              "       0., 0., 0., 0., 0., 0., 0., 0., 0., 0., 0., 0., 0., 0., 0., 0., 0., 0., 0., 0., 0., 0., 0., 0., 0., 0., 0., 0., 0., 0., 0., 0., 0., 0.,\n",
              "       0., 0., 0., 0., 0., 0., 0., 0., 0., 0., 0., 0., 0., 0., 0., 0., 0., 0., 0., 0., 0., 0., 0., 0., 0., 0., 0., 0., 0., 0., 0., 0., 0., 0.,\n",
              "       0., 0., 0., 0., 0., 0., 0., 0., 0., 0., 0., 0., 0., 0., 0., 0., 0., 0., 0., 0., 0., 0., 0., 0., 0., 0., 0., 0., 0., 0., 0., 0., 0., 0.,\n",
              "       0., 0.], dtype=float32)"
            ]
          },
          "metadata": {},
          "execution_count": 56
        }
      ]
    },
    {
      "cell_type": "code",
      "source": [
        "np.argmax(prediction6[5])"
      ],
      "metadata": {
        "id": "FU-RT7_7_-AK",
        "colab": {
          "base_uri": "https://localhost:8080/"
        },
        "outputId": "6b71cf70-e416-4a16-d0ef-35e7203b88b6"
      },
      "execution_count": null,
      "outputs": [
        {
          "output_type": "execute_result",
          "data": {
            "text/plain": [
              "0"
            ]
          },
          "metadata": {},
          "execution_count": 57
        }
      ]
    },
    {
      "cell_type": "markdown",
      "source": [
        "El modelo 6 , al igual que el 5 es poco preciso y al estar mal entrendo no ha dado valores a ninguna categoría-"
      ],
      "metadata": {
        "id": "-z16hu7x0Ao_"
      }
    },
    {
      "cell_type": "markdown",
      "source": [
        "**caso7**"
      ],
      "metadata": {
        "id": "F4FJvJEV__xf"
      }
    },
    {
      "cell_type": "code",
      "source": [
        "prediction7 = model7.predict(test_images)"
      ],
      "metadata": {
        "id": "A-Dt9cZd__xg",
        "colab": {
          "base_uri": "https://localhost:8080/"
        },
        "outputId": "dc581a39-9fdb-44b1-dc16-3e7596acfae8"
      },
      "execution_count": null,
      "outputs": [
        {
          "output_type": "stream",
          "name": "stdout",
          "text": [
            "313/313 [==============================] - 1s 3ms/step\n"
          ]
        }
      ]
    },
    {
      "cell_type": "code",
      "source": [
        "prediction7[5]"
      ],
      "metadata": {
        "id": "J7Fvekjg__xg",
        "colab": {
          "base_uri": "https://localhost:8080/"
        },
        "outputId": "63a29373-3c7d-437a-8b99-ea62ad2997c8"
      },
      "execution_count": null,
      "outputs": [
        {
          "output_type": "execute_result",
          "data": {
            "text/plain": [
              "array([1.  , 1.  , 1.  , 1.  , 1.  , 0.  , 0.  , 0.  , 1.  , 0.  , 0.  , 1.  , 0.  , 1.  , 0.  , 1.  , 0.  , 0.  , 0.  , 0.  , 1.  , 1.  , 1.  ,\n",
              "       1.  , 0.  , 1.  , 0.94, 0.  , 1.  , 1.  , 1.  , 0.  , 0.  , 1.  , 0.  , 0.  , 1.  , 0.  , 1.  , 1.  , 1.  , 0.  , 1.  , 1.  , 0.  , 1.  ,\n",
              "       1.  , 0.  , 0.  , 0.  , 0.  , 1.  , 1.  , 0.  , 1.  , 1.  , 1.  , 1.  , 1.  , 1.  , 0.  , 0.  , 0.  , 1.  , 0.  , 1.  , 0.  , 0.  , 1.  ,\n",
              "       1.  , 1.  , 1.  , 0.  , 0.  , 1.  , 0.  , 0.  , 1.  , 0.  , 1.  , 1.  , 0.  , 0.  , 1.  , 1.  , 0.  , 1.  , 1.  , 0.  , 1.  , 1.  , 0.  ,\n",
              "       1.  , 1.  , 1.  , 1.  , 1.  , 0.  , 1.  , 0.  , 1.  , 1.  , 0.  , 0.  , 0.  , 0.  , 0.  , 1.  , 1.  , 1.  , 1.  , 1.  , 1.  , 0.  , 1.  ,\n",
              "       0.  , 1.  , 0.  , 0.  , 1.  , 1.  , 1.  , 0.  , 0.  , 0.  , 1.  , 1.  , 1.  , 1.  , 0.  , 0.  , 1.  , 0.  , 0.01, 1.  , 0.  , 0.  , 0.  ,\n",
              "       0.  , 1.  , 0.  , 0.  , 0.06, 1.  , 0.4 , 0.  , 1.  , 0.  , 1.  , 1.  , 0.34, 0.  , 0.  , 0.  , 1.  , 1.  , 1.  , 0.  , 0.  , 0.  , 0.  ,\n",
              "       1.  , 1.  , 1.  , 0.99, 0.  , 0.  , 1.  , 0.  , 0.  , 1.  , 0.  , 1.  , 1.  , 0.  , 1.  , 0.  , 1.  , 0.  , 1.  , 0.99, 0.  , 1.  , 0.  ,\n",
              "       0.  , 0.  , 0.  , 1.  , 1.  , 0.  , 1.  , 1.  , 0.  , 1.  , 0.  , 0.  , 0.  , 0.  , 0.  , 1.  , 0.  , 0.  , 1.  , 1.  , 1.  , 0.  , 1.  ,\n",
              "       0.  , 1.  , 0.15, 0.3 , 1.  , 1.  , 1.  , 0.  , 0.  , 0.  , 1.  , 0.  , 1.  , 0.  , 0.  , 1.  , 1.  , 1.  , 1.  , 0.  , 0.  , 0.  , 1.  ,\n",
              "       1.  , 1.  , 1.  , 0.  , 1.  , 0.  , 1.  , 1.  , 1.  , 0.  , 1.  , 0.  , 0.  , 1.  , 0.  , 0.  , 0.  , 1.  , 1.  , 0.  , 0.  , 0.  , 0.  ,\n",
              "       1.  , 1.  , 1.  , 0.  , 0.  , 0.  , 1.  , 0.  , 0.  , 1.  , 0.  , 1.  , 0.  , 0.  , 0.  , 0.  , 1.  , 1.  , 0.  , 1.  , 0.84, 1.  , 1.  ,\n",
              "       0.  , 0.  , 0.  , 0.  , 1.  , 0.  , 0.  , 0.  , 0.  , 0.  , 0.  , 1.  , 1.  , 1.  , 0.  , 0.  , 1.  , 1.  , 0.99, 0.99, 0.  , 1.  , 0.  ,\n",
              "       1.  , 1.  , 1.  , 0.  , 0.  , 1.  , 0.  , 0.  , 1.  , 1.  , 1.  , 1.  , 0.  , 1.  , 1.  , 0.  , 0.  , 0.  , 1.  , 0.  , 1.  , 0.  , 1.  ,\n",
              "       0.  , 1.  , 0.  , 1.  , 0.01, 1.  , 1.  , 1.  , 0.  , 0.  , 0.  , 1.  , 1.  , 0.  , 0.  , 0.  , 0.  , 0.  , 0.  , 0.  , 0.  , 0.  , 1.  ,\n",
              "       1.  , 1.  , 0.  , 0.  , 0.  , 1.  , 0.  , 1.  , 0.  , 0.  , 1.  , 0.99, 1.  , 1.  , 1.  , 0.  , 1.  , 0.  , 1.  , 0.  , 0.  , 0.  , 1.  ,\n",
              "       0.  , 1.  , 1.  , 1.  , 0.  , 0.  , 1.  , 0.  , 1.  , 1.  , 1.  , 0.  , 1.  , 0.  , 0.  , 0.  , 1.  , 1.  , 1.  , 1.  , 0.  , 1.  , 0.  ,\n",
              "       1.  , 0.  , 0.  , 0.  , 0.  , 0.  , 1.  , 0.  , 1.  , 1.  , 0.  , 0.  , 0.  , 0.  , 1.  , 0.18, 1.  , 1.  , 1.  , 0.  , 1.  , 1.  , 0.  ,\n",
              "       1.  , 0.  , 0.  , 0.  , 1.  , 1.  , 0.  , 1.  , 0.  , 0.  , 0.  , 1.  , 1.  , 1.  , 0.  , 1.  , 1.  , 0.  , 1.  , 0.  , 1.  , 0.02, 0.  ,\n",
              "       0.  , 1.  , 0.  , 0.  , 1.  , 1.  , 1.  , 0.  , 0.  , 1.  , 0.  , 1.  , 0.  , 1.  , 0.  , 1.  , 1.  , 1.  , 1.  , 1.  , 1.  , 0.  , 1.  ,\n",
              "       1.  , 1.  , 0.  , 1.  , 0.  , 0.  , 0.01, 0.  , 0.  , 0.  , 1.  , 1.  , 0.  , 1.  , 1.  , 1.  , 0.  , 1.  , 0.  , 1.  , 0.  , 0.  , 1.  ,\n",
              "       1.  , 0.  , 1.  , 0.  , 1.  , 1.  , 1.  , 0.  , 0.  , 0.  , 0.  , 0.  , 1.  , 1.  , 0.  , 1.  , 0.  , 0.  , 0.  , 0.  , 0.  , 0.  , 1.  ,\n",
              "       1.  , 0.  , 0.  , 0.  , 1.  , 0.98], dtype=float32)"
            ]
          },
          "metadata": {},
          "execution_count": 59
        }
      ]
    },
    {
      "cell_type": "code",
      "source": [
        "np.argmax(prediction7[5])"
      ],
      "metadata": {
        "id": "qH12IztX__xh",
        "colab": {
          "base_uri": "https://localhost:8080/"
        },
        "outputId": "d1bdfdae-9243-4219-db78-3008050aec62"
      },
      "execution_count": null,
      "outputs": [
        {
          "output_type": "execute_result",
          "data": {
            "text/plain": [
              "0"
            ]
          },
          "metadata": {},
          "execution_count": 60
        }
      ]
    },
    {
      "cell_type": "markdown",
      "source": [
        "Este caso da el mayor valor a la categoría 0, lo cual no es correcto, se puede ver que en la matriz da probabilidad de ser casi de todas las categorías."
      ],
      "metadata": {
        "id": "OJH0P_Mx0Lt4"
      }
    },
    {
      "cell_type": "markdown",
      "source": [
        "**caso8**"
      ],
      "metadata": {
        "id": "40w7QhrTAB1s"
      }
    },
    {
      "cell_type": "code",
      "source": [
        "prediction8 = model8.predict(test_images)"
      ],
      "metadata": {
        "id": "OeNXn8MuAB1t",
        "colab": {
          "base_uri": "https://localhost:8080/"
        },
        "outputId": "aee871ce-5219-4a2a-b92e-0d90555c8ec8"
      },
      "execution_count": null,
      "outputs": [
        {
          "output_type": "stream",
          "name": "stdout",
          "text": [
            "313/313 [==============================] - 1s 4ms/step\n"
          ]
        }
      ]
    },
    {
      "cell_type": "code",
      "source": [
        "prediction8[5]"
      ],
      "metadata": {
        "id": "EGyvlQSHAB1t",
        "colab": {
          "base_uri": "https://localhost:8080/"
        },
        "outputId": "90d7beb4-0557-4f99-c829-36ac31ccaa2f"
      },
      "execution_count": null,
      "outputs": [
        {
          "output_type": "execute_result",
          "data": {
            "text/plain": [
              "array([1.  , 1.  , 1.  , 1.  , 1.  , 1.  , 1.  , 1.  , 1.  , 1.  , 0.  , 1.  , 0.  , 0.  , 0.  , 1.  , 0.  , 1.  , 0.  , 0.  , 0.  , 0.  , 0.  ,\n",
              "       0.  , 0.  , 1.  , 0.  , 0.  , 1.  , 0.  , 1.  , 0.  , 0.  , 0.  , 0.  , 0.94, 0.  , 0.  , 1.  , 0.  , 0.  , 0.  , 0.  , 0.  , 0.  , 0.  ,\n",
              "       1.  , 0.  , 1.  , 0.  , 0.  , 0.  , 0.  , 0.  , 0.  , 1.  , 0.  , 0.  , 0.  , 0.  , 0.  , 0.  , 0.  , 0.  , 1.  , 0.  , 1.  , 0.  , 0.  ,\n",
              "       0.  , 0.  , 0.  , 1.  , 0.  , 0.  , 0.  , 1.  , 0.  , 0.  , 0.  , 0.  , 0.  , 0.99, 1.  , 0.  , 0.  , 1.  , 0.  , 0.  , 0.  , 0.  , 0.  ,\n",
              "       0.02, 0.  , 0.  , 1.  , 0.  , 0.  , 0.  , 0.  , 0.  , 0.  , 1.  , 0.  , 0.  , 0.  , 0.  , 0.  , 0.  , 0.  , 1.  , 0.  , 1.  , 0.  , 0.  ,\n",
              "       1.  , 0.  , 0.8 , 0.  , 0.  , 0.  , 0.  , 1.  , 0.  , 0.  , 0.  , 1.  , 0.  , 0.  , 0.1 , 0.  , 0.  , 1.  , 0.  , 0.  , 0.  , 0.  , 0.  ,\n",
              "       0.  , 0.  , 0.  , 0.  , 0.  , 1.  , 0.  , 0.  , 0.  , 0.  , 0.  , 0.  , 0.  , 1.  , 0.  , 0.  , 1.  , 0.  , 0.  , 0.  , 0.  , 0.  , 1.  ,\n",
              "       0.  , 0.  , 0.  , 1.  , 0.  , 0.  , 1.  , 1.  , 1.  , 0.  , 0.  , 0.  , 1.  , 0.  , 0.  , 0.  , 0.  , 0.  , 1.  , 0.  , 1.  , 0.  , 0.  ,\n",
              "       0.  , 0.  , 1.  , 0.  , 0.  , 0.  , 0.  , 0.  , 0.  , 0.  , 0.  , 1.  , 1.  , 1.  , 0.  , 0.  , 0.  , 0.  , 0.  , 0.  , 0.  , 0.  , 0.  ,\n",
              "       1.  , 1.  , 0.  , 0.  , 0.  , 0.  , 0.  , 1.  , 0.  , 1.  , 0.  , 0.  , 0.  , 0.  , 0.02, 0.  , 0.  , 0.  , 0.  , 0.  , 0.  , 1.  , 0.  ,\n",
              "       0.  , 0.  , 0.  , 1.  , 0.  , 0.  , 0.  , 0.89, 0.  , 0.  , 0.  , 0.  , 0.  , 0.  , 0.  , 0.  , 1.  , 0.  , 0.  , 0.  , 0.  , 1.  , 0.  ,\n",
              "       0.  , 0.  , 0.  , 0.  , 0.  , 0.  , 0.  , 0.01, 0.  , 0.  , 0.  , 0.  , 0.  , 0.  , 1.  , 0.  , 1.  , 0.  , 0.  , 0.  , 0.  , 0.  , 0.  ,\n",
              "       0.  , 1.  , 0.  , 1.  , 0.  , 0.99, 0.  , 0.  , 0.  , 1.  , 1.  , 0.  , 0.  , 1.  , 0.  , 0.  , 1.  , 0.  , 0.  , 0.  , 0.  , 0.  , 1.  ,\n",
              "       0.  , 0.  , 0.  , 0.  , 0.98, 1.  , 0.  , 0.59, 0.  , 0.  , 0.  , 1.  , 0.  , 0.  , 0.  , 0.95, 1.  , 0.  , 0.  , 0.  , 0.  , 0.  , 0.  ,\n",
              "       1.  , 0.  , 0.  , 1.  , 0.  , 0.  , 1.  , 1.  , 1.  , 0.  , 0.  , 0.  , 0.  , 0.  , 0.  , 1.  , 0.83, 0.92, 0.97, 0.  , 0.  , 0.  , 1.  ,\n",
              "       0.  , 1.  , 0.  , 1.  , 0.  , 0.  , 0.  , 0.  , 0.  , 1.  , 0.  , 0.98, 0.  , 0.  , 0.  , 0.  , 0.  , 0.  , 0.  , 0.  , 0.  , 0.  , 0.  ,\n",
              "       0.  , 0.  , 0.  , 1.  , 0.  , 0.  , 0.  , 0.  , 0.  , 0.  , 0.  , 0.  , 0.  , 0.  , 0.  , 1.  , 0.  , 0.  , 1.  , 1.  , 0.  , 1.  , 0.  ,\n",
              "       0.  , 0.  , 0.  , 0.  , 1.  , 0.  , 0.  , 1.  , 0.  , 0.99, 0.  , 0.  , 1.  , 0.  , 0.  , 0.  , 0.  , 0.  , 0.  , 0.  , 0.  , 0.  , 0.  ,\n",
              "       1.  , 0.  , 0.  , 0.  , 0.  , 0.  , 0.  , 0.  , 0.  , 0.  , 0.  , 1.  , 0.  , 0.  , 0.  , 0.  , 0.  , 0.  , 0.17, 0.  , 0.  , 0.  , 0.  ,\n",
              "       0.  , 1.  , 0.  , 0.  , 0.  , 0.  , 0.  , 1.  , 0.  , 0.  , 0.  , 0.01, 0.  , 0.  , 0.  , 0.  , 1.  , 0.  , 1.  , 0.  , 0.  , 0.  , 0.  ,\n",
              "       0.  , 1.  , 0.  , 0.  , 1.  , 0.  , 0.  , 1.  , 1.  , 0.  , 1.  , 0.  , 0.  , 0.  , 0.  , 0.  , 0.  , 1.  , 1.  , 0.  , 0.  , 0.  , 0.  ,\n",
              "       1.  , 0.  , 0.  , 0.  , 0.  , 0.  , 0.  , 0.  , 1.  , 0.  , 0.  , 0.  , 0.  , 1.  , 0.  , 0.  , 0.  , 0.  , 1.  , 0.  , 0.  , 0.  , 0.  ,\n",
              "       0.  , 0.  , 0.87, 0.  , 0.  , 0.  ], dtype=float32)"
            ]
          },
          "metadata": {},
          "execution_count": 62
        }
      ]
    },
    {
      "cell_type": "code",
      "source": [
        "np.argmax(prediction8[5])"
      ],
      "metadata": {
        "id": "3u-k26cWAB1u",
        "colab": {
          "base_uri": "https://localhost:8080/"
        },
        "outputId": "9fb94255-d46a-4578-87b9-183f3a8b180b"
      },
      "execution_count": null,
      "outputs": [
        {
          "output_type": "execute_result",
          "data": {
            "text/plain": [
              "0"
            ]
          },
          "metadata": {},
          "execution_count": 63
        }
      ]
    },
    {
      "cell_type": "markdown",
      "source": [
        "Como se vio antriormente el modelo 8 no era óptimo, se puede ver que dice que podría pertenecer a numeross categorías, lo cual es erróneo"
      ],
      "metadata": {
        "id": "-z9vVE0m0YYH"
      }
    },
    {
      "cell_type": "markdown",
      "source": [
        "## Gráficas\n"
      ],
      "metadata": {
        "id": "i5Gv-pbYEFzc"
      }
    },
    {
      "cell_type": "markdown",
      "source": [
        "***6. Utilice el siguiente código para graficar cómo de bien o de mal se comporta el modelo para cada uno de los 8 casos.***"
      ],
      "metadata": {
        "id": "1L5cdhcqlzzi"
      }
    },
    {
      "cell_type": "markdown",
      "source": [
        "En las gráficas se verán los siguientes colores:\n",
        "\n",
        "- azul = valores menores del las otras prediciones\n",
        "\n",
        "- rojo = el valor interpretadopor el modelo\n",
        "- negro= el valor de la categoría real\n",
        "\n",
        "Incluimos las funciones necesarias en los siguientes códigos."
      ],
      "metadata": {
        "id": "XEwZ4FUrc80N"
      }
    },
    {
      "cell_type": "code",
      "source": [
        "\n",
        "\n",
        "def plot_image(i, predictions_array, true_label, img):\n",
        "  predictions_array, true_label, img = predictions_array, true_label[i], img[i]\n",
        "  plt.grid(False)\n",
        "  plt.xticks([])\n",
        "  plt.yticks([])\n",
        "\n",
        "  plt.imshow(img, cmap=plt.cm.binary)    \n",
        "\n",
        "  predicted_label = np.argmax(predictions_array)\n",
        "  if predicted_label.all() == true_label.all():\n",
        "    color = 'blue'\n",
        "  else:\n",
        "    color = 'red'\n",
        "\n",
        "  plt.xlabel(\"{} {:2.0f}% ({})\".format(predicted_label,\n",
        "                                100*np.max(predictions_array),\n",
        "                                true_label),\n",
        "                                color=color)\n",
        "\n",
        "def plot_value_array(i, predictions_array, true_label):\n",
        "  predictions_array, true_label = predictions_array, true_label[i]\n",
        "  plt.grid(False)\n",
        "  plt.xticks(range(10))\n",
        "  plt.yticks([])\n",
        "  thisplot = plt.bar(range(10), predictions_array, color=\"blue\")\n",
        "  plt.ylim([0, 1])\n",
        "  predicted_label = np.argmax(predictions_array)\n",
        "\n",
        "  thisplot[predicted_label].set_color('red')\n",
        "  thisplot[true_label].set_color('black')\n"
      ],
      "metadata": {
        "id": "8gmO2DFpFAFN"
      },
      "execution_count": null,
      "outputs": []
    },
    {
      "cell_type": "markdown",
      "source": [
        "En los casos se interpreta lo mismo que en le apartado anterior de forma gráfica para las 10 primeras imágenes de testeo.\n",
        "\n",
        "El objetivo será encontrar gráficas con una única, la negra, que significa que ha acertado."
      ],
      "metadata": {
        "id": "F1aus62g1BMp"
      }
    },
    {
      "cell_type": "markdown",
      "source": [
        "**Caso 1**"
      ],
      "metadata": {
        "id": "AhuWMSYKFC6S"
      }
    },
    {
      "cell_type": "code",
      "source": [
        "for i in range(9):\n",
        "  plt.figure(figsize=(6,3))\n",
        "  plt.subplot(1,2,1)\n",
        "  plot_image(i, prediction1[i], test_labels, test_images.reshape(10000,28,28))\n",
        "  plt.subplot(1,2,2)\n",
        "  plot_value_array(i, prediction1[i],  test_labels)\n",
        "  plt.show()\n",
        "  plt.clf()"
      ],
      "metadata": {
        "id": "JD2FGD79BFRq",
        "colab": {
          "base_uri": "https://localhost:8080/",
          "height": 1000
        },
        "outputId": "e651c80f-ea45-4ba2-f61e-494a3f6454a6"
      },
      "execution_count": null,
      "outputs": [
        {
          "output_type": "display_data",
          "data": {
            "text/plain": [
              "<Figure size 432x216 with 2 Axes>"
            ],
            "image/png": "[encoded data removed]"
          },
          "metadata": {
            "needs_background": "light"
          }
        },
        {
          "output_type": "display_data",
          "data": {
            "text/plain": [
              "<Figure size 432x288 with 0 Axes>"
            ]
          },
          "metadata": {}
        },
        {
          "output_type": "display_data",
          "data": {
            "text/plain": [
              "<Figure size 432x216 with 2 Axes>"
            ],
            "image/png": "[encoded data removed]"
          },
          "metadata": {
            "needs_background": "light"
          }
        },
        {
          "output_type": "display_data",
          "data": {
            "text/plain": [
              "<Figure size 432x288 with 0 Axes>"
            ]
          },
          "metadata": {}
        },
        {
          "output_type": "display_data",
          "data": {
            "text/plain": [
              "<Figure size 432x216 with 2 Axes>"
            ],
            "image/png": "[encoded data removed]"
          },
          "metadata": {
            "needs_background": "light"
          }
        },
        {
          "output_type": "display_data",
          "data": {
            "text/plain": [
              "<Figure size 432x288 with 0 Axes>"
            ]
          },
          "metadata": {}
        },
        {
          "output_type": "display_data",
          "data": {
            "text/plain": [
              "<Figure size 432x216 with 2 Axes>"
            ],
            "image/png": "[encoded data removed]"
          },
          "metadata": {
            "needs_background": "light"
          }
        },
        {
          "output_type": "display_data",
          "data": {
            "text/plain": [
              "<Figure size 432x288 with 0 Axes>"
            ]
          },
          "metadata": {}
        },
        {
          "output_type": "display_data",
          "data": {
            "text/plain": [
              "<Figure size 432x216 with 2 Axes>"
            ],
            "image/png": "[encoded data removed]"
          },
          "metadata": {
            "needs_background": "light"
          }
        },
        {
          "output_type": "display_data",
          "data": {
            "text/plain": [
              "<Figure size 432x288 with 0 Axes>"
            ]
          },
          "metadata": {}
        },
        {
          "output_type": "display_data",
          "data": {
            "text/plain": [
              "<Figure size 432x216 with 2 Axes>"
            ],
            "image/png": "[encoded data removed]"
          },
          "metadata": {
            "needs_background": "light"
          }
        },
        {
          "output_type": "display_data",
          "data": {
            "text/plain": [
              "<Figure size 432x288 with 0 Axes>"
            ]
          },
          "metadata": {}
        },
        {
          "output_type": "display_data",
          "data": {
            "text/plain": [
              "<Figure size 432x216 with 2 Axes>"
            ],
            "image/png": "[encoded data removed]"
          },
          "metadata": {
            "needs_background": "light"
          }
        },
        {
          "output_type": "display_data",
          "data": {
            "text/plain": [
              "<Figure size 432x288 with 0 Axes>"
            ]
          },
          "metadata": {}
        },
        {
          "output_type": "display_data",
          "data": {
            "text/plain": [
              "<Figure size 432x216 with 2 Axes>"
            ],
            "image/png": "[encoded data removed]"
          },
          "metadata": {
            "needs_background": "light"
          }
        },
        {
          "output_type": "display_data",
          "data": {
            "text/plain": [
              "<Figure size 432x288 with 0 Axes>"
            ]
          },
          "metadata": {}
        },
        {
          "output_type": "display_data",
          "data": {
            "text/plain": [
              "<Figure size 432x216 with 2 Axes>"
            ],
            "image/png": "[encoded data removed]"
          },
          "metadata": {
            "needs_background": "light"
          }
        },
        {
          "output_type": "display_data",
          "data": {
            "text/plain": [
              "<Figure size 432x288 with 0 Axes>"
            ]
          },
          "metadata": {}
        }
      ]
    },
    {
      "cell_type": "code",
      "source": [],
      "metadata": {
        "id": "Rkw1IFTLFM5D"
      },
      "execution_count": null,
      "outputs": []
    },
    {
      "cell_type": "markdown",
      "source": [
        "**Caso 2**"
      ],
      "metadata": {
        "id": "iUdSMNyGFNN2"
      }
    },
    {
      "cell_type": "code",
      "source": [
        "for i in range(9):\n",
        "  plt.figure(figsize=(6,3))\n",
        "  plt.subplot(1,2,1)\n",
        "  plot_image(i, prediction2[i], test_labels, test_images.reshape(10000,28,28))\n",
        "  plt.subplot(1,2,2)\n",
        "  plot_value_array(i, prediction2[i],  test_labels)\n",
        "  plt.show()\n",
        "  plt.clf()"
      ],
      "metadata": {
        "id": "H8MmeGXfFNN3",
        "colab": {
          "base_uri": "https://localhost:8080/",
          "height": 1000
        },
        "outputId": "dd5a9bbc-dbc0-425c-87bc-20b68e1af131"
      },
      "execution_count": null,
      "outputs": [
        {
          "output_type": "display_data",
          "data": {
            "text/plain": [
              "<Figure size 432x216 with 2 Axes>"
            ],
            "image/png": "[encoded data removed]"
          },
          "metadata": {
            "needs_background": "light"
          }
        },
        {
          "output_type": "display_data",
          "data": {
            "text/plain": [
              "<Figure size 432x288 with 0 Axes>"
            ]
          },
          "metadata": {}
        },
        {
          "output_type": "display_data",
          "data": {
            "text/plain": [
              "<Figure size 432x216 with 2 Axes>"
            ],
            "image/png": "[encoded data removed]"
          },
          "metadata": {
            "needs_background": "light"
          }
        },
        {
          "output_type": "display_data",
          "data": {
            "text/plain": [
              "<Figure size 432x288 with 0 Axes>"
            ]
          },
          "metadata": {}
        },
        {
          "output_type": "display_data",
          "data": {
            "text/plain": [
              "<Figure size 432x216 with 2 Axes>"
            ],
            "image/png": "[encoded data removed]"
          },
          "metadata": {
            "needs_background": "light"
          }
        },
        {
          "output_type": "display_data",
          "data": {
            "text/plain": [
              "<Figure size 432x288 with 0 Axes>"
            ]
          },
          "metadata": {}
        },
        {
          "output_type": "display_data",
          "data": {
            "text/plain": [
              "<Figure size 432x216 with 2 Axes>"
            ],
            "image/png": "[encoded data removed]"
          },
          "metadata": {
            "needs_background": "light"
          }
        },
        {
          "output_type": "display_data",
          "data": {
            "text/plain": [
              "<Figure size 432x288 with 0 Axes>"
            ]
          },
          "metadata": {}
        },
        {
          "output_type": "display_data",
          "data": {
            "text/plain": [
              "<Figure size 432x216 with 2 Axes>"
            ],
            "image/png": "[encoded data removed]"
          },
          "metadata": {
            "needs_background": "light"
          }
        },
        {
          "output_type": "display_data",
          "data": {
            "text/plain": [
              "<Figure size 432x288 with 0 Axes>"
            ]
          },
          "metadata": {}
        },
        {
          "output_type": "display_data",
          "data": {
            "text/plain": [
              "<Figure size 432x216 with 2 Axes>"
            ],
            "image/png": "[encoded data removed]"
          },
          "metadata": {
            "needs_background": "light"
          }
        },
        {
          "output_type": "display_data",
          "data": {
            "text/plain": [
              "<Figure size 432x288 with 0 Axes>"
            ]
          },
          "metadata": {}
        },
        {
          "output_type": "display_data",
          "data": {
            "text/plain": [
              "<Figure size 432x216 with 2 Axes>"
            ],
            "image/png": "[encoded data removed]"
          },
          "metadata": {
            "needs_background": "light"
          }
        },
        {
          "output_type": "display_data",
          "data": {
            "text/plain": [
              "<Figure size 432x288 with 0 Axes>"
            ]
          },
          "metadata": {}
        },
        {
          "output_type": "display_data",
          "data": {
            "text/plain": [
              "<Figure size 432x216 with 2 Axes>"
            ],
            "image/png": "[encoded data removed]"
          },
          "metadata": {
            "needs_background": "light"
          }
        },
        {
          "output_type": "display_data",
          "data": {
            "text/plain": [
              "<Figure size 432x288 with 0 Axes>"
            ]
          },
          "metadata": {}
        },
        {
          "output_type": "display_data",
          "data": {
            "text/plain": [
              "<Figure size 432x216 with 2 Axes>"
            ],
            "image/png": "[encoded data removed]"
          },
          "metadata": {
            "needs_background": "light"
          }
        },
        {
          "output_type": "display_data",
          "data": {
            "text/plain": [
              "<Figure size 432x288 with 0 Axes>"
            ]
          },
          "metadata": {}
        }
      ]
    },
    {
      "cell_type": "markdown",
      "source": [
        "**Caso 3**"
      ],
      "metadata": {
        "id": "8tVWxhRFFY93"
      }
    },
    {
      "cell_type": "code",
      "source": [
        "for i in range(9):\n",
        "  plt.figure(figsize=(6,3))\n",
        "  plt.subplot(1,2,1)\n",
        "  plot_image(i, prediction3[i], test_labels, test_images.reshape(10000,28,28))\n",
        "  plt.subplot(1,2,2)\n",
        "  plot_value_array(i, prediction3[i],  test_labels)\n",
        "  plt.show()\n",
        "  plt.clf()"
      ],
      "metadata": {
        "id": "KI9BxNL1FY93",
        "colab": {
          "base_uri": "https://localhost:8080/",
          "height": 1000
        },
        "outputId": "bc131d1c-6d20-4192-a517-97e3b2a5a9b1"
      },
      "execution_count": null,
      "outputs": [
        {
          "output_type": "display_data",
          "data": {
            "text/plain": [
              "<Figure size 432x216 with 2 Axes>"
            ],
            "image/png": "[encoded data removed]"
          },
          "metadata": {
            "needs_background": "light"
          }
        },
        {
          "output_type": "display_data",
          "data": {
            "text/plain": [
              "<Figure size 432x288 with 0 Axes>"
            ]
          },
          "metadata": {}
        },
        {
          "output_type": "display_data",
          "data": {
            "text/plain": [
              "<Figure size 432x216 with 2 Axes>"
            ],
            "image/png": "[encoded data removed]"
          },
          "metadata": {
            "needs_background": "light"
          }
        },
        {
          "output_type": "display_data",
          "data": {
            "text/plain": [
              "<Figure size 432x288 with 0 Axes>"
            ]
          },
          "metadata": {}
        },
        {
          "output_type": "display_data",
          "data": {
            "text/plain": [
              "<Figure size 432x216 with 2 Axes>"
            ],
            "image/png": "[encoded data removed]"
          },
          "metadata": {
            "needs_background": "light"
          }
        },
        {
          "output_type": "display_data",
          "data": {
            "text/plain": [
              "<Figure size 432x288 with 0 Axes>"
            ]
          },
          "metadata": {}
        },
        {
          "output_type": "display_data",
          "data": {
            "text/plain": [
              "<Figure size 432x216 with 2 Axes>"
            ],
            "image/png": "[encoded data removed]"
          },
          "metadata": {
            "needs_background": "light"
          }
        },
        {
          "output_type": "display_data",
          "data": {
            "text/plain": [
              "<Figure size 432x288 with 0 Axes>"
            ]
          },
          "metadata": {}
        },
        {
          "output_type": "display_data",
          "data": {
            "text/plain": [
              "<Figure size 432x216 with 2 Axes>"
            ],
            "image/png": "[encoded data removed]"
          },
          "metadata": {
            "needs_background": "light"
          }
        },
        {
          "output_type": "display_data",
          "data": {
            "text/plain": [
              "<Figure size 432x288 with 0 Axes>"
            ]
          },
          "metadata": {}
        },
        {
          "output_type": "display_data",
          "data": {
            "text/plain": [
              "<Figure size 432x216 with 2 Axes>"
            ],
            "image/png": "[encoded data removed]"
          },
          "metadata": {
            "needs_background": "light"
          }
        },
        {
          "output_type": "display_data",
          "data": {
            "text/plain": [
              "<Figure size 432x288 with 0 Axes>"
            ]
          },
          "metadata": {}
        },
        {
          "output_type": "display_data",
          "data": {
            "text/plain": [
              "<Figure size 432x216 with 2 Axes>"
            ],
            "image/png": "[encoded data removed]"
          },
          "metadata": {
            "needs_background": "light"
          }
        },
        {
          "output_type": "display_data",
          "data": {
            "text/plain": [
              "<Figure size 432x288 with 0 Axes>"
            ]
          },
          "metadata": {}
        },
        {
          "output_type": "display_data",
          "data": {
            "text/plain": [
              "<Figure size 432x216 with 2 Axes>"
            ],
            "image/png": "[encoded data removed]"
          },
          "metadata": {
            "needs_background": "light"
          }
        },
        {
          "output_type": "display_data",
          "data": {
            "text/plain": [
              "<Figure size 432x288 with 0 Axes>"
            ]
          },
          "metadata": {}
        },
        {
          "output_type": "display_data",
          "data": {
            "text/plain": [
              "<Figure size 432x216 with 2 Axes>"
            ],
            "image/png": "[encoded data removed]"
          },
          "metadata": {
            "needs_background": "light"
          }
        },
        {
          "output_type": "display_data",
          "data": {
            "text/plain": [
              "<Figure size 432x288 with 0 Axes>"
            ]
          },
          "metadata": {}
        }
      ]
    },
    {
      "cell_type": "markdown",
      "source": [
        "**Caso 4**"
      ],
      "metadata": {
        "id": "ywOwUjjpFhpu"
      }
    },
    {
      "cell_type": "code",
      "source": [
        "for i in range(9):\n",
        "  plt.figure(figsize=(6,3))\n",
        "  plt.subplot(1,2,1)\n",
        "  plot_image(i, prediction4[i], test_labels, test_images.reshape(10000,28,28))\n",
        "  plt.subplot(1,2,2)\n",
        "  plot_value_array(i, prediction4[i],  test_labels)\n",
        "  plt.show()\n",
        "  plt.clf()"
      ],
      "metadata": {
        "id": "I28YfOonFo9b",
        "colab": {
          "base_uri": "https://localhost:8080/",
          "height": 1000
        },
        "outputId": "fc9da582-269c-448d-ec6b-d9500087a9ab"
      },
      "execution_count": null,
      "outputs": [
        {
          "output_type": "display_data",
          "data": {
            "text/plain": [
              "<Figure size 432x216 with 2 Axes>"
            ],
            "image/png": "[encoded data removed]"
          },
          "metadata": {
            "needs_background": "light"
          }
        },
        {
          "output_type": "display_data",
          "data": {
            "text/plain": [
              "<Figure size 432x288 with 0 Axes>"
            ]
          },
          "metadata": {}
        },
        {
          "output_type": "display_data",
          "data": {
            "text/plain": [
              "<Figure size 432x216 with 2 Axes>"
            ],
            "image/png": "[encoded data removed]"
          },
          "metadata": {
            "needs_background": "light"
          }
        },
        {
          "output_type": "display_data",
          "data": {
            "text/plain": [
              "<Figure size 432x288 with 0 Axes>"
            ]
          },
          "metadata": {}
        },
        {
          "output_type": "display_data",
          "data": {
            "text/plain": [
              "<Figure size 432x216 with 2 Axes>"
            ],
            "image/png": "[encoded data removed]"
          },
          "metadata": {
            "needs_background": "light"
          }
        },
        {
          "output_type": "display_data",
          "data": {
            "text/plain": [
              "<Figure size 432x288 with 0 Axes>"
            ]
          },
          "metadata": {}
        },
        {
          "output_type": "display_data",
          "data": {
            "text/plain": [
              "<Figure size 432x216 with 2 Axes>"
            ],
            "image/png": "[encoded data removed]"
          },
          "metadata": {
            "needs_background": "light"
          }
        },
        {
          "output_type": "display_data",
          "data": {
            "text/plain": [
              "<Figure size 432x288 with 0 Axes>"
            ]
          },
          "metadata": {}
        },
        {
          "output_type": "display_data",
          "data": {
            "text/plain": [
              "<Figure size 432x216 with 2 Axes>"
            ],
            "image/png": "[encoded data removed]"
          },
          "metadata": {
            "needs_background": "light"
          }
        },
        {
          "output_type": "display_data",
          "data": {
            "text/plain": [
              "<Figure size 432x288 with 0 Axes>"
            ]
          },
          "metadata": {}
        },
        {
          "output_type": "display_data",
          "data": {
            "text/plain": [
              "<Figure size 432x216 with 2 Axes>"
            ],
            "image/png": "[encoded data removed]"
          },
          "metadata": {
            "needs_background": "light"
          }
        },
        {
          "output_type": "display_data",
          "data": {
            "text/plain": [
              "<Figure size 432x288 with 0 Axes>"
            ]
          },
          "metadata": {}
        },
        {
          "output_type": "display_data",
          "data": {
            "text/plain": [
              "<Figure size 432x216 with 2 Axes>"
            ],
            "image/png": "[encoded data removed]"
          },
          "metadata": {
            "needs_background": "light"
          }
        },
        {
          "output_type": "display_data",
          "data": {
            "text/plain": [
              "<Figure size 432x288 with 0 Axes>"
            ]
          },
          "metadata": {}
        },
        {
          "output_type": "display_data",
          "data": {
            "text/plain": [
              "<Figure size 432x216 with 2 Axes>"
            ],
            "image/png": "[encoded data removed]"
          },
          "metadata": {
            "needs_background": "light"
          }
        },
        {
          "output_type": "display_data",
          "data": {
            "text/plain": [
              "<Figure size 432x288 with 0 Axes>"
            ]
          },
          "metadata": {}
        },
        {
          "output_type": "display_data",
          "data": {
            "text/plain": [
              "<Figure size 432x216 with 2 Axes>"
            ],
            "image/png": "[encoded data removed]"
          },
          "metadata": {
            "needs_background": "light"
          }
        },
        {
          "output_type": "display_data",
          "data": {
            "text/plain": [
              "<Figure size 432x288 with 0 Axes>"
            ]
          },
          "metadata": {}
        }
      ]
    },
    {
      "cell_type": "markdown",
      "source": [
        "**Caso 5**"
      ],
      "metadata": {
        "id": "IRXhEPDAFyLN"
      }
    },
    {
      "cell_type": "code",
      "source": [
        "prediction5 = prediction5.flatten()\n",
        "for i in range(9):\n",
        "  plt.figure(figsize=(6,3))\n",
        "  plt.subplot(1,2,1)\n",
        "  plot_image(i, prediction5[i], test_labels, test_images.reshape(10000,28,28))\n",
        "  plt.subplot(1,2,2)\n",
        "  plot_value_array(i, prediction5[i],  test_labels)\n",
        "  plt.show()\n",
        "  plt.clf()"
      ],
      "metadata": {
        "id": "45L57atSFhpv",
        "colab": {
          "base_uri": "https://localhost:8080/",
          "height": 1000
        },
        "outputId": "f3acccc6-dd2f-4960-c1ee-e17331a707d2"
      },
      "execution_count": null,
      "outputs": [
        {
          "output_type": "display_data",
          "data": {
            "text/plain": [
              "<Figure size 432x216 with 2 Axes>"
            ],
            "image/png": "[encoded data removed]"
          },
          "metadata": {
            "needs_background": "light"
          }
        },
        {
          "output_type": "display_data",
          "data": {
            "text/plain": [
              "<Figure size 432x288 with 0 Axes>"
            ]
          },
          "metadata": {}
        },
        {
          "output_type": "display_data",
          "data": {
            "text/plain": [
              "<Figure size 432x216 with 2 Axes>"
            ],
            "image/png": "[encoded data removed]"
          },
          "metadata": {
            "needs_background": "light"
          }
        },
        {
          "output_type": "display_data",
          "data": {
            "text/plain": [
              "<Figure size 432x288 with 0 Axes>"
            ]
          },
          "metadata": {}
        },
        {
          "output_type": "display_data",
          "data": {
            "text/plain": [
              "<Figure size 432x216 with 2 Axes>"
            ],
            "image/png": "[encoded data removed]"
          },
          "metadata": {
            "needs_background": "light"
          }
        },
        {
          "output_type": "display_data",
          "data": {
            "text/plain": [
              "<Figure size 432x288 with 0 Axes>"
            ]
          },
          "metadata": {}
        },
        {
          "output_type": "display_data",
          "data": {
            "text/plain": [
              "<Figure size 432x216 with 2 Axes>"
            ],
            "image/png": "[encoded data removed]"
          },
          "metadata": {
            "needs_background": "light"
          }
        },
        {
          "output_type": "display_data",
          "data": {
            "text/plain": [
              "<Figure size 432x288 with 0 Axes>"
            ]
          },
          "metadata": {}
        },
        {
          "output_type": "display_data",
          "data": {
            "text/plain": [
              "<Figure size 432x216 with 2 Axes>"
            ],
            "image/png": "[encoded data removed]"
          },
          "metadata": {
            "needs_background": "light"
          }
        },
        {
          "output_type": "display_data",
          "data": {
            "text/plain": [
              "<Figure size 432x288 with 0 Axes>"
            ]
          },
          "metadata": {}
        },
        {
          "output_type": "display_data",
          "data": {
            "text/plain": [
              "<Figure size 432x216 with 2 Axes>"
            ],
            "image/png": "[encoded data removed]"
          },
          "metadata": {
            "needs_background": "light"
          }
        },
        {
          "output_type": "display_data",
          "data": {
            "text/plain": [
              "<Figure size 432x288 with 0 Axes>"
            ]
          },
          "metadata": {}
        },
        {
          "output_type": "display_data",
          "data": {
            "text/plain": [
              "<Figure size 432x216 with 2 Axes>"
            ],
            "image/png": "[encoded data removed]"
          },
          "metadata": {
            "needs_background": "light"
          }
        },
        {
          "output_type": "display_data",
          "data": {
            "text/plain": [
              "<Figure size 432x288 with 0 Axes>"
            ]
          },
          "metadata": {}
        },
        {
          "output_type": "display_data",
          "data": {
            "text/plain": [
              "<Figure size 432x216 with 2 Axes>"
            ],
            "image/png": "[encoded data removed]"
          },
          "metadata": {
            "needs_background": "light"
          }
        },
        {
          "output_type": "display_data",
          "data": {
            "text/plain": [
              "<Figure size 432x288 with 0 Axes>"
            ]
          },
          "metadata": {}
        },
        {
          "output_type": "display_data",
          "data": {
            "text/plain": [
              "<Figure size 432x216 with 2 Axes>"
            ],
            "image/png": "[encoded data removed]"
          },
          "metadata": {
            "needs_background": "light"
          }
        },
        {
          "output_type": "display_data",
          "data": {
            "text/plain": [
              "<Figure size 432x288 with 0 Axes>"
            ]
          },
          "metadata": {}
        }
      ]
    },
    {
      "cell_type": "markdown",
      "source": [
        "**Caso 6**"
      ],
      "metadata": {
        "id": "2msfZdQYLkJa"
      }
    },
    {
      "cell_type": "code",
      "source": [
        "prediction6 = prediction6.flatten()\n",
        "for i in range(9):\n",
        "  plt.figure(figsize=(6,3))\n",
        "  plt.subplot(1,2,1)\n",
        "  plot_image(i, prediction6[i], test_labels, test_images.reshape(10000,28,28))\n",
        "  plt.subplot(1,2,2)\n",
        "  plot_value_array(i, prediction6[i],  test_labels)\n",
        "  plt.show()\n",
        "  plt.clf()"
      ],
      "metadata": {
        "colab": {
          "base_uri": "https://localhost:8080/",
          "height": 1000
        },
        "outputId": "2b090d3f-4ebf-4bc8-da47-b91273be725f",
        "id": "T2kEPKbPLkJb"
      },
      "execution_count": null,
      "outputs": [
        {
          "output_type": "display_data",
          "data": {
            "text/plain": [
              "<Figure size 432x216 with 2 Axes>"
            ],
            "image/png": "[encoded data removed]"
          },
          "metadata": {
            "needs_background": "light"
          }
        },
        {
          "output_type": "display_data",
          "data": {
            "text/plain": [
              "<Figure size 432x288 with 0 Axes>"
            ]
          },
          "metadata": {}
        },
        {
          "output_type": "display_data",
          "data": {
            "text/plain": [
              "<Figure size 432x216 with 2 Axes>"
            ],
            "image/png": "[encoded data removed]"
          },
          "metadata": {
            "needs_background": "light"
          }
        },
        {
          "output_type": "display_data",
          "data": {
            "text/plain": [
              "<Figure size 432x288 with 0 Axes>"
            ]
          },
          "metadata": {}
        },
        {
          "output_type": "display_data",
          "data": {
            "text/plain": [
              "<Figure size 432x216 with 2 Axes>"
            ],
            "image/png": "[encoded data removed]"
          },
          "metadata": {
            "needs_background": "light"
          }
        },
        {
          "output_type": "display_data",
          "data": {
            "text/plain": [
              "<Figure size 432x288 with 0 Axes>"
            ]
          },
          "metadata": {}
        },
        {
          "output_type": "display_data",
          "data": {
            "text/plain": [
              "<Figure size 432x216 with 2 Axes>"
            ],
            "image/png": "[encoded data removed]"
          },
          "metadata": {
            "needs_background": "light"
          }
        },
        {
          "output_type": "display_data",
          "data": {
            "text/plain": [
              "<Figure size 432x288 with 0 Axes>"
            ]
          },
          "metadata": {}
        },
        {
          "output_type": "display_data",
          "data": {
            "text/plain": [
              "<Figure size 432x216 with 2 Axes>"
            ],
            "image/png": "[encoded data removed]"
          },
          "metadata": {
            "needs_background": "light"
          }
        },
        {
          "output_type": "display_data",
          "data": {
            "text/plain": [
              "<Figure size 432x288 with 0 Axes>"
            ]
          },
          "metadata": {}
        },
        {
          "output_type": "display_data",
          "data": {
            "text/plain": [
              "<Figure size 432x216 with 2 Axes>"
            ],
            "image/png": "[encoded data removed]"
          },
          "metadata": {
            "needs_background": "light"
          }
        },
        {
          "output_type": "display_data",
          "data": {
            "text/plain": [
              "<Figure size 432x288 with 0 Axes>"
            ]
          },
          "metadata": {}
        },
        {
          "output_type": "display_data",
          "data": {
            "text/plain": [
              "<Figure size 432x216 with 2 Axes>"
            ],
            "image/png": "[encoded data removed]"
          },
          "metadata": {
            "needs_background": "light"
          }
        },
        {
          "output_type": "display_data",
          "data": {
            "text/plain": [
              "<Figure size 432x288 with 0 Axes>"
            ]
          },
          "metadata": {}
        },
        {
          "output_type": "display_data",
          "data": {
            "text/plain": [
              "<Figure size 432x216 with 2 Axes>"
            ],
            "image/png": "[encoded data removed]"
          },
          "metadata": {
            "needs_background": "light"
          }
        },
        {
          "output_type": "display_data",
          "data": {
            "text/plain": [
              "<Figure size 432x288 with 0 Axes>"
            ]
          },
          "metadata": {}
        },
        {
          "output_type": "display_data",
          "data": {
            "text/plain": [
              "<Figure size 432x216 with 2 Axes>"
            ],
            "image/png": "[encoded data removed]"
          },
          "metadata": {
            "needs_background": "light"
          }
        },
        {
          "output_type": "display_data",
          "data": {
            "text/plain": [
              "<Figure size 432x288 with 0 Axes>"
            ]
          },
          "metadata": {}
        }
      ]
    },
    {
      "cell_type": "markdown",
      "source": [
        "**Caso 7**"
      ],
      "metadata": {
        "id": "RqgR0FqyL2na"
      }
    },
    {
      "cell_type": "code",
      "source": [
        "prediction7 = prediction7.flatten()\n",
        "for i in range(9):\n",
        "  plt.figure(figsize=(6,3))\n",
        "  plt.subplot(1,2,1)\n",
        "  plot_image(i, prediction7[i], test_labels, test_images.reshape(10000,28,28))\n",
        "  plt.subplot(1,2,2)\n",
        "  plot_value_array(i, prediction7[i],  test_labels)\n",
        "  plt.show()\n",
        "  plt.clf()"
      ],
      "metadata": {
        "colab": {
          "base_uri": "https://localhost:8080/",
          "height": 1000
        },
        "outputId": "6a3f9e41-632d-4f75-dd56-ad5d5b4e40ef",
        "id": "lGkX7Xl6L2na"
      },
      "execution_count": null,
      "outputs": [
        {
          "output_type": "display_data",
          "data": {
            "text/plain": [
              "<Figure size 432x216 with 2 Axes>"
            ],
            "image/png": "[encoded data removed]"
          },
          "metadata": {
            "needs_background": "light"
          }
        },
        {
          "output_type": "display_data",
          "data": {
            "text/plain": [
              "<Figure size 432x288 with 0 Axes>"
            ]
          },
          "metadata": {}
        },
        {
          "output_type": "display_data",
          "data": {
            "text/plain": [
              "<Figure size 432x216 with 2 Axes>"
            ],
            "image/png": "[encoded data removed]"
          },
          "metadata": {
            "needs_background": "light"
          }
        },
        {
          "output_type": "display_data",
          "data": {
            "text/plain": [
              "<Figure size 432x288 with 0 Axes>"
            ]
          },
          "metadata": {}
        },
        {
          "output_type": "display_data",
          "data": {
            "text/plain": [
              "<Figure size 432x216 with 2 Axes>"
            ],
            "image/png": "[encoded data removed]"
          },
          "metadata": {
            "needs_background": "light"
          }
        },
        {
          "output_type": "display_data",
          "data": {
            "text/plain": [
              "<Figure size 432x288 with 0 Axes>"
            ]
          },
          "metadata": {}
        },
        {
          "output_type": "display_data",
          "data": {
            "text/plain": [
              "<Figure size 432x216 with 2 Axes>"
            ],
            "image/png": "[encoded data removed]"
          },
          "metadata": {
            "needs_background": "light"
          }
        },
        {
          "output_type": "display_data",
          "data": {
            "text/plain": [
              "<Figure size 432x288 with 0 Axes>"
            ]
          },
          "metadata": {}
        },
        {
          "output_type": "display_data",
          "data": {
            "text/plain": [
              "<Figure size 432x216 with 2 Axes>"
            ],
            "image/png": "[encoded data removed]"
          },
          "metadata": {
            "needs_background": "light"
          }
        },
        {
          "output_type": "display_data",
          "data": {
            "text/plain": [
              "<Figure size 432x288 with 0 Axes>"
            ]
          },
          "metadata": {}
        },
        {
          "output_type": "display_data",
          "data": {
            "text/plain": [
              "<Figure size 432x216 with 2 Axes>"
            ],
            "image/png": "[encoded data removed]"
          },
          "metadata": {
            "needs_background": "light"
          }
        },
        {
          "output_type": "display_data",
          "data": {
            "text/plain": [
              "<Figure size 432x288 with 0 Axes>"
            ]
          },
          "metadata": {}
        },
        {
          "output_type": "display_data",
          "data": {
            "text/plain": [
              "<Figure size 432x216 with 2 Axes>"
            ],
            "image/png": "[encoded data removed]"
          },
          "metadata": {
            "needs_background": "light"
          }
        },
        {
          "output_type": "display_data",
          "data": {
            "text/plain": [
              "<Figure size 432x288 with 0 Axes>"
            ]
          },
          "metadata": {}
        },
        {
          "output_type": "display_data",
          "data": {
            "text/plain": [
              "<Figure size 432x216 with 2 Axes>"
            ],
            "image/png": "[encoded data removed]"
          },
          "metadata": {
            "needs_background": "light"
          }
        },
        {
          "output_type": "display_data",
          "data": {
            "text/plain": [
              "<Figure size 432x288 with 0 Axes>"
            ]
          },
          "metadata": {}
        },
        {
          "output_type": "display_data",
          "data": {
            "text/plain": [
              "<Figure size 432x216 with 2 Axes>"
            ],
            "image/png": "[encoded data removed]"
          },
          "metadata": {
            "needs_background": "light"
          }
        },
        {
          "output_type": "display_data",
          "data": {
            "text/plain": [
              "<Figure size 432x288 with 0 Axes>"
            ]
          },
          "metadata": {}
        }
      ]
    },
    {
      "cell_type": "markdown",
      "source": [
        "**Caso 5**"
      ],
      "metadata": {
        "id": "ABcb0lduMC-1"
      }
    },
    {
      "cell_type": "code",
      "source": [
        "prediction8 = prediction8.flatten()\n",
        "for i in range(9):\n",
        "  plt.figure(figsize=(6,3))\n",
        "  plt.subplot(1,2,1)\n",
        "  plot_image(i, prediction8[i], test_labels, test_images.reshape(10000,28,28))\n",
        "  plt.subplot(1,2,2)\n",
        "  plot_value_array(i, prediction8[i],  test_labels)\n",
        "  plt.show()\n",
        "  plt.clf()"
      ],
      "metadata": {
        "colab": {
          "base_uri": "https://localhost:8080/",
          "height": 1000
        },
        "outputId": "877c6851-ce7f-4e4d-d646-a8c413b8440f",
        "id": "YQ_X_zU3MC-1"
      },
      "execution_count": null,
      "outputs": [
        {
          "output_type": "display_data",
          "data": {
            "text/plain": [
              "<Figure size 432x216 with 2 Axes>"
            ],
            "image/png": "[encoded data removed]"
          },
          "metadata": {
            "needs_background": "light"
          }
        },
        {
          "output_type": "display_data",
          "data": {
            "text/plain": [
              "<Figure size 432x288 with 0 Axes>"
            ]
          },
          "metadata": {}
        },
        {
          "output_type": "display_data",
          "data": {
            "text/plain": [
              "<Figure size 432x216 with 2 Axes>"
            ],
            "image/png": "[encoded data removed]"
          },
          "metadata": {
            "needs_background": "light"
          }
        },
        {
          "output_type": "display_data",
          "data": {
            "text/plain": [
              "<Figure size 432x288 with 0 Axes>"
            ]
          },
          "metadata": {}
        },
        {
          "output_type": "display_data",
          "data": {
            "text/plain": [
              "<Figure size 432x216 with 2 Axes>"
            ],
            "image/png": "[encoded data removed]"
          },
          "metadata": {
            "needs_background": "light"
          }
        },
        {
          "output_type": "display_data",
          "data": {
            "text/plain": [
              "<Figure size 432x288 with 0 Axes>"
            ]
          },
          "metadata": {}
        },
        {
          "output_type": "display_data",
          "data": {
            "text/plain": [
              "<Figure size 432x216 with 2 Axes>"
            ],
            "image/png": "[encoded data removed]"
          },
          "metadata": {
            "needs_background": "light"
          }
        },
        {
          "output_type": "display_data",
          "data": {
            "text/plain": [
              "<Figure size 432x288 with 0 Axes>"
            ]
          },
          "metadata": {}
        },
        {
          "output_type": "display_data",
          "data": {
            "text/plain": [
              "<Figure size 432x216 with 2 Axes>"
            ],
            "image/png": "[encoded data removed]"
          },
          "metadata": {
            "needs_background": "light"
          }
        },
        {
          "output_type": "display_data",
          "data": {
            "text/plain": [
              "<Figure size 432x288 with 0 Axes>"
            ]
          },
          "metadata": {}
        },
        {
          "output_type": "display_data",
          "data": {
            "text/plain": [
              "<Figure size 432x216 with 2 Axes>"
            ],
            "image/png": "[encoded data removed]"
          },
          "metadata": {
            "needs_background": "light"
          }
        },
        {
          "output_type": "display_data",
          "data": {
            "text/plain": [
              "<Figure size 432x288 with 0 Axes>"
            ]
          },
          "metadata": {}
        },
        {
          "output_type": "display_data",
          "data": {
            "text/plain": [
              "<Figure size 432x216 with 2 Axes>"
            ],
            "image/png": "[encoded data removed]"
          },
          "metadata": {
            "needs_background": "light"
          }
        },
        {
          "output_type": "display_data",
          "data": {
            "text/plain": [
              "<Figure size 432x288 with 0 Axes>"
            ]
          },
          "metadata": {}
        },
        {
          "output_type": "display_data",
          "data": {
            "text/plain": [
              "<Figure size 432x216 with 2 Axes>"
            ],
            "image/png": "[encoded data removed]"
          },
          "metadata": {
            "needs_background": "light"
          }
        },
        {
          "output_type": "display_data",
          "data": {
            "text/plain": [
              "<Figure size 432x288 with 0 Axes>"
            ]
          },
          "metadata": {}
        },
        {
          "output_type": "display_data",
          "data": {
            "text/plain": [
              "<Figure size 432x216 with 2 Axes>"
            ],
            "image/png": "[encoded data removed]"
          },
          "metadata": {
            "needs_background": "light"
          }
        },
        {
          "output_type": "display_data",
          "data": {
            "text/plain": [
              "<Figure size 432x288 with 0 Axes>"
            ]
          },
          "metadata": {}
        }
      ]
    },
    {
      "cell_type": "markdown",
      "source": [
        "**El único que ha acertado es el modelo 4** Como ya se había interpretado en los apartados anteriores."
      ],
      "metadata": {
        "id": "-ceNmXTG1nx-"
      }
    },
    {
      "cell_type": "markdown",
      "source": [
        "##Mejora del modelo"
      ],
      "metadata": {
        "id": "fHsGP7xpMO6C"
      }
    },
    {
      "cell_type": "markdown",
      "source": [
        "***7. Mejore el modelo usando el de la configuración del caso 3, pero cambiando el optimizador por ‘adam’ y la función de pérdida ‘sparse_categorical_crossentropy’. Buscar en internet las bases de dicho\n",
        "optimizador y función de pérdida, explícalos con tus propias palabras y plantea tus reflexiones respecto al resultado.***"
      ],
      "metadata": {
        "id": "9wdJlkVNlz6J"
      }
    },
    {
      "cell_type": "markdown",
      "source": [
        "**Caso 3**"
      ],
      "metadata": {
        "id": "nrK72LiHNoU2"
      }
    },
    {
      "cell_type": "code",
      "source": [
        "model3 = keras.Sequential([\n",
        "    keras.layers.Flatten(input_shape=(28, 28)),\n",
        "    keras.layers.Dense(10, activation='sigmoid')\n",
        "])\n",
        "model3.compile(optimizer='adam',\n",
        "              loss='sparse_categorical_crossentropy',\n",
        "              metrics=['accuracy'])"
      ],
      "metadata": {
        "id": "SE4UJTSaNoU2"
      },
      "execution_count": null,
      "outputs": []
    },
    {
      "cell_type": "code",
      "source": [
        "model3.fit(train_images, train_labels, epochs=5, batch_size=128)"
      ],
      "metadata": {
        "colab": {
          "base_uri": "https://localhost:8080/"
        },
        "outputId": "a9841da2-0739-4900-cf99-f4ac1268ca8b",
        "id": "uquYBZ2INoU3"
      },
      "execution_count": null,
      "outputs": [
        {
          "output_type": "stream",
          "name": "stdout",
          "text": [
            "Epoch 1/5\n",
            "469/469 [==============================] - 2s 4ms/step - loss: 16.6848 - accuracy: 0.7166\n",
            "Epoch 2/5\n",
            "469/469 [==============================] - 2s 5ms/step - loss: 9.3199 - accuracy: 0.7811\n",
            "Epoch 3/5\n",
            "469/469 [==============================] - 2s 4ms/step - loss: 7.8370 - accuracy: 0.7941\n",
            "Epoch 4/5\n",
            "469/469 [==============================] - 1s 3ms/step - loss: 6.8482 - accuracy: 0.7950\n",
            "Epoch 5/5\n",
            "469/469 [==============================] - 1s 3ms/step - loss: 6.1138 - accuracy: 0.8013\n"
          ]
        },
        {
          "output_type": "execute_result",
          "data": {
            "text/plain": [
              "<keras.callbacks.History at 0x7f0821ce7210>"
            ]
          },
          "metadata": {},
          "execution_count": 74
        }
      ]
    },
    {
      "cell_type": "markdown",
      "source": [
        "Con el optimizer 'adam' y loss='sparse_categorical_crossentropy' se obtiene una precisión muy similar, aunque la función de pérdida es mucho menos óptima que 'categorical_crossentropy' "
      ],
      "metadata": {
        "id": "DlSU93Fm15ye"
      }
    },
    {
      "cell_type": "markdown",
      "source": [
        "# CONCLUSIONES"
      ],
      "metadata": {
        "id": "Qg6F-q4vkpeD"
      }
    },
    {
      "cell_type": "markdown",
      "source": [
        "A lo largo de este estudio de la Red de Neuronas Artificiales, se han probado diferentes combinaciones de funciones y herramientas internas de Keras con el fin de hallar los componentes que conllevan un entrenamiento óptimo.\n",
        "\n",
        "Se ha concluido que el modelo más óptimo es el modelo 4 sin lugara a duda."
      ],
      "metadata": {
        "id": "-uuPWT12diaw"
      }
    },
    {
      "cell_type": "markdown",
      "source": [
        "# REFLEXIONES"
      ],
      "metadata": {
        "id": "i98dDcKukr8Z"
      }
    },
    {
      "cell_type": "markdown",
      "source": [
        "Este apartado de la práctica expone los acontecimientos y las dificultades que hemos encontrado como equipo durante su realización. Está compuesto de 3 secciones fuertemente relacionadas entre sí:"
      ],
      "metadata": {
        "id": "kQSAC_-CdjO4"
      }
    },
    {
      "cell_type": "markdown",
      "source": [
        "## 1.   Cómo hemos afrontado la solución de la práctica\n",
        "\n",
        "\n",
        "\n"
      ],
      "metadata": {
        "id": "VkQld-8tlG1l"
      }
    },
    {
      "cell_type": "markdown",
      "source": [
        "Todo programa de carácter informático contiene dificultades técnicas tales como errores inesperados, o la búsqueda de funciones necesarias no conocidas hasta el momento. Por tanto, hemos tenido que afrontar la subsanación de algunos errores espontáneos, apoyándonos en las prácticas trabajadas en clase y cierta información útil de internet.\n",
        "\n",
        "Asimismo, se ha logrado una mejor comprensión del funcionamiento de las Redes de Neuronas Artificiales debido a la necesidad de comparar de manera constante nuestro código y conclusiones, con aquellos de otros proyectos. Esto ha desencadenado también en conocer algunos conceptos nuevos gracias a ello."
      ],
      "metadata": {
        "id": "ZWk3Txhwdj55"
      }
    },
    {
      "cell_type": "markdown",
      "source": [
        "## 2.   Cómo se ha dividido el trabajo"
      ],
      "metadata": {
        "id": "ElW4xpEHlY4N"
      }
    },
    {
      "cell_type": "markdown",
      "source": [
        "Anteriormente se han mencionado dificultades que han surgido. Otra de ellas ha sido la imposibilidad de trabajar con varios ordenadores al unísono, por lo que se han tenido que encontrar distintas estrategias a aquellas a las que solemos estar acostumbradas.\n",
        "\n",
        "Una vez que se había logrado una estructura sólida del estudio, se decidió llevar a cabo el proyecto a através de videollamadas. Esta herramienta permitía a una de nosotras compartir el código por la pantalla, mientras que las demás ayudábamos buscando soluciones con nuestros respectivos ordenadores para avanzar de manera conjunta y eficiente.\n",
        "\n",
        "A su vez, se compilaba en los demás ordenadores un avez se terminaban las secciones, para asegurarnos de haber subsanado cualquier error que pudiese haber surgido."
      ],
      "metadata": {
        "id": "ELDEV1WRdken"
      }
    },
    {
      "cell_type": "markdown",
      "source": [
        "## 3.   Cómo se ha gestionado el equipo para trabajar"
      ],
      "metadata": {
        "id": "gUwpnuQylZA2"
      }
    },
    {
      "cell_type": "markdown",
      "source": [
        "Siguiendo la línea argumental propuesta, y teniendo en cuenta las similitudes de este apartado con el anterior, explicaremos en más detalle las videollamadas mencionadas.\n",
        "\n",
        "Nos asignábamos pequeñas tareas - que incluíamos en el proyecto mandándoselas a la compañera con el trabajo abierto, o esperando a incluirlas después - mientras avanzábamos con el código y las conclusiones con el fin de aprovechar el tiempo al máximo.\n",
        "\n",
        "Sin embargo, tambiém se utilizó tiempo en el que nos encontrábamos físicamente juntas para continuar."
      ],
      "metadata": {
        "id": "MJM4hUNudlNr"
      }
    },
    {
      "cell_type": "markdown",
      "source": [
        "# REFERENCIAS BIBLIOGRÁFICAS"
      ],
      "metadata": {
        "id": "45-BMfTpktzs"
      }
    },
    {
      "cell_type": "markdown",
      "source": [
        "- Apuntes recogidos de GitHub y GoogleColab, a raíz de los contenidos estudiados en el aula"
      ],
      "metadata": {
        "id": "rZoJaNUq8A_h"
      }
    }
  ]
}